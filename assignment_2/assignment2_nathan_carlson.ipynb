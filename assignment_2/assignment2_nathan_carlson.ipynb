{
 "cells": [
  {
   "cell_type": "markdown",
   "id": "f96bdfc7",
   "metadata": {},
   "source": [
    "# Assignment 2 | Programming Logic\n",
    "\n",
    "Reminder: in all of the assignments this semester, the answer is not the only consideration, but also how you get to it. It's OK (suggested even!) to use the internet for help. But you _should_ be able to answer all of these questions using only the programming techniques you have learned in class and from the readings.\n",
    "\n",
    "A few keys for success:\n",
    "- Avoid manual data entry\n",
    "- Emphasize logic and clarity\n",
    "- Use comments, docstrings, and descriptive variable names\n",
    "- In general, less code is better. But if more lines of code makes your program easier to read or understand what its doing, then go for it."
   ]
  },
  {
   "cell_type": "markdown",
   "id": "078a9000",
   "metadata": {},
   "source": [
    "## Problem 1 \n",
    "Write a Python program to count the number of even and odd numbers from a list of numbers. Test your code by running it on a list of integers from 1 to 9. No need to make this a function unless you want to."
   ]
  },
  {
   "cell_type": "code",
   "execution_count": 7,
   "id": "7e5e3387",
   "metadata": {},
   "outputs": [
    {
     "data": {
      "text/plain": [
       "(4, 5)"
      ]
     },
     "execution_count": 7,
     "metadata": {},
     "output_type": "execute_result"
    }
   ],
   "source": [
    "list = [1,2,3,4,5,6,7,8,9]\n",
    "def count_even_odd(numbers):\n",
    "    even_count = 0\n",
    "    odd_count = 0   \n",
    "    for num in numbers:\n",
    "        if num % 2 == 0:\n",
    "            even_count += 1\n",
    "        else:\n",
    "            odd_count += 1\n",
    "    return even_count, odd_count\n",
    "\n",
    "count_even_odd(list)"
   ]
  },
  {
   "cell_type": "markdown",
   "id": "db9df1a9",
   "metadata": {
    "collapsed": true
   },
   "source": [
    "## Problem 2\n",
    "Write a Python function that takes a list of numbers and returns a list containing only the even numbers from the original list. Test your function by running it on a list of integers from 1 to 9."
   ]
  },
  {
   "cell_type": "code",
   "execution_count": 11,
   "id": "45fcfd00",
   "metadata": {},
   "outputs": [
    {
     "name": "stdout",
     "output_type": "stream",
     "text": [
      "2\n",
      "4\n",
      "6\n",
      "8\n"
     ]
    },
    {
     "data": {
      "text/plain": [
       "[1, 2, 3, 4, 5, 6, 7, 8, 9]"
      ]
     },
     "execution_count": 11,
     "metadata": {},
     "output_type": "execute_result"
    }
   ],
   "source": [
    "def even_numbers(numbers):\n",
    "    for num in numbers:\n",
    "        if num % 2 == 0:\n",
    "            print(num)\n",
    "        else:\n",
    "            continue\n",
    "    return numbers\n",
    "even_numbers(list)"
   ]
  },
  {
   "cell_type": "markdown",
   "id": "6a6f4ef0",
   "metadata": {},
   "source": [
    "## Problem 3\n",
    "\n",
    "1. Create a function that accepts a list of integers as an argument and returns a list of floats which equals each number as a fraction of the sum of all the items in the original list.\n",
    "\n",
    "2. Next, create a second function which is the same as the first, but limit each number in the output list to two decimals.\n",
    "\n",
    "3. Create another function which builds on the previous one by allowing a \"user\" pass in an argument that defines the number of decimal places to use in the output list.\n",
    "\n",
    "4. Test each of these functions with a list of integers"
   ]
  },
  {
   "cell_type": "code",
   "execution_count": 20,
   "id": "6856ee58",
   "metadata": {
    "scrolled": false
   },
   "outputs": [
    {
     "data": {
      "text/plain": [
       "[0.022222222222222223,\n",
       " 0.044444444444444446,\n",
       " 0.06666666666666667,\n",
       " 0.08888888888888889,\n",
       " 0.1111111111111111,\n",
       " 0.13333333333333333,\n",
       " 0.15555555555555556,\n",
       " 0.17777777777777778,\n",
       " 0.2]"
      ]
     },
     "execution_count": 20,
     "metadata": {},
     "output_type": "execute_result"
    }
   ],
   "source": [
    "list = [1,2,3,4,5,6,7,8,9]\n",
    "\n",
    "def fraction_of_list_sum(numbers):\n",
    "    list_sum = sum(numbers)\n",
    "    list_sum_float = float(list_sum)\n",
    "    float_fractions = [num / list_sum_float for num in numbers]\n",
    "    return float_fractions\n",
    "fraction_of_list_sum(list)"
   ]
  },
  {
   "cell_type": "code",
   "execution_count": 28,
   "id": "5a6a30a6",
   "metadata": {},
   "outputs": [
    {
     "data": {
      "text/plain": [
       "[0.02, 0.04, 0.07, 0.09, 0.11, 0.13, 0.16, 0.18, 0.2]"
      ]
     },
     "execution_count": 28,
     "metadata": {},
     "output_type": "execute_result"
    }
   ],
   "source": [
    "list = [1,2,3,4,5,6,7,8,9]\n",
    "\n",
    "def rounded_fraction_of_list_sum(numbers):\n",
    "    list_sum = sum(numbers)\n",
    "    list_sum_float = float(list_sum)\n",
    "    float_fractions = [num / list_sum_float for num in numbers]\n",
    "    float_fractions_rounded = [round(fraction, 2) for fraction in float_fractions]\n",
    "    return float_fractions_rounded\n",
    "rfls = rounded_fraction_of_list_sum\n",
    "\n",
    "rfls(list)"
   ]
  },
  {
   "cell_type": "code",
   "execution_count": 41,
   "id": "4f78f19f",
   "metadata": {},
   "outputs": [
    {
     "name": "stdout",
     "output_type": "stream",
     "text": [
      "[0.02222222, 0.04444444, 0.06666667, 0.08888889, 0.11111111, 0.13333333, 0.15555556, 0.17777778, 0.2]\n",
      "[0.0222, 0.0444, 0.0667, 0.0889, 0.1111, 0.1333, 0.1556, 0.1778, 0.2]\n"
     ]
    }
   ],
   "source": [
    "#Create another function which builds on the previous one \n",
    "#by allowing a \"user\" pass in an argument that defines the \n",
    "#number of decimal places to use in the output list\n",
    "def rounded_fraction_of_list_sum(numbers, decimal_places=2):\n",
    "    list_sum = sum(numbers)\n",
    "    list_sum_float = float(list_sum)\n",
    "    float_fractions = [num / list_sum_float for num in numbers]\n",
    "    float_fractions_rounded = [round(fraction, decimal_places) for fraction in float_fractions]\n",
    "    return float_fractions_rounded\n",
    "rfls = rounded_fraction_of_list_sum\n",
    "print(rfls(list, decimal_places=8))\n",
    "print(rfls(list, decimal_places=4))"
   ]
  },
  {
   "cell_type": "markdown",
   "id": "17e43098",
   "metadata": {},
   "source": [
    "## Problem 4\n",
    "A prime number is any whole number greater than 1 that has no positive divisors besides 1 and itself. In other words, a prime number must be:\n",
    "1. an integer\n",
    "2. greater than 1\n",
    "3. divisible only by 1 and itself.\n",
    "\n",
    "Write a function is_prime(n) that accepts an argument `n` and returns `True` (boolean) if `n` is a prime number and `False` if n is not prime. For example, `is_prime(11)` should return `True` and `is_prime(12)` should return `False`.\n"
   ]
  },
  {
   "cell_type": "code",
   "execution_count": 73,
   "id": "7b43bc6c",
   "metadata": {
    "scrolled": true
   },
   "outputs": [
    {
     "name": "stdout",
     "output_type": "stream",
     "text": [
      "False\n",
      "True\n"
     ]
    },
    {
     "data": {
      "text/plain": [
       "False"
      ]
     },
     "execution_count": 73,
     "metadata": {},
     "output_type": "execute_result"
    }
   ],
   "source": [
    "def is_prime(n):\n",
    "    if type(n) == int and n > 1:\n",
    "        for i in range(2,n): \n",
    "            if (n % i) == 0:\n",
    "                return False\n",
    "            else:\n",
    "                return True\n",
    "\n",
    "print(is_prime(6))\n",
    "print(is_prime(27))\n",
    "is_prime(50)"
   ]
  },
  {
   "cell_type": "code",
   "execution_count": 71,
   "id": "986e1f9c",
   "metadata": {},
   "outputs": [
    {
     "data": {
      "text/plain": [
       "True"
      ]
     },
     "execution_count": 71,
     "metadata": {},
     "output_type": "execute_result"
    }
   ],
   "source": [
    "is_prime(11)"
   ]
  },
  {
   "cell_type": "code",
   "execution_count": 72,
   "id": "e28e9220",
   "metadata": {},
   "outputs": [
    {
     "data": {
      "text/plain": [
       "False"
      ]
     },
     "execution_count": 72,
     "metadata": {},
     "output_type": "execute_result"
    }
   ],
   "source": [
    "is_prime(12)"
   ]
  },
  {
   "cell_type": "markdown",
   "id": "e556b42f",
   "metadata": {},
   "source": [
    "## Problem 5"
   ]
  },
  {
   "cell_type": "markdown",
   "id": "fd5f4463",
   "metadata": {},
   "source": [
    "1. Create a class called `Housing`, and add the following attributes to it:\n",
    "  - type\n",
    "  - area\n",
    "  - number of bedrooms\n",
    "  - value (price)\n",
    "  - year built.\n",
    "2. Create two instances of your class and populate their attributes (make 'em up)\n",
    "3. Create a method called `rent()` that calculates the estimated monthly rent for each house (assume that monthly rent is 0.4% of the value of the house)\n",
    "4. Print the rent for both instances."
   ]
  },
  {
   "cell_type": "code",
   "execution_count": 78,
   "id": "efa713df",
   "metadata": {},
   "outputs": [],
   "source": [
    "class Housing:\n",
    "    pass"
   ]
  },
  {
   "cell_type": "code",
   "execution_count": 79,
   "id": "0997eec2",
   "metadata": {},
   "outputs": [],
   "source": [
    "housing_1 = Housing()\n",
    "housing_2 = Housing()"
   ]
  },
  {
   "cell_type": "code",
   "execution_count": 80,
   "id": "12b572f3",
   "metadata": {},
   "outputs": [
    {
     "name": "stdout",
     "output_type": "stream",
     "text": [
      "<__main__.Housing object at 0x0000015BF3A88410>\n",
      "<class '__main__.Housing'>\n"
     ]
    }
   ],
   "source": [
    "print(housing_1)\n",
    "print(type(housing_1))"
   ]
  },
  {
   "cell_type": "code",
   "execution_count": 81,
   "id": "cddeac30",
   "metadata": {},
   "outputs": [],
   "source": [
    "housing_1.type = 'Condo'\n",
    "housing_1.area = 'Pico-Union'\n",
    "housing_1.bedrooms = '2'\n",
    "housing_1.value = 1000000\n",
    "housing_1.year = 1999\n",
    "\n",
    "housing_2.type = 'Single Family Home'\n",
    "housing_2.area = 'Koreatown'\n",
    "housing_2.bedrooms = '1'\n",
    "housing_2.value = 2000000\n",
    "housing_2.year = 1985"
   ]
  },
  {
   "cell_type": "code",
   "execution_count": 111,
   "id": "3a83644a",
   "metadata": {},
   "outputs": [],
   "source": [
    "class Housing:\n",
    "    def __init__(self, type, area, bedrooms, value, year):\n",
    "        self.type = type\n",
    "        self.area = area\n",
    "        self.bedrooms = bedrooms\n",
    "        self.value = value\n",
    "        self.year = year\n",
    "        \n",
    "    def rent(self):\n",
    "        return self.value * 0.4"
   ]
  },
  {
   "cell_type": "code",
   "execution_count": 112,
   "id": "3ad1b9c0",
   "metadata": {},
   "outputs": [],
   "source": [
    "housing_1 = Housing('Condo', 'Pico-Union', '2', 1000000, '1999')\n",
    "housing_2 = Housing('Single Family Home', 'Koreatown', '1', 2000000, '1985')"
   ]
  },
  {
   "cell_type": "code",
   "execution_count": 114,
   "id": "8202fe05",
   "metadata": {},
   "outputs": [
    {
     "data": {
      "text/plain": [
       "400000.0"
      ]
     },
     "execution_count": 114,
     "metadata": {},
     "output_type": "execute_result"
    }
   ],
   "source": [
    "housing_1.rent()"
   ]
  },
  {
   "cell_type": "code",
   "execution_count": 115,
   "id": "61d7d862",
   "metadata": {},
   "outputs": [
    {
     "data": {
      "text/plain": [
       "800000.0"
      ]
     },
     "execution_count": 115,
     "metadata": {},
     "output_type": "execute_result"
    }
   ],
   "source": [
    "housing_2.rent()"
   ]
  },
  {
   "cell_type": "code",
   "execution_count": null,
   "id": "a2eb380d",
   "metadata": {},
   "outputs": [],
   "source": []
  }
 ],
 "metadata": {
  "kernelspec": {
   "display_name": "Python 3 (ipykernel)",
   "language": "python",
   "name": "python3"
  },
  "language_info": {
   "codemirror_mode": {
    "name": "ipython",
    "version": 3
   },
   "file_extension": ".py",
   "mimetype": "text/x-python",
   "name": "python",
   "nbconvert_exporter": "python",
   "pygments_lexer": "ipython3",
   "version": "3.11.4"
  },
  "toc": {
   "base_numbering": 1,
   "nav_menu": {},
   "number_sections": false,
   "sideBar": false,
   "skip_h1_title": true,
   "title_cell": "Table of Contents",
   "title_sidebar": "Contents",
   "toc_cell": false,
   "toc_position": {},
   "toc_section_display": true,
   "toc_window_display": false
  }
 },
 "nbformat": 4,
 "nbformat_minor": 5
}
