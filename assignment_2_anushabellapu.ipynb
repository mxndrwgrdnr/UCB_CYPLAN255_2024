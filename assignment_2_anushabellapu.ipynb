{
 "cells": [
  {
   "cell_type": "markdown",
   "id": "f96bdfc7",
   "metadata": {},
   "source": [
    "# Assignment 2 | Programming Logic\n",
    "\n",
    "Reminder: in all of the assignments this semester, the answer is not the only consideration, but also how you get to it. It's OK (suggested even!) to use the internet for help. But you _should_ be able to answer all of these questions using only the programming techniques you have learned in class and from the readings.\n",
    "\n",
    "A few keys for success:\n",
    "- Avoid manual data entry\n",
    "- Emphasize logic and clarity\n",
    "- Use comments, docstrings, and descriptive variable names\n",
    "- In general, less code is better. But if more lines of code makes your program easier to read or understand what its doing, then go for it."
   ]
  },
  {
   "cell_type": "markdown",
   "id": "078a9000",
   "metadata": {},
   "source": [
    "## Problem 1 \n",
    "Write a Python program to count the number of even and odd numbers from a list of numbers. Test your code by running it on a list of integers from 1 to 9. No need to make this a function unless you want to."
   ]
  },
  {
   "cell_type": "code",
   "execution_count": 29,
   "id": "8eb937c5",
   "metadata": {},
   "outputs": [
    {
     "name": "stdout",
     "output_type": "stream",
     "text": [
      "[1, 2, 3, 4, 5, 6, 7, 8, 9]\n",
      "Even:  4\n",
      "Odd:  5\n"
     ]
    }
   ],
   "source": [
    "x = list(range(1,10,1))\n",
    "only_odd = [i for i in x if i%2 == 1]\n",
    "odd_count = len(only_odd)\n",
    "print(x)\n",
    "print ('Even: ', len(x) - odd_count)\n",
    "print ('Odd: ', odd_count)"
   ]
  },
  {
   "cell_type": "markdown",
   "id": "db9df1a9",
   "metadata": {
    "collapsed": true,
    "jupyter": {
     "outputs_hidden": true
    }
   },
   "source": [
    "## Problem 2\n",
    "Write a Python function that takes a list of numbers and returns a list containing only the even numbers from the original list. Test your function by running it on a list of integers from 1 to 9."
   ]
  },
  {
   "cell_type": "code",
   "execution_count": 30,
   "id": "45fcfd00",
   "metadata": {},
   "outputs": [
    {
     "data": {
      "text/plain": [
       "[2, 4, 6, 8]"
      ]
     },
     "execution_count": 30,
     "metadata": {},
     "output_type": "execute_result"
    }
   ],
   "source": [
    "only_even = [i for i in x if i%2 == 0]\n",
    "only_even"
   ]
  },
  {
   "cell_type": "markdown",
   "id": "6a6f4ef0",
   "metadata": {},
   "source": [
    "## Problem 3\n",
    "\n",
    "1. Create a function that accepts a list of integers as an argument and returns a list of floats which equals each number as a fraction of the sum of all the items in the original list.\n",
    "\n",
    "2. Next, create a second function which is the same as the first, but limit each number in the output list to two decimals.\n",
    "\n",
    "3. Create another function which builds on the previous one by allowing a \"user\" pass in an argument that defines the number of decimal places to use in the output list.\n",
    "\n",
    "4. Test each of these functions with a list of integers"
   ]
  },
  {
   "cell_type": "code",
   "execution_count": 31,
   "id": "6856ee58",
   "metadata": {},
   "outputs": [],
   "source": [
    "import numpy as np\n",
    "b = np.array (x)\n",
    "def fraction_of_sum(y):\n",
    "    fraction = np.array(x) / np.sum(y)\n",
    "    return fraction"
   ]
  },
  {
   "cell_type": "code",
   "execution_count": 44,
   "id": "03165bf2",
   "metadata": {
    "scrolled": true
   },
   "outputs": [],
   "source": [
    "def fraction_2_decimal(y):\n",
    "    fraction = np.array(y) / np.sum(y)\n",
    "    fraction_result_2_decimal = np.round(fraction,2)\n",
    "    return fraction_result_2_decimal\n",
    "    "
   ]
  },
  {
   "cell_type": "code",
   "execution_count": 33,
   "id": "66d749f6",
   "metadata": {},
   "outputs": [],
   "source": [
    "def define_decimal_places(fraction_of_sum, decimal_places):\n",
    "    decimal_places = int(input(\"Enter the number of decimal places: \"))\n",
    "    formatted_fractions = [round(i, decimal_places) for i in fraction_of_sum]\n",
    "    return formatted_fractions"
   ]
  },
  {
   "cell_type": "code",
   "execution_count": 43,
   "id": "60c26aa6",
   "metadata": {},
   "outputs": [
    {
     "name": "stdout",
     "output_type": "stream",
     "text": [
      "[9 6 4 1 5 5 6 6 9 6 3 9 2 9 1 5 3 8 3 9 3 5 7 5 5 9 4 6 4 9]\n",
      "[0.0060241  0.01204819 0.01807229 0.02409639 0.03012048 0.03614458\n",
      " 0.04216867 0.04819277 0.05421687]\n"
     ]
    }
   ],
   "source": [
    "a = np.random.randint(1,10,30)\n",
    "print(a)\n",
    "print(fraction_of_sum(a))"
   ]
  },
  {
   "cell_type": "code",
   "execution_count": 47,
   "id": "1545fe38",
   "metadata": {},
   "outputs": [
    {
     "name": "stdout",
     "output_type": "stream",
     "text": [
      "[0.05 0.04 0.02 0.01 0.03 0.03 0.04 0.04 0.05 0.04 0.02 0.05 0.01 0.05\n",
      " 0.01 0.03 0.02 0.05 0.02 0.05 0.02 0.03 0.04 0.03 0.03 0.05 0.02 0.04\n",
      " 0.02 0.05]\n"
     ]
    },
    {
     "name": "stdin",
     "output_type": "stream",
     "text": [
      "Enter the number of decimal places:  3\n"
     ]
    },
    {
     "name": "stdout",
     "output_type": "stream",
     "text": [
      "[9, 6, 4, 1, 5, 5, 6, 6, 9, 6, 3, 9, 2, 9, 1, 5, 3, 8, 3, 9, 3, 5, 7, 5, 5, 9, 4, 6, 4, 9]\n"
     ]
    }
   ],
   "source": [
    "print (fraction_2_decimal(a))\n",
    "print (define_decimal_places(a,x))"
   ]
  },
  {
   "cell_type": "markdown",
   "id": "17e43098",
   "metadata": {},
   "source": [
    "## Problem 4\n",
    "A prime number is any whole number greater than 1 that has no positive divisors besides 1 and itself. In other words, a prime number must be:\n",
    "1. an integer\n",
    "2. greater than 1\n",
    "3. divisible only by 1 and itself.\n",
    "\n",
    "Write a function is_prime(n) that accepts an argument `n` and returns `True` (boolean) if `n` is a prime number and `False` if n is not prime. For example, `is_prime(11)` should return `True` and `is_prime(12)` should return `False`.\n"
   ]
  },
  {
   "cell_type": "code",
   "execution_count": 48,
   "id": "7b43bc6c",
   "metadata": {},
   "outputs": [
    {
     "data": {
      "text/plain": [
       "False"
      ]
     },
     "execution_count": 48,
     "metadata": {},
     "output_type": "execute_result"
    }
   ],
   "source": [
    "def is_prime(n):\n",
    "    \n",
    "    if (type(n) != int) or (n <= 1): # Rule out any non-integers or numbers less than or equal to 0\n",
    "        return False\n",
    "    \n",
    "    else:\n",
    "        factor_count = 0\n",
    "        \n",
    "        for factor in range(2, n): \n",
    "            if n % factor == 0: \n",
    "                factor_count +=1 # \n",
    "                \n",
    "        if factor_count == 0: \n",
    "            return True\n",
    "        else:\n",
    "            return False \n",
    "\n",
    "is_prime(12397)"
   ]
  },
  {
   "cell_type": "markdown",
   "id": "e556b42f",
   "metadata": {},
   "source": [
    "## Problem 5"
   ]
  },
  {
   "cell_type": "markdown",
   "id": "fd5f4463",
   "metadata": {},
   "source": [
    "1. Create a class called `Housing`, and add the following attributes to it:\n",
    "  - type\n",
    "  - area\n",
    "  - number of bedrooms\n",
    "  - value (price)\n",
    "  - year built.\n",
    "2. Create two instances of your class and populate their attributes (make 'em up)\n",
    "3. Create a method called `rent()` that calculates the estimated monthly rent for each house (assume that monthly rent is 0.4% of the value of the house)\n",
    "4. Print the rent for both instances."
   ]
  },
  {
   "cell_type": "code",
   "execution_count": 40,
   "id": "efa713df",
   "metadata": {},
   "outputs": [],
   "source": [
    "class Housing:\n",
    "    \n",
    "    def __init__(self, typ, area, nbed, val, yrblt):\n",
    "        self.typ = typ\n",
    "        self.area = area\n",
    "        self.nbed = nbed\n",
    "        self.val = val\n",
    "        self.yrblt = yrblt\n",
    "        \n",
    "    def rent(self):\n",
    "        \"\"\"Calculates the estimated monthly rent for each house \n",
    "        (assume that monthly rent is 0.4% of the value of the house)\"\"\"\n",
    "        \n",
    "        return 'Monthly rent: ${0}'.format(round(self.val*0.004, 2))"
   ]
  },
  {
   "cell_type": "code",
   "execution_count": 41,
   "id": "a3c1d095",
   "metadata": {},
   "outputs": [
    {
     "name": "stdout",
     "output_type": "stream",
     "text": [
      "Monthly rent: $1643.0\n",
      "Monthly rent: $3042.0\n"
     ]
    }
   ],
   "source": [
    "h1 = Housing(\"Apartment\", 975, 1, 410750.00, 1987)\n",
    "h2 = Housing(\"Detached SFH\", 2300, 4, 760500.00, 1965)\n",
    "\n",
    "print(h1.rent())\n",
    "print(h2.rent())"
   ]
  },
  {
   "cell_type": "code",
   "execution_count": null,
   "id": "52f78ecd-5aca-40ae-a3ce-502d3c43f001",
   "metadata": {},
   "outputs": [],
   "source": []
  }
 ],
 "metadata": {
  "kernelspec": {
   "display_name": "Python 3 (ipykernel)",
   "language": "python",
   "name": "python3"
  },
  "language_info": {
   "codemirror_mode": {
    "name": "ipython",
    "version": 3
   },
   "file_extension": ".py",
   "mimetype": "text/x-python",
   "name": "python",
   "nbconvert_exporter": "python",
   "pygments_lexer": "ipython3",
   "version": "3.12.0"
  },
  "toc": {
   "base_numbering": 1,
   "nav_menu": {},
   "number_sections": false,
   "sideBar": false,
   "skip_h1_title": true,
   "title_cell": "Table of Contents",
   "title_sidebar": "Contents",
   "toc_cell": false,
   "toc_position": {},
   "toc_section_display": true,
   "toc_window_display": false
  },
  "widgets": {
   "application/vnd.jupyter.widget-state+json": {
    "state": {},
    "version_major": 2,
    "version_minor": 0
   }
  }
 },
 "nbformat": 4,
 "nbformat_minor": 5
}
