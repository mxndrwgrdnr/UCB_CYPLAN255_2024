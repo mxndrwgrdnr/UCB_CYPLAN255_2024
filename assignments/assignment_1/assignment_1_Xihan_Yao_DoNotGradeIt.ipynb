{
 "cells": [
  {
   "cell_type": "markdown",
   "metadata": {},
   "source": [
    "## Assignment 1 | Data Types\n",
    "\n",
    "## Xihan is an auditing student, he coded, tested and answered these questions with ChatGPT\n",
    "\n",
    "Add code cells as needed for your answers. "
   ]
  },
  {
   "cell_type": "markdown",
   "metadata": {},
   "source": [
    "### Exercise 1: Manipulating Lists"
   ]
  },
  {
   "cell_type": "markdown",
   "metadata": {},
   "source": [
    "Create a list containing the numbers 10, 20, and 30. Store your list as a variable named `a`. Then create a second list containing the numbers 30, 60, and 90. Call this this `b`."
   ]
  },
  {
   "cell_type": "code",
   "execution_count": 2,
   "metadata": {},
   "outputs": [
    {
     "name": "stdout",
     "output_type": "stream",
     "text": [
      "[10, 20, 30]\n",
      "[30, 60, 90]\n"
     ]
    }
   ],
   "source": [
    "a = [10, 20, 30]\n",
    "b = [30, 60, 90]\n",
    "print (a)\n",
    "print (b)"
   ]
  },
  {
   "cell_type": "markdown",
   "metadata": {},
   "source": [
    "In the cells below, write Python expressions to create the following four outputs by combining `a` and `b` in creative ways:\n",
    "\n",
    "1. [[10, 20, 30], [30, 60, 90]]\n",
    "\n",
    "2. [10, 20, 30, 30, 60, 90]\n",
    "\n",
    "3. [10, 20, 60, 90]\n",
    "\n",
    "4. [20, 40, 60]"
   ]
  },
  {
   "cell_type": "code",
   "execution_count": 3,
   "metadata": {},
   "outputs": [
    {
     "name": "stdout",
     "output_type": "stream",
     "text": [
      "[[10, 20, 30], [30, 60, 90]]\n"
     ]
    }
   ],
   "source": [
    "combined_list = [a, b]\n",
    "print(combined_list)"
   ]
  },
  {
   "cell_type": "code",
   "execution_count": 4,
   "metadata": {},
   "outputs": [
    {
     "name": "stdout",
     "output_type": "stream",
     "text": [
      "[10, 20, 30, 30, 60, 90]\n"
     ]
    }
   ],
   "source": [
    "combined_list = a + b\n",
    "print(combined_list)"
   ]
  },
  {
   "cell_type": "code",
   "execution_count": 11,
   "metadata": {},
   "outputs": [
    {
     "name": "stdout",
     "output_type": "stream",
     "text": [
      "[10, 20, 60, 90]\n"
     ]
    }
   ],
   "source": [
    "# Combine lists a and b\n",
    "combined_list = a + b\n",
    "\n",
    "# Create a list of unique elements\n",
    "unique_elements_list = []\n",
    "\n",
    "for element in combined_list:\n",
    "    if (element not in a) or (element not in b):\n",
    "        unique_elements_list.append(element)\n",
    "\n",
    "print(unique_elements_list)"
   ]
  },
  {
   "cell_type": "code",
   "execution_count": 6,
   "metadata": {},
   "outputs": [
    {
     "name": "stdout",
     "output_type": "stream",
     "text": [
      "[20, 40, 60]\n"
     ]
    }
   ],
   "source": [
    "result_list = []\n",
    "for i in range(len(a)):\n",
    "    result_list.append(b[i] - a[i])\n",
    "\n",
    "print(result_list)"
   ]
  },
  {
   "cell_type": "markdown",
   "metadata": {},
   "source": [
    "### Exercise 2. Working with Lists\n",
    "\n",
    "Create a list that contains the sums of each of the lists in G. \n",
    "\n",
    "`G = [[13, 9, 8], [14, 6, 12], [10, 13, 11], [7, 18, 9]]`\n",
    "\n",
    "Your output should look like:\n",
    "\n",
    "- `[30, 32, 34, 34]`\n",
    "\n",
    "Hint: try computing the sum for just one list first."
   ]
  },
  {
   "cell_type": "code",
   "execution_count": 12,
   "metadata": {},
   "outputs": [
    {
     "name": "stdout",
     "output_type": "stream",
     "text": [
      "[30, 32, 34, 34]\n"
     ]
    }
   ],
   "source": [
    "G = [[13, 9, 8], [14, 6, 12], [10, 13, 11], [7, 18, 9]]\n",
    "\n",
    "sums_list = [sum(sub_list) for sub_list in G]\n",
    "\n",
    "print(sums_list)"
   ]
  },
  {
   "cell_type": "code",
   "execution_count": 13,
   "metadata": {},
   "outputs": [
    {
     "name": "stdout",
     "output_type": "stream",
     "text": [
      "[30, 32, 34, 34]\n"
     ]
    }
   ],
   "source": [
    "# with a function and can be applied to all lists\n",
    "def calculate_sums(list_of_lists):\n",
    "    sums_list = []\n",
    "\n",
    "    for sub_list in list_of_lists:\n",
    "        sub_list_sum = sum(sub_list)\n",
    "        sums_list.append(sub_list_sum)\n",
    "\n",
    "    return sums_list\n",
    "\n",
    "G = [[13, 9, 8], [14, 6, 12], [10, 13, 11], [7, 18, 9]]\n",
    "\n",
    "sums_list = calculate_sums(G)\n",
    "\n",
    "print(sums_list)\n"
   ]
  },
  {
   "cell_type": "markdown",
   "metadata": {},
   "source": [
    "### Exercise 3: String Manipulation\n",
    "\n",
    "Turn the string below into 'all good countrymen' using the minimum amount of code, using only the methods we've covered so far. A couple of lines of code should do the trick.  Note: this requires string and list methods."
   ]
  },
  {
   "cell_type": "code",
   "execution_count": null,
   "metadata": {},
   "outputs": [],
   "source": [
    "s = 'Now is the time for all good men to come to the aid of their country!'"
   ]
  },
  {
   "cell_type": "code",
   "execution_count": 24,
   "metadata": {},
   "outputs": [
    {
     "name": "stdout",
     "output_type": "stream",
     "text": [
      "['Now', 'is', 'the', 'time', 'for', 'all', 'good', 'men', 'to', 'come', 'to', 'the', 'aid', 'of', 'their', 'country', '!']\n"
     ]
    }
   ],
   "source": [
    "word_list = []\n",
    "\n",
    "for word in s.split():\n",
    "    if word[-1] in ',.!?':\n",
    "        word_list.append(word[:-1])\n",
    "        word_list.append(word[-1])\n",
    "    else:\n",
    "        word_list.append(word)\n",
    "\n",
    "print(word_list)"
   ]
  },
  {
   "cell_type": "code",
   "execution_count": 35,
   "metadata": {},
   "outputs": [
    {
     "name": "stdout",
     "output_type": "stream",
     "text": [
      "all good countrymen\n"
     ]
    }
   ],
   "source": [
    "generated_string = word_list[5] +\" \"+ word_list[6]+\" \"+ word_list[-2] + word_list[7]\n",
    "print (generated_string)"
   ]
  },
  {
   "cell_type": "markdown",
   "metadata": {},
   "source": [
    "### Exercise 4: String Manipulation and Type Conversion\n",
    "\n",
    "Define a variable `a = \"Sarah earns $96500 in a year\"`. Then maniuplate the value of `a` in order to print the following string: `Sarah earns $8041.67 monthly`\n",
    "\n",
    "Start by doing it in several steps and then combine them one step at a time until you can do it in one line."
   ]
  },
  {
   "cell_type": "code",
   "execution_count": 36,
   "metadata": {},
   "outputs": [],
   "source": [
    "a = \"Sarah earns $96500 in a year\""
   ]
  },
  {
   "cell_type": "code",
   "execution_count": 49,
   "metadata": {},
   "outputs": [
    {
     "name": "stdout",
     "output_type": "stream",
     "text": [
      "['Sarah earns ', '96500 in a year']\n",
      "96500 in a year\n",
      "96500\n",
      "<class 'str'>\n",
      "96500\n",
      "<class 'int'>\n",
      "Sarah earns $8041.67 monthly\n"
     ]
    }
   ],
   "source": [
    "amount_year = int(a.split(\"$\")[1].split()[0])\n",
    "amount_monthly = amount_year / 12\n",
    "monthly_string = \"{:.2f}\".format(amount_monthly)\n",
    "final_string = \"Sarah earns $\" + monthly_string + \" monthly\"\n",
    "print (a.split(\"$\"))\n",
    "print (a.split(\"$\")[1])\n",
    "print (a.split(\"$\")[1].split()[0])\n",
    "print (type(a.split(\"$\")[1].split()[0]))\n",
    "print (amount_year)\n",
    "print (type(amount_year))\n",
    "print (final_string)"
   ]
  },
  {
   "cell_type": "code",
   "execution_count": 50,
   "metadata": {},
   "outputs": [
    {
     "name": "stdout",
     "output_type": "stream",
     "text": [
      "Sarah earns $8041.67 monthly\n"
     ]
    }
   ],
   "source": [
    "final_string = \"Sarah earns $\" + \"{:.2f}\".format(int(a.split(\"$\")[1].split()[0]) / 12) + \" monthly\"\n",
    "print (final_string)"
   ]
  },
  {
   "cell_type": "markdown",
   "metadata": {},
   "source": [
    "### Exercise 5: Create and Query a Dictionary on State Demographics\n",
    "\n",
    "Create two dictionaries, one for California and one for New York state, based on the data in the following table:\n",
    "\n",
    "| States | Pop Density | Prop White | Prop Afr Amer | Prop Asian | Prop Other | Owners | Renters |\n",
    "| --- | ---: | ---: | ---: | ---: | ---: | ---: | ---: |\n",
    "| CA | 239.1 | 0.57  | 0.06 | 0.13 | 0.22 | 7035371 | 5542127 |\n",
    "| NY | 411.2 | 0.65  | 0.15 | 0.07 | 0.22 | 3897837 | 3419918 |\n",
    "\n",
    "Each dictionary should have the following keys and value types: `name: (string)` , `population density: (float)`, `race (dict)`, `tenure: (dict)`. \n",
    "\n",
    "1.  Create one dictionary called CA and one called NY that contain dictionaries containing name, pop_density, race as a dictionary, and tenure for California and New York.  Now combine these into a dictionary called \"states\", making it a dictionary of dictionaries, or a nested dictionary.\n",
    "\n",
    "1.  Check if Texas is in our state dictionary (we know it isn't but show us).\n",
    "\n",
    "1. Print the White population in New York as a percentage\n",
    "\n",
    "1. Assume there was a typo in the data, and update the White population fraction of NY to 0.64. Verify that it was updated by printing the percentage again.\n",
    "\n",
    "1. Print the percentage of households that are renters in California, with two decimal places"
   ]
  },
  {
   "cell_type": "code",
   "execution_count": 62,
   "metadata": {},
   "outputs": [],
   "source": [
    "    # California Dictionary\n",
    "ca_dict = {\n",
    "    'name': 'California',\n",
    "    'population_density': 239.1,\n",
    "    'race': {\n",
    "        'white': 0.57,\n",
    "        'african_american': 0.06,\n",
    "        'asian': 0.13,\n",
    "        'other': 0.22\n",
    "    },\n",
    "    'tenure': {\n",
    "        'owners': 7035371,\n",
    "        'renters': 5542127\n",
    "    }\n",
    "}\n",
    "\n",
    "# New York Dictionary\n",
    "ny_dict = {\n",
    "    'name': 'New York',\n",
    "    'population_density': 411.2,\n",
    "    'race': {\n",
    "        'white': 0.65,\n",
    "        'african_american': 0.15,\n",
    "        'asian': 0.07,\n",
    "        'other': 0.22\n",
    "    },\n",
    "    'tenure': {\n",
    "        'owners': 3897837,\n",
    "        'renters': 3419918\n",
    "    }\n",
    "}"
   ]
  },
  {
   "cell_type": "code",
   "execution_count": 53,
   "metadata": {},
   "outputs": [
    {
     "name": "stdout",
     "output_type": "stream",
     "text": [
      "{'CA': {'name': 'California', 'population_density': 239.1, 'race': {'white': 0.57, 'african_american': 0.06, 'asian': 0.13, 'other': 0.22}, 'tenure': {'owners': 7035371, 'renters': 5542127}}, 'NY': {'name': 'New York', 'population_density': 411.2, 'race': {'white': 0.65, 'african_american': 0.15, 'asian': 0.07, 'other': 0.22}, 'tenure': {'owners': 3897837, 'renters': 3419918}}}\n"
     ]
    }
   ],
   "source": [
    "# Combine Dictionaries\n",
    "states = {\n",
    "    'CA': ca_dict,\n",
    "    'NY': ny_dict\n",
    "}\n",
    "print (states)"
   ]
  },
  {
   "cell_type": "code",
   "execution_count": 55,
   "metadata": {
    "scrolled": true
   },
   "outputs": [
    {
     "name": "stdout",
     "output_type": "stream",
     "text": [
      "False\n"
     ]
    }
   ],
   "source": [
    "is_texas_in_states = 'TX' in states\n",
    "print (is_texas_in_states)"
   ]
  },
  {
   "cell_type": "code",
   "execution_count": 61,
   "metadata": {
    "scrolled": true
   },
   "outputs": [
    {
     "name": "stdout",
     "output_type": "stream",
     "text": [
      "64.0%\n"
     ]
    }
   ],
   "source": [
    "# Update White population fraction for NY\n",
    "states['NY']['race']['white'] = 0.64\n",
    "print (str(states['NY']['race']['white'] * 100)+\"%\")"
   ]
  },
  {
   "cell_type": "code",
   "execution_count": 67,
   "metadata": {},
   "outputs": [
    {
     "name": "stdout",
     "output_type": "stream",
     "text": [
      "44.06%\n"
     ]
    }
   ],
   "source": [
    "ratio = states['CA']['tenure']['renters']/(states['CA']['tenure']['renters']+states['CA']['tenure']['owners'])\n",
    "# Convert the ratio to a percentage with 2 decimal points\n",
    "percentage = \"{:.2f}%\".format(ratio * 100)\n",
    "print (percentage)"
   ]
  },
  {
   "cell_type": "markdown",
   "metadata": {
    "collapsed": true
   },
   "source": [
    "### Exercise 6: Working with Numpy Arrays\n",
    "\n",
    "1. Create and print a 4 x 4 array named `a` with value 3 everywhere.\n",
    "\n",
    "1. Create and print a 4 x 4 array named `b` with elements drawn from a uniform random distribution \n",
    "\n",
    "1. Create and print array `c` by dividing a by b\n",
    "\n",
    "1. Compute and print the min, mean, max, median, and 90th percentile values of `c`\n",
    "\n",
    "1. Compute and print the sum of the second column in `c`"
   ]
  },
  {
   "cell_type": "code",
   "execution_count": 69,
   "metadata": {},
   "outputs": [
    {
     "name": "stdout",
     "output_type": "stream",
     "text": [
      "[[3 3 3 3]\n",
      " [3 3 3 3]\n",
      " [3 3 3 3]\n",
      " [3 3 3 3]]\n"
     ]
    }
   ],
   "source": [
    "import numpy as np\n",
    "\n",
    "# Create a 4x4 array with all values set to 3\n",
    "a = np.full((4, 4), 3)\n",
    "\n",
    "# Print the array\n",
    "print(a)"
   ]
  },
  {
   "cell_type": "code",
   "execution_count": 71,
   "metadata": {},
   "outputs": [
    {
     "name": "stdout",
     "output_type": "stream",
     "text": [
      "[[0.16838338 0.77699831 0.26432588 0.15197017]\n",
      " [0.8499197  0.71815085 0.18824691 0.08442522]\n",
      " [0.93363462 0.49701478 0.89779681 0.86930027]\n",
      " [0.84557399 0.20326784 0.83095257 0.38279544]]\n"
     ]
    }
   ],
   "source": [
    "# Create a 4x4 array with elements drawn from a uniform random distribution\n",
    "b = np.random.rand(4, 4)\n",
    "\n",
    "# Print the array\n",
    "print(b)"
   ]
  },
  {
   "cell_type": "code",
   "execution_count": 73,
   "metadata": {},
   "outputs": [
    {
     "name": "stdout",
     "output_type": "stream",
     "text": [
      "[[17.81648473  3.86101226 11.34962663 19.74071645]\n",
      " [ 3.52974521  4.17739533 15.9365167  35.53440714]\n",
      " [ 3.21324846  6.0360378   3.34151331  3.45105149]\n",
      " [ 3.54788588 14.75885185  3.61031439  7.83708394]]\n"
     ]
    }
   ],
   "source": [
    "# Divide array a by array b to create array c\n",
    "c = np.divide(a, b)\n",
    "print(c)"
   ]
  },
  {
   "cell_type": "code",
   "execution_count": 75,
   "metadata": {},
   "outputs": [
    {
     "name": "stdout",
     "output_type": "stream",
     "text": [
      "Minimum value of c: 3.21\n",
      "Mean value of c: 9.86\n",
      "Maximum value of c: 35.53\n",
      "Median value of c: 5.11\n",
      "90th percentile value of c: 18.78\n"
     ]
    }
   ],
   "source": [
    "# Compute and print statistics of array c rounded to two decimal points\n",
    "c_min = round(np.min(c), 2)\n",
    "c_mean = round(np.mean(c), 2)\n",
    "c_max = round(np.max(c), 2)\n",
    "c_median = round(np.median(c), 2)\n",
    "c_percentile_90 = round(np.percentile(c, 90), 2)\n",
    "\n",
    "print(f\"Minimum value of c: {c_min}\")\n",
    "print(f\"Mean value of c: {c_mean}\")\n",
    "print(f\"Maximum value of c: {c_max}\")\n",
    "print(f\"Median value of c: {c_median}\")\n",
    "print(f\"90th percentile value of c: {c_percentile_90}\")"
   ]
  },
  {
   "cell_type": "code",
   "execution_count": 76,
   "metadata": {},
   "outputs": [
    {
     "name": "stdout",
     "output_type": "stream",
     "text": [
      "28.83329723816869\n"
     ]
    }
   ],
   "source": [
    "# Compute and print the sum of the second column in array c\n",
    "sum_second_column = np.sum(c[:, 1])\n",
    "print (sum_second_column)"
   ]
  }
 ],
 "metadata": {
  "kernelspec": {
   "display_name": "Python 3 (ipykernel)",
   "language": "python",
   "name": "python3"
  },
  "language_info": {
   "codemirror_mode": {
    "name": "ipython",
    "version": 3
   },
   "file_extension": ".py",
   "mimetype": "text/x-python",
   "name": "python",
   "nbconvert_exporter": "python",
   "pygments_lexer": "ipython3",
   "version": "3.9.16"
  },
  "toc": {
   "base_numbering": 1,
   "nav_menu": {},
   "number_sections": false,
   "sideBar": true,
   "skip_h1_title": false,
   "title_cell": "Table of Contents",
   "title_sidebar": "Contents",
   "toc_cell": false,
   "toc_position": {},
   "toc_section_display": true,
   "toc_window_display": false
  }
 },
 "nbformat": 4,
 "nbformat_minor": 2
}
