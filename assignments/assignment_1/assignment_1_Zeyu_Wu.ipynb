{
 "cells": [
  {
   "cell_type": "markdown",
   "metadata": {},
   "source": [
    "## Assignment 1 | Data Types\n",
    "\n",
    "Add code cells as needed for Zeyu Wu's answers. "
   ]
  },
  {
   "cell_type": "code",
   "execution_count": 1,
   "metadata": {},
   "outputs": [],
   "source": [
    "import numpy as np"
   ]
  },
  {
   "cell_type": "markdown",
   "metadata": {},
   "source": [
    "### Exercise 1: Manipulating Lists"
   ]
  },
  {
   "cell_type": "markdown",
   "metadata": {},
   "source": [
    "Create a list containing the numbers 10, 20, and 30. Store your list as a variable named `a`. Then create a second list containing the numbers 30, 60, and 90. Call this this `b`."
   ]
  },
  {
   "cell_type": "code",
   "execution_count": 2,
   "metadata": {},
   "outputs": [],
   "source": [
    "a = [10, 20, 30]\n",
    "b = [30, 60, 90]"
   ]
  },
  {
   "cell_type": "markdown",
   "metadata": {},
   "source": [
    "In the cells below, write Python expressions to create the following four outputs by combining `a` and `b` in creative ways:\n",
    "\n",
    "1. [[10, 20, 30], [30, 60, 90]]\n",
    "\n",
    "2. [10, 20, 30, 30, 60, 90]\n",
    "\n",
    "3. [10, 20, 60, 90]\n",
    "\n",
    "4. [20, 40, 60]"
   ]
  },
  {
   "cell_type": "code",
   "execution_count": 3,
   "metadata": {},
   "outputs": [
    {
     "name": "stdout",
     "output_type": "stream",
     "text": [
      "[[10, 20, 30], [30, 60, 90]]\n"
     ]
    }
   ],
   "source": [
    "print([a,b])"
   ]
  },
  {
   "cell_type": "code",
   "execution_count": 4,
   "metadata": {},
   "outputs": [
    {
     "name": "stdout",
     "output_type": "stream",
     "text": [
      "[10, 20, 30, 30, 60, 90]\n"
     ]
    }
   ],
   "source": [
    "print(a+b)"
   ]
  },
  {
   "cell_type": "code",
   "execution_count": 5,
   "metadata": {},
   "outputs": [
    {
     "name": "stdout",
     "output_type": "stream",
     "text": [
      "[10, 20, 60, 90]\n"
     ]
    }
   ],
   "source": [
    "print([a[0], a[1]] + b[1:])"
   ]
  },
  {
   "cell_type": "code",
   "execution_count": 6,
   "metadata": {},
   "outputs": [
    {
     "name": "stdout",
     "output_type": "stream",
     "text": [
      "[20, 40, 60]\n"
     ]
    }
   ],
   "source": [
    "print([y - x for x, y in zip(a, b)])"
   ]
  },
  {
   "cell_type": "markdown",
   "metadata": {},
   "source": [
    "### Exercise 2. Working with Lists\n",
    "\n",
    "Create a list that contains the sums of each of the lists in G. \n",
    "\n",
    "`G = [[13, 9, 8], [14, 6, 12], [10, 13, 11], [7, 18, 9]]`\n",
    "\n",
    "Your output should look like:\n",
    "\n",
    "- `[30, 32, 34, 34]`\n",
    "\n",
    "Hint: try computing the sum for just one list first."
   ]
  },
  {
   "cell_type": "code",
   "execution_count": 7,
   "metadata": {},
   "outputs": [
    {
     "name": "stdout",
     "output_type": "stream",
     "text": [
      "[30, 32, 34, 34]\n"
     ]
    }
   ],
   "source": [
    "G = [[13, 9, 8], [14, 6, 12], [10, 13, 11], [7, 18, 9]]\n",
    "print([sum(sublist) for sublist in G])  # sum of each sublist using list comprehension"
   ]
  },
  {
   "cell_type": "markdown",
   "metadata": {},
   "source": [
    "### Exercise 3: String Manipulation\n",
    "\n",
    "Turn the string below into 'all good countrymen' using the minimum amount of code, using only the methods we've covered so far. A couple of lines of code should do the trick.  Note: this requires string and list methods."
   ]
  },
  {
   "cell_type": "code",
   "execution_count": 8,
   "metadata": {},
   "outputs": [],
   "source": [
    "s = 'Now is the time for all good men to come to the aid of their country!'"
   ]
  },
  {
   "cell_type": "code",
   "execution_count": 9,
   "metadata": {},
   "outputs": [
    {
     "name": "stdout",
     "output_type": "stream",
     "text": [
      "all good countrymen\n"
     ]
    }
   ],
   "source": [
    "words = s.split() # filtered_words = [word for word in words if word in ['all', 'good', 'men', 'country!']] \n",
    "print(words[5], words[6], words[15].replace('!', '') + words[7])"
   ]
  },
  {
   "cell_type": "markdown",
   "metadata": {},
   "source": [
    "### Exercise 4: String Manipulation and Type Conversion\n",
    "\n",
    "Define a variable `a = \"Sarah earns $96500 in a year\"`. Then maniuplate the value of `a` in order to print the following string: `Sarah earns $8041.67 monthly`\n",
    "\n",
    "Start by doing it in several steps and then combine them one step at a time until you can do it in one line."
   ]
  },
  {
   "cell_type": "code",
   "execution_count": 10,
   "metadata": {},
   "outputs": [
    {
     "name": "stdout",
     "output_type": "stream",
     "text": [
      "Sarah earns $8041.67 monthly\n"
     ]
    }
   ],
   "source": [
    "a = \"Sarah earns $96500 in a year\"\n",
    "words = a.split()\n",
    "print(words[0], words[1], words[2][0] + \"{:.2f}\".format(float(a.split()[2][1:]) / 12) + \" monthly\")  # int(a.split()[2].strip(\"$\")) / 12"
   ]
  },
  {
   "cell_type": "markdown",
   "metadata": {},
   "source": [
    "### Exercise 5: Create and Query a Dictionary on State Demographics\n",
    "\n",
    "Create two dictionaries, one for California and one for New York state, based on the data in the following table:\n",
    "\n",
    "| States | Pop Density | Prop White | Prop Afr Amer | Prop Asian | Prop Other | Owners | Renters |\n",
    "| --- | ---: | ---: | ---: | ---: | ---: | ---: | ---: |\n",
    "| CA | 239.1 | 0.57  | 0.06 | 0.13 | 0.22 | 7035371 | 5542127 |\n",
    "| NY | 411.2 | 0.65  | 0.15 | 0.07 | 0.22 | 3897837 | 3419918 |\n",
    "\n",
    "Each dictionary should have the following keys and value types: `name: (string)` , `population density: (float)`, `race (dict)`, `tenure: (dict)`. \n",
    "\n",
    "1.  Create one dictionary called CA and one called NY that contain dictionaries containing name, pop_density, race as a dictionary, and tenure for California and New York.  Now combine these into a dictionary called \"states\", making it a dictionary of dictionaries, or a nested dictionary.\n",
    "\n",
    "1.  Check if Texas is in our state dictionary (we know it isn't but show us).\n",
    "\n",
    "1. Print the White population in New York as a percentage\n",
    "\n",
    "1. Assume there was a typo in the data, and update the White population fraction of NY to 0.64. Verify that it was updated by printing the percentage again.\n",
    "\n",
    "1. Print the percentage of households that are renters in California, with two decimal places"
   ]
  },
  {
   "cell_type": "code",
   "execution_count": 11,
   "metadata": {},
   "outputs": [
    {
     "name": "stdout",
     "output_type": "stream",
     "text": [
      "Texas is not in the state dictionary\n",
      "The percentage of White population in New York: 65%\n",
      "The percentage of White population in New York (Update): 64%\n",
      "The percentage of renters in California: 44.06%\n"
     ]
    }
   ],
   "source": [
    "CA = {\n",
    "    \"name\": \"California\",\n",
    "    \"population density\": 239.1,\n",
    "    \"race\": {\n",
    "        \"white\": 0.57,\n",
    "        \"african american\": 0.06,\n",
    "        \"asian\": 0.13,\n",
    "        \"other\": 0.22\n",
    "    },\n",
    "    \"tenure\": {\n",
    "        \"owners\": 7035371,\n",
    "        \"renters\": 5542127\n",
    "    }\n",
    "}\n",
    "\n",
    "NY = {\n",
    "    \"name\": \"New York\",\n",
    "    \"population density\": 411.2,\n",
    "    \"race\": {\n",
    "        \"white\": 0.65,\n",
    "        \"african american\": 0.15,\n",
    "        \"asian\": 0.07,\n",
    "        \"other\": 0.22\n",
    "    },\n",
    "    \"tenure\": {\n",
    "        \"owners\": 3897837,\n",
    "        \"renters\": 3419918\n",
    "    }\n",
    "}\n",
    "\n",
    "states = {\"CA\": CA, \"NY\": NY}\n",
    "\n",
    "# Check if Texas is in the dictionary\n",
    "if \"TX\" in states:\n",
    "    print(\"Texas is in the state dictionary\")\n",
    "else:\n",
    "    print(\"Texas is not in the state dictionary\")\n",
    "\n",
    "print(\"The percentage of White population in New York: \" + \"{:.0f}%\".format(NY[\"race\"][\"white\"] * 100))\n",
    "\n",
    "NY[\"race\"][\"white\"] = 0.64\n",
    "white_population_NY = NY[\"race\"][\"white\"] * 100\n",
    "print(f\"The percentage of White population in New York (Update): {white_population_NY:.0f}%\")\n",
    "\n",
    "print(\"The percentage of renters in California: \" + \"{:.2f}%\".format(CA[\"tenure\"][\"renters\"] / (CA[\"tenure\"][\"owners\"] + CA[\"tenure\"][\"renters\"]) * 100))\n"
   ]
  },
  {
   "cell_type": "markdown",
   "metadata": {
    "collapsed": true
   },
   "source": [
    "### Exercise 6: Working with Numpy Arrays\n",
    "\n",
    "1. Create and print a 4 x 4 array named `a` with value 3 everywhere.\n",
    "\n",
    "1. Create and print a 4 x 4 array named `b` with elements drawn from a uniform random distribution \n",
    "\n",
    "1. Create and print array `c` by dividing a by b\n",
    "\n",
    "1. Compute and print the min, mean, max, median, and 90th percentile values of `c`\n",
    "\n",
    "1. Compute and print the sum of the second column in `c`"
   ]
  },
  {
   "cell_type": "code",
   "execution_count": 12,
   "metadata": {},
   "outputs": [
    {
     "name": "stdout",
     "output_type": "stream",
     "text": [
      "Array a:\n",
      " [[3. 3. 3. 3.]\n",
      " [3. 3. 3. 3.]\n",
      " [3. 3. 3. 3.]\n",
      " [3. 3. 3. 3.]]\n"
     ]
    }
   ],
   "source": [
    "a = np.ones((4, 4)) * 3\n",
    "print(\"Array a:\\n\", a)"
   ]
  },
  {
   "cell_type": "code",
   "execution_count": 13,
   "metadata": {},
   "outputs": [
    {
     "name": "stdout",
     "output_type": "stream",
     "text": [
      "Array b:\n",
      " [[5.04654663e-01 9.39083198e-01 4.18671111e-01 2.12934250e-01]\n",
      " [2.44667677e-01 7.63793602e-02 6.66328108e-01 9.45020029e-04]\n",
      " [8.85622649e-01 9.77731783e-01 3.18588648e-01 2.07397617e-01]\n",
      " [8.13560023e-01 2.66421079e-01 6.30522303e-01 4.33473997e-02]]\n"
     ]
    }
   ],
   "source": [
    "b = np.random.rand(4, 4)\n",
    "print(\"Array b:\\n\", b)"
   ]
  },
  {
   "cell_type": "code",
   "execution_count": 14,
   "metadata": {},
   "outputs": [
    {
     "name": "stdout",
     "output_type": "stream",
     "text": [
      "Array c:\n",
      " [[5.94465923e+00 3.19460513e+00 7.16552902e+00 1.40888561e+01]\n",
      " [1.22615298e+01 3.92776267e+01 4.50228643e+00 3.17453589e+03]\n",
      " [3.38744724e+00 3.06832615e+00 9.41653136e+00 1.44649685e+01]\n",
      " [3.68749682e+00 1.12603703e+01 4.75796017e+00 6.92083037e+01]]\n"
     ]
    }
   ],
   "source": [
    "c = a / b  # c = np.divide(a, b)\n",
    "print(\"Array c:\\n\", c)"
   ]
  },
  {
   "cell_type": "code",
   "execution_count": 15,
   "metadata": {},
   "outputs": [
    {
     "name": "stdout",
     "output_type": "stream",
     "text": [
      "Min: 3.0683261510545385\n",
      "Mean: 211.26389924238475\n",
      "Max: 3174.535891287291\n",
      "Median: 8.291030193743929\n",
      "90th percentile: 54.24296519278286\n"
     ]
    }
   ],
   "source": [
    "print(\"Min:\", np.min(c))\n",
    "print(\"Mean:\", np.mean(c))\n",
    "print(\"Max:\", np.max(c))\n",
    "print(\"Median:\", np.median(c))\n",
    "print(\"90th percentile:\", np.percentile(c, 90))"
   ]
  },
  {
   "cell_type": "code",
   "execution_count": 16,
   "metadata": {},
   "outputs": [
    {
     "name": "stdout",
     "output_type": "stream",
     "text": [
      "\n",
      "Sum of second column: 56.80092830964976\n"
     ]
    }
   ],
   "source": [
    "print(\"\\nSum of second column:\", np.sum(c[:, 1]))"
   ]
  }
 ],
 "metadata": {
  "kernelspec": {
   "display_name": "Python 3",
   "language": "python",
   "name": "python3"
  },
  "language_info": {
   "codemirror_mode": {
    "name": "ipython",
    "version": 3
   },
   "file_extension": ".py",
   "mimetype": "text/x-python",
   "name": "python",
   "nbconvert_exporter": "python",
   "pygments_lexer": "ipython3",
   "version": "3.11.5"
  },
  "toc": {
   "base_numbering": 1,
   "nav_menu": {},
   "number_sections": false,
   "sideBar": true,
   "skip_h1_title": false,
   "title_cell": "Table of Contents",
   "title_sidebar": "Contents",
   "toc_cell": false,
   "toc_position": {},
   "toc_section_display": true,
   "toc_window_display": false
  }
 },
 "nbformat": 4,
 "nbformat_minor": 2
}
