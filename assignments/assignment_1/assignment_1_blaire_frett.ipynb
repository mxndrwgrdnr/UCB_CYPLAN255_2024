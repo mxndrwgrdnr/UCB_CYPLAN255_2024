{
 "cells": [
  {
   "cell_type": "markdown",
   "metadata": {},
   "source": [
    "## Assignment 1 | Data Types\n",
    "\n",
    "Add code cells as needed for your answers. "
   ]
  },
  {
   "cell_type": "markdown",
   "metadata": {},
   "source": [
    "### Exercise 1: Manipulating Lists"
   ]
  },
  {
   "cell_type": "markdown",
   "metadata": {},
   "source": [
    "Create a list containing the numbers 10, 20, and 30. Store your list as a variable named `a`. Then create a second list containing the numbers 30, 60, and 90. Call this this `b`."
   ]
  },
  {
   "cell_type": "code",
   "execution_count": 1,
   "metadata": {},
   "outputs": [],
   "source": [
    "a = [10, 20, 30] \n",
    "b = [30, 60, 90]"
   ]
  },
  {
   "cell_type": "markdown",
   "metadata": {},
   "source": [
    "In the cells below, write Python expressions to create the following four outputs by combining `a` and `b` in creative ways:\n",
    "\n",
    "1. [[10, 20, 30], [30, 60, 90]]\n",
    "\n",
    "2. [10, 20, 30, 30, 60, 90]\n",
    "\n",
    "3. [10, 20, 60, 90]\n",
    "\n",
    "4. [20, 40, 60]"
   ]
  },
  {
   "cell_type": "code",
   "execution_count": 2,
   "metadata": {},
   "outputs": [
    {
     "data": {
      "text/plain": [
       "[[10, 20, 30], [30, 60, 90]]"
      ]
     },
     "execution_count": 2,
     "metadata": {},
     "output_type": "execute_result"
    }
   ],
   "source": [
    "[a, b]"
   ]
  },
  {
   "cell_type": "code",
   "execution_count": 3,
   "metadata": {},
   "outputs": [
    {
     "data": {
      "text/plain": [
       "[[10, 20, 30, 30, 60, 90]]"
      ]
     },
     "execution_count": 3,
     "metadata": {},
     "output_type": "execute_result"
    }
   ],
   "source": [
    "[a+b]"
   ]
  },
  {
   "cell_type": "code",
   "execution_count": 6,
   "metadata": {},
   "outputs": [
    {
     "data": {
      "text/plain": [
       "[10, 20, 60, 90]"
      ]
     },
     "execution_count": 6,
     "metadata": {},
     "output_type": "execute_result"
    }
   ],
   "source": [
    "a[:2] + b[1:]"
   ]
  },
  {
   "cell_type": "code",
   "execution_count": 11,
   "metadata": {},
   "outputs": [
    {
     "data": {
      "text/plain": [
       "[20, 40, 60]"
      ]
     },
     "execution_count": 11,
     "metadata": {},
     "output_type": "execute_result"
    }
   ],
   "source": [
    "[a[1], a[1]*2, b[1]]"
   ]
  },
  {
   "cell_type": "markdown",
   "metadata": {},
   "source": [
    "### Exercise 2. Working with Lists\n",
    "\n",
    "Create a list that contains the sums of each of the lists in G. \n",
    "\n",
    "`G = [[13, 9, 8], [14, 6, 12], [10, 13, 11], [7, 18, 9]]`\n",
    "\n",
    "Your output should look like:\n",
    "\n",
    "- `[30, 32, 34, 34]`\n",
    "\n",
    "Hint: try computing the sum for just one list first."
   ]
  },
  {
   "cell_type": "code",
   "execution_count": 19,
   "metadata": {},
   "outputs": [
    {
     "data": {
      "text/plain": [
       "[30, 32, 34, 34]"
      ]
     },
     "execution_count": 19,
     "metadata": {},
     "output_type": "execute_result"
    }
   ],
   "source": [
    "G = [[13, 9, 8], [14, 6, 12], [10, 13, 11], [7, 18, 9]]\n",
    "a = [13, 9, 8]\n",
    "b = [14, 6, 12]\n",
    "c = [10, 13, 11]\n",
    "d = [7, 18, 9]\n",
    "sum(a)\n",
    "[sum(a), sum(b), sum(c), sum(d)]"
   ]
  },
  {
   "cell_type": "markdown",
   "metadata": {},
   "source": [
    "### Exercise 3: String Manipulation\n",
    "\n",
    "Turn the string below into 'all good countrymen' using the minimum amount of code, using only the methods we've covered so far. A couple of lines of code should do the trick.  Note: this requires string and list methods."
   ]
  },
  {
   "cell_type": "code",
   "execution_count": 21,
   "metadata": {},
   "outputs": [],
   "source": [
    "s = 'Now is the time for all good men to come to the aid of their country!'"
   ]
  },
  {
   "cell_type": "code",
   "execution_count": 68,
   "metadata": {},
   "outputs": [
    {
     "data": {
      "text/plain": [
       "' all good  countrymen '"
      ]
     },
     "execution_count": 68,
     "metadata": {},
     "output_type": "execute_result"
    }
   ],
   "source": [
    "#s[19:69]\n",
    "#s[19:29] all good\n",
    "#s[60:68] country\n",
    "#s[29:33] men\n",
    "#s[19:33] all good men\n",
    "#s[19:33] + s[60:] all good men country!\n",
    "#s[19:33] + s[43:44] +s[60:68]\n",
    "#s[19:33]+ s[60:68] + s[43:44]\n",
    "#s[60:68] + s[29:33] countrymen\n",
    "s[19:29] + s[60:68] + s[29:33]\n",
    "\n"
   ]
  },
  {
   "cell_type": "markdown",
   "metadata": {},
   "source": [
    "### Exercise 4: String Manipulation and Type Conversion\n",
    "\n",
    "Define a variable `a = \"Sarah earns $96500 in a year\"`. Then maniuplate the value of `a` in order to print the following string: `Sarah earns $8041.67 monthly`\n",
    "\n",
    "Start by doing it in several steps and then combine them one step at a time until you can do it in one line."
   ]
  },
  {
   "cell_type": "code",
   "execution_count": 272,
   "metadata": {},
   "outputs": [
    {
     "name": "stdout",
     "output_type": "stream",
     "text": [
      "Sarah earns ${monthly_income:.2f} monthly\n"
     ]
    }
   ],
   "source": [
    "a = \"Sarah earns $96500 in a year\"\n",
    "#print(96500/12)\n",
    "#yearly_income = split_str = a.split('$')\n",
    "#yearly_income = split_str = split_str[1].split()[0]\n",
    "#yearly_income = str(float)\n",
    "#print(yearly_income)\n",
    "#type(yearly_income)\n",
    "#print(yearly_income / 12)\n",
    "#yearly_income = float(a.replace('$', '').split()[2])\n",
    "#monthly_income = yearly_income / 12\n",
    "#numerical_value = 8041.67\n",
    "#result = f\"Sarah earns ${monthly_income:.2f} monthly\"\n",
    "#print(\"Sarah earns ${monthly_income:.2f} monthly\")\n",
    "#print (\"sarah earns ${numerical_value:.2f} monthly\")\n",
    "\n",
    "\n",
    "#I am having lots of trouble with being able to switch between data types, so am not sure how to get further than this\n",
    "print(\"Sarah earns ${monthly_income:.2f} monthly\")\n",
    "\n",
    "\n",
    "\n",
    "\n",
    "\n",
    "\n",
    "\n",
    "\n"
   ]
  },
  {
   "cell_type": "code",
   "execution_count": 205,
   "metadata": {
    "scrolled": true
   },
   "outputs": [
    {
     "ename": "SyntaxError",
     "evalue": "unterminated string literal (detected at line 14) (2760750831.py, line 14)",
     "output_type": "error",
     "traceback": [
      "\u001b[0;36m  Cell \u001b[0;32mIn[205], line 14\u001b[0;36m\u001b[0m\n\u001b[0;31m    1.  Check if Texas is in our state dictionary (we know it isn't but show us).\u001b[0m\n\u001b[0m                                                                 ^\u001b[0m\n\u001b[0;31mSyntaxError\u001b[0m\u001b[0;31m:\u001b[0m unterminated string literal (detected at line 14)\n"
     ]
    }
   ],
   "source": [
    "### Exercise 5: Create and Query a Dictionary on State Demographics\n",
    "\n",
    "Create two dictionaries, one for California and one for New York state, based on the data in the following table:\n",
    "\n",
    "| States | Pop Density | Prop White | Prop Afr Amer | Prop Asian | Prop Other | Owners | Renters |\n",
    "| --- | ---: | ---: | ---: | ---: | ---: | ---: | ---: |\n",
    "| CA | 239.1 | 0.57  | 0.06 | 0.13 | 0.22 | 7035371 | 5542127 |\n",
    "| NY | 411.2 | 0.65  | 0.15 | 0.07 | 0.22 | 3897837 | 3419918 |\n",
    "\n",
    "Each dictionary should have the following keys and value types: `name: (string)` , `population density: (float)`, `race (dict)`, `tenure: (dict)`. \n",
    "\n",
    "1.  Create one dictionary called CA and one called NY that contain dictionaries containing name, pop_density, race as a dictionary, and tenure for California and New York.  Now combine these into a dictionary called \"states\", making it a dictionary of dictionaries, or a nested dictionary.\n",
    "\n",
    "1.  Check if Texas is in our state dictionary (we know it isn't but show us).\n",
    "\n",
    "1. Print the White population in New York as a percentage\n",
    "\n",
    "1. Assume there was a typo in the data, and update the White population fraction of NY to 0.64. Verify that it was updated by printing the percentage again.\n",
    "\n",
    "1. Print the percentage of households that are renters in California, with two decimal places"
   ]
  },
  {
   "cell_type": "code",
   "execution_count": 229,
   "metadata": {},
   "outputs": [
    {
     "name": "stdout",
     "output_type": "stream",
     "text": [
      "TX not in dictionary\n"
     ]
    }
   ],
   "source": [
    "CA = {\"name\": \"California\",\"pop_density\": 239.1,\"race\": {\"Prop White\": 0.57, \"Prop Afr Amer\": 0.06, \"Prop Asian\": 0.13,\"Prop Other\": 0.22},\n",
    "    \"tenure\": { \"Owners\": 7035371, \"Renters\": 5542127}}\n",
    "NY = {\"name\": \"New York\", \"pop_density\": 411.2, \"race\": {\"Prop White\": 0.65, \"Prop Afr Amer\": 0.15, \"Prop Asian\": 0.07,\"Prop Other\": 0.22},\n",
    "    \"tenure\": { \"Owners\": 3897837, \"Renters\": 3419918}}\n",
    "states = {\"CA\": CA, \"NY\" : NY}\n",
    "if \"TX\" in \"states\": print(\"TX in  dictionary\")\n",
    "else: print(\"TX not in dictionary\")"
   ]
  },
  {
   "cell_type": "code",
   "execution_count": 239,
   "metadata": {},
   "outputs": [
    {
     "name": "stdout",
     "output_type": "stream",
     "text": [
      "65.0\n"
     ]
    }
   ],
   "source": [
    "prop_white_ny = states[\"NY\"][\"race\"][\"Prop White\"]\n",
    "perc_white = prop_white_ny * 100\n",
    "print(perc_white)"
   ]
  },
  {
   "cell_type": "code",
   "execution_count": 252,
   "metadata": {},
   "outputs": [
    {
     "name": "stdout",
     "output_type": "stream",
     "text": [
      "Updated white population in New York: 64%\n"
     ]
    }
   ],
   "source": [
    "states[\"NY\"][\"race\"][\"Prop White\"] = 0.64\n",
    "print(\"Updated white population in New York: {:.0f}%\".format(states[\"NY\"][\"race\"][\"Prop White\"] * 100))"
   ]
  },
  {
   "cell_type": "code",
   "execution_count": 263,
   "metadata": {},
   "outputs": [
    {
     "name": "stdout",
     "output_type": "stream",
     "text": [
      "Pct renters in CA: 44.06%\n"
     ]
    }
   ],
   "source": [
    "renters = states[\"CA\"][\"tenure\"][\"Renters\"]\n",
    "owners = states[\"CA\"][\"tenure\"][\"Owners\"]\n",
    "renter_pct = (renters/(renters + owners)) * 100\n",
    "print(\"Pct renters in CA: {:.2f}%\".format(renter_pct))"
   ]
  },
  {
   "cell_type": "code",
   "execution_count": 167,
   "metadata": {},
   "outputs": [],
   "source": [
    "import numpy as np"
   ]
  },
  {
   "cell_type": "markdown",
   "metadata": {
    "collapsed": true
   },
   "source": [
    "### Exercise 6: Working with Numpy Arrays\n",
    "\n",
    "1. Create and print a 4 x 4 array named `a` with value 3 everywhere.\n",
    "\n",
    "1. Create and print a 4 x 4 array named `b` with elements drawn from a uniform random distribution \n",
    "\n",
    "1. Create and print array `c` by dividing a by b\n",
    "\n",
    "1. Compute and print the min, mean, max, median, and 90th percentile values of `c`\n",
    "\n",
    "1. Compute and print the sum of the second column in `c`"
   ]
  },
  {
   "cell_type": "code",
   "execution_count": 174,
   "metadata": {},
   "outputs": [
    {
     "name": "stdout",
     "output_type": "stream",
     "text": [
      "[[3 3 3 3]\n",
      " [3 3 3 3]\n",
      " [3 3 3 3]\n",
      " [3 3 3 3]]\n"
     ]
    }
   ],
   "source": [
    "a = np.full((4,4),3)\n",
    "print(a)"
   ]
  },
  {
   "cell_type": "code",
   "execution_count": 178,
   "metadata": {},
   "outputs": [
    {
     "name": "stdout",
     "output_type": "stream",
     "text": [
      "[[0.6249257  0.81170775 0.38173778 0.34217707]\n",
      " [0.25386306 0.4881675  0.60956947 0.61525507]\n",
      " [0.45062567 0.43934721 0.28297317 0.41723567]\n",
      " [0.92134323 0.49773549 0.51734858 0.32254496]]\n"
     ]
    }
   ],
   "source": [
    "b = x = np.random.rand(4,4)\n",
    "print(b)"
   ]
  },
  {
   "cell_type": "code",
   "execution_count": 184,
   "metadata": {},
   "outputs": [
    {
     "name": "stdout",
     "output_type": "stream",
     "text": [
      "[[ 4.80057072  3.69591151  7.85879773  8.76739047]\n",
      " [11.81739464  6.14543159  4.92150629  4.87602649]\n",
      " [ 6.65741041  6.82831246 10.60171194  7.19018106]\n",
      " [ 3.25611555  6.02729773  5.79879816  9.30102897]]\n"
     ]
    }
   ],
   "source": [
    "c = (a/b)\n",
    "c = np.divide(a, b)\n",
    "print(c)"
   ]
  },
  {
   "cell_type": "code",
   "execution_count": 191,
   "metadata": {},
   "outputs": [
    {
     "name": "stdout",
     "output_type": "stream",
     "text": [
      "min 3.2561155476114836\n",
      "mean 6.783992856616452\n",
      "max 11.817394637386412\n",
      "median 6.401420998547945\n",
      "90th Percentile 9.951370454001779\n"
     ]
    }
   ],
   "source": [
    "print(\"min\", np.min(c))\n",
    "print(\"mean\", np.mean(c))\n",
    "print(\"max\", np.max(c))\n",
    "print(\"median\", np.median(c))\n",
    "print(\"90th Percentile\", np.percentile(c, 90))\n"
   ]
  },
  {
   "cell_type": "code",
   "execution_count": 192,
   "metadata": {},
   "outputs": [
    {
     "name": "stdout",
     "output_type": "stream",
     "text": [
      "sum of the second column 108.54388570586323\n"
     ]
    }
   ],
   "source": [
    "print(\"sum of the second column\", np.sum(c))"
   ]
  },
  {
   "cell_type": "code",
   "execution_count": 199,
   "metadata": {},
   "outputs": [
    {
     "name": "stdout",
     "output_type": "stream",
     "text": [
      "sum of the second column 22.69695328863495\n"
     ]
    }
   ],
   "source": [
    "print(\"sum of the second column\", np.sum(c[:,1]))\n"
   ]
  }
 ],
 "metadata": {
  "kernelspec": {
   "display_name": "Python 3 (ipykernel)",
   "language": "python",
   "name": "python3"
  },
  "language_info": {
   "codemirror_mode": {
    "name": "ipython",
    "version": 3
   },
   "file_extension": ".py",
   "mimetype": "text/x-python",
   "name": "python",
   "nbconvert_exporter": "python",
   "pygments_lexer": "ipython3",
   "version": "3.11.5"
  },
  "toc": {
   "base_numbering": 1,
   "nav_menu": {},
   "number_sections": false,
   "sideBar": true,
   "skip_h1_title": false,
   "title_cell": "Table of Contents",
   "title_sidebar": "Contents",
   "toc_cell": false,
   "toc_position": {},
   "toc_section_display": true,
   "toc_window_display": false
  }
 },
 "nbformat": 4,
 "nbformat_minor": 2
}
