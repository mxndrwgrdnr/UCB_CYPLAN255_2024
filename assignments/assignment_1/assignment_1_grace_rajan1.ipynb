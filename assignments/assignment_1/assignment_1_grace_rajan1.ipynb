{
 "cells": [
  {
   "cell_type": "markdown",
   "metadata": {},
   "source": [
    "## Assignment 1 | Data Types\n",
    "\n",
    "Add code cells as needed for your answers. "
   ]
  },
  {
   "cell_type": "markdown",
   "metadata": {},
   "source": [
    "### Exercise 1: Manipulating Lists"
   ]
  },
  {
   "cell_type": "markdown",
   "metadata": {},
   "source": [
    "Create a list containing the numbers 10, 20, and 30. Store your list as a variable named `a`. Then create a second list containing the numbers 30, 60, and 90. Call this this `b`."
   ]
  },
  {
   "cell_type": "code",
   "execution_count": 6,
   "metadata": {},
   "outputs": [],
   "source": [
    "a = [10,20,30]\n",
    "b = [30,60,90]"
   ]
  },
  {
   "cell_type": "markdown",
   "metadata": {},
   "source": [
    "In the cells below, write Python expressions to create the following four outputs by combining `a` and `b` in creative ways:\n",
    "\n",
    "1. [[10, 20, 30], [30, 60, 90]]\n",
    "\n",
    "2. [10, 20, 30, 30, 60, 90]\n",
    "\n",
    "3. [10, 20, 60, 90]\n",
    "\n",
    "4. [20, 40, 60]"
   ]
  },
  {
   "cell_type": "code",
   "execution_count": 7,
   "metadata": {},
   "outputs": [
    {
     "data": {
      "text/plain": [
       "[[10, 20, 30], [30, 60, 90]]"
      ]
     },
     "execution_count": 7,
     "metadata": {},
     "output_type": "execute_result"
    }
   ],
   "source": [
    "[a,b]"
   ]
  },
  {
   "cell_type": "code",
   "execution_count": 8,
   "metadata": {},
   "outputs": [
    {
     "data": {
      "text/plain": [
       "[10, 20, 30, 30, 60, 90]"
      ]
     },
     "execution_count": 8,
     "metadata": {},
     "output_type": "execute_result"
    }
   ],
   "source": [
    "a+b"
   ]
  },
  {
   "cell_type": "code",
   "execution_count": 18,
   "metadata": {},
   "outputs": [
    {
     "name": "stdout",
     "output_type": "stream",
     "text": [
      "[10, 20, 60, 90]\n"
     ]
    }
   ],
   "source": [
    "c = a[0:2]\n",
    "d = b[1:3]\n",
    "combined = (c[0:2]+d[0:3])\n",
    "print(combined)"
   ]
  },
  {
   "cell_type": "code",
   "execution_count": 19,
   "metadata": {},
   "outputs": [
    {
     "name": "stdout",
     "output_type": "stream",
     "text": [
      "[20, 40, 60]\n"
     ]
    }
   ],
   "source": [
    "twoa = [ i*2 for i in a]\n",
    "print(twoa)"
   ]
  },
  {
   "cell_type": "markdown",
   "metadata": {},
   "source": [
    "### Exercise 2. Working with Lists\n",
    "\n",
    "Create a list that contains the sums of each of the lists in G. \n",
    "\n",
    "`G = [[13, 9, 8], [14, 6, 12], [10, 13, 11], [7, 18, 9]]`\n",
    "\n",
    "Your output should look like:\n",
    "\n",
    "- `[30, 32, 34, 34]`\n",
    "\n",
    "Hint: try computing the sum for just one list first."
   ]
  },
  {
   "cell_type": "code",
   "execution_count": 30,
   "metadata": {},
   "outputs": [
    {
     "name": "stdout",
     "output_type": "stream",
     "text": [
      "[30, 32, 34, 34]\n"
     ]
    }
   ],
   "source": [
    "G = [[13, 9, 8], [14, 6, 12], [10, 13, 11], [7, 18, 9]]\n",
    "sumlist = [sum(i) for i in G]\n",
    "print(sumlist)"
   ]
  },
  {
   "cell_type": "markdown",
   "metadata": {},
   "source": [
    "### Exercise 3: String Manipulation\n",
    "\n",
    "Turn the string below into 'all good countrymen' using the minimum amount of code, using only the methods we've covered so far. A couple of lines of code should do the trick.  Note: this requires string and list methods."
   ]
  },
  {
   "cell_type": "code",
   "execution_count": 31,
   "metadata": {},
   "outputs": [],
   "source": [
    "s = 'Now is the time for all good men to come to the aid of their country!'"
   ]
  },
  {
   "cell_type": "code",
   "execution_count": null,
   "metadata": {},
   "outputs": [],
   "source": [
    "\n"
   ]
  },
  {
   "cell_type": "code",
   "execution_count": 72,
   "metadata": {},
   "outputs": [
    {
     "name": "stdout",
     "output_type": "stream",
     "text": [
      " all good countrymen\n"
     ]
    }
   ],
   "source": [
    "allgood = s[19:28] \n",
    "men = s[29:32]\n",
    "country = s[61:68].strip()\n",
    "all_good_countrymen = allgood + ' ' + country + men\n",
    "print(all_good_countrymen)\n"
   ]
  },
  {
   "cell_type": "markdown",
   "metadata": {},
   "source": [
    "### Exercise 4: String Manipulation and Type Conversion\n",
    "\n",
    "Define a variable `a = \"Sarah earns $96500 in a year\"`. Then maniuplate the value of `a` in order to print the following string: `Sarah earns $8041.67 monthly`\n",
    "\n",
    "Start by doing it in several steps and then combine them one step at a time until you can do it in one line."
   ]
  },
  {
   "cell_type": "code",
   "execution_count": 76,
   "metadata": {},
   "outputs": [
    {
     "name": "stdout",
     "output_type": "stream",
     "text": [
      "Sarah earns $8041.67 monthly\n"
     ]
    }
   ],
   "source": [
    "a = \"Sarah earns $96500 in a year\"\n",
    "\n",
    "\n",
    "sarah = a.split()[0]\n",
    "\n",
    "annual_salary = float(a.split()[2][1:])\n",
    "\n",
    "monthly_salary = annual_salary / 12\n",
    "\n",
    "newstring = sarah + \" earns $\" + str(round(monthly_salary, 2)) + \" monthly\"\n",
    "\n",
    "print(newstring)\n",
    "\n"
   ]
  },
  {
   "cell_type": "markdown",
   "metadata": {},
   "source": [
    "### Exercise 5: Create and Query a Dictionary on State Demographics\n",
    "\n",
    "Create two dictionaries, one for California and one for New York state, based on the data in the following table:\n",
    "\n",
    "| States | Pop Density | Prop White | Prop Afr Amer | Prop Asian | Prop Other | Owners | Renters |\n",
    "| --- | ---: | ---: | ---: | ---: | ---: | ---: | ---: |\n",
    "| CA | 239.1 | 0.57  | 0.06 | 0.13 | 0.22 | 7035371 | 5542127 |\n",
    "| NY | 411.2 | 0.65  | 0.15 | 0.07 | 0.22 | 3897837 | 3419918 |\n",
    "\n",
    "Each dictionary should have the following keys and value types: `name: (string)` , `population density: (float)`, `race (dict)`, `tenure: (dict)`. \n",
    "\n",
    "1.  Create one dictionary called CA and one called NY that contain dictionaries containing name, pop_density, race as a dictionary, and tenure for California and New York.  Now combine these into a dictionary called \"states\", making it a dictionary of dictionaries, or a nested dictionary.\n",
    "\n",
    "1.  Check if Texas is in our state dictionary (we know it isn't but show us).\n",
    "\n",
    "1. Print the White population in New York as a percentage\n",
    "\n",
    "1. Assume there was a typo in the data, and update the White population fraction of NY to 0.64. Verify that it was updated by printing the percentage again.\n",
    "\n",
    "1. Print the percentage of households that are renters in California, with two decimal places"
   ]
  },
  {
   "cell_type": "code",
   "execution_count": 88,
   "metadata": {},
   "outputs": [],
   "source": [
    "CA = {\n",
    "    'name': 'California',\n",
    "    'pop_density': 239.1,\n",
    "    'race': {\n",
    "        'White': 57, \n",
    "        'African American': 6,\n",
    "        'Asian': 13,\n",
    "        'Other': 22\n",
    "    },\n",
    "    'tenure': {\n",
    "        'Owners': 7035371,\n",
    "        'Renters': 5542127\n",
    "    }\n",
    "}\n",
    "\n",
    "NY = {\n",
    "    'name': 'New York',\n",
    "    'pop_density': 411.2,\n",
    "    'race': {\n",
    "        'White': 65,  \n",
    "        'African American': 15,\n",
    "        'Asian': 7,\n",
    "        'Other': 22\n",
    "    },\n",
    "    'tenure': {\n",
    "        'Owners': 3897837,\n",
    "        'Renters': 3419918\n",
    "    }\n",
    "}"
   ]
  },
  {
   "cell_type": "code",
   "execution_count": 89,
   "metadata": {},
   "outputs": [],
   "source": [
    "states = {'CA': CA, 'NY': NY}"
   ]
  },
  {
   "cell_type": "code",
   "execution_count": 91,
   "metadata": {},
   "outputs": [
    {
     "name": "stdout",
     "output_type": "stream",
     "text": [
      "False\n"
     ]
    }
   ],
   "source": [
    "a= \"TX\" in states\n",
    "print(a)"
   ]
  },
  {
   "cell_type": "code",
   "execution_count": 96,
   "metadata": {},
   "outputs": [
    {
     "name": "stdout",
     "output_type": "stream",
     "text": [
      "65\n"
     ]
    }
   ],
   "source": [
    "b = NY['race']['White']\n",
    "print(b)"
   ]
  },
  {
   "cell_type": "code",
   "execution_count": 100,
   "metadata": {},
   "outputs": [
    {
     "name": "stdout",
     "output_type": "stream",
     "text": [
      "44.06\n"
     ]
    }
   ],
   "source": [
    "c= (CA['tenure']['Renters'] / (CA['tenure']['Owners'] + CA['tenure']['Renters'])) * 100\n",
    "cround= str(round(c, 2))\n",
    "print(cround)"
   ]
  },
  {
   "cell_type": "markdown",
   "metadata": {
    "collapsed": true
   },
   "source": [
    "### Exercise 6: Working with Numpy Arrays\n",
    "\n",
    "1. Create and print a 4 x 4 array named `a` with value 3 everywhere.\n",
    "\n",
    "1. Create and print a 4 x 4 array named `b` with elements drawn from a uniform random distribution \n",
    "\n",
    "1. Create and print array `c` by dividing a by b\n",
    "\n",
    "1. Compute and print the min, mean, max, median, and 90th percentile values of `c`\n",
    "\n",
    "1. Compute and print the sum of the second column in `c`"
   ]
  },
  {
   "cell_type": "code",
   "execution_count": null,
   "metadata": {},
   "outputs": [],
   "source": []
  },
  {
   "cell_type": "code",
   "execution_count": 80,
   "metadata": {},
   "outputs": [],
   "source": [
    "import numpy as np\n",
    "\n"
   ]
  },
  {
   "cell_type": "code",
   "execution_count": 81,
   "metadata": {},
   "outputs": [
    {
     "name": "stdout",
     "output_type": "stream",
     "text": [
      "[[3 3 3 3]\n",
      " [3 3 3 3]\n",
      " [3 3 3 3]\n",
      " [3 3 3 3]]\n"
     ]
    }
   ],
   "source": [
    "a = np.full((4, 4), 3)\n",
    "print(a)"
   ]
  },
  {
   "cell_type": "code",
   "execution_count": 83,
   "metadata": {},
   "outputs": [
    {
     "name": "stdout",
     "output_type": "stream",
     "text": [
      "[[0.75080559 0.40849116 0.8648457  0.26860634]\n",
      " [0.35869965 0.49663384 0.1430784  0.64180282]\n",
      " [0.93352727 0.43891671 0.78774205 0.92344991]\n",
      " [0.66265814 0.72020028 0.69890587 0.2727787 ]]\n"
     ]
    }
   ],
   "source": [
    "b = np.random.uniform(low=0.1, high=1.0, size=(4, 4)) \n",
    "print(b)\n"
   ]
  },
  {
   "cell_type": "code",
   "execution_count": 85,
   "metadata": {},
   "outputs": [
    {
     "name": "stdout",
     "output_type": "stream",
     "text": [
      "[[ 3.99570814  7.34410011  3.46882688 11.16876115]\n",
      " [ 8.36354307  6.04066777 20.96752568  4.67433287]\n",
      " [ 3.21361795  6.83500984  3.80835327  3.2486873 ]\n",
      " [ 4.52722121  4.16550798  4.2924235  10.99792624]]\n"
     ]
    }
   ],
   "source": [
    "c = a/b\n",
    "print(c)"
   ]
  },
  {
   "cell_type": "code",
   "execution_count": 86,
   "metadata": {},
   "outputs": [
    {
     "name": "stdout",
     "output_type": "stream",
     "text": [
      "3.2136179510626794\n",
      "6.69451331002799\n",
      "20.96752568236078\n",
      "4.6007770418102245\n",
      "11.083343695650282\n"
     ]
    }
   ],
   "source": [
    "print(np.min(c))\n",
    "print(np.mean(c))\n",
    "print(np.max(c))\n",
    "print(np.median(c))\n",
    "print(np.percentile(c, 90))"
   ]
  },
  {
   "cell_type": "code",
   "execution_count": 87,
   "metadata": {},
   "outputs": [
    {
     "name": "stdout",
     "output_type": "stream",
     "text": [
      "24.385285699404193\n"
     ]
    }
   ],
   "source": [
    "print(np.sum(c[:, 1]))"
   ]
  },
  {
   "cell_type": "code",
   "execution_count": null,
   "metadata": {},
   "outputs": [],
   "source": []
  }
 ],
 "metadata": {
  "kernelspec": {
   "display_name": "Python 3 (ipykernel)",
   "language": "python",
   "name": "python3"
  },
  "language_info": {
   "codemirror_mode": {
    "name": "ipython",
    "version": 3
   },
   "file_extension": ".py",
   "mimetype": "text/x-python",
   "name": "python",
   "nbconvert_exporter": "python",
   "pygments_lexer": "ipython3",
   "version": "3.11.5"
  },
  "toc": {
   "base_numbering": 1,
   "nav_menu": {},
   "number_sections": false,
   "sideBar": true,
   "skip_h1_title": false,
   "title_cell": "Table of Contents",
   "title_sidebar": "Contents",
   "toc_cell": false,
   "toc_position": {},
   "toc_section_display": true,
   "toc_window_display": false
  }
 },
 "nbformat": 4,
 "nbformat_minor": 2
}
