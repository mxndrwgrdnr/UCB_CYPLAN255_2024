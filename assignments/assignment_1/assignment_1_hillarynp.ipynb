{
 "cells": [
  {
   "cell_type": "markdown",
   "metadata": {},
   "source": [
    "## Assignment 1 | Data Types\n",
    "\n",
    "Add code cells as needed for your answers. "
   ]
  },
  {
   "cell_type": "markdown",
   "metadata": {},
   "source": [
    "### Exercise 1: Manipulating Lists"
   ]
  },
  {
   "cell_type": "markdown",
   "metadata": {},
   "source": [
    "Create a list containing the numbers 10, 20, and 30. Store your list as a variable named `a`. Then create a second list containing the numbers 30, 60, and 90. Call this this `b`."
   ]
  },
  {
   "cell_type": "code",
   "execution_count": 2,
   "metadata": {},
   "outputs": [],
   "source": [
    "a = [10, 20, 30]\n",
    "b = [30, 60, 90]"
   ]
  },
  {
   "cell_type": "markdown",
   "metadata": {},
   "source": [
    "In the cells below, write Python expressions to create the following four outputs by combining `a` and `b` in creative ways:\n",
    "\n",
    "1. [[10, 20, 30], [30, 60, 90]]\n",
    "\n",
    "2. [10, 20, 30, 30, 60, 90]\n",
    "\n",
    "3. [10, 20, 60, 90]\n",
    "\n",
    "4. [20, 40, 60]"
   ]
  },
  {
   "cell_type": "code",
   "execution_count": 3,
   "metadata": {},
   "outputs": [
    {
     "name": "stdout",
     "output_type": "stream",
     "text": [
      "[[10, 20, 30], [30, 60, 90]]\n"
     ]
    }
   ],
   "source": [
    "# list c that has two elements list a and list b\n",
    "c = [a,b]\n",
    "print(c)"
   ]
  },
  {
   "cell_type": "code",
   "execution_count": 4,
   "metadata": {},
   "outputs": [
    {
     "name": "stdout",
     "output_type": "stream",
     "text": [
      "[10, 20, 30, 30, 60, 90]\n"
     ]
    }
   ],
   "source": [
    "# list d contains the elements of integer lists a and b \n",
    "d = a + b\n",
    "print(d)"
   ]
  },
  {
   "cell_type": "code",
   "execution_count": 5,
   "metadata": {},
   "outputs": [
    {
     "name": "stdout",
     "output_type": "stream",
     "text": [
      "[10, 20, 60, 90]\n"
     ]
    }
   ],
   "source": [
    "# list e contains the elements of integer lists a and b but with removal of all '30' integers\n",
    "e = a + b\n",
    "e.remove(30)\n",
    "e.remove(30)\n",
    "print(e)"
   ]
  },
  {
   "cell_type": "code",
   "execution_count": 6,
   "metadata": {},
   "outputs": [
    {
     "name": "stdout",
     "output_type": "stream",
     "text": [
      "[20, 40, 60]\n"
     ]
    }
   ],
   "source": [
    "# list f contains the elements of integer lists a and b \n",
    "# with the removal of elements 10, 30, 30, 90\n",
    "# with an insert of integer 40 at index 1 (2nd element of list)\n",
    "f = a + b\n",
    "f.remove(10)\n",
    "f.remove(30)\n",
    "f.remove(30)\n",
    "f.remove(90)\n",
    "f.insert(1, 40)\n",
    "print(f)"
   ]
  },
  {
   "cell_type": "markdown",
   "metadata": {},
   "source": [
    "### Exercise 2. Working with Lists\n",
    "\n",
    "Create a list that contains the sums of each of the lists in G. \n",
    "\n",
    "`G = [[13, 9, 8], [14, 6, 12], [10, 13, 11], [7, 18, 9]]`\n",
    "\n",
    "Your output should look like:\n",
    "\n",
    "- `[30, 32, 34, 34]`\n",
    "\n",
    "Hint: try computing the sum for just one list first."
   ]
  },
  {
   "cell_type": "code",
   "execution_count": 24,
   "metadata": {},
   "outputs": [
    {
     "name": "stdout",
     "output_type": "stream",
     "text": [
      "30\n",
      "[30, 32, 34, 34]\n",
      "[30, 32, 34, 34]\n"
     ]
    }
   ],
   "source": [
    "G = [[13, 9, 8], [14, 6, 12], [10, 13, 11], [7, 18, 9]]\n",
    "\n",
    "#hint attempt:\n",
    "hint = sum(G[0])\n",
    "print(hint)\n",
    "\n",
    "# attempt 1:\n",
    "# creating a list of the sums of each list element in G\n",
    "answer1 = [sum(G[0]), sum(G[1]), sum(G[2]), sum(G[3])]\n",
    "print(answer1)\n",
    "\n",
    "# attempt 2 - final\n",
    "# this answer will still work in the case G has more or less lists elements\n",
    "answer2 = []\n",
    "for list in G:\n",
    "    answer2.append(sum(list))\n",
    "print(answer2)"
   ]
  },
  {
   "cell_type": "markdown",
   "metadata": {},
   "source": [
    "### Exercise 3: String Manipulation\n",
    "\n",
    "Turn the string below into 'all good countrymen' using the minimum amount of code, using only the methods we've covered so far. A couple of lines of code should do the trick.  Note: this requires string and list methods."
   ]
  },
  {
   "cell_type": "code",
   "execution_count": 26,
   "metadata": {},
   "outputs": [],
   "source": [
    "s = 'Now is the time for all good men to come to the aid of their country!'"
   ]
  },
  {
   "cell_type": "code",
   "execution_count": 49,
   "metadata": {},
   "outputs": [
    {
     "name": "stdout",
     "output_type": "stream",
     "text": [
      "all good countrymen\n",
      "['Now', 'is', 'the', 'time', 'for', 'all', 'good', 'men', 'to', 'come', 'to', 'the', 'aid', 'of', 'their', 'country!']\n",
      "all good countrymen\n"
     ]
    }
   ],
   "source": [
    "# attempt 1\n",
    "# finding the substrings of s for 'all good' + ' country' + 'men'\n",
    "answer1 = s[20:28] + s[60:68] + s[29:32]\n",
    "print(answer1)\n",
    "\n",
    "# attempt 2 - final\n",
    "# splitting the string s into list of substrings using the default delimiter \" \"\n",
    "# extracing target substrings to make the new phrase\n",
    "# note that substring at index 15 has an extra '!' character, to remove it we can take the slice between 0 and 7\n",
    "s_split = s.split()\n",
    "print(s_split)\n",
    "answer2 = s_split[5] + \" \" + s_split[6] + \" \" + (s_split[15])[0:7] + s_split[7]\n",
    "print(answer2)"
   ]
  },
  {
   "cell_type": "markdown",
   "metadata": {},
   "source": [
    "### Exercise 4: String Manipulation and Type Conversion\n",
    "\n",
    "Define a variable `a = \"Sarah earns $96500 in a year\"`. Then maniuplate the value of `a` in order to print the following string: `Sarah earns $8041.67 monthly`\n",
    "\n",
    "Start by doing it in several steps and then combine them one step at a time until you can do it in one line."
   ]
  },
  {
   "cell_type": "code",
   "execution_count": 57,
   "metadata": {},
   "outputs": [
    {
     "name": "stdout",
     "output_type": "stream",
     "text": [
      "['Sarah', 'earns', '$96500', 'in', 'a', 'year']\n",
      "Sarah earns $96500 monthly\n",
      "Sarah earns $ monthly\n",
      "Sarah earns $8041.67 monthly\n"
     ]
    }
   ],
   "source": [
    "a = \"Sarah earns $96500 in a year\"\n",
    "\n",
    "# split the substrings of a\n",
    "a_split = a.split()\n",
    "print(a_split)\n",
    "\n",
    "# b is using the original substrings of a\n",
    "b = a_split[0] + \" \" + a_split[1] + \" \" + a_split[2] + \" monthly\"\n",
    "print(b)\n",
    "\n",
    "# c is using the original substrings of a but removing the incorrect value\n",
    "c = a_split[0] + \" \" + a_split[1] + \" \" + a_split[2][0] + \" monthly\"\n",
    "print(c)\n",
    "\n",
    "# d has the final output string with the correct value type converted from float to string\n",
    "d = a_split[0] + \" \" + a_split[1] + \" \" + a_split[2][0] + str(8041.67) + \" monthly\"\n",
    "print(d)"
   ]
  },
  {
   "cell_type": "markdown",
   "metadata": {},
   "source": [
    "### Exercise 5: Create and Query a Dictionary on State Demographics\n",
    "\n",
    "Create two dictionaries, one for California and one for New York state, based on the data in the following table:\n",
    "\n",
    "| States | Pop Density | Prop White | Prop Afr Amer | Prop Asian | Prop Other | Owners | Renters |\n",
    "| --- | ---: | ---: | ---: | ---: | ---: | ---: | ---: |\n",
    "| CA | 239.1 | 0.57  | 0.06 | 0.13 | 0.22 | 7035371 | 5542127 |\n",
    "| NY | 411.2 | 0.65  | 0.15 | 0.07 | 0.22 | 3897837 | 3419918 |\n",
    "\n",
    "Each dictionary should have the following keys and value types: `name: (string)` , `population density: (float)`, `race (dict)`, `tenure: (dict)`. \n",
    "\n",
    "1.  Create one dictionary called CA and one called NY that contain dictionaries containing name, pop_density, race as a dictionary, and tenure for California and New York.  Now combine these into a dictionary called \"states\", making it a dictionary of dictionaries, or a nested dictionary.\n",
    "\n",
    "1.  Check if Texas is in our state dictionary (we know it isn't but show us).\n",
    "\n",
    "1. Print the White population in New York as a percentage\n",
    "\n",
    "1. Assume there was a typo in the data, and update the White population fraction of NY to 0.64. Verify that it was updated by printing the percentage again.\n",
    "\n",
    "1. Print the percentage of households that are renters in California, with two decimal places"
   ]
  },
  {
   "cell_type": "code",
   "execution_count": 78,
   "metadata": {},
   "outputs": [
    {
     "name": "stdout",
     "output_type": "stream",
     "text": [
      "{'name': 'CA', 'pop_density': 239.1, 'race': {'Prop White': 0.57, 'Prop Afr Amer': 0.06, 'Prop Asian': 0.07, 'Prop Other': 0.22}, 'tenure': {'Owners': 7035371, 'Renters': 5542127}}\n",
      "{'name': 'NY', 'pop_density': 411.2, 'race': {'Prop White': 0.65, 'Prop Afr Amer': 0.15, 'Prop Asian': 0.13, 'Prop Other': 0.22}, 'tenure': {'Owners': 3897837, 'Renters': 3419918}}\n",
      "{'California': {'name': 'CA', 'pop_density': 239.1, 'race': {'Prop White': 0.57, 'Prop Afr Amer': 0.06, 'Prop Asian': 0.07, 'Prop Other': 0.22}, 'tenure': {'Owners': 7035371, 'Renters': 5542127}}, 'NewYork': {'name': 'NY', 'pop_density': 411.2, 'race': {'Prop White': 0.65, 'Prop Afr Amer': 0.15, 'Prop Asian': 0.13, 'Prop Other': 0.22}, 'tenure': {'Owners': 3897837, 'Renters': 3419918}}}\n"
     ]
    }
   ],
   "source": [
    "# part 1\n",
    "california = {\n",
    "              \"name\": \"CA\",\n",
    "              \"pop_density\": 239.1,\n",
    "              \"race\":\n",
    "               {\"Prop White\": 0.57,\n",
    "               \"Prop Afr Amer\": 0.06,\n",
    "               \"Prop Asian\": 0.07,\n",
    "               \"Prop Other\": 0.22}\n",
    "              ,\n",
    "              \"tenure\":\n",
    "               {\"Owners\": 7035371,\n",
    "               \"Renters\": 5542127}\n",
    "             }\n",
    "\n",
    "newyork = {\n",
    "              \"name\": \"NY\",\n",
    "              \"pop_density\": 411.2,\n",
    "              \"race\":\n",
    "               {\"Prop White\": 0.65,\n",
    "               \"Prop Afr Amer\": 0.15,\n",
    "               \"Prop Asian\": 0.13,\n",
    "               \"Prop Other\": 0.22}\n",
    "              ,\n",
    "              \"tenure\":\n",
    "               {\"Owners\": 3897837,\n",
    "               \"Renters\": 3419918}\n",
    "             }\n",
    "print(california)\n",
    "print(newyork)\n",
    "\n",
    "states = {\n",
    "    \"California\": california,\n",
    "    \"NewYork\": newyork,\n",
    "}\n",
    "print(states)"
   ]
  },
  {
   "cell_type": "code",
   "execution_count": 79,
   "metadata": {},
   "outputs": [
    {
     "ename": "KeyError",
     "evalue": "'Texas'",
     "output_type": "error",
     "traceback": [
      "\u001b[0;31m---------------------------------------------------------------------------\u001b[0m",
      "\u001b[0;31mKeyError\u001b[0m                                  Traceback (most recent call last)",
      "\u001b[0;32m/var/folders/2n/cs168fps14lffm83jrsqnfd00000gp/T/ipykernel_61969/1477664542.py\u001b[0m in \u001b[0;36m<module>\u001b[0;34m\u001b[0m\n\u001b[1;32m      1\u001b[0m \u001b[0;31m# part 2\u001b[0m\u001b[0;34m\u001b[0m\u001b[0;34m\u001b[0m\u001b[0m\n\u001b[0;32m----> 2\u001b[0;31m \u001b[0mstates\u001b[0m\u001b[0;34m[\u001b[0m\u001b[0;34m\"Texas\"\u001b[0m\u001b[0;34m]\u001b[0m\u001b[0;34m\u001b[0m\u001b[0;34m\u001b[0m\u001b[0m\n\u001b[0m",
      "\u001b[0;31mKeyError\u001b[0m: 'Texas'"
     ]
    }
   ],
   "source": [
    "# part 2\n",
    "states[\"Texas\"]"
   ]
  },
  {
   "cell_type": "code",
   "execution_count": 80,
   "metadata": {},
   "outputs": [
    {
     "name": "stdout",
     "output_type": "stream",
     "text": [
      "65%\n"
     ]
    }
   ],
   "source": [
    "# part 3\n",
    "# googled 'how to print float as percentage python'\n",
    "# https://stackoverflow.com/questions/5306756/how-to-print-a-percentage-value\n",
    "whitePercentageInNY = format(states[\"NewYork\"][\"race\"][\"Prop White\"], \".0%\")\n",
    "print(whitePercentageInNY)"
   ]
  },
  {
   "cell_type": "code",
   "execution_count": 81,
   "metadata": {},
   "outputs": [
    {
     "name": "stdout",
     "output_type": "stream",
     "text": [
      "{'name': 'NY', 'pop_density': 411.2, 'race': {'Prop White': 0.65, 'Prop Afr Amer': 0.15, 'Prop Asian': 0.13, 'Prop Other': 0.22}, 'tenure': {'Owners': 3897837, 'Renters': 3419918}}\n",
      "{'name': 'NY', 'pop_density': 411.2, 'race': {'Prop White': 0.64, 'Prop Afr Amer': 0.15, 'Prop Asian': 0.13, 'Prop Other': 0.22}, 'tenure': {'Owners': 3897837, 'Renters': 3419918}}\n"
     ]
    }
   ],
   "source": [
    "# part 4\n",
    "print(states[\"NewYork\"])\n",
    "states[\"NewYork\"][\"race\"][\"Prop White\"] = 0.64\n",
    "print(states[\"NewYork\"])"
   ]
  },
  {
   "cell_type": "code",
   "execution_count": 89,
   "metadata": {},
   "outputs": [
    {
     "name": "stdout",
     "output_type": "stream",
     "text": [
      "12577498\n",
      "0.4406382732082327\n",
      "44.06%\n"
     ]
    }
   ],
   "source": [
    "# part 5\n",
    "# find total population in CA\n",
    "totalHouseholdPopulationCA = states[\"California\"][\"tenure\"][\"Owners\"] + states[\"California\"][\"tenure\"][\"Renters\"]\n",
    "print(totalHouseholdPopulationCA)\n",
    "\n",
    "# find decimal representation of % of renter households\n",
    "renterPercentageOfHouseholds = states[\"California\"][\"tenure\"][\"Renters\"] / totalHouseholdPopulationCA\n",
    "print(renterPercentageOfHouseholds)\n",
    "\n",
    "# format deicmal as percentage with 2 significant figures\n",
    "renterPercentageOfHouseholdsFormatted = format(renterPercentageOfHouseholds, \".2%\")\n",
    "print(renterPercentageOfHouseholdsFormatted)"
   ]
  },
  {
   "cell_type": "markdown",
   "metadata": {
    "collapsed": true
   },
   "source": [
    "### Exercise 6: Working with Numpy Arrays\n",
    "\n",
    "1. Create and print a 4 x 4 array named `a` with value 3 everywhere.\n",
    "\n",
    "1. Create and print a 4 x 4 array named `b` with elements drawn from a uniform random distribution \n",
    "\n",
    "1. Create and print array `c` by dividing a by b\n",
    "\n",
    "1. Compute and print the min, mean, max, median, and 90th percentile values of `c`\n",
    "\n",
    "1. Compute and print the sum of the second column in `c`"
   ]
  },
  {
   "cell_type": "code",
   "execution_count": 92,
   "metadata": {},
   "outputs": [],
   "source": [
    "import numpy as np"
   ]
  },
  {
   "cell_type": "code",
   "execution_count": 98,
   "metadata": {},
   "outputs": [
    {
     "data": {
      "text/plain": [
       "array([[3, 3, 3, 3],\n",
       "       [3, 3, 3, 3],\n",
       "       [3, 3, 3, 3],\n",
       "       [3, 3, 3, 3]])"
      ]
     },
     "execution_count": 98,
     "metadata": {},
     "output_type": "execute_result"
    }
   ],
   "source": [
    "# generate 4x4 matrix with all elements initialized to 3\n",
    "a = np.full((4, 4), 3, dtype=int)\n",
    "a"
   ]
  },
  {
   "cell_type": "code",
   "execution_count": 100,
   "metadata": {},
   "outputs": [
    {
     "data": {
      "text/plain": [
       "array([[0.73625431, 0.46928929, 0.0736154 , 0.98626391],\n",
       "       [0.12863631, 0.61025726, 0.98279299, 0.98222265],\n",
       "       [0.85274064, 0.42214575, 0.79541977, 0.23332994],\n",
       "       [0.42086502, 0.39115783, 0.7004153 , 0.19252619]])"
      ]
     },
     "execution_count": 100,
     "metadata": {},
     "output_type": "execute_result"
    }
   ],
   "source": [
    "# generate random 4x4 matrix\n",
    "b = np.random.rand(4,4)\n",
    "b"
   ]
  },
  {
   "cell_type": "code",
   "execution_count": 102,
   "metadata": {},
   "outputs": [
    {
     "data": {
      "text/plain": [
       "array([[ 4.07467901,  6.39264539, 40.75234228,  3.04178218],\n",
       "       [23.32156486,  4.91595956,  3.05252483,  3.0542973 ],\n",
       "       [ 3.51806854,  7.10655037,  3.77159347, 12.85732957],\n",
       "       [ 7.12817622,  7.66953845,  4.28317314, 15.58229529]])"
      ]
     },
     "execution_count": 102,
     "metadata": {},
     "output_type": "execute_result"
    }
   ],
   "source": [
    "# divide two matrices of matching dimensions\n",
    "c = np.divide(a, b)\n",
    "c"
   ]
  },
  {
   "cell_type": "code",
   "execution_count": 104,
   "metadata": {},
   "outputs": [
    {
     "name": "stdout",
     "output_type": "stream",
     "text": [
      "3.041782182797003\n",
      "40.75234228273326\n",
      "5.654302475620567\n",
      "19.45193007535083\n"
     ]
    }
   ],
   "source": [
    "# flatten the matrix into a list and calcu\n",
    "d = c.flatten()\n",
    "print(np.min(d))\n",
    "print(np.max(d))\n",
    "print(np.median(d))\n",
    "print(np.percentile(d, 90))"
   ]
  },
  {
   "cell_type": "code",
   "execution_count": 108,
   "metadata": {},
   "outputs": [
    {
     "name": "stdout",
     "output_type": "stream",
     "text": [
      "[38.04248863 26.08469377 51.85963372 34.53570435]\n",
      "26.08469377069229\n"
     ]
    }
   ],
   "source": [
    "# find the sum column-wise (axis 0) then take the 2nd column (index 1)\n",
    "columnWiseSum = np.sum(c, axis = 0)\n",
    "print(columnWiseSum)\n",
    "e = columnWiseSum[1]\n",
    "print(e)"
   ]
  },
  {
   "cell_type": "code",
   "execution_count": null,
   "metadata": {},
   "outputs": [],
   "source": []
  }
 ],
 "metadata": {
  "kernelspec": {
   "display_name": "Python 3 (ipykernel)",
   "language": "python",
   "name": "python3"
  },
  "language_info": {
   "codemirror_mode": {
    "name": "ipython",
    "version": 3
   },
   "file_extension": ".py",
   "mimetype": "text/x-python",
   "name": "python",
   "nbconvert_exporter": "python",
   "pygments_lexer": "ipython3",
   "version": "3.9.13"
  },
  "toc": {
   "base_numbering": 1,
   "nav_menu": {},
   "number_sections": false,
   "sideBar": true,
   "skip_h1_title": false,
   "title_cell": "Table of Contents",
   "title_sidebar": "Contents",
   "toc_cell": false,
   "toc_position": {},
   "toc_section_display": true,
   "toc_window_display": false
  }
 },
 "nbformat": 4,
 "nbformat_minor": 2
}
