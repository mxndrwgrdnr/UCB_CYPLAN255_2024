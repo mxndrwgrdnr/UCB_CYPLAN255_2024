{
 "cells": [
  {
   "cell_type": "markdown",
   "metadata": {},
   "source": [
    "## Assignment 1 | Data Types\n",
    "\n",
    "Add code cells as needed for your answers. "
   ]
  },
  {
   "cell_type": "markdown",
   "metadata": {},
   "source": [
    "### Exercise 1: Manipulating Lists"
   ]
  },
  {
   "cell_type": "markdown",
   "metadata": {},
   "source": [
    "Create a list containing the numbers 10, 20, and 30. Store your list as a variable named `a`. Then create a second list containing the numbers 30, 60, and 90. Call this this `b`."
   ]
  },
  {
   "cell_type": "code",
   "execution_count": 8,
   "metadata": {},
   "outputs": [
    {
     "data": {
      "text/plain": [
       "[30, 60, 90]"
      ]
     },
     "execution_count": 8,
     "metadata": {},
     "output_type": "execute_result"
    }
   ],
   "source": [
    "a = [10,20,30]\n",
    "b = [30,60,90]\n",
    "a\n",
    "b"
   ]
  },
  {
   "cell_type": "markdown",
   "metadata": {},
   "source": [
    "In the cells below, write Python expressions to create the following four outputs by combining `a` and `b` in creative ways:\n",
    "\n",
    "1. [[10, 20, 30], [30, 60, 90]]\n",
    "\n",
    "2. [10, 20, 30, 30, 60, 90]\n",
    "\n",
    "3. [10, 20, 60, 90]\n",
    "\n",
    "4. [20, 40, 60]"
   ]
  },
  {
   "cell_type": "code",
   "execution_count": 9,
   "metadata": {},
   "outputs": [
    {
     "data": {
      "text/plain": [
       "([10, 20, 30], [30, 60, 90])"
      ]
     },
     "execution_count": 9,
     "metadata": {},
     "output_type": "execute_result"
    }
   ],
   "source": [
    "#1\n",
    "a,b"
   ]
  },
  {
   "cell_type": "code",
   "execution_count": 12,
   "metadata": {},
   "outputs": [
    {
     "data": {
      "text/plain": [
       "[10, 20, 30, 30, 60, 90]"
      ]
     },
     "execution_count": 12,
     "metadata": {},
     "output_type": "execute_result"
    }
   ],
   "source": [
    "#2\n",
    "list2 = a + b\n",
    "list2"
   ]
  },
  {
   "cell_type": "code",
   "execution_count": 22,
   "metadata": {},
   "outputs": [
    {
     "data": {
      "text/plain": [
       "[10, 20, 60, 90]"
      ]
     },
     "execution_count": 22,
     "metadata": {},
     "output_type": "execute_result"
    }
   ],
   "source": [
    "#3\n",
    "list3 = a[:2]+b[1:]\n",
    "\n",
    "list3"
   ]
  },
  {
   "cell_type": "code",
   "execution_count": 37,
   "metadata": {},
   "outputs": [
    {
     "data": {
      "text/plain": [
       "(20, 40, 60)"
      ]
     },
     "execution_count": 37,
     "metadata": {},
     "output_type": "execute_result"
    }
   ],
   "source": [
    "#4\n",
    "list4 = a[1], a[1]+a[1], b[1]\n",
    "list4"
   ]
  },
  {
   "cell_type": "markdown",
   "metadata": {},
   "source": [
    "### Exercise 2. Working with Lists\n",
    "\n",
    "Create a list that contains the sums of each of the lists in G. \n",
    "\n",
    "`G = [[13, 9, 8], [14, 6, 12], [10, 13, 11], [7, 18, 9]]`\n",
    "\n",
    "Your output should look like:\n",
    "\n",
    "- `[30, 32, 34, 34]`\n",
    "\n",
    "Hint: try computing the sum for just one list first."
   ]
  },
  {
   "cell_type": "code",
   "execution_count": 2,
   "metadata": {},
   "outputs": [],
   "source": [
    "G = [[13, 9, 8], [14, 6, 12], [10, 13, 11], [7, 18, 9]]"
   ]
  },
  {
   "cell_type": "code",
   "execution_count": 6,
   "metadata": {},
   "outputs": [
    {
     "name": "stdout",
     "output_type": "stream",
     "text": [
      "[30, 32, 34, 34]\n"
     ]
    }
   ],
   "source": [
    "sum_list = [sum(x) for x in G]\n",
    "print(sum_list)"
   ]
  },
  {
   "cell_type": "markdown",
   "metadata": {},
   "source": [
    "### Exercise 3: String Manipulation\n",
    "\n",
    "Turn the string below into 'all good countrymen' using the minimum amount of code, using only the methods we've covered so far. A couple of lines of code should do the trick.  Note: this requires string and list methods."
   ]
  },
  {
   "cell_type": "code",
   "execution_count": 8,
   "metadata": {},
   "outputs": [],
   "source": [
    "s = 'Now is the time for all good men to come to the aid of their country!'"
   ]
  },
  {
   "cell_type": "code",
   "execution_count": 13,
   "metadata": {
    "scrolled": true
   },
   "outputs": [
    {
     "data": {
      "text/plain": [
       "['Now',\n",
       " 'is',\n",
       " 'the',\n",
       " 'time',\n",
       " 'for',\n",
       " 'all',\n",
       " 'good',\n",
       " 'men',\n",
       " 'to',\n",
       " 'come',\n",
       " 'to',\n",
       " 'the',\n",
       " 'aid',\n",
       " 'of',\n",
       " 'their',\n",
       " 'country!']"
      ]
     },
     "execution_count": 13,
     "metadata": {},
     "output_type": "execute_result"
    }
   ],
   "source": [
    "words = s.split()  # Split the sentence into words\n",
    "words"
   ]
  },
  {
   "cell_type": "code",
   "execution_count": 20,
   "metadata": {},
   "outputs": [
    {
     "name": "stdout",
     "output_type": "stream",
     "text": [
      "['all', 'good', 'men']\n"
     ]
    }
   ],
   "source": [
    "print(words[5:8])"
   ]
  },
  {
   "cell_type": "code",
   "execution_count": 24,
   "metadata": {},
   "outputs": [
    {
     "data": {
      "text/plain": [
       "'country'"
      ]
     },
     "execution_count": 24,
     "metadata": {},
     "output_type": "execute_result"
    }
   ],
   "source": [
    "words[15].strip('!')"
   ]
  },
  {
   "cell_type": "code",
   "execution_count": 25,
   "metadata": {},
   "outputs": [],
   "source": [
    "words_short = s.split()[5:8]"
   ]
  },
  {
   "cell_type": "code",
   "execution_count": 26,
   "metadata": {},
   "outputs": [],
   "source": [
    "words_short.insert(2,words[15].strip('!'))"
   ]
  },
  {
   "cell_type": "code",
   "execution_count": 27,
   "metadata": {},
   "outputs": [
    {
     "data": {
      "text/plain": [
       "['all', 'good', 'country', 'men']"
      ]
     },
     "execution_count": 27,
     "metadata": {},
     "output_type": "execute_result"
    }
   ],
   "source": [
    "words_short"
   ]
  },
  {
   "cell_type": "code",
   "execution_count": 29,
   "metadata": {},
   "outputs": [
    {
     "data": {
      "text/plain": [
       "'all good countrymen'"
      ]
     },
     "execution_count": 29,
     "metadata": {},
     "output_type": "execute_result"
    }
   ],
   "source": [
    "s=str.join(' ',words_short[0:3])+words_short[3]\n",
    "s"
   ]
  },
  {
   "cell_type": "markdown",
   "metadata": {},
   "source": [
    "### Exercise 4: String Manipulation and Type Conversion\n",
    "\n",
    "Define a variable `a = \"Sarah earns $96500 in a year\"`. Then maniuplate the value of `a` in order to print the following string: `Sarah earns $8041.67 monthly`\n",
    "\n",
    "Start by doing it in several steps and then combine them one step at a time until you can do it in one line."
   ]
  },
  {
   "cell_type": "code",
   "execution_count": 30,
   "metadata": {},
   "outputs": [],
   "source": [
    "a = \"Sarah earns $96500 in a year\""
   ]
  },
  {
   "cell_type": "code",
   "execution_count": 72,
   "metadata": {
    "scrolled": true
   },
   "outputs": [
    {
     "data": {
      "text/plain": [
       "['Sarah', 'earns', '$96500', 'in', 'a', 'year']"
      ]
     },
     "execution_count": 72,
     "metadata": {},
     "output_type": "execute_result"
    }
   ],
   "source": [
    "words = a.split()  # Split the sentence into words\n",
    "words\n",
    "list(words)"
   ]
  },
  {
   "cell_type": "code",
   "execution_count": 73,
   "metadata": {},
   "outputs": [
    {
     "data": {
      "text/plain": [
       "['Sarah', 'earns']"
      ]
     },
     "execution_count": 73,
     "metadata": {},
     "output_type": "execute_result"
    }
   ],
   "source": [
    "words_new = words[0:2]\n",
    "words_new"
   ]
  },
  {
   "cell_type": "code",
   "execution_count": 81,
   "metadata": {},
   "outputs": [],
   "source": [
    "pay = float(words[2].strip('$'))\n",
    "pay=round(pay/12,2)\n",
    "pay_str = '$' + str(pay)"
   ]
  },
  {
   "cell_type": "code",
   "execution_count": 150,
   "metadata": {},
   "outputs": [
    {
     "data": {
      "text/plain": [
       "'Sarah earns $8041.67 monthly'"
      ]
     },
     "execution_count": 150,
     "metadata": {},
     "output_type": "execute_result"
    }
   ],
   "source": [
    "#b=list(' ',words_new + '$' + list(pay_str) + 'monthly')\n",
    "b = ' '.join(words_new + [pay_str] + ['monthly'])\n",
    "b"
   ]
  },
  {
   "cell_type": "markdown",
   "metadata": {},
   "source": [
    "### Exercise 5: Create and Query a Dictionary on State Demographics\n",
    "\n",
    "Create two dictionaries, one for California and one for New York state, based on the data in the following table:\n",
    "\n",
    "| States | Pop Density | Prop White | Prop Afr Amer | Prop Asian | Prop Other | Owners | Renters |\n",
    "| --- | ---: | ---: | ---: | ---: | ---: | ---: | ---: |\n",
    "| CA | 239.1 | 0.57  | 0.06 | 0.13 | 0.22 | 7035371 | 5542127 |\n",
    "| NY | 411.2 | 0.65  | 0.15 | 0.07 | 0.22 | 3897837 | 3419918 |\n",
    "\n",
    "Each dictionary should have the following keys and value types: `name: (string)` , `population density: (float)`, `race (dict)`, `tenure: (dict)`. \n",
    "\n",
    "1.  Create one dictionary called CA and one called NY that contain dictionaries containing name, pop_density, race as a dictionary, and tenure for California and New York.  Now combine these into a dictionary called \"states\", making it a dictionary of dictionaries, or a nested dictionary.\n",
    "\n",
    "1.  Check if Texas is in our state dictionary (we know it isn't but show us).\n",
    "\n",
    "1. Print the White population in New York as a percentage\n",
    "\n",
    "1. Assume there was a typo in the data, and update the White population fraction of NY to 0.64. Verify that it was updated by printing the percentage again.\n",
    "\n",
    "1. Print the percentage of households that are renters in California, with two decimal places"
   ]
  },
  {
   "cell_type": "code",
   "execution_count": 112,
   "metadata": {},
   "outputs": [],
   "source": [
    "CA = {'name':'CA', 'pop_density':239.1, 'race':{'prop_w':0.57,'prop_aa':0.06,'prop_as':0.13,'prop_o':0.22}, \n",
    "      'tenure':{'own':7035371,'rent':5542127}}\n",
    "NY = {'name':'NY', 'pop_density':411.2, 'race':{'prop_w':0.65,'prop_aa':0.15,'prop_as':0.07,'prop_o':0.22}, \n",
    "      'tenure':{'own':3897837,'rent':3419918}}"
   ]
  },
  {
   "cell_type": "code",
   "execution_count": 113,
   "metadata": {},
   "outputs": [],
   "source": [
    "states = {'CA':(CA), 'NY':(NY)}"
   ]
  },
  {
   "cell_type": "code",
   "execution_count": 111,
   "metadata": {},
   "outputs": [
    {
     "data": {
      "text/plain": [
       "False"
      ]
     },
     "execution_count": 111,
     "metadata": {},
     "output_type": "execute_result"
    }
   ],
   "source": [
    "'TX' in states"
   ]
  },
  {
   "cell_type": "code",
   "execution_count": 125,
   "metadata": {},
   "outputs": [
    {
     "name": "stdout",
     "output_type": "stream",
     "text": [
      "65.0 %\n"
     ]
    }
   ],
   "source": [
    "print(NY['race']['prop_w']*100,'%')"
   ]
  },
  {
   "cell_type": "code",
   "execution_count": 134,
   "metadata": {},
   "outputs": [
    {
     "name": "stdout",
     "output_type": "stream",
     "text": [
      "64.0 %\n"
     ]
    }
   ],
   "source": [
    "NY['race']['prop_w']= 0.64\n",
    "print(NY['race']['prop_w']*100,'%')"
   ]
  },
  {
   "cell_type": "code",
   "execution_count": 148,
   "metadata": {},
   "outputs": [
    {
     "name": "stdout",
     "output_type": "stream",
     "text": [
      "44.06 %\n"
     ]
    }
   ],
   "source": [
    "print(round(float((CA['tenure']['rent']/(CA['tenure']['own']+CA['tenure']['rent'])*100)),2),'%')"
   ]
  },
  {
   "cell_type": "markdown",
   "metadata": {
    "collapsed": true
   },
   "source": [
    "### Exercise 6: Working with Numpy Arrays\n",
    "\n",
    "1. Create and print a 4 x 4 array named `a` with value 3 everywhere.\n",
    "\n",
    "1. Create and print a 4 x 4 array named `b` with elements drawn from a uniform random distribution \n",
    "\n",
    "1. Create and print array `c` by dividing a by b\n",
    "\n",
    "1. Compute and print the min, mean, max, median, and 90th percentile values of `c`\n",
    "\n",
    "1. Compute and print the sum of the second column in `c`"
   ]
  },
  {
   "cell_type": "code",
   "execution_count": 151,
   "metadata": {},
   "outputs": [],
   "source": [
    "import numpy as np"
   ]
  },
  {
   "cell_type": "code",
   "execution_count": 153,
   "metadata": {},
   "outputs": [
    {
     "data": {
      "text/plain": [
       "array([[3, 3, 3, 3],\n",
       "       [3, 3, 3, 3],\n",
       "       [3, 3, 3, 3],\n",
       "       [3, 3, 3, 3]])"
      ]
     },
     "execution_count": 153,
     "metadata": {},
     "output_type": "execute_result"
    }
   ],
   "source": [
    "a = np.full((4, 4), 3)\n",
    "a"
   ]
  },
  {
   "cell_type": "code",
   "execution_count": 155,
   "metadata": {},
   "outputs": [
    {
     "data": {
      "text/plain": [
       "array([[0.73903559, 0.27782242, 0.39077512, 0.4815823 ],\n",
       "       [0.69239014, 0.77935707, 0.60107672, 0.23497801],\n",
       "       [0.05074182, 0.19498876, 0.32402036, 0.84772055],\n",
       "       [0.82593763, 0.42929947, 0.90927195, 0.72118693]])"
      ]
     },
     "execution_count": 155,
     "metadata": {},
     "output_type": "execute_result"
    }
   ],
   "source": [
    "b = np.random.rand(4,4)\n",
    "b"
   ]
  },
  {
   "cell_type": "code",
   "execution_count": 160,
   "metadata": {},
   "outputs": [
    {
     "data": {
      "text/plain": [
       "array([[ 4.0593444 , 10.7982644 ,  7.67704963,  6.22946489],\n",
       "       [ 4.33281736,  3.84932671,  4.99104341, 12.76715231],\n",
       "       [59.1228292 , 15.385502  ,  9.25867754,  3.53890207],\n",
       "       [ 3.63223554,  6.9881289 ,  3.29934294,  4.15980916]])"
      ]
     },
     "execution_count": 160,
     "metadata": {},
     "output_type": "execute_result"
    }
   ],
   "source": [
    "c = a/b\n",
    "c"
   ]
  },
  {
   "cell_type": "code",
   "execution_count": 173,
   "metadata": {},
   "outputs": [
    {
     "name": "stdout",
     "output_type": "stream",
     "text": [
      "3.299342941278104\n",
      "10.005618154162004\n",
      "59.122829195179925\n",
      "5.610254149537397\n",
      "14.07632715621378\n"
     ]
    }
   ],
   "source": [
    "np.min(c)\n",
    "np.mean(c)\n",
    "np.max(c)\n",
    "median_c = np.median(c)\n",
    "percentile_90 = np.percentile(c, 90)\n",
    "\n",
    "print(np.min(c))\n",
    "print(np.mean(c))\n",
    "print(np.max(c))\n",
    "print(median_c)\n",
    "print(percentile_90)"
   ]
  },
  {
   "cell_type": "code",
   "execution_count": 170,
   "metadata": {},
   "outputs": [
    {
     "name": "stdout",
     "output_type": "stream",
     "text": [
      "37.02122201025715\n"
     ]
    }
   ],
   "source": [
    "np.sum(c[:, 1])\n",
    "print(np.sum(c[:, 1]))"
   ]
  },
  {
   "cell_type": "code",
   "execution_count": null,
   "metadata": {},
   "outputs": [],
   "source": []
  }
 ],
 "metadata": {
  "kernelspec": {
   "display_name": "Python 3 (ipykernel)",
   "language": "python",
   "name": "python3"
  },
  "language_info": {
   "codemirror_mode": {
    "name": "ipython",
    "version": 3
   },
   "file_extension": ".py",
   "mimetype": "text/x-python",
   "name": "python",
   "nbconvert_exporter": "python",
   "pygments_lexer": "ipython3",
   "version": "3.11.5"
  },
  "toc": {
   "base_numbering": 1,
   "nav_menu": {},
   "number_sections": false,
   "sideBar": true,
   "skip_h1_title": false,
   "title_cell": "Table of Contents",
   "title_sidebar": "Contents",
   "toc_cell": false,
   "toc_position": {},
   "toc_section_display": true,
   "toc_window_display": false
  }
 },
 "nbformat": 4,
 "nbformat_minor": 2
}
