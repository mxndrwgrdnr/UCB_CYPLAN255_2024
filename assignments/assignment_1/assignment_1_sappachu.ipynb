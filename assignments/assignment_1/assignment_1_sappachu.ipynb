{
 "cells": [
  {
   "cell_type": "markdown",
   "metadata": {},
   "source": [
    "## Assignment 1 | Data Types\n",
    "\n",
    "Add code cells as needed for your answers. "
   ]
  },
  {
   "cell_type": "markdown",
   "metadata": {},
   "source": [
    "### Exercise 1: Manipulating Lists"
   ]
  },
  {
   "cell_type": "markdown",
   "metadata": {},
   "source": [
    "Create a list containing the numbers 10, 20, and 30. Store your list as a variable named `a`. Then create a second list containing the numbers 30, 60, and 90. Call this this `b`."
   ]
  },
  {
   "cell_type": "code",
   "execution_count": 23,
   "metadata": {},
   "outputs": [],
   "source": [
    "a=[10,20,30]\n",
    "b=[30,60,90]\n",
    "#print(a)"
   ]
  },
  {
   "cell_type": "markdown",
   "metadata": {},
   "source": [
    "In the cells below, write Python expressions to create the following four outputs by combining `a` and `b` in creative ways:\n",
    "\n",
    "1. [[10, 20, 30], [30, 60, 90]]\n",
    "\n",
    "2. [10, 20, 30, 30, 60, 90]\n",
    "\n",
    "3. [10, 20, 60, 90]\n",
    "\n",
    "4. [20, 40, 60]"
   ]
  },
  {
   "cell_type": "code",
   "execution_count": 24,
   "metadata": {},
   "outputs": [
    {
     "name": "stdout",
     "output_type": "stream",
     "text": [
      "[[10, 20, 30], [30, 60, 90]]\n",
      "[[10, 20, 30, 30, 60, 90]]\n",
      "[10, 20, 60, 90]\n"
     ]
    }
   ],
   "source": [
    "output1=[a,b]\n",
    "print (output1)\n",
    "output2=[a+b]\n",
    "print (output2)\n",
    "output3=a[:2]+b[1:]\n",
    "print (output3)"
   ]
  },
  {
   "cell_type": "code",
   "execution_count": 32,
   "metadata": {},
   "outputs": [
    {
     "name": "stdout",
     "output_type": "stream",
     "text": [
      "[20, 40, 60]\n"
     ]
    }
   ],
   "source": [
    "output4=a[:2]+b[1:]\n",
    "output4.remove(10)\n",
    "output4.remove(90)\n",
    "#insert below wont know where to insert\n",
    "#1 specifies the index where to insert 40\n",
    "output4.insert(1,40)\n",
    "print (output4)"
   ]
  },
  {
   "cell_type": "markdown",
   "metadata": {},
   "source": [
    "### Exercise 2. Working with Lists\n",
    "\n",
    "Create a list that contains the sums of each of the lists in G. \n",
    "\n",
    "`G = [[13, 9, 8], [14, 6, 12], [10, 13, 11], [7, 18, 9]]`\n",
    "\n",
    "Your output should look like:\n",
    "\n",
    "- `[30, 32, 34, 34]`\n",
    "\n",
    "Hint: try computing the sum for just one list first."
   ]
  },
  {
   "cell_type": "code",
   "execution_count": 34,
   "metadata": {},
   "outputs": [],
   "source": [
    "G=[[13,9,8],[14,6,12],[10,13,11],[7,18,9]]"
   ]
  },
  {
   "cell_type": "code",
   "execution_count": 35,
   "metadata": {},
   "outputs": [],
   "source": [
    "sum_of_first_sublist = sum(G[0])"
   ]
  },
  {
   "cell_type": "code",
   "execution_count": 36,
   "metadata": {},
   "outputs": [],
   "source": [
    "sum_of_second_sublist = sum(G[1])"
   ]
  },
  {
   "cell_type": "code",
   "execution_count": 37,
   "metadata": {},
   "outputs": [],
   "source": [
    "sum_of_third_sublist = sum(G[2])"
   ]
  },
  {
   "cell_type": "code",
   "execution_count": 38,
   "metadata": {},
   "outputs": [],
   "source": [
    "sum_of_fourth_sublist = sum(G[3])"
   ]
  },
  {
   "cell_type": "code",
   "execution_count": 41,
   "metadata": {},
   "outputs": [
    {
     "name": "stdout",
     "output_type": "stream",
     "text": [
      "[30, 32, 34, 34]\n"
     ]
    }
   ],
   "source": [
    "#Need to assign an object (in this case c)\n",
    "c=[sum(G[0]), sum(G[1]), sum(G[2]),sum(G[3])]\n",
    "print(c)"
   ]
  },
  {
   "cell_type": "markdown",
   "metadata": {},
   "source": [
    "### Exercise 3: String Manipulation\n",
    "\n",
    "Turn the string below into 'all good countrymen' using the minimum amount of code, using only the methods we've covered so far. A couple of lines of code should do the trick.  Note: this requires string and list methods."
   ]
  },
  {
   "cell_type": "code",
   "execution_count": 43,
   "metadata": {},
   "outputs": [],
   "source": [
    "s = 'Now is the time for all good men to come to the aid of their country!'"
   ]
  },
  {
   "cell_type": "code",
   "execution_count": 47,
   "metadata": {},
   "outputs": [
    {
     "name": "stdout",
     "output_type": "stream",
     "text": [
      "['Now', 'is', 'the', 'time', 'for', 'all', 'good', 'men', 'to', 'come', 'to', 'the', 'aid', 'of', 'their', 'country!']\n"
     ]
    }
   ],
   "source": [
    "#strings also have indexes, N=0, space is also an index\n",
    "#we're splitting the list s, into a list of substrings, we have split s by a deliminator here which is a space\n",
    "s2=s.split()\n",
    "print(s2)\n",
    "#default here is the space"
   ]
  },
  {
   "cell_type": "code",
   "execution_count": 68,
   "metadata": {},
   "outputs": [
    {
     "name": "stdout",
     "output_type": "stream",
     "text": [
      "all good countrymen\n"
     ]
    }
   ],
   "source": [
    "#Now each word is an index\n",
    "#we now need all, good, country, men from the above\n",
    "#By moving s2 [7] after 15, we get countrymen\n",
    "s3=s2[5]+s2[6]+s2[15]+s2[7]\n",
    "#to add a space (deliminator - boundary beetween two characters) between, add a double quotation and\n",
    "s3=s2[5]+ \" \" + s2[6]+  \" \"+ s2[15]+s2[7]\n",
    "#in order to remove !, we are treating ! as the 7th index of country\n",
    "s3=s2[5]+ \" \" + s2[6]+  \" \"+ s2[15] [:7]+s2[7]\n",
    "print(s3)"
   ]
  },
  {
   "cell_type": "markdown",
   "metadata": {},
   "source": [
    "### Exercise 4: String Manipulation and Type Conversion\n",
    "\n",
    "Define a variable `a = \"Sarah earns $96500 in a year\"`. Then maniuplate the value of `a` in order to print the following string: `Sarah earns $8041.67 monthly`\n",
    "\n",
    "Start by doing it in several steps and then combine them one step at a time until you can do it in one line."
   ]
  },
  {
   "cell_type": "code",
   "execution_count": 87,
   "metadata": {},
   "outputs": [
    {
     "name": "stdout",
     "output_type": "stream",
     "text": [
      "['Sarah', 'earns', '$96500', 'in', 'a', 'year']\n",
      "Sarahearns$96500\n",
      "Sarah earns $96500\n",
      "Sarah earns $\n"
     ]
    }
   ],
   "source": [
    "a = \"Sarah earns $96500 in a year\"\n",
    "a2=a.split()\n",
    "print (a2)\n",
    "a3=a2[0] + a2[1] + a2[2]\n",
    "print (a3)\n",
    "#we now add a space between each like above\n",
    "a3=a2[0] + \" \" + a2[1] + \" \" + a2[2]\n",
    "print (a3)\n",
    "#In order to change the number and keep only the dollar sign\n",
    "a3=a2[0] + \" \" + a2[1] + \" \" + a2[2][0]\n",
    "print (a3)\n",
    "#string is making integers strings, words are already strings\n",
    "a3=a2[0] + \" \" + a2[1] + \" \" + a2[2][0] + str(8041.67) + \" monthly\""
   ]
  },
  {
   "cell_type": "code",
   "execution_count": 88,
   "metadata": {},
   "outputs": [
    {
     "name": "stdout",
     "output_type": "stream",
     "text": [
      "Sarah earns $8041.67 monthly\n"
     ]
    }
   ],
   "source": [
    "a3=a2[0] + \" \" + a2[1] + \" \" + a2[2][0] + str(8041.67) + \" monthly\"\n",
    "print (a3)"
   ]
  },
  {
   "cell_type": "markdown",
   "metadata": {},
   "source": [
    "### Exercise 5: Create and Query a Dictionary on State Demographics\n",
    "\n",
    "Create two dictionaries, one for California and one for New York state, based on the data in the following table:\n",
    "\n",
    "| States | Pop Density | Prop White | Prop Afr Amer | Prop Asian | Prop Other | Owners | Renters |\n",
    "| --- | ---: | ---: | ---: | ---: | ---: | ---: | ---: |\n",
    "| CA | 239.1 | 0.57  | 0.06 | 0.13 | 0.22 | 7035371 | 5542127 |\n",
    "| NY | 411.2 | 0.65  | 0.15 | 0.07 | 0.22 | 3897837 | 3419918 |\n",
    "\n",
    "Each dictionary should have the following keys and value types: `name: (string)` , `population density: (float)`, `race (dict)`, `tenure: (dict)`. \n",
    "\n",
    "1.  Create one dictionary called CA and one called NY that contain dictionaries containing name, pop_density, race as a dictionary, and tenure for California and New York.  Now combine these into a dictionary called \"states\", making it a dictionary of dictionaries, or a nested dictionary.\n",
    "\n",
    "1.  Check if Texas is in our state dictionary (we know it isn't but show us).\n",
    "\n",
    "1. Print the White population in New York as a percentage\n",
    "\n",
    "1. Assume there was a typo in the data, and update the White population fraction of NY to 0.64. Verify that it was updated by printing the percentage again.\n",
    "\n",
    "1. Print the percentage of households that are renters in California, with two decimal places"
   ]
  },
  {
   "cell_type": "code",
   "execution_count": null,
   "metadata": {},
   "outputs": [],
   "source": [
    "# a dictionary lists in categories\n",
    "# States/Pop Dens etc are keys\n",
    "# CA And NY are values in the key\n",
    "# Key-Value Pair (States-CA)\n",
    "# Keys are immutable , Values are mutable"
   ]
  },
  {
   "cell_type": "code",
   "execution_count": null,
   "metadata": {},
   "outputs": [],
   "source": [
    "#To create an empty dictionary\n",
    "#{} creates a dictionary - first way\n",
    "newd={}\n",
    "#creates a dictionary - second way through a function\n",
    "newd=dict()"
   ]
  },
  {
   "cell_type": "code",
   "execution_count": 103,
   "metadata": {},
   "outputs": [
    {
     "name": "stdout",
     "output_type": "stream",
     "text": [
      "{'Name': 'CA', 'Pop Density': 239.1, 'Race': {'Prop White': 0.57, 'Prop Afr Amer': 0.06, 'Prop Asian': 0.13, 'Prop Other': 0.22}, 'Tenure': {'Owners': 7035371, 'Renters': 5542127}}\n"
     ]
    }
   ],
   "source": [
    "california={\n",
    "            'Name':'CA', \n",
    "            'Pop Density': 239.1, \n",
    "            'Race': {'Prop White':0.57, \n",
    "                     'Prop Afr Amer': 0.06, \n",
    "                     'Prop Asian': 0.13, \n",
    "                     'Prop Other': 0.22}, \n",
    "            'Tenure': {'Owners':7035371, \n",
    "                       'Renters':5542127 }\n",
    "           }\n",
    "print(california)"
   ]
  },
  {
   "cell_type": "code",
   "execution_count": 108,
   "metadata": {},
   "outputs": [
    {
     "name": "stdout",
     "output_type": "stream",
     "text": [
      "{'Name': 'NY', 'Pop Density': 411.2, 'Race': {'Prop White': 0.65, 'Prop Afr Amer': 0.15, 'Prop Asian': 0.13, 'Prop Other': 0.22}, 'Tenure': {'Owners': 3897837, 'Renters': 3419918}}\n"
     ]
    }
   ],
   "source": [
    "newyork={\n",
    "         'Name': 'NY',\n",
    "         'Pop Density': 411.2,\n",
    "         'Race':{'Prop White': 0.65,\n",
    "                 'Prop Afr Amer': 0.15,\n",
    "                 'Prop Asian': 0.13,\n",
    "                 'Prop Other': 0.22},\n",
    "        'Tenure': {'Owners': 3897837,'Renters': 3419918}\n",
    "         }\n",
    "\n",
    "print(newyork)"
   ]
  },
  {
   "cell_type": "code",
   "execution_count": 109,
   "metadata": {},
   "outputs": [],
   "source": [
    "states= {'California': california,\n",
    "        'NewYork': newyork}"
   ]
  },
  {
   "cell_type": "code",
   "execution_count": 98,
   "metadata": {},
   "outputs": [
    {
     "ename": "NameError",
     "evalue": "name 'states' is not defined",
     "output_type": "error",
     "traceback": [
      "\u001b[0;31m---------------------------------------------------------------------------\u001b[0m",
      "\u001b[0;31mNameError\u001b[0m                                 Traceback (most recent call last)",
      "Cell \u001b[0;32mIn[98], line 1\u001b[0m\n\u001b[0;32m----> 1\u001b[0m states[\u001b[38;5;124m'\u001b[39m\u001b[38;5;124mTexas\u001b[39m\u001b[38;5;124m'\u001b[39m]\n",
      "\u001b[0;31mNameError\u001b[0m: name 'states' is not defined"
     ]
    }
   ],
   "source": [
    "states['Texas']"
   ]
  },
  {
   "cell_type": "code",
   "execution_count": 138,
   "metadata": {},
   "outputs": [
    {
     "name": "stdout",
     "output_type": "stream",
     "text": [
      "65%\n"
     ]
    }
   ],
   "source": [
    "#to print float as percentage\n",
    "popwhiteNY=format(states[\"NewYork\"]['Race']['Prop White'], '.0%')\n",
    "print(popwhiteNY)"
   ]
  },
  {
   "cell_type": "code",
   "execution_count": 144,
   "metadata": {},
   "outputs": [
    {
     "name": "stdout",
     "output_type": "stream",
     "text": [
      "64%\n"
     ]
    }
   ],
   "source": [
    "#to change value of white percentage\n",
    "newyork['Race']['Prop White']=0.64\n",
    "prop_white_percentage = newyork['Race']['Prop White'] * 100\n",
    "#to get no decimal places, mention 0f\n",
    "print(\"{:.0f}%\".format(prop_white_percentage))"
   ]
  },
  {
   "cell_type": "code",
   "execution_count": 145,
   "metadata": {},
   "outputs": [
    {
     "name": "stdout",
     "output_type": "stream",
     "text": [
      "44.06%\n"
     ]
    }
   ],
   "source": [
    "#Part 5\n",
    "renter_percentage = (california['Tenure']['Renters'] / (california['Tenure']['Owners'] + california['Tenure']['Renters'])) * 100\n",
    "#to get two decimal places, mention 2f\n",
    "print(\"{:.2f}%\".format(renter_percentage))"
   ]
  },
  {
   "cell_type": "markdown",
   "metadata": {
    "collapsed": true
   },
   "source": [
    "### Exercise 6: Working with Numpy Arrays\n",
    "\n",
    "1. Create and print a 4 x 4 array named `a` with value 3 everywhere.\n",
    "\n",
    "1. Create and print a 4 x 4 array named `b` with elements drawn from a uniform random distribution \n",
    "\n",
    "1. Create and print array `c` by dividing a by b\n",
    "\n",
    "1. Compute and print the min, mean, max, median, and 90th percentile values of `c`\n",
    "\n",
    "1. Compute and print the sum of the second column in `c`"
   ]
  },
  {
   "cell_type": "code",
   "execution_count": 1,
   "metadata": {},
   "outputs": [],
   "source": [
    "import numpy as np"
   ]
  },
  {
   "cell_type": "code",
   "execution_count": 2,
   "metadata": {},
   "outputs": [
    {
     "name": "stdout",
     "output_type": "stream",
     "text": [
      "[[3 3 3 3]\n",
      " [3 3 3 3]\n",
      " [3 3 3 3]\n",
      " [3 3 3 3]]\n"
     ]
    }
   ],
   "source": [
    "a=np.full((4,4),3)\n",
    "print(a)"
   ]
  },
  {
   "cell_type": "code",
   "execution_count": 3,
   "metadata": {},
   "outputs": [
    {
     "name": "stdout",
     "output_type": "stream",
     "text": [
      "[[0.7887878  0.774923   0.58658122 0.29087752]\n",
      " [0.57823399 0.25689974 0.94984414 0.29550008]\n",
      " [0.44986821 0.39134659 0.42450968 0.28101816]\n",
      " [0.10121226 0.72375    0.95847127 0.79131118]]\n"
     ]
    }
   ],
   "source": [
    "#to be honest, I used ChatGPT for this\n",
    "b=np.random.rand(4,4)\n",
    "print(b)"
   ]
  },
  {
   "cell_type": "code",
   "execution_count": 4,
   "metadata": {},
   "outputs": [
    {
     "name": "stdout",
     "output_type": "stream",
     "text": [
      "[[ 3.80330427  3.8713524   5.11438126 10.31361924]\n",
      " [ 5.18821106 11.67770723  3.15841292 10.15228167]\n",
      " [ 6.66861964  7.66583905  7.06697674 10.67546671]\n",
      " [29.64067658  4.1450777   3.12998427  3.79117608]]\n"
     ]
    }
   ],
   "source": [
    "c = np.divide(a, b)\n",
    "print(c)"
   ]
  },
  {
   "cell_type": "code",
   "execution_count": 9,
   "metadata": {},
   "outputs": [
    {
     "name": "stdout",
     "output_type": "stream",
     "text": [
      "Minimum value of c: 3.13\n",
      "Mean value of c: 7.88\n",
      "Maximum value of c: 29.64\n",
      "Median value of c: 5.93\n",
      "90th Percentile value of c: 11.18\n"
     ]
    }
   ],
   "source": [
    "c_min = np.min(c)\n",
    "print(\"Minimum value of c: {:.2f}\".format(c_min))\n",
    "c_mean = np.mean(c)\n",
    "print(\"Mean value of c: {:.2f}\".format(c_mean))\n",
    "c_max=np.max(c)\n",
    "print(\"Maximum value of c: {:.2f}\".format(c_max))\n",
    "c_median=np.median(c)\n",
    "print(\"Median value of c: {:.2f}\".format(c_median))\n",
    "c_pct_90 = np.percentile(c, 90)\n",
    "print(\"90th Percentile value of c: {:.2f}\".format(c_pct_90))"
   ]
  }
 ],
 "metadata": {
  "kernelspec": {
   "display_name": "Python 3 (ipykernel)",
   "language": "python",
   "name": "python3"
  },
  "language_info": {
   "codemirror_mode": {
    "name": "ipython",
    "version": 3
   },
   "file_extension": ".py",
   "mimetype": "text/x-python",
   "name": "python",
   "nbconvert_exporter": "python",
   "pygments_lexer": "ipython3",
   "version": "3.11.5"
  },
  "toc": {
   "base_numbering": 1,
   "nav_menu": {},
   "number_sections": false,
   "sideBar": true,
   "skip_h1_title": false,
   "title_cell": "Table of Contents",
   "title_sidebar": "Contents",
   "toc_cell": false,
   "toc_position": {},
   "toc_section_display": true,
   "toc_window_display": false
  }
 },
 "nbformat": 4,
 "nbformat_minor": 2
}
