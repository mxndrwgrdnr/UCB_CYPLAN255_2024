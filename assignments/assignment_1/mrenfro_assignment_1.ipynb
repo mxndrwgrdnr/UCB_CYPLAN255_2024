{
 "cells": [
  {
   "cell_type": "markdown",
   "metadata": {},
   "source": [
    "## Assignment 1 | Data Types\n",
    "\n",
    "Add code cells as needed for your answers. "
   ]
  },
  {
   "cell_type": "markdown",
   "metadata": {},
   "source": [
    "### Exercise 1: Manipulating Lists"
   ]
  },
  {
   "cell_type": "markdown",
   "metadata": {},
   "source": [
    "Create a list containing the numbers 10, 20, and 30. Store your list as a variable named `a`. Then create a second list containing the numbers 30, 60, and 90. Call this this `b`."
   ]
  },
  {
   "cell_type": "code",
   "execution_count": 1,
   "metadata": {},
   "outputs": [],
   "source": [
    "a = [10, 20, 30]\n",
    "b = [30, 60, 90]"
   ]
  },
  {
   "cell_type": "markdown",
   "metadata": {},
   "source": [
    "In the cells below, write Python expressions to create the following four outputs by combining `a` and `b` in creative ways:\n",
    "\n",
    "1. [[10, 20, 30], [30, 60, 90]]\n",
    "\n",
    "2. [10, 20, 30, 30, 60, 90]\n",
    "\n",
    "3. [10, 20, 60, 90]\n",
    "\n",
    "4. [20, 40, 60]"
   ]
  },
  {
   "cell_type": "code",
   "execution_count": 2,
   "metadata": {},
   "outputs": [
    {
     "data": {
      "text/plain": [
       "[[10, 20, 30], [30, 60, 90]]"
      ]
     },
     "execution_count": 2,
     "metadata": {},
     "output_type": "execute_result"
    }
   ],
   "source": [
    "[a,b]"
   ]
  },
  {
   "cell_type": "code",
   "execution_count": 3,
   "metadata": {},
   "outputs": [
    {
     "data": {
      "text/plain": [
       "[10, 20, 30, 30, 60, 90]"
      ]
     },
     "execution_count": 3,
     "metadata": {},
     "output_type": "execute_result"
    }
   ],
   "source": [
    "a + b"
   ]
  },
  {
   "cell_type": "code",
   "execution_count": 4,
   "metadata": {},
   "outputs": [
    {
     "data": {
      "text/plain": [
       "[10, 20, 60, 90]"
      ]
     },
     "execution_count": 4,
     "metadata": {},
     "output_type": "execute_result"
    }
   ],
   "source": [
    "[a[0], a[1], b[1], b[2]]"
   ]
  },
  {
   "cell_type": "code",
   "execution_count": 11,
   "metadata": {},
   "outputs": [
    {
     "data": {
      "text/plain": [
       "[20, 40, 60]"
      ]
     },
     "execution_count": 11,
     "metadata": {},
     "output_type": "execute_result"
    }
   ],
   "source": [
    "[a[1], b[1]//2+10, b[2]//3*2] "
   ]
  },
  {
   "cell_type": "markdown",
   "metadata": {},
   "source": [
    "### Exercise 2. Working with Lists\n",
    "\n",
    "Create a list that contains the sums of each of the lists in G. \n",
    "\n",
    "`G = [[13, 9, 8], [14, 6, 12], [10, 13, 11], [7, 18, 9]]`\n",
    "\n",
    "Your output should look like:\n",
    "\n",
    "- `[30, 32, 34, 34]`\n",
    "\n",
    "Hint: try computing the sum for just one list first."
   ]
  },
  {
   "cell_type": "code",
   "execution_count": 16,
   "metadata": {},
   "outputs": [
    {
     "name": "stdout",
     "output_type": "stream",
     "text": [
      "[30, 32, 34, 34]\n"
     ]
    }
   ],
   "source": [
    "G = [[13, 9, 8], [14, 6, 12], [10, 13, 11], [7, 18, 9]] \n",
    "\n",
    "sums = []\n",
    "for list in G:\n",
    "    sums.append(sum(list))\n",
    "    \n",
    "print(sums)"
   ]
  },
  {
   "cell_type": "markdown",
   "metadata": {},
   "source": [
    "### Exercise 3: String Manipulation\n",
    "\n",
    "Turn the string below into 'all good countrymen' using the minimum amount of code, using only the methods we've covered so far. A couple of lines of code should do the trick.  Note: this requires string and list methods."
   ]
  },
  {
   "cell_type": "code",
   "execution_count": 52,
   "metadata": {},
   "outputs": [],
   "source": [
    "s = 'Now is the time for all good men to come to the aid of their country!'"
   ]
  },
  {
   "cell_type": "code",
   "execution_count": 57,
   "metadata": {},
   "outputs": [
    {
     "name": "stdout",
     "output_type": "stream",
     "text": [
      "all good countrymen\n"
     ]
    }
   ],
   "source": [
    "result = s[20:29] + 'countrymen' \n",
    "print(result)"
   ]
  },
  {
   "cell_type": "markdown",
   "metadata": {},
   "source": [
    "### Exercise 4: String Manipulation and Type Conversion\n",
    "\n",
    "Define a variable `a = \"Sarah earns $96500 in a year\"`. Then maniuplate the value of `a` in order to print the following string: `Sarah earns $8041.67 monthly`\n",
    "\n",
    "Start by doing it in several steps and then combine them one step at a time until you can do it in one line."
   ]
  },
  {
   "cell_type": "code",
   "execution_count": 94,
   "metadata": {
    "scrolled": false
   },
   "outputs": [
    {
     "name": "stdout",
     "output_type": "stream",
     "text": [
      "96500\n"
     ]
    }
   ],
   "source": [
    "a = \"Sarah earns $96500 in a year\"\n",
    "\n",
    "# Step 1\n",
    "salary = int(a[13:18]) # Extract salary amount \n",
    "print(salary)"
   ]
  },
  {
   "cell_type": "code",
   "execution_count": 95,
   "metadata": {},
   "outputs": [
    {
     "name": "stdout",
     "output_type": "stream",
     "text": [
      "8041.67\n"
     ]
    }
   ],
   "source": [
    "#step 2\n",
    "\n",
    "monthly = round(salary/12,2)\n",
    "print (monthly)"
   ]
  },
  {
   "cell_type": "code",
   "execution_count": 97,
   "metadata": {},
   "outputs": [
    {
     "name": "stdout",
     "output_type": "stream",
     "text": [
      "Sarah earns $8041.67 monthly\n"
     ]
    }
   ],
   "source": [
    "#step 3\n",
    "a = a[:a.index('$')+1] + str(monthly) + ' monthly'\n",
    "\n",
    "print(a)"
   ]
  },
  {
   "cell_type": "markdown",
   "metadata": {},
   "source": [
    "### Exercise 5: Create and Query a Dictionary on State Demographics\n",
    "\n",
    "Create two dictionaries, one for California and one for New York state, based on the data in the following table:\n",
    "\n",
    "| States | Pop Density | Prop White | Prop Afr Amer | Prop Asian | Prop Other | Owners | Renters |\n",
    "| --- | ---: | ---: | ---: | ---: | ---: | ---: | ---: |\n",
    "| CA | 239.1 | 0.57  | 0.06 | 0.13 | 0.22 | 7035371 | 5542127 |\n",
    "| NY | 411.2 | 0.65  | 0.15 | 0.07 | 0.22 | 3897837 | 3419918 |\n",
    "\n",
    "Each dictionary should have the following keys and value types: `name: (string)` , `population density: (float)`, `race (dict)`, `tenure: (dict)`. \n",
    "\n",
    "1.  Create one dictionary called CA and one called NY that contain dictionaries containing name, pop_density, race as a dictionary, and tenure for California and New York.  Now combine these into a dictionary called \"states\", making it a dictionary of dictionaries, or a nested dictionary.\n",
    "\n",
    "1.  Check if Texas is in our state dictionary (we know it isn't but show us).\n",
    "\n",
    "1. Print the White population in New York as a percentage\n",
    "\n",
    "1. Assume there was a typo in the data, and update the White population fraction of NY to 0.64. Verify that it was updated by printing the percentage again.\n",
    "\n",
    "1. Print the percentage of households that are renters in California, with two decimal places"
   ]
  },
  {
   "cell_type": "code",
   "execution_count": 134,
   "metadata": {
    "scrolled": true
   },
   "outputs": [
    {
     "name": "stdout",
     "output_type": "stream",
     "text": [
      "{'name': 'CA', 'pop_density': 239.1, 'race': {'prop_white': 0.57, 'prop_black': 0.06, 'prop_asian': 0.13, 'prop_other': 0.22}, 'tenure': {'owners': 7035371, 'renters': 5542127}}\n",
      "{'name': 'NY', 'pop_density': 411.2, 'race': {'prop_white': 0.65, 'prop_black': 0.15, 'prop_asian': 0.07, 'prop_other': 0.22}, 'tenure': {'owners': 3897837, 'renters': 3419918}}\n",
      "{'California': {'name': 'CA', 'pop_density': 239.1, 'race': {'prop_white': 0.57, 'prop_black': 0.06, 'prop_asian': 0.13, 'prop_other': 0.22}, 'tenure': {'owners': 7035371, 'renters': 5542127}}, 'NewYork': {'name': 'NY', 'pop_density': 411.2, 'race': {'prop_white': 0.65, 'prop_black': 0.15, 'prop_asian': 0.07, 'prop_other': 0.22}, 'tenure': {'owners': 3897837, 'renters': 3419918}}}\n"
     ]
    }
   ],
   "source": [
    "#part 1\n",
    "california = {\n",
    "               \"name\": \"CA\",\n",
    "               \"pop_density\": 239.1,\n",
    "               \"race\": \n",
    "                {\"prop_white\": 0.57,\n",
    "                 \"prop_black\": 0.06,  \n",
    "                 \"prop_asian\": 0.13,\n",
    "                 \"prop_other\": 0.22}\n",
    "                ,\n",
    "                \"tenure\": \n",
    "                {\"owners\": 7035371,\n",
    "                 \"renters\": 5542127}\n",
    "                }\n",
    "\n",
    "newyork = {\n",
    "   \"name\": \"NY\", \n",
    "   \"pop_density\": 411.2,\n",
    "   \"race\": {\n",
    "       \"prop_white\": 0.65,\n",
    "       \"prop_black\": 0.15,  \n",
    "       \"prop_asian\": 0.07,\n",
    "       \"prop_other\": 0.22}\n",
    "    ,\n",
    "    \"tenure\": {\n",
    "       \"owners\": 3897837, \n",
    "       \"renters\": 3419918}\n",
    "    }\n",
    "\n",
    "print(california)\n",
    "print(newyork)\n",
    "    \n",
    "states = {\n",
    "    \"California\": california,\n",
    "    \"NewYork\": newyork\n",
    "}\n",
    "print(states)"
   ]
  },
  {
   "cell_type": "code",
   "execution_count": 135,
   "metadata": {
    "scrolled": true
   },
   "outputs": [
    {
     "ename": "KeyError",
     "evalue": "'Texas'",
     "output_type": "error",
     "traceback": [
      "\u001b[0;31m---------------------------------------------------------------------------\u001b[0m",
      "\u001b[0;31mKeyError\u001b[0m                                  Traceback (most recent call last)",
      "\u001b[0;32m/var/folders/vy/zszbwv9j789cb3y3hmd9dmsm0000gn/T/ipykernel_80146/3867041865.py\u001b[0m in \u001b[0;36m<module>\u001b[0;34m\u001b[0m\n\u001b[1;32m      1\u001b[0m \u001b[0;31m#part 2\u001b[0m\u001b[0;34m\u001b[0m\u001b[0;34m\u001b[0m\u001b[0m\n\u001b[0;32m----> 2\u001b[0;31m \u001b[0mstates\u001b[0m\u001b[0;34m[\u001b[0m\u001b[0;34m\"Texas\"\u001b[0m\u001b[0;34m]\u001b[0m\u001b[0;34m\u001b[0m\u001b[0;34m\u001b[0m\u001b[0m\n\u001b[0m",
      "\u001b[0;31mKeyError\u001b[0m: 'Texas'"
     ]
    }
   ],
   "source": [
    "#part 2\n",
    "states[\"Texas\"]"
   ]
  },
  {
   "cell_type": "code",
   "execution_count": 136,
   "metadata": {
    "scrolled": true
   },
   "outputs": [
    {
     "name": "stdout",
     "output_type": "stream",
     "text": [
      "65.0\n"
     ]
    }
   ],
   "source": [
    "#part 3; not sure how to add the % sign, asked google/chat gpt how to format \n",
    "white_pct_ny = states[\"NewYork\"][\"race\"][\"prop_white\"] * 100\n",
    "print(white_pct_ny)"
   ]
  },
  {
   "cell_type": "code",
   "execution_count": 137,
   "metadata": {},
   "outputs": [
    {
     "name": "stdout",
     "output_type": "stream",
     "text": [
      "65%\n"
     ]
    }
   ],
   "source": [
    "#chat gpt recommended this code\n",
    "print(f'{white_pct_ny:.0f}%')"
   ]
  },
  {
   "cell_type": "code",
   "execution_count": 138,
   "metadata": {},
   "outputs": [
    {
     "name": "stdout",
     "output_type": "stream",
     "text": [
      "64%\n"
     ]
    }
   ],
   "source": [
    "#part 4 \n",
    "states[\"NewYork\"][\"race\"][\"prop_white\"] = 0.64\n",
    "\n",
    "# Print updated percentage\n",
    "white_pop_ny = states[\"NewYork\"][\"race\"][\"prop_white\"] * 100  \n",
    "print(f'{white_pop_ny:.0f}%')"
   ]
  },
  {
   "cell_type": "code",
   "execution_count": 143,
   "metadata": {},
   "outputs": [
    {
     "name": "stdout",
     "output_type": "stream",
     "text": [
      "12577498\n",
      "0.4406382732082327\n",
      "44.06%\n"
     ]
    }
   ],
   "source": [
    "#Part 5: Print the percentage of households that are renters in California, with two decimal places\n",
    "# Get tenure totals  \n",
    "total_households_ca = CA[\"tenure\"][\"owners\"] + CA[\"tenure\"][\"renters\"]\n",
    "print(total_households_ca)\n",
    "\n",
    "# Calculate renter percentage\n",
    "renter_pct_ca = CA[\"tenure\"][\"renters\"] / total_households_ca\n",
    "print(renter_pct_ca)\n",
    "\n",
    "# Print with 2 decimal places  \n",
    "print(f'{renter_pct_ca:.2%}')"
   ]
  },
  {
   "cell_type": "markdown",
   "metadata": {
    "collapsed": true
   },
   "source": [
    "### Exercise 6: Working with Numpy Arrays\n",
    "\n",
    "1. Create and print a 4 x 4 array named `a` with value 3 everywhere.\n",
    "\n",
    "1. Create and print a 4 x 4 array named `b` with elements drawn from a uniform random distribution \n",
    "\n",
    "1. Create and print array `c` by dividing a by b\n",
    "\n",
    "1. Compute and print the min, mean, max, median, and 90th percentile values of `c`\n",
    "\n",
    "1. Compute and print the sum of the second column in `c`"
   ]
  },
  {
   "cell_type": "code",
   "execution_count": 103,
   "metadata": {},
   "outputs": [
    {
     "name": "stdout",
     "output_type": "stream",
     "text": [
      "Array a:\n",
      " [[3 3 3 3]\n",
      " [3 3 3 3]\n",
      " [3 3 3 3]\n",
      " [3 3 3 3]]\n"
     ]
    }
   ],
   "source": [
    "import numpy as np\n",
    "\n",
    "# Create array a with value 3 everywhere\n",
    "a = np.full((4, 4), 3)\n",
    "print(\"Array a:\\n\", a)"
   ]
  },
  {
   "cell_type": "code",
   "execution_count": 104,
   "metadata": {},
   "outputs": [
    {
     "name": "stdout",
     "output_type": "stream",
     "text": [
      "\n",
      "Array b:\n",
      " [[0.3586067  0.4449874  0.71216387 0.31564201]\n",
      " [0.61853415 0.7415754  0.28492296 0.8165673 ]\n",
      " [0.37069823 0.50282783 0.61565189 0.2306261 ]\n",
      " [0.93724934 0.16408508 0.66989684 0.98432762]]\n"
     ]
    }
   ],
   "source": [
    "# Create array b with elements drawn from a uniform random distribution\n",
    "b = np.random.rand(4, 4)\n",
    "print(\"\\nArray b:\\n\", b)"
   ]
  },
  {
   "cell_type": "code",
   "execution_count": 105,
   "metadata": {},
   "outputs": [
    {
     "name": "stdout",
     "output_type": "stream",
     "text": [
      "\n",
      "Array c:\n",
      " [[ 8.36571104  6.74176391  4.21251362  9.50443826]\n",
      " [ 4.8501768   4.04544166 10.5291619   3.67391643]\n",
      " [ 8.09283599  5.96625684  4.8728836  13.00806802]\n",
      " [ 3.20085581 18.28319838  4.47830144  3.04776573]]\n"
     ]
    }
   ],
   "source": [
    "# Create array c by dividing a by b\n",
    "c = a / b\n",
    "print(\"\\nArray c:\\n\", c)"
   ]
  },
  {
   "cell_type": "code",
   "execution_count": 106,
   "metadata": {},
   "outputs": [
    {
     "name": "stdout",
     "output_type": "stream",
     "text": [
      "\n",
      "Min: 3.047765727567014\n",
      "Mean: 7.05458058956047\n",
      "Max: 18.28319838339378\n",
      "Median: 5.419570218960465\n",
      "90th Percentile: 11.768614960514228\n"
     ]
    }
   ],
   "source": [
    "# Compute and print min, mean, max, median, and 90th percentile values of c\n",
    "print(\"\\nMin:\", np.min(c))\n",
    "print(\"Mean:\", np.mean(c))\n",
    "print(\"Max:\", np.max(c))\n",
    "print(\"Median:\", np.median(c))\n",
    "print(\"90th Percentile:\", np.percentile(c, 90))"
   ]
  },
  {
   "cell_type": "code",
   "execution_count": 107,
   "metadata": {},
   "outputs": [
    {
     "name": "stdout",
     "output_type": "stream",
     "text": [
      "\n",
      "Sum of the second column in c: 35.036660792788645\n"
     ]
    }
   ],
   "source": [
    "# Compute and print the sum of the second column in c\n",
    "print(\"\\nSum of the second column in c:\", np.sum(c[:, 1]))"
   ]
  }
 ],
 "metadata": {
  "kernelspec": {
   "display_name": "Python 3 (ipykernel)",
   "language": "python",
   "name": "python3"
  },
  "language_info": {
   "codemirror_mode": {
    "name": "ipython",
    "version": 3
   },
   "file_extension": ".py",
   "mimetype": "text/x-python",
   "name": "python",
   "nbconvert_exporter": "python",
   "pygments_lexer": "ipython3",
   "version": "3.9.13"
  },
  "toc": {
   "base_numbering": 1,
   "nav_menu": {},
   "number_sections": false,
   "sideBar": true,
   "skip_h1_title": false,
   "title_cell": "Table of Contents",
   "title_sidebar": "Contents",
   "toc_cell": false,
   "toc_position": {},
   "toc_section_display": true,
   "toc_window_display": false
  }
 },
 "nbformat": 4,
 "nbformat_minor": 2
}
