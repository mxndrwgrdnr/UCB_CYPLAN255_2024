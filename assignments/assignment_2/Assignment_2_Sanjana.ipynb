{
 "cells": [
  {
   "cell_type": "markdown",
   "id": "f96bdfc7",
   "metadata": {},
   "source": [
    "# Assignment 2 | Programming Logic\n",
    "\n",
    "Reminder: in all of the assignments this semester, the answer is not the only consideration, but also how you get to it. It's OK (suggested even!) to use the internet for help. But you _should_ be able to answer all of these questions using only the programming techniques you have learned in class and from the readings.\n",
    "\n",
    "A few keys for success:\n",
    "- Avoid manual data entry\n",
    "- Emphasize logic and clarity\n",
    "- Use comments, docstrings, and descriptive variable names\n",
    "- In general, less code is better. But if more lines of code makes your program easier to read or understand what its doing, then go for it."
   ]
  },
  {
   "cell_type": "markdown",
   "id": "078a9000",
   "metadata": {},
   "source": [
    "## Problem 1 \n",
    "Write a Python program to count the number of even and odd numbers from a list of numbers. Test your code by running it on a list of integers from 1 to 9. No need to make this a function unless you want to."
   ]
  },
  {
   "cell_type": "code",
   "execution_count": 8,
   "id": "8eb937c5",
   "metadata": {},
   "outputs": [
    {
     "name": "stdout",
     "output_type": "stream",
     "text": [
      "Even numbers are 4\n",
      "Odd numbers are 5\n"
     ]
    }
   ],
   "source": [
    "num = [1,2,3,4,5,6,7,8,9]\n",
    "a = 0 #this means that right now the counts are both 0\n",
    "b = 0\n",
    "for tim in num: #tim here is any undefined variable\n",
    "    if tim % 2 == 0: # % 2==0 means it equals an even number\n",
    "        a = a+1\n",
    "    else:\n",
    "        b = b+1\n",
    "print (\"Even numbers are\", a)\n",
    "print (\"Odd numbers are\", b)"
   ]
  },
  {
   "cell_type": "markdown",
   "id": "db9df1a9",
   "metadata": {
    "collapsed": true
   },
   "source": [
    "## Problem 2\n",
    "Write a Python function that takes a list of numbers and returns a list containing only the even numbers from the original list. Test your function by running it on a list of integers from 1 to 9."
   ]
  },
  {
   "cell_type": "code",
   "execution_count": 9,
   "id": "45fcfd00",
   "metadata": {},
   "outputs": [
    {
     "name": "stdout",
     "output_type": "stream",
     "text": [
      "[2, 4, 6, 8]\n"
     ]
    }
   ],
   "source": [
    "my_list = [1,2,3,4,5,6,7,8,9]\n",
    "even = [] #defining an empty list for the even numbers only\n",
    "for hill in my_list: #hill here is any undefined variable\n",
    "    if hill % 2 == 0: #if the number is even\n",
    "        even.append(hill) #if the number is even, it appends that number to the list even\n",
    "print(even)"
   ]
  },
  {
   "cell_type": "markdown",
   "id": "6a6f4ef0",
   "metadata": {},
   "source": [
    "## Problem 3\n",
    "\n",
    "1. Create a function that accepts a list of integers as an argument and returns a list of floats which equals each number as a fraction of the sum of all the items in the original list.\n",
    "\n",
    "2. Next, create a second function which is the same as the first, but limit each number in the output list to two decimals.\n",
    "\n",
    "3. Create another function which builds on the previous one by allowing a \"user\" pass in an argument that defines the number of decimal places to use in the output list.\n",
    "\n",
    "4. Test each of these functions with a list of integers"
   ]
  },
  {
   "cell_type": "code",
   "execution_count": 41,
   "id": "6856ee58",
   "metadata": {},
   "outputs": [
    {
     "name": "stdout",
     "output_type": "stream",
     "text": [
      "[0.1, 0.2, 0.3, 0.4]\n"
     ]
    }
   ],
   "source": [
    "#Part 1\n",
    "\n",
    "#input: list of integers, output: list of floats\n",
    "#calculate num[x] / sum(all num)\n",
    "def myFunction1(Int):\n",
    "    #declare output\n",
    "    output = []\n",
    "    \n",
    "    #Calculate the sum of the list\n",
    "    Sum = sum(Int)\n",
    "    \n",
    "    \n",
    "    #Iterate through the list to calculate the goal\n",
    "    for num in Int:\n",
    "        #calculate the value for the current element in the list\n",
    "        fraction = num / Sum\n",
    "        #add the caluclated value to the output\n",
    "        output.append(fraction)\n",
    "        \n",
    "    #Return final result\n",
    "    return output\n",
    "    \n",
    "#Part4\n",
    "Test = [1,2,3,4]\n",
    "resultTest = myFunction1(Test)\n",
    "print(resultTest)"
   ]
  },
  {
   "cell_type": "code",
   "execution_count": 43,
   "id": "55e5b45d",
   "metadata": {},
   "outputs": [
    {
     "name": "stdout",
     "output_type": "stream",
     "text": [
      "['0.07', '0.13', '0.20', '0.27', '0.33']\n"
     ]
    }
   ],
   "source": [
    "#Part 2\n",
    "\n",
    "#input: list of integers, output: list of floats\n",
    "#calculate 2 decimal spaces for (num[x] / sum(all num))\n",
    "def myFunction2(Int):\n",
    "    #declare output\n",
    "    output = []\n",
    "    \n",
    "    #Calculate the sum of the list\n",
    "    Sum = sum(Int)\n",
    "    \n",
    "    \n",
    "    #Iterate through the list to calculate the goal\n",
    "    for num in Int:\n",
    "        #calculate the value for the current element in the list\n",
    "        fraction = num / Sum\n",
    "        fraction2d = format(fraction, \".2f\") #.2f adds 2 decimal spaces to a float\n",
    "        #add the caluclated value to the output\n",
    "        output.append(fraction2d)\n",
    "        \n",
    "    #Return final result\n",
    "    return output\n",
    "    \n",
    "#Part4\n",
    "Test2 = [2,4,6,8,10]\n",
    "resultTest2 = myFunction2(Test2)\n",
    "print(resultTest2)"
   ]
  },
  {
   "cell_type": "code",
   "execution_count": 45,
   "id": "0c5f2488",
   "metadata": {},
   "outputs": [
    {
     "name": "stdout",
     "output_type": "stream",
     "text": [
      "['0.067', '0.133', '0.200', '0.267', '0.333']\n"
     ]
    }
   ],
   "source": [
    "#Part 3\n",
    "\n",
    "#Create another function which builds on the previous one by allowing a \"user\" pass in an argument \n",
    "#defines the number of decimal places to use in the output list.\n",
    "#argument 1: Int, argument2: decimalspaces\n",
    "\n",
    "def myFunction3(Int, decimalspaces):\n",
    "    #declare output\n",
    "    output = []\n",
    "    \n",
    "    #Calculate the sum of the list\n",
    "    Sum = sum(Int)\n",
    "    \n",
    "    \n",
    "    #Iterate through the list to calculate the goal\n",
    "    for num in Int:\n",
    "        #calculate the value for the current element in the list\n",
    "        fraction = num / Sum\n",
    "        fraction2d = format(fraction, decimalspaces) #format the value by rounding to the specified decimal spaces\n",
    "        #add the caluclated value to the output\n",
    "        output.append(fraction2d)\n",
    "        \n",
    "    #Return final result\n",
    "    return output\n",
    "    \n",
    "#Part4\n",
    "Test3 = [3,6,9,12,15]\n",
    "#with the following step any \"user\" will be able to change the decimal spaces as required i.e from 3f to 2f/4f and pass the argument \n",
    "TestDecimalSpaces = \".3f\" #here we specify the decimal spaces rather than on top\n",
    "resultTest3 = myFunction3(Test3, TestDecimalSpaces) #we also specify the second argument here\n",
    "print(resultTest3)"
   ]
  },
  {
   "cell_type": "markdown",
   "id": "17e43098",
   "metadata": {},
   "source": [
    "## Problem 4\n",
    "A prime number is any whole number greater than 1 that has no positive divisors besides 1 and itself. In other words, a prime number must be:\n",
    "1. an integer\n",
    "2. greater than 1\n",
    "3. divisible only by 1 and itself.\n",
    "\n",
    "Write a function is_prime(n) that accepts an argument `n` and returns `True` (boolean) if `n` is a prime number and `False` if n is not prime. For example, `is_prime(11)` should return `True` and `is_prime(12)` should return `False`.\n"
   ]
  },
  {
   "cell_type": "code",
   "execution_count": 47,
   "id": "7b43bc6c",
   "metadata": {},
   "outputs": [
    {
     "name": "stdout",
     "output_type": "stream",
     "text": [
      "True\n"
     ]
    }
   ],
   "source": [
    "#input n is some integer\n",
    "#output is a boolean indicating if n is prime\n",
    "#if prime the function returns true, else false\n",
    "\n",
    "def is_prime(n):\n",
    "    #iterate through all the numbers between 1-n\n",
    "    for x in range(1,n):\n",
    "        #check if the remainder is 0 when n is divided by x\n",
    "        #if this condition passes it means that n is equally divided by x i.e 4/2 =2\n",
    "        if n % x == 0: \n",
    "            # ==0 means it does not have a remainder\n",
    "            #now we check if the num a is not 1 or n itself\n",
    "            if x != 1 and x!= n:\n",
    "                 #if the remainder is 0 and it is not 1 or n itseld, then we know n is not prime\n",
    "                return False\n",
    "            else:\n",
    "                #else we will continue the loop to find out if n is prime\n",
    "                continue\n",
    "    \n",
    "    #once we have confirmed n is divisible by ony 1 and n itself then we can return true        \n",
    "    return True\n",
    "\n",
    "\n",
    "\n",
    "print(is_prime(17))"
   ]
  },
  {
   "cell_type": "markdown",
   "id": "e556b42f",
   "metadata": {},
   "source": [
    "## Problem 5"
   ]
  },
  {
   "cell_type": "markdown",
   "id": "fd5f4463",
   "metadata": {},
   "source": [
    "1. Create a class called `Housing`, and add the following attributes to it:\n",
    "  - type\n",
    "  - area\n",
    "  - number of bedrooms\n",
    "  - value (price)\n",
    "  - year built.\n",
    "2. Create two instances of your class and populate their attributes (make 'em up)\n",
    "3. Create a method called `rent()` that calculates the estimated monthly rent for each house (assume that monthly rent is 0.4% of the value of the house)\n",
    "4. Print the rent for both instances."
   ]
  },
  {
   "cell_type": "code",
   "execution_count": 38,
   "id": "efa713df",
   "metadata": {},
   "outputs": [
    {
     "name": "stdout",
     "output_type": "stream",
     "text": [
      "Rent for building 1 is 1120.0\n",
      "Rent for building 2 is 2400.0\n"
     ]
    }
   ],
   "source": [
    "#1\n",
    "class Housing:\n",
    "\n",
    "    def __init__(self, typology, area, numofbedrooms, price, yearbuilt):\n",
    "        self.type = type\n",
    "        self.area = area\n",
    "        self.numofbedrooms = numofbedrooms\n",
    "        self.price = price\n",
    "        self.yearbuilt = yearbuilt\n",
    "    #3    \n",
    "    def rent(self):\n",
    "        return self.price * 0.004\n",
    "\n",
    "#2\n",
    "building1 = Housing('Apartment', '1800sf', 2 , 280000, 1995)\n",
    "building2 = Housing('Condo', '3000sf', 4 , 600000, 2001)\n",
    "    \n",
    "print(\"Rent for building 1 is\",building1.rent())\n",
    "print(\"Rent for building 2 is\",building2.rent())"
   ]
  }
 ],
 "metadata": {
  "kernelspec": {
   "display_name": "Python 3 (ipykernel)",
   "language": "python",
   "name": "python3"
  },
  "language_info": {
   "codemirror_mode": {
    "name": "ipython",
    "version": 3
   },
   "file_extension": ".py",
   "mimetype": "text/x-python",
   "name": "python",
   "nbconvert_exporter": "python",
   "pygments_lexer": "ipython3",
   "version": "3.11.5"
  },
  "toc": {
   "base_numbering": 1,
   "nav_menu": {},
   "number_sections": false,
   "sideBar": false,
   "skip_h1_title": true,
   "title_cell": "Table of Contents",
   "title_sidebar": "Contents",
   "toc_cell": false,
   "toc_position": {},
   "toc_section_display": true,
   "toc_window_display": false
  }
 },
 "nbformat": 4,
 "nbformat_minor": 5
}
