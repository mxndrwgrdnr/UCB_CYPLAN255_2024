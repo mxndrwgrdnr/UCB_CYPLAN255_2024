{
 "cells": [
  {
   "cell_type": "markdown",
   "id": "f96bdfc7",
   "metadata": {},
   "source": [
    "# Assignment 2 | Programming Logic\n",
    "\n",
    "Reminder: in all of the assignments this semester, the answer is not the only consideration, but also how you get to it. It's OK (suggested even!) to use the internet for help. But you _should_ be able to answer all of these questions using only the programming techniques you have learned in class and from the readings.\n",
    "\n",
    "A few keys for success:\n",
    "- Avoid manual data entry\n",
    "- Emphasize logic and clarity\n",
    "- Use comments, docstrings, and descriptive variable names\n",
    "- In general, less code is better. But if more lines of code makes your program easier to read or understand what its doing, then go for it."
   ]
  },
  {
   "cell_type": "markdown",
   "id": "078a9000",
   "metadata": {},
   "source": [
    "## Problem 1 \n",
    "Write a Python program to count the number of even and odd numbers from a list of numbers. Test your code by running it on a list of integers from 1 to 9. No need to make this a function unless you want to."
   ]
  },
  {
   "cell_type": "code",
   "execution_count": 1,
   "id": "8eb937c5",
   "metadata": {},
   "outputs": [
    {
     "name": "stdout",
     "output_type": "stream",
     "text": [
      "Even Numbers is equal to 4\n",
      "Odd Numbers is equal to 5\n"
     ]
    }
   ],
   "source": [
    "#attempt 1\n",
    "# list of numbers\n",
    "numbers = [1,2,3,4,5,6,7,8,9]\n",
    "\n",
    "# x is even, y is odd\n",
    "x = 0\n",
    "y = 0\n",
    "\n",
    "# % divides the numbers to see if its even, == 0 indicates that it is true/even \n",
    "# and if it is it will add to the count starting from 0\n",
    "# if not it will add to the odd \n",
    "# % finds the remainder, modulo , ex 5 % 3 is 2. \n",
    "# == 0, == 1\n",
    "# == is a comparison, 4 %2 = 0, the remainder is 0\n",
    "\n",
    "for foo in numbers:\n",
    "    if foo % 2 == 0:\n",
    "        x = x +1\n",
    "    else:\n",
    "        y = y + 1\n",
    "        \n",
    "print (\"Even Numbers is equal to\", x)\n",
    "print (\"Odd Numbers is equal to\", y)\n",
    "\n"
   ]
  },
  {
   "cell_type": "code",
   "execution_count": 2,
   "id": "1bf7ac36",
   "metadata": {},
   "outputs": [],
   "source": [
    "#jeff's solution + attempt"
   ]
  },
  {
   "cell_type": "code",
   "execution_count": 3,
   "id": "a6b72277",
   "metadata": {},
   "outputs": [],
   "source": [
    "# delete this later!!! this is from chat gpt \n"
   ]
  },
  {
   "cell_type": "markdown",
   "id": "db9df1a9",
   "metadata": {
    "collapsed": true
   },
   "source": [
    "## Problem 2\n",
    "Write a Python function that takes a list of numbers and returns a list containing only the even numbers from the original list. Test your function by running it on a list of integers from 1 to 9."
   ]
  },
  {
   "cell_type": "code",
   "execution_count": 4,
   "id": "45fcfd00",
   "metadata": {},
   "outputs": [
    {
     "name": "stdout",
     "output_type": "stream",
     "text": [
      "2\n",
      "4\n",
      "6\n",
      "8\n"
     ]
    }
   ],
   "source": [
    "my_list = [1, 2, 3, 4, 5, 6, 7, 8, 9]\n",
    "\n",
    "# continue is telling it to process it without breaking \n",
    "# if the number is odd then don't process it\n",
    "for boo in my_list:\n",
    "    if boo % 2 == 1:\n",
    "        continue\n",
    "    print(boo)\n",
    "    "
   ]
  },
  {
   "cell_type": "code",
   "execution_count": 5,
   "id": "0bf744ea",
   "metadata": {},
   "outputs": [
    {
     "name": "stdout",
     "output_type": "stream",
     "text": [
      "[2, 4, 6, 8]\n"
     ]
    }
   ],
   "source": [
    "my_list = [1, 2, 3, 4, 5, 6, 7, 8, 9]\n",
    "only_even = []\n",
    "# list comprehension [<do thing> for <item? in <iterable>]\n",
    "# if the number is even add it to the new list \n",
    "# if \n",
    "for boo in my_list:\n",
    "    if boo % 2 == 0:\n",
    "       only_even.append(boo)\n",
    "    \n",
    "print (only_even)"
   ]
  },
  {
   "cell_type": "markdown",
   "id": "6a6f4ef0",
   "metadata": {},
   "source": [
    "## Problem 3\n",
    "\n",
    "1. Create a function that accepts a list of integers as an argument and returns a list of floats which equals each number as a fraction of the sum of all the items in the original list.\n",
    "\n",
    "2. Next, create a second function which is the same as the first, but limit each number in the output list to two decimals.\n",
    "\n",
    "3. Create another function which builds on the previous one by allowing a \"user\" pass in an argument that defines the number of decimal places to use in the output list.\n",
    "\n",
    "4. Test each of these functions with a list of integers"
   ]
  },
  {
   "cell_type": "code",
   "execution_count": 6,
   "id": "6856ee58",
   "metadata": {},
   "outputs": [
    {
     "name": "stdout",
     "output_type": "stream",
     "text": [
      "[0.1, 0.2, 0.3, 0.4]\n"
     ]
    }
   ],
   "source": [
    "# problem 3 question 1\n",
    "# input: list of integers, output: list of floats\n",
    "# goal of this function is to calculate: num[x] / sum(all num) \n",
    "def myFunction(inputList):\n",
    "    # declare output\n",
    "    output = []\n",
    "    \n",
    "    # part 1: calculate the sum of the input list\n",
    "    listSum = sum(inputList)\n",
    "    \n",
    "    # part 2: iterate through the input list to calculate the goal\n",
    "    for num in inputList:\n",
    "        # calculate the value for the current element in the list\n",
    "        numDividedByListSum = num / listSum\n",
    "        # add the calculated value to the output\n",
    "        output.append(numDividedByListSum)\n",
    "        \n",
    "    # part 3: return final output\n",
    "    return output\n",
    "\n",
    "# Question/Part 4: call the function with our own input\n",
    "inputTest = [1,2,3,4]\n",
    "resultTest = myFunction(inputTest)\n",
    "print(resultTest)"
   ]
  },
  {
   "cell_type": "code",
   "execution_count": 7,
   "id": "eb3ed188",
   "metadata": {},
   "outputs": [
    {
     "name": "stdout",
     "output_type": "stream",
     "text": [
      "['0.05', '0.10', '0.14', '0.19', '0.24', '0.29']\n"
     ]
    }
   ],
   "source": [
    "# problem 3 question 2\n",
    "# input: list of integers, output: list of floats\n",
    "# goal of this function is to calculate: twoSigFigs(num[x] / sum(all num)() \n",
    "def myFunction2(inputList):\n",
    "    # declare output\n",
    "    output = []\n",
    "    \n",
    "    # part 1: calculate the sum of the input list\n",
    "    listSum = sum(inputList)\n",
    "    \n",
    "    # part 2: iterate through the input list to calculate the goal\n",
    "    for num in inputList:\n",
    "        # calculate the value for the current element in the list\n",
    "        numDividedByListSum = num / listSum\n",
    "        # format the value by rounding to 2 significant float digits\n",
    "        numDividedByListSumFormatted = format(numDividedByListSum, \".2f\")\n",
    "        # add the calculated value to the output\n",
    "        output.append(numDividedByListSumFormatted)\n",
    "        \n",
    "    # part 3: return final output\n",
    "    return output\n",
    "\n",
    "# Question/part 4: call the function with our own input\n",
    "inputTest2 = [1,2,3,4,5,6]\n",
    "resultTest2 = myFunction2(inputTest2)\n",
    "print(resultTest2)"
   ]
  },
  {
   "cell_type": "code",
   "execution_count": 8,
   "id": "e3772af0",
   "metadata": {},
   "outputs": [
    {
     "name": "stdout",
     "output_type": "stream",
     "text": [
      "['0.05', '0.10', '0.14', '0.19', '0.24', '0.29']\n",
      "['0.048', '0.095', '0.143', '0.190', '0.238', '0.286']\n"
     ]
    }
   ],
   "source": [
    "# problem 3 question 3\n",
    "# goal: Create another function which builds on the previous one by allowing a \"user\" pass in an argument that\n",
    "# defines the number of decimal places to use in the output list.\n",
    "\n",
    "# Our understanding of the problem statement:\n",
    "# \"User\" is not actual user input\n",
    "# Instead it seems like goal is to modify the function defnition to accept two arguments\n",
    "# argument1: inputList, argument2: roundingPrecision\n",
    "\n",
    "def myFunction3(inputList, roundingPrecision):\n",
    "    # declare output\n",
    "    output = []\n",
    "    \n",
    "    # part 1: calculate the sum of the input list\n",
    "    listSum = sum(inputList)\n",
    "    \n",
    "    # part 2: iterate through the input list to calculate the goal\n",
    "    for num in inputList:\n",
    "        # calculate the value for the current element in the list\n",
    "        numDividedByListSum = num / listSum\n",
    "        # format the value by rounding to the input rounding precision\n",
    "        numDividedByListSumFormatted = format(numDividedByListSum, roundingPrecision)\n",
    "        # add the calculated value to the output\n",
    "        output.append(numDividedByListSumFormatted)\n",
    "        \n",
    "    # part 3: return final output\n",
    "    return output\n",
    "\n",
    "# slight modification to have input as a integer instead of a string that MUST be formatted as \".2f\", \".3f\", etc\n",
    "# this is better because it is more intuitive for user to enter a int value instead of a python format string\n",
    "def myFunction3Enhanced(inputList, roundingPrecisionStr):\n",
    "    # declare output\n",
    "    output = []\n",
    "    \n",
    "    # part 1: calculate the sum of the input list\n",
    "    listSum = sum(inputList)\n",
    "    \n",
    "    # part 2: iterate through the input list to calculate the goal\n",
    "    for num in inputList:\n",
    "        # calculate the value for the current element in the list\n",
    "        numDividedByListSum = num / listSum\n",
    "        # format the value by rounding to the input rounding precision\n",
    "        roundingPrecision = \".\" + str(roundingPrecisionStr) + \"f\"\n",
    "        numDividedByListSumFormatted = format(numDividedByListSum, roundingPrecision)\n",
    "        # add the calculated value to the output\n",
    "        output.append(numDividedByListSumFormatted)\n",
    "        \n",
    "    # part 3: return final output\n",
    "    return output\n",
    "\n",
    "# Question/Part 4: \"User\" calls the function with our own input\n",
    "inputTestList3 = [1,2,3,4,5,6]\n",
    "inputTestPrecision2Digits = \".2f\"\n",
    "resultTest2Digits = myFunction3(inputTestList3, inputTestPrecision2Digits)\n",
    "print(resultTest2Digits)\n",
    "\n",
    "inputTestPrecision3Digits = \".3f\"\n",
    "resultTest3Digits = myFunction3(inputTestList3, inputTestPrecision3Digits)\n",
    "print(resultTest3Digits)"
   ]
  },
  {
   "cell_type": "markdown",
   "id": "17e43098",
   "metadata": {},
   "source": [
    "## Problem 4\n",
    "A prime number is any whole number greater than 1 that has no positive divisors besides 1 and itself. In other words, a prime number must be:\n",
    "1. an integer\n",
    "2. greater than 1\n",
    "3. divisible only by 1 and itself.\n",
    "\n",
    "Write a function is_prime(n) that accepts an argument `n` and returns `True` (boolean) if `n` is a prime number and `False` if n is not prime. For example, `is_prime(11)` should return `True` and `is_prime(12)` should return `False`.\n"
   ]
  },
  {
   "cell_type": "code",
   "execution_count": 10,
   "id": "7b43bc6c",
   "metadata": {},
   "outputs": [
    {
     "name": "stdout",
     "output_type": "stream",
     "text": [
      "True\n"
     ]
    }
   ],
   "source": [
    "# input n is some integer\n",
    "# output is a boolean indicating if n is prime.\n",
    "# if prime the function returns true, else return false\n",
    "\n",
    "def is_prime(n):\n",
    "    # iterate through all numbers between 1 - n\n",
    "    for x in range(1,n):\n",
    "        # check if the remainder is 0 when n is divided by x\n",
    "            # note that % is modulo which means the output is the remainder after dividing\n",
    "        # if this condition passes it means that n is perfectly divided by x i.e. 8/2 = 4\n",
    "        if n % x == 0: \n",
    "            # now we must check if the number x is NOT 1 or n itself\n",
    "            if x != 1 and x != n:\n",
    "                # if the remainder is 0 AND it is not 1 or n itself, then we know n is NOT prime\n",
    "                return False \n",
    "            else:\n",
    "                # else we will continue the loop to find out if n is prime\n",
    "                continue  \n",
    "        else:\n",
    "            continue\n",
    "    #end for loop\n",
    "                \n",
    "    # once we have confirmed n is divisible by only 1 and n itself then we can return true\n",
    "    return True\n",
    "\n",
    "print(is_prime(0))"
   ]
  },
  {
   "cell_type": "markdown",
   "id": "e556b42f",
   "metadata": {},
   "source": [
    "## Problem 5"
   ]
  },
  {
   "cell_type": "markdown",
   "id": "fd5f4463",
   "metadata": {},
   "source": [
    "1. Create a class called `Housing`, and add the following attributes to it:\n",
    "  - type\n",
    "  - area\n",
    "  - number of bedrooms\n",
    "  - value (price)\n",
    "  - year built.\n",
    "2. Create two instances of your class and populate their attributes (make 'em up)\n",
    "3. Create a method called `rent()` that calculates the estimated monthly rent for each house (assume that monthly rent is 0.4% of the value of the house)\n",
    "4. Print the rent for both instances."
   ]
  },
  {
   "cell_type": "code",
   "execution_count": 16,
   "id": "efa713df",
   "metadata": {},
   "outputs": [
    {
     "name": "stdout",
     "output_type": "stream",
     "text": [
      "800.0\n",
      "1600.0\n"
     ]
    }
   ],
   "source": [
    "class Housing:\n",
    "\n",
    "    def __init__(self, typee, area, numofbedrooms, value, yearbuilt):\n",
    "        self.typee = typee\n",
    "        self.area = area\n",
    "        self.numofbedrooms = numofbedrooms\n",
    "        self.value = value\n",
    "        self.yearbuilt = yearbuilt\n",
    "    \n",
    "    def rent(self):\n",
    "        return self.value * 0.004\n",
    "#end housing class definition\n",
    "\n",
    "house1 = Housing('Single', 'Urban', 1, 200000, 1999)\n",
    "house2 = Housing('Family', 'Suburban', 2, 400000, 1998)\n",
    "\n",
    "print(house1.rent())\n",
    "print(house2.rent())"
   ]
  },
  {
   "cell_type": "code",
   "execution_count": null,
   "id": "ed5094b6",
   "metadata": {},
   "outputs": [],
   "source": []
  },
  {
   "cell_type": "code",
   "execution_count": null,
   "id": "c25c567c",
   "metadata": {},
   "outputs": [],
   "source": []
  }
 ],
 "metadata": {
  "kernelspec": {
   "display_name": "Python 3 (ipykernel)",
   "language": "python",
   "name": "python3"
  },
  "language_info": {
   "codemirror_mode": {
    "name": "ipython",
    "version": 3
   },
   "file_extension": ".py",
   "mimetype": "text/x-python",
   "name": "python",
   "nbconvert_exporter": "python",
   "pygments_lexer": "ipython3",
   "version": "3.9.13"
  },
  "toc": {
   "base_numbering": 1,
   "nav_menu": {},
   "number_sections": false,
   "sideBar": false,
   "skip_h1_title": true,
   "title_cell": "Table of Contents",
   "title_sidebar": "Contents",
   "toc_cell": false,
   "toc_position": {},
   "toc_section_display": true,
   "toc_window_display": false
  }
 },
 "nbformat": 4,
 "nbformat_minor": 5
}
