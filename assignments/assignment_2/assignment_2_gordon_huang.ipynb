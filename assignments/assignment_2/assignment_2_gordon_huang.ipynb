{
 "cells": [
  {
   "cell_type": "markdown",
   "id": "f96bdfc7",
   "metadata": {},
   "source": [
    "# Assignment 2 | Programming Logic\n",
    "\n",
    "Reminder: in all of the assignments this semester, the answer is not the only consideration, but also how you get to it. It's OK (suggested even!) to use the internet for help. But you _should_ be able to answer all of these questions using only the programming techniques you have learned in class and from the readings.\n",
    "\n",
    "A few keys for success:\n",
    "- Avoid manual data entry\n",
    "- Emphasize logic and clarity\n",
    "- Use comments, docstrings, and descriptive variable names\n",
    "- In general, less code is better. But if more lines of code makes your program easier to read or understand what its doing, then go for it."
   ]
  },
  {
   "cell_type": "markdown",
   "id": "078a9000",
   "metadata": {},
   "source": [
    "## Problem 1 \n",
    "Write a Python program to count the number of even and odd numbers from a list of numbers. Test your code by running it on a list of integers from 1 to 9. No need to make this a function unless you want to."
   ]
  },
  {
   "cell_type": "code",
   "execution_count": 197,
   "id": "8eb937c5",
   "metadata": {},
   "outputs": [
    {
     "data": {
      "text/plain": [
       "'Even: 4, Odd: 5'"
      ]
     },
     "execution_count": 197,
     "metadata": {},
     "output_type": "execute_result"
    }
   ],
   "source": [
    "# Create list from 1 to 9\n",
    "a_list = [x+1 for x in range(9)]\n",
    "# [1, 2, 3, 4, 5, 6, 7, 8, 9]\n",
    "\n",
    "# Create function returning count of even and odds from a list\n",
    "def counter(list_type):\n",
    "    even = (len([i for i in list_type if i % 2==0]))\n",
    "    odd = (len([i for i in list_type if i % 2!=0]))\n",
    "    return f\"Even: {even}, Odd: {odd}\"\n",
    "\n",
    "counter(a_list)"
   ]
  },
  {
   "cell_type": "markdown",
   "id": "db9df1a9",
   "metadata": {
    "collapsed": true,
    "jupyter": {
     "outputs_hidden": true
    }
   },
   "source": [
    "## Problem 2\n",
    "Write a Python function that takes a list of numbers and returns a list containing only the even numbers from the original list. Test your function by running it on a list of integers from 1 to 9."
   ]
  },
  {
   "cell_type": "code",
   "execution_count": 198,
   "id": "45fcfd00",
   "metadata": {},
   "outputs": [
    {
     "data": {
      "text/plain": [
       "[2, 4, 6, 8]"
      ]
     },
     "execution_count": 198,
     "metadata": {},
     "output_type": "execute_result"
    }
   ],
   "source": [
    "# Create function to take in list and returns a list containing only even numbers.\n",
    "def even_counter(list_type):\n",
    "    even = [i for i in list_type if i % 2==0]\n",
    "    return even\n",
    "\n",
    "even_counter(a_list)"
   ]
  },
  {
   "cell_type": "markdown",
   "id": "6a6f4ef0",
   "metadata": {},
   "source": [
    "## Problem 3\n",
    "\n",
    "1. Create a function that accepts a list of integers as an argument and returns a list of floats which equals each number as a fraction of the sum of all the items in the original list.\n",
    "\n",
    "2. Next, create a second function which is the same as the first, but limit each number in the output list to two decimals.\n",
    "\n",
    "3. Create another function which builds on the previous one by allowing a \"user\" pass in an argument that defines the number of decimal places to use in the output list.\n",
    "\n",
    "4. Test each of these functions with a list of integers"
   ]
  },
  {
   "cell_type": "code",
   "execution_count": 199,
   "id": "6856ee58",
   "metadata": {},
   "outputs": [
    {
     "name": "stdout",
     "output_type": "stream",
     "text": [
      "#1:[0.9152542372881356, 0.03389830508474576, 0.05084745762711865]\n",
      "#2:[0.92, 0.03, 0.05]\n",
      "#3:[0.9153, 0.0339, 0.0508]\n"
     ]
    }
   ],
   "source": [
    "# 1. Create function accepts list of integers as arguments and returns list of floats \n",
    "# which equals each number as a fraction of the sum of all the items in the original list\n",
    "intlist1 = [54,2,3]\n",
    "def list_to_float_ratio(int_list):\n",
    "    return [x/sum([x for x  in int_list]) for x in int_list]\n",
    "    \n",
    "# 2. Limit each number in the output list to two decimals\n",
    "def ratio2dec(intlist):\n",
    "    return [round(x/sum([x for x  in intlist]),2) for x in intlist]\n",
    "\n",
    "# 3. Allow pass in argument defines number of decimal places to use in output list\n",
    "def ratio2dec_input(intlist, places):\n",
    "    return [round(x/sum([x for x  in intlist]),places) for x in intlist]\n",
    "\n",
    "# 4. Test each function with a list of integers\n",
    "print(f'#1:{list_to_float_ratio(intlist1)}')\n",
    "print(f'#2:{ratio2dec(intlist1)}')\n",
    "print(f'#3:{ratio2dec_input(intlist1, 4)}')"
   ]
  },
  {
   "cell_type": "markdown",
   "id": "17e43098",
   "metadata": {},
   "source": [
    "## Problem 4\n",
    "A prime number is any whole number greater than 1 that has no positive divisors besides 1 and itself. In other words, a prime number must be:\n",
    "1. an integer\n",
    "2. greater than 1\n",
    "3. divisible only by 1 and itself.\n",
    "\n",
    "Write a function is_prime(n) that accepts an argument `n` and returns `True` (boolean) if `n` is a prime number and `False` if n is not prime. For example, `is_prime(11)` should return `True` and `is_prime(12)` should return `False`.\n"
   ]
  },
  {
   "cell_type": "code",
   "execution_count": 200,
   "id": "7b43bc6c",
   "metadata": {},
   "outputs": [
    {
     "name": "stdout",
     "output_type": "stream",
     "text": [
      "11: True, 12: False\n"
     ]
    }
   ],
   "source": [
    "# Check for prime\n",
    "def is_prime(n):\n",
    "    if (n > 1):\n",
    "        for i in range(2, n):\n",
    "            if n%i == 0:\n",
    "                return False\n",
    "        else: \n",
    "            return True\n",
    "    else: \n",
    "        return False\n",
    "print(f'11: {is_prime(11)}, 12: {is_prime(12)}')"
   ]
  },
  {
   "cell_type": "markdown",
   "id": "e556b42f",
   "metadata": {},
   "source": [
    "## Problem 5"
   ]
  },
  {
   "cell_type": "markdown",
   "id": "fd5f4463",
   "metadata": {},
   "source": [
    "1. Create a class called `Housing`, and add the following attributes to it:\n",
    "  - type\n",
    "  - area\n",
    "  - number of bedrooms\n",
    "  - value (price)\n",
    "  - year built.\n",
    "2. Create two instances of your class and populate their attributes (make 'em up)\n",
    "3. Create a method called `rent()` that calculates the estimated monthly rent for each house (assume that monthly rent is 0.4% of the value of the house)\n",
    "4. Print the rent for both instances."
   ]
  },
  {
   "cell_type": "code",
   "execution_count": 201,
   "id": "efa713df",
   "metadata": {},
   "outputs": [
    {
     "name": "stdout",
     "output_type": "stream",
     "text": [
      "House 1 rent: 1000.0, House 2 rent: 1800.0\n"
     ]
    }
   ],
   "source": [
    "# Create Housing class with type, area, number of bedrooms, value, and year built.\n",
    "class Housing:\n",
    "    def __init__(self, type, area, count_bedrooms, value, year_built):\n",
    "        self.type = type\n",
    "        self.area = area\n",
    "        self.count_bedrooms = count_bedrooms\n",
    "        self.value = value\n",
    "        self.year_built = year_built\n",
    "        \n",
    "    # Create method rent to calculate monthly rent at 0.4%\n",
    "    def rent(self):\n",
    "        \"\"\"\n",
    "        Estimated monthly rent (0.4% of housing value)\n",
    "        \"\"\"\n",
    "        return int(self.value.strip('$').replace(',', ''))*0.004\n",
    "\n",
    "# Create two instances of class and populate attributes\n",
    "house1 = Housing('Condo', '650sqft', '2', '$250,000', '2010')\n",
    "house2 = Housing('Apartment', '1500sqft', '3', '$450,000', '2000')\n",
    "\n",
    "\n",
    "# Print rent of each instance\n",
    "print(f'House 1 rent: {house1.rent()}, House 2 rent: {house2.rent()}')"
   ]
  }
 ],
 "metadata": {
  "kernelspec": {
   "display_name": "Python 3 (ipykernel)",
   "language": "python",
   "name": "python3"
  },
  "language_info": {
   "codemirror_mode": {
    "name": "ipython",
    "version": 3
   },
   "file_extension": ".py",
   "mimetype": "text/x-python",
   "name": "python",
   "nbconvert_exporter": "python",
   "pygments_lexer": "ipython3",
   "version": "3.8.18"
  },
  "toc": {
   "base_numbering": 1,
   "nav_menu": {},
   "number_sections": false,
   "sideBar": false,
   "skip_h1_title": true,
   "title_cell": "Table of Contents",
   "title_sidebar": "Contents",
   "toc_cell": false,
   "toc_position": {},
   "toc_section_display": true,
   "toc_window_display": false
  }
 },
 "nbformat": 4,
 "nbformat_minor": 5
}
