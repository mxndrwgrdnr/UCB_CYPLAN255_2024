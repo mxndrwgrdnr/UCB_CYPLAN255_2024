{
 "cells": [
  {
   "cell_type": "markdown",
   "id": "f96bdfc7",
   "metadata": {},
   "source": [
    "# Assignment 2 | Programming Logic\n",
    "\n",
    "Reminder: in all of the assignments this semester, the answer is not the only consideration, but also how you get to it. It's OK (suggested even!) to use the internet for help. But you _should_ be able to answer all of these questions using only the programming techniques you have learned in class and from the readings.\n",
    "\n",
    "A few keys for success:\n",
    "- Avoid manual data entry\n",
    "- Emphasize logic and clarity\n",
    "- Use comments, docstrings, and descriptive variable names\n",
    "- In general, less code is better. But if more lines of code makes your program easier to read or understand what its doing, then go for it."
   ]
  },
  {
   "cell_type": "markdown",
   "id": "078a9000",
   "metadata": {},
   "source": [
    "## Problem 1 \n",
    "Write a Python program to count the number of even and odd numbers from a list of numbers. Test your code by running it on a list of integers from 1 to 9. No need to make this a function unless you want to."
   ]
  },
  {
   "cell_type": "code",
   "execution_count": 17,
   "id": "8eb937c5",
   "metadata": {},
   "outputs": [
    {
     "data": {
      "text/plain": [
       "[0, 1, 2, 3, 4, 5, 6, 7, 8, 9]"
      ]
     },
     "execution_count": 17,
     "metadata": {},
     "output_type": "execute_result"
    }
   ],
   "source": [
    "my_list = []\n",
    "x = 0\n",
    "while x < 10:\n",
    "    my_list.append(x)\n",
    "    x = x + 1 \n",
    "my_list"
   ]
  },
  {
   "cell_type": "code",
   "execution_count": 31,
   "id": "26f1d380",
   "metadata": {},
   "outputs": [
    {
     "name": "stdout",
     "output_type": "stream",
     "text": [
      "Even numbers: [0, 2, 4, 6, 8]\n",
      "Odd numbers: [1, 3, 5, 7, 9]\n",
      "The total count of even numbers is 5\n",
      "The total count of odd numbers is 5\n"
     ]
    }
   ],
   "source": [
    "evens = []\n",
    "odds = []\n",
    "for i in my_list:\n",
    "    if i % 2 ==0:\n",
    "        evens.append(i)\n",
    "    else:\n",
    "        odds.append(i)\n",
    "print(\"Even numbers:\",evens)\n",
    "print(\"Odd numbers:\",odds)\n",
    "\n",
    "print(\"The total count of even numbers is\", len(evens))\n",
    "print(\"The total count of odd numbers is\", len(odds))"
   ]
  },
  {
   "cell_type": "markdown",
   "id": "db9df1a9",
   "metadata": {
    "collapsed": true
   },
   "source": [
    "## Problem 2\n",
    "Write a Python function that takes a list of numbers and returns a list containing only the even numbers from the original list. Test your function by running it on a list of integers from 1 to 9."
   ]
  },
  {
   "cell_type": "code",
   "execution_count": 32,
   "id": "c9a9646d",
   "metadata": {},
   "outputs": [
    {
     "name": "stdout",
     "output_type": "stream",
     "text": [
      "0\n",
      "2\n",
      "4\n",
      "6\n",
      "8\n"
     ]
    }
   ],
   "source": [
    "for i in my_list:\n",
    "    if i % 2 == 1:  # if the number is odd\n",
    "        continue        # don't process\n",
    "    print(i)"
   ]
  },
  {
   "cell_type": "markdown",
   "id": "6a6f4ef0",
   "metadata": {},
   "source": [
    "## Problem 3\n",
    "\n",
    "1. Create a function that accepts a list of integers as an argument and returns a list of floats which equals each number as a fraction of the sum of all the items in the original list.\n",
    "\n",
    "2. Next, create a second function which is the same as the first, but limit each number in the output list to two decimals.\n",
    "\n",
    "3. Create another function which builds on the previous one by allowing a \"user\" pass in an argument that defines the number of decimal places to use in the output list.\n",
    "\n",
    "4. Test each of these functions with a list of integers"
   ]
  },
  {
   "cell_type": "code",
   "execution_count": 3,
   "id": "6856ee58",
   "metadata": {},
   "outputs": [
    {
     "data": {
      "text/plain": [
       "[0.06666666666666667,\n",
       " 0.13333333333333333,\n",
       " 0.2,\n",
       " 0.26666666666666666,\n",
       " 0.3333333333333333]"
      ]
     },
     "execution_count": 3,
     "metadata": {},
     "output_type": "execute_result"
    }
   ],
   "source": [
    "#1\n",
    "def fractions(value):\n",
    "    total_sum=sum(value)\n",
    "    return[float(num)/total_sum for num in value]\n",
    "\n",
    "my_list = [1,2,3,4,5]\n",
    "fractions(my_list)"
   ]
  },
  {
   "cell_type": "code",
   "execution_count": 4,
   "id": "758e8436",
   "metadata": {},
   "outputs": [
    {
     "data": {
      "text/plain": [
       "[0.07, 0.13, 0.2, 0.27, 0.33]"
      ]
     },
     "execution_count": 4,
     "metadata": {},
     "output_type": "execute_result"
    }
   ],
   "source": [
    "#2\n",
    "def r_fractions(value):\n",
    "    total_sum=sum(value)\n",
    "    return[round(float(num)/total_sum,2) for num in value]\n",
    "\n",
    "\n",
    "r_fractions(my_list)"
   ]
  },
  {
   "cell_type": "code",
   "execution_count": 7,
   "id": "0b050618",
   "metadata": {},
   "outputs": [],
   "source": [
    "#3\n",
    "def user_fractions(value, rounding):\n",
    "    total_sum=sum(value)\n",
    "    return[round(float(num)/total_sum,rounding) for num in value]"
   ]
  },
  {
   "cell_type": "code",
   "execution_count": 15,
   "id": "62013b7e",
   "metadata": {},
   "outputs": [
    {
     "name": "stdout",
     "output_type": "stream",
     "text": [
      "The result from function one is: [0.06666666666666667, 0.13333333333333333, 0.2, 0.26666666666666666, 0.3333333333333333] where a list of integers is converted to a float.\n",
      "\n",
      "The result from function two is: [0.07, 0.13, 0.2, 0.27, 0.33] where a list of integers is converted to a float and rounded to two decimal places.\n",
      "\n",
      "The result from function three is: [0.0667, 0.1333, 0.2, 0.2667, 0.3333] where a list of integers is converted to a float and the number of decimal places can be rounded by the user, here shown as a test with 4.\n",
      "\n"
     ]
    }
   ],
   "source": [
    "my_list = [1,2,3,4,5]\n",
    "\n",
    "print(\"The result from function one is:\", fractions(my_list), \"where a list of integers is converted to a float.\\n\")\n",
    "\n",
    "print(\"The result from function two is:\", r_fractions(my_list), \"where a list of integers is converted to a float and rounded to two decimal places.\\n\")\n",
    "\n",
    "print(\"The result from function three is:\", user_fractions(my_list,4), \"where a list of integers is converted to a float and the number of decimal places can be rounded by the user, here shown as a test with 4.\\n\")"
   ]
  },
  {
   "cell_type": "markdown",
   "id": "17e43098",
   "metadata": {},
   "source": [
    "## Problem 4\n",
    "A prime number is any whole number greater than 1 that has no positive divisors besides 1 and itself. In other words, a prime number must be:\n",
    "1. an integer\n",
    "2. greater than 1\n",
    "3. divisible only by 1 and itself.\n",
    "\n",
    "Write a function is_prime(n) that accepts an argument `n` and returns `True` (boolean) if `n` is a prime number and `False` if n is not prime. For example, `is_prime(11)` should return `True` and `is_prime(12)` should return `False`.\n"
   ]
  },
  {
   "cell_type": "code",
   "execution_count": 49,
   "id": "7b43bc6c",
   "metadata": {},
   "outputs": [
    {
     "data": {
      "text/plain": [
       "False"
      ]
     },
     "execution_count": 49,
     "metadata": {},
     "output_type": "execute_result"
    }
   ],
   "source": [
    "def is_prime(n):\n",
    "    if type(n) is int and (n>1):\n",
    "        for i in range(2,n):\n",
    "            if n % i ==0:\n",
    "                return False\n",
    "        return True\n",
    "    return False\n",
    "\n",
    "is_prime(774)"
   ]
  },
  {
   "cell_type": "markdown",
   "id": "e556b42f",
   "metadata": {},
   "source": [
    "## Problem 5"
   ]
  },
  {
   "cell_type": "markdown",
   "id": "fd5f4463",
   "metadata": {},
   "source": [
    "1. Create a class called `Housing`, and add the following attributes to it:\n",
    "  - type\n",
    "  - area\n",
    "  - number of bedrooms\n",
    "  - value (price)\n",
    "  - year built.\n",
    "2. Create two instances of your class and populate their attributes (make 'em up)\n",
    "3. Create a method called `rent()` that calculates the estimated monthly rent for each house (assume that monthly rent is 0.4% of the value of the house)\n",
    "4. Print the rent for both instances."
   ]
  },
  {
   "cell_type": "code",
   "execution_count": 103,
   "id": "efa713df",
   "metadata": {},
   "outputs": [],
   "source": [
    "#1 and 3\n",
    "class Housing:\n",
    "    \n",
    "    def __init__(self,type,area,bedrooms, value, year):\n",
    "        self.type = type\n",
    "        self.area = area\n",
    "        self.bedrooms = bedrooms\n",
    "        self.value = float(value)\n",
    "        self.year = int(year)\n",
    "        \n",
    "    def rent(self):\n",
    "        return self.value * 0.004"
   ]
  },
  {
   "cell_type": "code",
   "execution_count": 104,
   "id": "6a0db318",
   "metadata": {},
   "outputs": [],
   "source": [
    "#2\n",
    "house_1 = Housing('bungalow','Rockridge','3','1400000','1922')\n",
    "house_2 = Housing('victorian','West Oakland','4','1000000','1895')"
   ]
  },
  {
   "cell_type": "code",
   "execution_count": 105,
   "id": "ab01edbf",
   "metadata": {},
   "outputs": [],
   "source": [
    "#def rent(self):\n",
    "#    return self.value * 0.004"
   ]
  },
  {
   "cell_type": "code",
   "execution_count": 106,
   "id": "dde5a6c2",
   "metadata": {},
   "outputs": [
    {
     "name": "stdout",
     "output_type": "stream",
     "text": [
      "Monthly rent for the Rockridge bungalow: 5600.0\n",
      "Monthly rent for the West Oakland Victorian: 4000.0\n"
     ]
    }
   ],
   "source": [
    "print(\"Monthly rent for the Rockridge bungalow:\", house_1.rent())\n",
    "print(\"Monthly rent for the West Oakland Victorian:\", house_2.rent())"
   ]
  },
  {
   "cell_type": "code",
   "execution_count": null,
   "id": "f0c1585d",
   "metadata": {},
   "outputs": [],
   "source": []
  }
 ],
 "metadata": {
  "kernelspec": {
   "display_name": "Python 3 (ipykernel)",
   "language": "python",
   "name": "python3"
  },
  "language_info": {
   "codemirror_mode": {
    "name": "ipython",
    "version": 3
   },
   "file_extension": ".py",
   "mimetype": "text/x-python",
   "name": "python",
   "nbconvert_exporter": "python",
   "pygments_lexer": "ipython3",
   "version": "3.11.5"
  },
  "toc": {
   "base_numbering": 1,
   "nav_menu": {},
   "number_sections": false,
   "sideBar": false,
   "skip_h1_title": true,
   "title_cell": "Table of Contents",
   "title_sidebar": "Contents",
   "toc_cell": false,
   "toc_position": {},
   "toc_section_display": true,
   "toc_window_display": false
  }
 },
 "nbformat": 4,
 "nbformat_minor": 5
}
