{
 "cells": [
  {
   "cell_type": "markdown",
   "id": "f96bdfc7",
   "metadata": {},
   "source": [
    "# Assignment 2 | Programming Logic\n",
    "\n",
    "Reminder: in all of the assignments this semester, the answer is not the only consideration, but also how you get to it. It's OK (suggested even!) to use the internet for help. But you _should_ be able to answer all of these questions using only the programming techniques you have learned in class and from the readings.\n",
    "\n",
    "A few keys for success:\n",
    "- Avoid manual data entry\n",
    "- Emphasize logic and clarity\n",
    "- Use comments, docstrings, and descriptive variable names\n",
    "- In general, less code is better. But if more lines of code makes your program easier to read or understand what its doing, then go for it."
   ]
  },
  {
   "cell_type": "markdown",
   "id": "078a9000",
   "metadata": {},
   "source": [
    "## Problem 1 \n",
    "Write a Python program to count the number of even and odd numbers from a list of numbers. Test your code by running it on a list of integers from 1 to 9. No need to make this a function unless you want to."
   ]
  },
  {
   "cell_type": "code",
   "execution_count": 7,
   "id": "8eb937c5",
   "metadata": {
    "collapsed": true
   },
   "outputs": [
    {
     "name": "stdout",
     "output_type": "stream",
     "text": [
      "4\n",
      "5\n"
     ]
    }
   ],
   "source": [
    "# create a number list from 1 to 9\n",
    "x = list(range (1, 10))\n",
    "# create two variables to count even number and odd number\n",
    "even_count=0\n",
    "odd_count=0\n",
    "# use \"for loop\" to exame the number in \"list x\" whether the number is odd or even, then count it into respective category.\n",
    "for number in x:\n",
    "    if number%2==0:\n",
    "        even_count+=1\n",
    "    else:\n",
    "        odd_count+=1\n",
    "print(even_count)\n",
    "print(odd_count)\n"
   ]
  },
  {
   "cell_type": "markdown",
   "id": "db9df1a9",
   "metadata": {
    "collapsed": true
   },
   "source": [
    "## Problem 2\n",
    "Write a Python function that takes a list of numbers and returns a list containing only the even numbers from the original list. Test your function by running it on a list of integers from 1 to 9."
   ]
  },
  {
   "cell_type": "code",
   "execution_count": 10,
   "id": "45fcfd00",
   "metadata": {},
   "outputs": [
    {
     "name": "stdout",
     "output_type": "stream",
     "text": [
      "[2, 4, 6, 8]\n"
     ]
    }
   ],
   "source": [
    "# create a number list from 1 to 9\n",
    "x = list(range (1, 10))\n",
    "# define a function named \"even_number_list\" to exam and store even number\n",
    "def even_number_list():\n",
    "    even_number=[]\n",
    "    for number in x:\n",
    "        if number%2==0:\n",
    "            even_number.append(number)\n",
    "    return even_number\n",
    "\n",
    "# conduct the function\n",
    "print(even_number_list())\n"
   ]
  },
  {
   "cell_type": "markdown",
   "id": "0153036a",
   "metadata": {},
   "source": [
    "For question 1:"
   ]
  },
  {
   "cell_type": "code",
   "execution_count": 39,
   "id": "6856ee58",
   "metadata": {
    "collapsed": true
   },
   "outputs": [
    {
     "name": "stdout",
     "output_type": "stream",
     "text": [
      "[0.022222222222222223, 0.044444444444444446, 0.06666666666666667, 0.08888888888888889, 0.1111111111111111, 0.13333333333333333, 0.15555555555555556, 0.17777777777777778, 0.2]\n"
     ]
    }
   ],
   "source": [
    "# create a number list\n",
    "number_list = list(range(1,10))\n",
    "# define a function named as \"fraction_of_sum\"\n",
    "def fraction_of_sum(x):\n",
    "    # calcute the fraction of a number to the sum of all numbers in the list\n",
    "    return[y/sum(x) for y in x]\n",
    "# conduct the function\n",
    "print(fraction_of_sum(number_list))\n"
   ]
  },
  {
   "cell_type": "markdown",
   "id": "67e51cc6",
   "metadata": {},
   "source": [
    "For question 2:"
   ]
  },
  {
   "cell_type": "code",
   "execution_count": 43,
   "id": "bf5a1d23",
   "metadata": {},
   "outputs": [
    {
     "name": "stdout",
     "output_type": "stream",
     "text": [
      "[0.02, 0.04, 0.07, 0.09, 0.11, 0.13, 0.16, 0.18, 0.2]\n"
     ]
    }
   ],
   "source": [
    "# create a number list\n",
    "number_list = list(range(1,10))\n",
    "# define a function named as \"fraction_of_sum\"\n",
    "def fraction_of_sum_round2(y):\n",
    "    # calcute the fraction of a number to the sum of all numbers in the list, and return as two decimals\n",
    "    return[round(x/sum(y), 2) for x in y]\n",
    "# conduct the function\n",
    "print(fraction_of_sum_round2(number_list))"
   ]
  },
  {
   "cell_type": "markdown",
   "id": "67964447",
   "metadata": {},
   "source": [
    "For question 3:"
   ]
  },
  {
   "cell_type": "code",
   "execution_count": 49,
   "id": "3b2122c6",
   "metadata": {},
   "outputs": [
    {
     "name": "stdout",
     "output_type": "stream",
     "text": [
      "[0.02222, 0.04444, 0.06667, 0.08889, 0.11111, 0.13333, 0.15556, 0.17778, 0.2]\n"
     ]
    }
   ],
   "source": [
    "# create a number list\n",
    "number_list = list(range(1,10))\n",
    "# define a function named as \"fraction_of_sum\"\n",
    "def fraction_of_sum_round_user(z, y):\n",
    "    # calcute the fraction of a number to the sum of all numbers in the list, and return as input decimal agument\n",
    "    return[round(x/sum(z), y) for x in z]\n",
    "# conduct the function\n",
    "print(fraction_of_sum_round_user(number_list, 5))"
   ]
  },
  {
   "cell_type": "markdown",
   "id": "8b56eb33",
   "metadata": {},
   "source": [
    "For question 4:"
   ]
  },
  {
   "cell_type": "code",
   "execution_count": 50,
   "id": "46ebad4b",
   "metadata": {},
   "outputs": [
    {
     "name": "stdout",
     "output_type": "stream",
     "text": [
      "[0.022222222222222223, 0.044444444444444446, 0.06666666666666667, 0.08888888888888889, 0.1111111111111111, 0.13333333333333333, 0.15555555555555556, 0.17777777777777778, 0.2]\n",
      "[0.02, 0.04, 0.07, 0.09, 0.11, 0.13, 0.16, 0.18, 0.2]\n",
      "[0.0222, 0.0444, 0.0667, 0.0889, 0.1111, 0.1333, 0.1556, 0.1778, 0.2]\n"
     ]
    }
   ],
   "source": [
    "number_list = list(range(1,10))\n",
    "print(fraction_of_sum(number_list))\n",
    "print(fraction_of_sum_round2(number_list))\n",
    "print(fraction_of_sum_round_user(number_list, 4))\n"
   ]
  },
  {
   "cell_type": "markdown",
   "id": "17e43098",
   "metadata": {},
   "source": [
    "## Problem 4\n",
    "A prime number is any whole number greater than 1 that has no positive divisors besides 1 and itself. In other words, a prime number must be:\n",
    "1. an integer\n",
    "2. greater than 1\n",
    "3. divisible only by 1 and itself.\n",
    "\n",
    "Write a function is_prime(n) that accepts an argument `n` and returns `True` (boolean) if `n` is a prime number and `False` if n is not prime. For example, `is_prime(11)` should return `True` and `is_prime(12)` should return `False`.\n"
   ]
  },
  {
   "cell_type": "code",
   "execution_count": 64,
   "id": "7b43bc6c",
   "metadata": {
    "collapsed": true
   },
   "outputs": [
    {
     "name": "stdout",
     "output_type": "stream",
     "text": [
      "True\n",
      "False\n",
      "False\n",
      "False\n",
      "True\n",
      "False\n"
     ]
    }
   ],
   "source": [
    "def is_prime(n):\n",
    "# define prime should be integer and greater than 1, otherwise, return the result as false\n",
    "    if not isinstance(n, int) or n <= 1:\n",
    "        return False\n",
    "# define prime cannot be divided by 2\n",
    "    if n % 2 == 0:\n",
    "        return False\n",
    "    return True\n",
    "print(is_prime(11))\n",
    "print(is_prime(2))\n",
    "print(is_prime(-1))\n",
    "print(is_prime(12))\n",
    "print(is_prime(13))\n",
    "print(is_prime(5.2))"
   ]
  },
  {
   "cell_type": "markdown",
   "id": "e556b42f",
   "metadata": {},
   "source": [
    "## Problem 5"
   ]
  },
  {
   "cell_type": "markdown",
   "id": "fd5f4463",
   "metadata": {},
   "source": [
    "1. Create a class called `Housing`, and add the following attributes to it:\n",
    "  - type\n",
    "  - area\n",
    "  - number of bedrooms\n",
    "  - value (price)\n",
    "  - year built.\n",
    "2. Create two instances of your class and populate their attributes (make 'em up)\n",
    "3. Create a method called `rent()` that calculates the estimated monthly rent for each house (assume that monthly rent is 0.4% of the value of the house)\n",
    "4. Print the rent for both instances."
   ]
  },
  {
   "cell_type": "markdown",
   "id": "a48a88d2",
   "metadata": {},
   "source": [
    "For question 1:"
   ]
  },
  {
   "cell_type": "code",
   "execution_count": 70,
   "id": "efa713df",
   "metadata": {
    "collapsed": true
   },
   "outputs": [],
   "source": [
    "class Housing:\n",
    "    def __init__(self, type, area, bedrooms, value, year_built):\n",
    "        self.type = type\n",
    "        self.area = area\n",
    "        self.bedrooms = bedrooms\n",
    "        self.value = value\n",
    "        self.year_built = year_built"
   ]
  },
  {
   "cell_type": "markdown",
   "id": "7efb8628",
   "metadata": {},
   "source": [
    "For question 2:"
   ]
  },
  {
   "cell_type": "code",
   "execution_count": 94,
   "id": "350b0b5b",
   "metadata": {},
   "outputs": [],
   "source": [
    "House1 = Housing(\"multifamily\", 500, 2, 500000, 2001)\n",
    "House2 = Housing(\"townhouse\", 1000, 4, 800000, 2010)"
   ]
  },
  {
   "cell_type": "markdown",
   "id": "2b2fbdb1",
   "metadata": {},
   "source": [
    "For question 3:"
   ]
  },
  {
   "cell_type": "code",
   "execution_count": 103,
   "id": "fe1186d4",
   "metadata": {},
   "outputs": [],
   "source": [
    "class Housing:\n",
    "    def __init__(self, type, area, bedrooms, value, year_built):\n",
    "        self.type = type\n",
    "        self.area = area\n",
    "        self.bedrooms = bedrooms\n",
    "        self.value = value\n",
    "        self.year_built = year_built\n",
    "\n",
    "    def rent(self):\n",
    "        return self.value * 0.004"
   ]
  },
  {
   "cell_type": "markdown",
   "id": "da19cd64",
   "metadata": {},
   "source": [
    "For question 4:"
   ]
  },
  {
   "cell_type": "code",
   "execution_count": 109,
   "id": "032039e2",
   "metadata": {},
   "outputs": [],
   "source": [
    "House1 = Housing(\"multifamily\", 500, 2, 500000, 2001)\n",
    "House2 = Housing(\"townhouse\", 1000, 4, 800000, 2010)"
   ]
  },
  {
   "cell_type": "code",
   "execution_count": 110,
   "id": "9aa835f3",
   "metadata": {},
   "outputs": [
    {
     "name": "stdout",
     "output_type": "stream",
     "text": [
      "2000.0\n",
      "3200.0\n"
     ]
    }
   ],
   "source": [
    "print(House1.rent())\n",
    "print(House2.rent())"
   ]
  }
 ],
 "metadata": {
  "kernelspec": {
   "display_name": "houpu_py",
   "language": "python",
   "name": "python3"
  },
  "language_info": {
   "codemirror_mode": {
    "name": "ipython",
    "version": 3
   },
   "file_extension": ".py",
   "mimetype": "text/x-python",
   "name": "python",
   "nbconvert_exporter": "python",
   "pygments_lexer": "ipython3",
   "version": "3.9.17"
  },
  "toc": {
   "base_numbering": 1,
   "nav_menu": {},
   "number_sections": false,
   "sideBar": false,
   "skip_h1_title": true,
   "title_cell": "Table of Contents",
   "title_sidebar": "Contents",
   "toc_cell": false,
   "toc_position": {},
   "toc_section_display": true,
   "toc_window_display": false
  }
 },
 "nbformat": 4,
 "nbformat_minor": 5
}
