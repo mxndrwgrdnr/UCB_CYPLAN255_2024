{
 "cells": [
  {
   "cell_type": "markdown",
   "id": "f96bdfc7",
   "metadata": {},
   "source": [
    "# Assignment 2 | Programming Logic\n",
    "\n",
    "Reminder: in all of the assignments this semester, the answer is not the only consideration, but also how you get to it. It's OK (suggested even!) to use the internet for help. But you _should_ be able to answer all of these questions using only the programming techniques you have learned in class and from the readings.\n",
    "\n",
    "A few keys for success:\n",
    "- Avoid manual data entry\n",
    "- Emphasize logic and clarity\n",
    "- Use comments, docstrings, and descriptive variable names\n",
    "- In general, less code is better. But if more lines of code makes your program easier to read or understand what its doing, then go for it."
   ]
  },
  {
   "cell_type": "markdown",
   "id": "078a9000",
   "metadata": {},
   "source": [
    "## Problem 1 \n",
    "Write a Python program to count the number of even and odd numbers from a list of numbers. Test your code by running it on a list of integers from 1 to 9. No need to make this a function unless you want to."
   ]
  },
  {
   "cell_type": "code",
   "execution_count": 29,
   "id": "8eb937c5",
   "metadata": {
    "collapsed": true
   },
   "outputs": [
    {
     "name": "stdout",
     "output_type": "stream",
     "text": [
      "Even Count: 4\n",
      "Odd Count: 5\n"
     ]
    }
   ],
   "source": [
    "def count_even_odd(nums): # nums: 数字列表\n",
    "  even_count = 0\n",
    "  odd_count = 0\n",
    "  for num in nums:\n",
    "    if num % 2 == 0:\n",
    "      even_count += 1\n",
    "    else:\n",
    "      odd_count += 1\n",
    "  return even_count, odd_count \n",
    "\n",
    "test_numbers = list(range(1, 10))\n",
    "even_count, odd_count = count_even_odd(test_numbers)\n",
    "print(\"Even Count:\", even_count)\n",
    "print(\"Odd Count:\", odd_count)"
   ]
  },
  {
   "cell_type": "markdown",
   "id": "db9df1a9",
   "metadata": {
    "collapsed": true
   },
   "source": [
    "## Problem 2\n",
    "Write a Python function that takes a list of numbers and returns a list containing only the even numbers from the original list. Test your function by running it on a list of integers from 1 to 9."
   ]
  },
  {
   "cell_type": "code",
   "execution_count": 30,
   "id": "45fcfd00",
   "metadata": {},
   "outputs": [
    {
     "name": "stdout",
     "output_type": "stream",
     "text": [
      "Even Number：[2, 4, 6, 8]\n"
     ]
    }
   ],
   "source": [
    "def get_even_numbers(nums):\n",
    "  even_nums = []\n",
    "  for num in nums:\n",
    "    if num % 2 == 0:\n",
    "      even_nums.append(num)\n",
    "  return even_nums\n",
    "\n",
    "test_numbers = list(range(1, 10))\n",
    "even_nums = get_even_numbers(test_numbers)\n",
    "print(f\"Even Number：{even_nums}\")"
   ]
  },
  {
   "cell_type": "markdown",
   "id": "6a6f4ef0",
   "metadata": {},
   "source": [
    "## Problem 3\n",
    "\n",
    "1. Create a function that accepts a list of integers as an argument and returns a list of floats which equals each number as a fraction of the sum of all the items in the original list.\n",
    "\n",
    "2. Next, create a second function which is the same as the first, but limit each number in the output list to two decimals.\n",
    "\n",
    "3. Create another function which builds on the previous one by allowing a \"user\" pass in an argument that defines the number of decimal places to use in the output list.\n",
    "\n",
    "4. Test each of these functions with a list of integers"
   ]
  },
  {
   "cell_type": "code",
   "execution_count": 31,
   "id": "6856ee58",
   "metadata": {
    "collapsed": true
   },
   "outputs": [
    {
     "name": "stdout",
     "output_type": "stream",
     "text": [
      "3.1 Fractions of input numbers: [0.022222222222222223, 0.044444444444444446, 0.06666666666666667, 0.08888888888888889, 0.1111111111111111, 0.13333333333333333, 0.15555555555555556, 0.17777777777777778, 0.2]\n",
      "3.2 Fractions of input numbers: [0.02, 0.04, 0.07, 0.09, 0.11, 0.13, 0.16, 0.18, 0.2]\n",
      "3.3 Fractions of input numbers：[0.022, 0.044, 0.067, 0.089, 0.111, 0.133, 0.156, 0.178, 0.2]\n"
     ]
    }
   ],
   "source": [
    "def calculate_fractions(numbers):\n",
    "    total_sum = sum(numbers)\n",
    "    fractions_list = [num / total_sum for num in numbers]\n",
    "    return fractions_list\n",
    "\n",
    "def calculate_fractions_with_2_digits(numbers):\n",
    "  total_sum = sum(numbers)\n",
    "  fractional_list = [round(num / total_sum, 2) for num in numbers]\n",
    "  return fractional_list\n",
    "\n",
    "def get_fractional_list_with_custom_precision(nums, precision): # precision: 小数位数\n",
    "  total = sum(nums)\n",
    "  fractional_list = [round(num / total, precision) for num in nums]\n",
    "  return fractional_list\n",
    "\n",
    "\n",
    "test_numbers = list(range(1, 10))\n",
    "\n",
    "fractions_result = calculate_fractions(test_numbers)\n",
    "print(\"3.1 Fractions of input numbers:\", fractions_result)\n",
    "\n",
    "fractions_result = calculate_fractions_with_2_digits(test_numbers)\n",
    "print(\"3.2 Fractions of input numbers:\", fractions_result)\n",
    "\n",
    "precision = 3\n",
    "fractional_list = get_fractional_list_with_custom_precision(test_numbers, precision)\n",
    "print(f\"3.3 Fractions of input numbers：{fractional_list}\")"
   ]
  },
  {
   "cell_type": "markdown",
   "id": "17e43098",
   "metadata": {},
   "source": [
    "## Problem 4\n",
    "A prime number is any whole number greater than 1 that has no positive divisors besides 1 and itself. In other words, a prime number must be:\n",
    "1. an integer\n",
    "2. greater than 1\n",
    "3. divisible only by 1 and itself.\n",
    "\n",
    "Write a function is_prime(n) that accepts an argument `n` and returns `True` (boolean) if `n` is a prime number and `False` if n is not prime. For example, `is_prime(11)` should return `True` and `is_prime(12)` should return `False`.\n"
   ]
  },
  {
   "cell_type": "code",
   "execution_count": 32,
   "id": "7b43bc6c",
   "metadata": {
    "collapsed": true
   },
   "outputs": [
    {
     "name": "stdout",
     "output_type": "stream",
     "text": [
      "1 False\n",
      "2 True\n",
      "3 True\n",
      "4 False\n",
      "5 True\n",
      "6 False\n",
      "7 True\n",
      "8 False\n",
      "9 False\n"
     ]
    }
   ],
   "source": [
    "from math import sqrt\n",
    "\n",
    "def is_prime(n):\n",
    "    if n == 1:\n",
    "        return False\n",
    "    for i in range(2, int(sqrt(n)) + 1):\n",
    "        if n % i == 0:\n",
    "            return False\n",
    "    return True\n",
    "\n",
    "'''\n",
    "def is_prime(n):\n",
    "  if n < 2:\n",
    "    return False\n",
    "  elif n == 2:\n",
    "    return True\n",
    "  elif n == 3:\n",
    "    return True\n",
    "  elif n % 2 == 0 or n % 3 == 0:\n",
    "    return False\n",
    "  i = 5\n",
    "  while i * i <= n:\n",
    "    if n % i == 0 or n % (i + 2) == 0:\n",
    "      return False\n",
    "    i += 6\n",
    "  return True\n",
    "'''\n",
    "\n",
    "test_numbers = list(range(1, 10))\n",
    "for num in test_numbers:\n",
    "    if is_prime(num):\n",
    "        print(num, \"True\")\n",
    "    else:\n",
    "        print(num, \"False\")\n"
   ]
  },
  {
   "cell_type": "markdown",
   "id": "e556b42f",
   "metadata": {},
   "source": [
    "## Problem 5"
   ]
  },
  {
   "cell_type": "markdown",
   "id": "fd5f4463",
   "metadata": {},
   "source": [
    "1. Create a class called `Housing`, and add the following attributes to it:\n",
    "  - type\n",
    "  - area\n",
    "  - number of bedrooms\n",
    "  - value (price)\n",
    "  - year built.\n",
    "2. Create two instances of your class and populate their attributes (make 'em up)\n",
    "3. Create a method called `rent()` that calculates the estimated monthly rent for each house (assume that monthly rent is 0.4% of the value of the house)\n",
    "4. Print the rent for both instances."
   ]
  },
  {
   "cell_type": "code",
   "execution_count": 33,
   "id": "efa713df",
   "metadata": {
    "collapsed": true
   },
   "outputs": [
    {
     "name": "stdout",
     "output_type": "stream",
     "text": [
      "House 1 monthly rent: $40000.0\n",
      "House 2 monthly rent: $1600.0\n"
     ]
    }
   ],
   "source": [
    "class Housing:\n",
    "  def __init__(self, type, area, num_bedrooms, value, year_built):\n",
    "    self.type = type\n",
    "    self.area = area\n",
    "    self.num_bedrooms = num_bedrooms\n",
    "    self.value = value\n",
    "    self.year_built = year_built\n",
    "\n",
    "  def rent(self):\n",
    "    return self.value * 0.004\n",
    "\n",
    "house1 = Housing(type=\"Villa\", area=\"Countryside\", num_bedrooms=100, value=10000000, year_built=2001)\n",
    "house2 = Housing(type=\"Apartment\", area=\"Downtown\", num_bedrooms=3, value=400000, year_built=2024)\n",
    "print(\"House 1 monthly rent: $\" + str(house1.rent()))\n",
    "print(f\"House 2 monthly rent: ${house2.rent()}\")"
   ]
  }
 ],
 "metadata": {
  "kernelspec": {
   "display_name": "Python 3",
   "language": "python",
   "name": "python3"
  },
  "language_info": {
   "codemirror_mode": {
    "name": "ipython",
    "version": 3
   },
   "file_extension": ".py",
   "mimetype": "text/x-python",
   "name": "python",
   "nbconvert_exporter": "python",
   "pygments_lexer": "ipython3",
   "version": "3.11.8"
  },
  "toc": {
   "base_numbering": 1,
   "nav_menu": {},
   "number_sections": false,
   "sideBar": false,
   "skip_h1_title": true,
   "title_cell": "Table of Contents",
   "title_sidebar": "Contents",
   "toc_cell": false,
   "toc_position": {},
   "toc_section_display": true,
   "toc_window_display": false
  }
 },
 "nbformat": 4,
 "nbformat_minor": 5
}
