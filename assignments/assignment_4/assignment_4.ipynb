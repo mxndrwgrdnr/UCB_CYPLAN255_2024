{
 "cells": [
  {
   "cell_type": "markdown",
   "id": "750dbef1",
   "metadata": {},
   "source": [
    "# Exploratory Data Analysis for Final Project"
   ]
  },
  {
   "cell_type": "markdown",
   "id": "753f0574",
   "metadata": {},
   "source": [
    "In this assignment, your task is to put your new skils to use in the form of an open-ended, exploratory data analysis. In particular, I'm looking for you to demonstrate your ability to use the programmatic tools we've been learning to access data, manipulate it, and visualize some findings while working towards the ultimate goal of developing a final project proposal. Please include the following in your assignment:\n",
    "\n",
    "  1. A brief summary of the topic (a few sentences)\n",
    "  2. Access 2 or more datasets, at least one of them using an API (if you are not using any data from an API as part of your project yet, don’t worry about it, and just do this to get some exercise using APIs. You might use it later).\n",
    "  3. Demonstrate the use of Pandas operations to filter out missing data and/or outliers.\n",
    "  4. Demonstrate your capacity to use some of the \"group-by\" operations to produce pivot tables or statistical summaries of your data.\n",
    "  5. Use Matplotlib or Seaborn to produce 2-3 data visualizations of your data to both explore the data and highlight any notable patterns.\n",
    "  6. Include a short written analysis of your interpretation of the data.\n",
    "  7. In a few paragraphs, describe the research question you intend to investigate in your final project, and the plan for the data analysis you intend to perform.\n",
    "\n",
    "Note that this exercise is intended to help you formulate your project topic. But it is not a binding contract. Your project will most likely evolve over the rest of the semester. So use this as an opportunity to be creative, throw some ideas against the wall and see what sticks. I will release the final project guidelines shortly. In the meantime, dig in!\n",
    "\n",
    "And as always, please submit this assignment both as a PR on GitHub along with the URL of your PR on bCourses."
   ]
  },
  {
   "cell_type": "code",
   "execution_count": null,
   "id": "8280400d",
   "metadata": {},
   "outputs": [],
   "source": []
  }
 ],
 "metadata": {
  "kernelspec": {
   "display_name": "Python 3",
   "language": "python",
   "name": "python3"
  },
  "language_info": {
   "codemirror_mode": {
    "name": "ipython",
    "version": 3
   },
   "file_extension": ".py",
   "mimetype": "text/x-python",
   "name": "python",
   "nbconvert_exporter": "python",
   "pygments_lexer": "ipython3",
   "version": "3.9.10"
  },
  "toc": {
   "base_numbering": 1,
   "nav_menu": {},
   "number_sections": false,
   "sideBar": false,
   "skip_h1_title": true,
   "title_cell": "Table of Contents",
   "title_sidebar": "Contents",
   "toc_cell": false,
   "toc_position": {},
   "toc_section_display": true,
   "toc_window_display": false
  }
 },
 "nbformat": 4,
 "nbformat_minor": 5
}
