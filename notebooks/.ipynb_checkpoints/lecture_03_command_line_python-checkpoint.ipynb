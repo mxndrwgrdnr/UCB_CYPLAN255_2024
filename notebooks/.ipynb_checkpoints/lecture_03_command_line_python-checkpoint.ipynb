{
 "cells": [
  {
   "cell_type": "markdown",
   "id": "893c435f",
   "metadata": {
    "slideshow": {
     "slide_type": "slide"
    }
   },
   "source": [
    "# CYPLAN 255, Spring 2024\n",
    "## Urban Informatics and Data Visualization\n",
    "\n",
    "**Instructor: Max Gardner** <br>\n",
    "**GSI: Meiqing Li**"
   ]
  },
  {
   "cell_type": "markdown",
   "id": "8ff6adeb",
   "metadata": {
    "slideshow": {
     "slide_type": "slide"
    }
   },
   "source": [
    "# Lecture 03 -- Python from the Command Line\n",
    "*******\n",
    "January 24, 2024"
   ]
  },
  {
   "cell_type": "markdown",
   "id": "71e23616",
   "metadata": {
    "slideshow": {
     "slide_type": "slide"
    }
   },
   "source": [
    "# Agenda\n",
    "1. Announcements\n",
    "2. Getting started with GitHub (Cont'd)\n",
    "3. Python from the Command Line\n",
    "4. For next time\n",
    "5. Questions"
   ]
  },
  {
   "cell_type": "markdown",
   "id": "041c8dd3",
   "metadata": {
    "slideshow": {
     "slide_type": "slide"
    }
   },
   "source": [
    "# 1. Announcements"
   ]
  },
  {
   "cell_type": "markdown",
   "id": "cc4da355",
   "metadata": {
    "slideshow": {
     "slide_type": "fragment"
    }
   },
   "source": [
    "- Waitlist\n",
    "- Cameras "
   ]
  },
  {
   "cell_type": "markdown",
   "id": "9760f8bc",
   "metadata": {
    "slideshow": {
     "slide_type": "slide"
    }
   },
   "source": [
    "# 2. Git Cont'd"
   ]
  },
  {
   "cell_type": "markdown",
   "id": "812db3ae",
   "metadata": {
    "slideshow": {
     "slide_type": "fragment"
    }
   },
   "source": [
    "![](https://lh3.googleusercontent.com/pw/ABLVV84wrG-7FUen9lAb3UkfD5Cg_KYFJutSW8RPXf0abaLKHnn4UJXEI0eDIXRQbP0fZviMeEWiEuBF-4YXpyCZ86ZD0rBsA-78Ps0WYxdW_X_XQqLjyYWPIph5rcV3T06kdcK-QwmUCu4NBo1NCEskHQ0oTQ=w3450-h1522-s-no)"
   ]
  },
  {
   "cell_type": "markdown",
   "id": "63ae974a",
   "metadata": {
    "slideshow": {
     "slide_type": "slide"
    }
   },
   "source": [
    "## 2.1 Authentication"
   ]
  },
  {
   "cell_type": "markdown",
   "id": "bf1fbdd4",
   "metadata": {
    "slideshow": {
     "slide_type": "fragment"
    }
   },
   "source": [
    "- Pushing any changes from local to remote repo requires authentication\n",
    "- Two options for authentication, determined when you clone a repo\n",
    "\n",
    "     | https + access token (see docs [here](https://docs.github.com/en/authentication/keeping-your-account-and-data-secure/managing-your-personal-access-tokens))| ssh + keypair (see docs [here](https://docs.github.com/en/authentication/connecting-to-github-with-ssh))|\n",
    "     |--|--|\n",
    "     |<img src=\"https://lh3.googleusercontent.com/pw/ABLVV87l6xAW6wHFiYWdpH_MxmBHqMHyHJPgiPDnYBcWVLCZ5gIONcP24M7NJZiQmUhe69k8ZVxqCSkw1MTYEkJdcYd9I_8RTw9ymaEGPMOkI_rx7MCYR8w8ORoUqICjrm18puL0pZr7YM4p4x3h0VGYxyxe3A=w786-h326-s-no\" width=70% align=\"center\"> | <img src=\"https://lh3.googleusercontent.com/pw/ABLVV86BYqb1hfWmd_UZHVeT5LZGG7aY5D53Pc5uZeWe3xPKJBxD5eFjbPv-8dSgyzk6bPLaWUfd-YEZHJpGMCrhaeQ66qGevKqENycoA1U9qVLkThcgol4yQSKbD7oyltekgM4_H_OfBrOLrX21JlYNqIV2LA=w776-h318-s-no\" width=70% align=\"center\"> |\n",
    "\n",
    "- https vs. ssh\n",
    "    - access token works like a password, you'll be asked to enter it each time you push a commit\n",
    "    - ssh does everything behind the scenes after you push your first commit, but requires a bit more work to setup\n"
   ]
  },
  {
   "cell_type": "markdown",
   "id": "70d0291d",
   "metadata": {
    "slideshow": {
     "slide_type": "slide"
    }
   },
   "source": [
    "## 2.2 Syncing your fork"
   ]
  },
  {
   "cell_type": "markdown",
   "id": "db3a2e4e",
   "metadata": {
    "slideshow": {
     "slide_type": "slide"
    }
   },
   "source": [
    "### 2.2.1 The lazy way:\n",
    "1. Sync from the web GUI:\n",
    "   <img src=\"https://lh3.googleusercontent.com/pw/ABLVV85AWws_AzaMnsHy7caMV9u6W9523R1oBbiLIQbRZl6t8cirn0FHyS-DgLFQThPPWgTGCGlQlU-2rxO2uFTbXR4m3RU0hD0aLmEBECMYuYeu7LhTPj3l3idvG5KhCEb1EmoTiyiUYFNTImXooTSpDAqiHA=w1832-h966-s-no\" width=60%>\n",
    "2. `git pull` from your remote to local\n",
    "\n",
    "NOTE: this may cause problems for you down the road, don't rely on it."
   ]
  },
  {
   "cell_type": "markdown",
   "id": "1ba7c395",
   "metadata": {
    "slideshow": {
     "slide_type": "slide"
    }
   },
   "source": [
    "### 2.2.2 The proper way:\n",
    "1. Add `upstream` as an additional remote for your local copy of the repo:\n",
    "   - `git remote add upstream https://github.com/mxndrwgrdnr/UCB_CYPLAN255_2024.git`\n",
    "    \n",
    "    \n",
    "2. Make sure your on the \"main\" branch:\n",
    "   - `git checkout main`\n",
    "   \n",
    "   \n",
    "3. \"Fetch\" any changes to \"main\" from `upstream`, but don't merge them yet:\n",
    "   - `git fetch upstream`\n",
    "    \n",
    "    \n",
    "4. Merge any changes from `upstream/main` into your local repository:\n",
    "   - `git merge main`"
   ]
  },
  {
   "cell_type": "markdown",
   "id": "e15cac24",
   "metadata": {
    "slideshow": {
     "slide_type": "slide"
    }
   },
   "source": [
    "# 3. Python from the Command Line\n",
    "<br>\n",
    "<br>\n",
    "<br>\n",
    "<br>\n",
    "<br>\n",
    "<br>\n",
    "<br>\n",
    "<br>\n",
    "NOTE: This portion of the notebook was heavily adapted from previous course material by Prof. Paul Waddell and Samuel Maurer."
   ]
  },
  {
   "cell_type": "markdown",
   "id": "ff7d114d",
   "metadata": {
    "slideshow": {
     "slide_type": "slide"
    }
   },
   "source": [
    "## 3.1 Installing Anaconda Python Bundle with Jupyter on Your Own Computer\n",
    "\n",
    "You should install Python on your own computer for this class to gain experience managing a Python installation and supporting libraries, and to give you more compute resources than you would get using Datahub.  Please use the following installer to make things as consistent as possible with the environment in class.\n",
    "\n",
    "- https://www.anaconda.com/products/individual\n",
    "\n",
    "You will find installers for each operating system, and the current default version is 3.9.  Please do not install an earlier version, especially not one below Python 3, since the syntax is very different and many libraries no longer support it.\n",
    "\n",
    "Python and the Anaconda distribution is free. In fact, all the software we will use in this class is open source and free (as in no cost). Python runs on Windows, OSX, and Linux, so regardless of what computer you are using, it will most likely run on it.   "
   ]
  },
  {
   "cell_type": "markdown",
   "id": "53fd9c3b",
   "metadata": {
    "cell_style": "split",
    "slideshow": {
     "slide_type": "subslide"
    }
   },
   "source": [
    "## 3.2 Python vs. IPython vs. Jupyter\n",
    "- Python - an interpreted, high-level programming language\n",
    "    - At runtime, Python 'interpreter' reads the command, figures out what the intended computation is, and then executes it. \n",
    "    - This differs from low-level languages like C or C++, in which you generally have to _compile_ code before you can run it, and if you find errors they have to be diagnosed and then the code re-compiled before you can run it. \n",
    "    - Interpreted languages skip the compile step, and just execute code directly, and if there are errors, they are seen at runtime. "
   ]
  },
  {
   "cell_type": "markdown",
   "id": "1f8e1f98",
   "metadata": {
    "cell_style": "split",
    "slideshow": {
     "slide_type": "fragment"
    }
   },
   "source": [
    "<img src=\"https://www.python.org/static/community_logos/python-logo-master-v3-TM.png\" width=200% align=\"center\">\n",
    "\n",
    "\n",
    "\n",
    "\n"
   ]
  },
  {
   "cell_type": "markdown",
   "id": "e1173504",
   "metadata": {
    "cell_style": "split",
    "slideshow": {
     "slide_type": "slide"
    }
   },
   "source": [
    "## 3.2 Python vs. IPython vs. Jupyter\n",
    "- IPython - “interactive” Python interpreter \n",
    "- Jupyter Notebooks - web-based GUI for IPython\n"
   ]
  },
  {
   "cell_type": "markdown",
   "id": "2b4af3ca",
   "metadata": {
    "cell_style": "split",
    "slideshow": {
     "slide_type": "fragment"
    }
   },
   "source": [
    "<img src=\"https://upload.wikimedia.org/wikipedia/commons/3/3c/IPython_Logo.png\" width=50% align=\"center\">\n",
    "<img src=\"https://miro.medium.com/v2/resize:fit:1400/format:webp/1*b1PpLl1-C8FWTLzNO3OqVA.jpeg\" width=20% align=\"center\">"
   ]
  },
  {
   "cell_type": "markdown",
   "id": "ecd71d98",
   "metadata": {
    "slideshow": {
     "slide_type": "slide"
    }
   },
   "source": [
    "## 3.3 Options for running Python from a terminal"
   ]
  },
  {
   "cell_type": "markdown",
   "id": "02c1a208",
   "metadata": {
    "slideshow": {
     "slide_type": "fragment"
    }
   },
   "source": [
    "When we write and execute Python code, we generally do that within an environment call as an interpreter. Python interpreters and editing environments can be quite varied. Some options include:\n",
    "- `python`\t\t\t\t--\t\tlaunch the default Python interpreter\n",
    "   - `exit()` \t\t\t--\t\t\texit\n",
    "   - `<ctrl> + d`   \t--\t\texit (Mac/Linux)\n",
    "   - `<ctrl> + z` \t\t--\texit (Windows)\n",
    "- `ipython`\t\t--\t\tlaunch the interactive Python interpreter\n",
    "   - `exit` \t--\t\t\t\t\texit\n",
    "   - `<ctrl> + d` --   \t\t\texit  (Mac/Linux)\n",
    "   - `<ctrl> + z` --  \t\t\texit (Windows)\n",
    "- `jupyter notebook` --\t\t\tlaunch a notebook server and dashboard\n",
    "   - `<quit>` --\t\texit (notebook dashboard)\n",
    "   - `<ctrl> + c` -- \t\t\texit (Mac/Linux)\n",
    "- Launch Python from an integrated development environment (IDE) like PyCharm or Visual Studio Code (VSCode)\n",
    "- `python my_script.py`\t--\texecute a Python script, interpreted in the background."
   ]
  },
  {
   "cell_type": "markdown",
   "id": "cd93ce1f",
   "metadata": {
    "slideshow": {
     "slide_type": "slide"
    }
   },
   "source": [
    "## 3.4 Managing packages with virtual environments"
   ]
  },
  {
   "cell_type": "markdown",
   "id": "d0b1fc62",
   "metadata": {
    "slideshow": {
     "slide_type": "slide"
    }
   },
   "source": [
    "### 3.4.1 Python, Anaconda, Conda, etc."
   ]
  },
  {
   "cell_type": "markdown",
   "id": "da5cd773",
   "metadata": {
    "slideshow": {
     "slide_type": "fragment"
    }
   },
   "source": [
    "- **Anaconda** – a Python _distribution_ <img src=\"https://know.anaconda.com/rs/387-XNW-688/images/Anaconda_ForTrademark_HorizontalLarge_white.png\" width=50% align=\"right\">\n",
    "- **Conda** – a Python _package manager_ and _environment manager_\n",
    "   - Created by the Anaconda folks\n",
    "   - As a package manager:\n",
    "      - Installs Python libraries (packages) from package repositories (e.g. conda-forge)\n",
    "      - Manages dependencies and resolves conflicts\n",
    "      - Other examples: “pip”\n",
    "   - As an environment manager:\n",
    "      - Manages Python virtual environments (sandboxes)\n",
    "      - Other examples: “virtualenv”\n",
    "      \n",
    "      \n"
   ]
  },
  {
   "cell_type": "markdown",
   "id": "0be7d556",
   "metadata": {
    "slideshow": {
     "slide_type": "slide"
    }
   },
   "source": [
    "### 3.4.2 Max’s Tips for Creating a Conda Environment"
   ]
  },
  {
   "cell_type": "markdown",
   "id": "b8acee10",
   "metadata": {
    "slideshow": {
     "slide_type": "fragment"
    }
   },
   "source": [
    "- `conda create -n my-first-env`  <-- name this whatever you want\n",
    "- `conda activate my-first-env`\n",
    "- `conda config --add channels conda-forge`\n",
    "- `conda config --set channel_priority strict`\n",
    "- `conda install python ipython notebook nb_conda_kernels jupyter_contrib_nbextensions`\n",
    "- `jupyter contrib nbextension install --user`\n"
   ]
  },
  {
   "cell_type": "markdown",
   "id": "ef5f6a11",
   "metadata": {
    "slideshow": {
     "slide_type": "slide"
    }
   },
   "source": [
    "## 3.5 Jupyter Notebooks\n",
    "\n",
    "This first session will cover the basics of Python, and introduce elements that will help you get familiar with Python as an interactive computational environment for exploring data.  The material is presented in an interactive environment that runs within your web browser, called a Jupyter Notebook.  It allows presentation of text and graphics to be combined with Python code that can be run interactively, with the results appearing inline.  We are looking at a Jupyter notebook now.  Note that Jupyter is a relatively recent name for this so sometimes you may still see it referred to as an IPython noteboook.  Jupyter is just the new version of IPython notebooks, but now also supports a variety of other languages and tools.  \n",
    "\n",
    "Let's start by getting familiar with the Jupyter Notebook and how it works.\n",
    "\n",
    "\n"
   ]
  },
  {
   "cell_type": "markdown",
   "id": "83284863",
   "metadata": {
    "slideshow": {
     "slide_type": "slide"
    }
   },
   "source": [
    "Once you have a shell, use `cd` (change directory) to navigate to whatever directory you want to work in. You'll need to use the command prompt from the beginning of this course, so get comfortable with basic commands this week if you are not already.\n",
    "\n",
    "At the command prompt, `cd` to the location of this notebook, and run the following command:\n",
    "- `jupyter notebook`\n",
    "\n",
    "This command does two things:\n",
    "1. launches a Jupyter Notebook Server in the terminal\n",
    "2. launches the [Notebook Dashboard](https://jupyter-notebook.readthedocs.io/en/stable/ui_components.html#notebook-dashboard) in the browser\n",
    "\n"
   ]
  },
  {
   "cell_type": "markdown",
   "id": "665264f1",
   "metadata": {
    "slideshow": {
     "slide_type": "slide"
    }
   },
   "source": [
    "### 3.5.1 Using Jupyter Notebooks\n",
    "\n",
    "From the Notebook Dashboard, you can either load an existing notebook if you see one, create a new one (or open a terminal). If you started the server from the right place, you should see the name of this notebook listed there: **lecture_03_command_line_python.ipynb**. If you click on this notebook, another tab will open in your browser, containing this notebook, ready to use. Go ahead and do that.\n",
    "\n",
    "A notebook is made of cells. So in this notebook you've only seen cells that contain text. These are markdown cells. Notice the pulldown list for the cell type contains:\n",
    "\n",
    "* Code -- which we will use for Python code mainly, though it could use other languages\n",
    "* Markdown -- like this cell, using a flavor of structured text like that is used in Wikipedia and many other platforms\n",
    "* Other options will appear depending on what else is installed for use with Jupyter, like kernels for Scala, R, Octave, etc."
   ]
  },
  {
   "cell_type": "markdown",
   "id": "d2d00b9d",
   "metadata": {
    "slideshow": {
     "slide_type": "slide"
    }
   },
   "source": [
    "#### Edit Mode + Markdown\n",
    "You can edit the contents of a cell by double-clicking on it. The border of the cell will turn from blue to green. You are now in \"edit mode\". Try it on this cell. When you are ready to save the cell or exit edit mode, just use `<shift> + <enter>`. That's one way to run a cell. We will see how the code cells work next. Before going on to that, read a little bit about how you can format your text cells with Markdown [here](https://jupyter-notebook.readthedocs.io/en/stable/examples/Notebook/Working%20With%20Markdown%20Cells.html)\n",
    "\n",
    "For example, you can render LaTeX equations in your Markdown cells:\n",
    "\n",
    "- $y = \\alpha + \\beta X $\n",
    "- $c = \\sqrt{a^2 + b^2}$\n",
    "\n",
    "Or use the backtick \"\\`\" character to style text like lines of code:\n",
    "- `math.sqrt(98)`"
   ]
  },
  {
   "cell_type": "markdown",
   "id": "579ad01c",
   "metadata": {
    "slideshow": {
     "slide_type": "slide"
    }
   },
   "source": [
    "Cells can also contain lines of interactive code. The next cell contains a Python command. You can run that command in two ways:\n",
    "1. Select the cell in \"command mode\" (blue) and type `<shift> + <enter>`\n",
    "2. Clicking on the Run icon  (left of the black square), on the toolbar. \n",
    "\n",
    "Try running the next cell and notice that it executes the command and writes the output below the cell:"
   ]
  },
  {
   "cell_type": "code",
   "execution_count": null,
   "id": "f618a553",
   "metadata": {
    "slideshow": {
     "slide_type": "fragment"
    }
   },
   "outputs": [],
   "source": [
    "import math\n",
    "math.sqrt(49)"
   ]
  },
  {
   "cell_type": "markdown",
   "id": "0b1c5bef",
   "metadata": {
    "slideshow": {
     "slide_type": "slide"
    }
   },
   "source": [
    "## 3.6 Hello World!\n",
    "\n",
    "The first programming command demonstrated when you are learning a programming language is usually to make the computer print 'Hello World!'.  In Python, doing this is pretty simple:"
   ]
  },
  {
   "cell_type": "code",
   "execution_count": null,
   "id": "9d87c349",
   "metadata": {
    "slideshow": {
     "slide_type": "fragment"
    }
   },
   "outputs": [],
   "source": []
  },
  {
   "cell_type": "markdown",
   "id": "38ad3b77",
   "metadata": {
    "slideshow": {
     "slide_type": "fragment"
    }
   },
   "source": [
    "As you can see, there is not much code involved in making this happen.  The word 'print' is a command that Python knows how to process, and the text string 'Hello World!' in quotations is an **argument** being passes to the print command.  You can of course pass any kind of argument to the Python print command, and it will try to *do the right thing* without you having to micro-manage the process."
   ]
  },
  {
   "cell_type": "markdown",
   "id": "51651265",
   "metadata": {
    "slideshow": {
     "slide_type": "slide"
    }
   },
   "source": [
    "## 3.7 Python as an Interactive Calculator\n",
    "\n",
    "Python can be used as a simple interactive calculator, by just typing in a mathematical expression as you might on a regular or scientific calculator:"
   ]
  },
  {
   "cell_type": "code",
   "execution_count": null,
   "id": "5f2e22ec",
   "metadata": {
    "slideshow": {
     "slide_type": "fragment"
    }
   },
   "outputs": [],
   "source": [
    "2 - 4"
   ]
  },
  {
   "cell_type": "markdown",
   "id": "b2575c1b",
   "metadata": {
    "slideshow": {
     "slide_type": "fragment"
    }
   },
   "source": [
    "What happened above is that Python interpreted the line `2 - 4` to parse that it should understand the first object it encountered as an integer, the second object as a mathematical operator for addition, and the third as another integer.  Python's interpreter mostly just tries to figure out what you mean when you write statements like this, and as long as it is unambiguous and feasible to compute, it just does it without you having to explain things in detail."
   ]
  },
  {
   "cell_type": "markdown",
   "id": "44ce050a",
   "metadata": {
    "slideshow": {
     "slide_type": "slide"
    }
   },
   "source": [
    "You can of course use any kinds of numbers (e.g. integers or decimals), and any standard mathematical operators, and most of the time you get what you expect:"
   ]
  },
  {
   "cell_type": "code",
   "execution_count": null,
   "id": "8a8faa23",
   "metadata": {
    "slideshow": {
     "slide_type": "fragment"
    }
   },
   "outputs": [],
   "source": [
    "3.2 * 4"
   ]
  },
  {
   "cell_type": "code",
   "execution_count": null,
   "id": "3708fd28",
   "metadata": {
    "slideshow": {
     "slide_type": "fragment"
    }
   },
   "outputs": [],
   "source": [
    "3 ** 4"
   ]
  },
  {
   "cell_type": "markdown",
   "id": "a420c2f2",
   "metadata": {
    "slideshow": {
     "slide_type": "subslide"
    }
   },
   "source": [
    "### A Note on Calculating with Different Data Types\n",
    "\n",
    "What happens if we perform computations with mixed types?"
   ]
  },
  {
   "cell_type": "code",
   "execution_count": null,
   "id": "24d6c924",
   "metadata": {
    "slideshow": {
     "slide_type": "fragment"
    }
   },
   "outputs": [],
   "source": [
    "print(12 + 3)\n",
    "type(12 + 3)"
   ]
  },
  {
   "cell_type": "code",
   "execution_count": null,
   "id": "d5225dc7",
   "metadata": {
    "slideshow": {
     "slide_type": "fragment"
    }
   },
   "outputs": [],
   "source": [
    "print(12. + 3)\n",
    "type(12. + 3)"
   ]
  },
  {
   "cell_type": "markdown",
   "id": "83d85b79",
   "metadata": {
    "slideshow": {
     "slide_type": "slide"
    }
   },
   "source": [
    "## 3.8 The Interactive Plotting Environment\n",
    "\n",
    "OK, so maybe using Python as an interactive calculator is not the most compelling case for using Python, even if it does demonstrate that Python has a very shallow learning curve for someone completely new to programming.  You can actually begin using it productively even before learning how to program in it!\n",
    "\n",
    "To give a preview of somewhat more advanced topics, let's look at the interactive plotting mode in IPython that we can invoke by using 'magic' commands, and importing some modules: "
   ]
  },
  {
   "cell_type": "code",
   "execution_count": null,
   "id": "75131aa7",
   "metadata": {
    "slideshow": {
     "slide_type": "fragment"
    }
   },
   "outputs": [],
   "source": [
    "#import necessary packages/modules\n",
    "import pandas as pd, numpy as np, matplotlib.pyplot as plt"
   ]
  },
  {
   "cell_type": "markdown",
   "id": "0f211326",
   "metadata": {
    "slideshow": {
     "slide_type": "slide"
    }
   },
   "source": [
    "This loads pandas and numpy and the matplotlib plotting environment.  We'll come back to these libraries in more detail later, but now let's look at how they allow us to extend the range of things we can do.  Let's assign 100 sequential numbers to a variable labeled x, and create another variable, y, that has some transformation of x, and then plot y against x:"
   ]
  },
  {
   "cell_type": "code",
   "execution_count": null,
   "id": "cf094238",
   "metadata": {},
   "outputs": [],
   "source": [
    "x = range(100)\n",
    "print(x)\n",
    "print(list(x))"
   ]
  },
  {
   "cell_type": "code",
   "execution_count": null,
   "id": "d7856d80",
   "metadata": {
    "slideshow": {
     "slide_type": "fragment"
    }
   },
   "outputs": [],
   "source": [
    "y = np.sin(x)\n",
    "print(\"The first 10 entries in y: {0}\".format(y[:10])) "
   ]
  },
  {
   "cell_type": "code",
   "execution_count": null,
   "id": "4bf7e2a7",
   "metadata": {
    "slideshow": {
     "slide_type": "slide"
    }
   },
   "outputs": [],
   "source": [
    "plt.plot(x, x * y)"
   ]
  },
  {
   "cell_type": "markdown",
   "id": "018f4040",
   "metadata": {
    "slideshow": {
     "slide_type": "slide"
    }
   },
   "source": [
    "Or here is how we could draw 1,000 random numbers from a normal distribution, and plot the results as a frequency histogram:"
   ]
  },
  {
   "cell_type": "code",
   "execution_count": null,
   "id": "0c08abea",
   "metadata": {
    "slideshow": {
     "slide_type": "fragment"
    }
   },
   "outputs": [],
   "source": [
    "x = np.random.randn(1000)\n",
    "_ = plt.hist(x, bins=30)"
   ]
  },
  {
   "cell_type": "markdown",
   "id": "287019c7",
   "metadata": {
    "slideshow": {
     "slide_type": "slide"
    }
   },
   "source": [
    "## 3.9 Getting Some Help\n",
    "\n",
    "A couple of things that IPython does to help you be more productive are useful to introduce here. \n",
    "\n",
    "One is called **tab-completion**. If you can't quite remember the full name of a function, or it is really long and you don't like to type much, you can type the first few characters, and hit the `<tab>` key, and the options that begin with those first few characters show up on a menu.\n",
    "\n",
    "You can also use `<shift> + <tab>` to display a **tool-tip** for a function you may have forgotten how to use.\n",
    "\n",
    "Try these in the cell below:"
   ]
  },
  {
   "cell_type": "code",
   "execution_count": null,
   "id": "383b0982",
   "metadata": {
    "slideshow": {
     "slide_type": "fragment"
    }
   },
   "outputs": [],
   "source": [
    "plt.plot(x=x, y=x + y)"
   ]
  },
  {
   "cell_type": "markdown",
   "id": "061582c6",
   "metadata": {
    "slideshow": {
     "slide_type": "slide"
    }
   },
   "source": [
    "The other thing you can make a lot of use of is **help**! If you want to know more about how a method or function works, type the name of the function followed by `?`. For example, if we wanted to see how to configure the hist command, we could do:"
   ]
  },
  {
   "cell_type": "code",
   "execution_count": null,
   "id": "52b4cfb2",
   "metadata": {
    "slideshow": {
     "slide_type": "fragment"
    }
   },
   "outputs": [],
   "source": [
    "plt.hist()"
   ]
  },
  {
   "cell_type": "markdown",
   "id": "fb7fe3aa",
   "metadata": {
    "slideshow": {
     "slide_type": "fragment"
    }
   },
   "source": [
    "This brings up help text for this command, in a split window in the IPython Notebook.  After you read the help, you can minimize the help window by dragging the divider down to the bottom of the Notebook window."
   ]
  },
  {
   "cell_type": "markdown",
   "id": "2dac749c",
   "metadata": {
    "slideshow": {
     "slide_type": "slide"
    }
   },
   "source": [
    "Another interactive feature I use all the time is the `dir()` function. With no argument, it will tell you about all of the Python objects you have access to in your **namespace**. Or, if you pass in a Python object, it will tell you all of the attributes of that object. Give it a try:"
   ]
  },
  {
   "cell_type": "code",
   "execution_count": null,
   "id": "9ef80fc4",
   "metadata": {},
   "outputs": [],
   "source": [
    "dir()"
   ]
  },
  {
   "cell_type": "code",
   "execution_count": null,
   "id": "33ea1ac2",
   "metadata": {
    "scrolled": false,
    "slideshow": {
     "slide_type": "fragment"
    }
   },
   "outputs": [],
   "source": [
    "dir(x)"
   ]
  },
  {
   "cell_type": "code",
   "execution_count": null,
   "id": "faf06bd5",
   "metadata": {},
   "outputs": [],
   "source": [
    "x.max()"
   ]
  },
  {
   "cell_type": "markdown",
   "id": "41d7c854",
   "metadata": {
    "slideshow": {
     "slide_type": "slide"
    }
   },
   "source": [
    "## 3.10 Useful Notebook shortcuts\n",
    "\n",
    "For more shortcuts see `Help > Keyboard Shortcuts` in the file menu at the top of this page\n",
    "\n",
    "### Command mode\n",
    "- `00` -- Restart the kernel\n",
    "- `<shift> + m` -- Merge the contents of a cell with the cell below it\n",
    "- `a` -- Create a new blank cell above this one\n",
    "- `b` -- Create a new blank cell below this one\n",
    "- `dd` -- Delete this cell\n",
    "- `y` -- Convert cell to code\n",
    "- `m` -- Convert cell to markdown"
   ]
  },
  {
   "cell_type": "markdown",
   "id": "dc0dbe36",
   "metadata": {},
   "source": [
    "## 3.11 Python Fundamentals"
   ]
  },
  {
   "cell_type": "markdown",
   "id": "5dd35816",
   "metadata": {
    "slideshow": {
     "slide_type": "slide"
    }
   },
   "source": [
    "### 3.11.1 What is a Program?\n",
    "\n",
    "As Allen Downey explains in _Think Python_ the main elements of a program are:\n",
    "\n",
    "- **input**: Get data from the keyboard, a ﬁle, or some other device.\n",
    "- **output**: Display data on the screen or send data to a ﬁle or other device.\n",
    "- **math**: Perform basic mathematical operations like addition and multiplication.\n",
    "- **conditional execution**: Check for certain conditions and execute the appropriate code.\n",
    "- **repetition**: Perform some action repeatedly, usually with some variation.\n",
    "\n",
    "These are common steps that you will find to be a generic recipe for many programs, whether written in Python or any other language."
   ]
  },
  {
   "cell_type": "markdown",
   "id": "2b5ef74b",
   "metadata": {
    "slideshow": {
     "slide_type": "slide"
    }
   },
   "source": [
    "###  3.11.2  Basic Data Types\n",
    "\n",
    "Data in Python is interpreted as having a **type**.  In low-level, compiled languages like C or C++, the programmer has to explicitly declare the type of each variable before actually using it.  In Python, the type is inferred at run time, and you can always ask Python what the type of an object is:"
   ]
  },
  {
   "cell_type": "code",
   "execution_count": null,
   "id": "354ee2c7",
   "metadata": {
    "slideshow": {
     "slide_type": "fragment"
    }
   },
   "outputs": [],
   "source": [
    "a = 13\n",
    "type(a)"
   ]
  },
  {
   "cell_type": "code",
   "execution_count": null,
   "id": "df3e6752",
   "metadata": {
    "slideshow": {
     "slide_type": "fragment"
    }
   },
   "outputs": [],
   "source": [
    "a = a * 1.1\n",
    "type(a)"
   ]
  },
  {
   "cell_type": "code",
   "execution_count": null,
   "id": "61dd3cec",
   "metadata": {
    "slideshow": {
     "slide_type": "fragment"
    }
   },
   "outputs": [],
   "source": [
    "a = 'Hello World!'\n",
    "type(a)"
   ]
  },
  {
   "cell_type": "markdown",
   "id": "8c14bc84",
   "metadata": {
    "slideshow": {
     "slide_type": "subslide"
    }
   },
   "source": [
    "Notice that when we multiply `a`, which was initially an integer, by a floating point (decimal number) the result is **cast** as a float.  This is like the integer divide problem earlier -- using a floating point number in the calculation causes the result of the calculation to become a floating point number.\n",
    "\n",
    "Notice also that we can reassign any value or type to a variable.  We began with `a` being an integer, then changed its value to a float, and then to a string (text).  Variables are dynamically updated in this way based on values assigned to them. That's what people mean when they say Python is a _dynamically typed_ language, instead of a _statically typed_ language like C++."
   ]
  },
  {
   "cell_type": "markdown",
   "id": "660e8f85",
   "metadata": {
    "slideshow": {
     "slide_type": "slide"
    }
   },
   "source": [
    "### 3.11.3 Lists\n",
    "In Python, you can also make lists of numbers. A Python **list** is enclosed in square brackets. Items inside the list are separated by commas."
   ]
  },
  {
   "cell_type": "code",
   "execution_count": null,
   "id": "49d5722a",
   "metadata": {
    "slideshow": {
     "slide_type": "fragment"
    }
   },
   "outputs": [],
   "source": [
    "# a list\n",
    "[7.0, 6.24, 9.98, 4]"
   ]
  },
  {
   "cell_type": "markdown",
   "id": "ed10d55d",
   "metadata": {
    "slideshow": {
     "slide_type": "fragment"
    }
   },
   "source": [
    "Lists can have names too, which is handy for when you want to want to save a set of items without writing them out over and over again."
   ]
  },
  {
   "cell_type": "code",
   "execution_count": null,
   "id": "377801ee",
   "metadata": {
    "slideshow": {
     "slide_type": "fragment"
    }
   },
   "outputs": [],
   "source": [
    "my_list = [4, 8, 15, 16, 23, 42]\n",
    "my_list"
   ]
  },
  {
   "cell_type": "markdown",
   "id": "02821ea0",
   "metadata": {
    "slideshow": {
     "slide_type": "slide"
    }
   },
   "source": [
    "### 3.11.4 Variables\n",
    "\n",
    "Variables are named objects that we use to store a value. They can be of any type: "
   ]
  },
  {
   "cell_type": "code",
   "execution_count": null,
   "id": "93796cc9",
   "metadata": {
    "slideshow": {
     "slide_type": "fragment"
    }
   },
   "outputs": [],
   "source": [
    "city = 'San Francisco'\n",
    "print(city, 'is a ', type(city))"
   ]
  },
  {
   "cell_type": "code",
   "execution_count": null,
   "id": "02f10802",
   "metadata": {
    "slideshow": {
     "slide_type": "fragment"
    }
   },
   "outputs": [],
   "source": [
    "x = 345\n",
    "print(x, 'is a ', type(x))"
   ]
  },
  {
   "cell_type": "code",
   "execution_count": null,
   "id": "db6e601d",
   "metadata": {
    "slideshow": {
     "slide_type": "fragment"
    }
   },
   "outputs": [],
   "source": [
    "y = 2.324\n",
    "print(y, 'is a ', type(y))"
   ]
  },
  {
   "cell_type": "markdown",
   "id": "c1272e9c",
   "metadata": {
    "slideshow": {
     "slide_type": "slide"
    }
   },
   "source": [
    "You can use a lot of names for a variable, but there are exceptions (another word for error!).  Some rules apply.  You can't use Python reserved words, or start with a number, or use nonstandard characters like a copyright symbol.  You'll get an **exception** if you do:"
   ]
  },
  {
   "cell_type": "code",
   "execution_count": null,
   "id": "7f4847bc",
   "metadata": {
    "slideshow": {
     "slide_type": "fragment"
    }
   },
   "outputs": [],
   "source": [
    "2x = 24"
   ]
  },
  {
   "cell_type": "markdown",
   "id": "9dfca9dc",
   "metadata": {
    "slideshow": {
     "slide_type": "fragment"
    }
   },
   "source": [
    "And here are the 31 keywords reserved by Python (in version 2), that are ineligible for use as variable names:\n",
    "\n",
    "`and`, `as`, `assert`, `break`, `class`, `continue`, `def`, `del`, `elif`, `else`, `except`, `exec`, `finally`, `for`, `from`, `global`, `if`, `import`, `in`, `is`, `lambda`, `not`, `or`, `pass`, `print`, `raise`, `return`, `try`, `while`, `with`, `yield`."
   ]
  },
  {
   "cell_type": "markdown",
   "id": "78ee0af8",
   "metadata": {
    "slideshow": {
     "slide_type": "slide"
    }
   },
   "source": [
    "### 3.11.5 Operators and Equations\n",
    "\n",
    "Operators are symbols used to indicate different operations, mostly mathematical, but some operate on strings also. Many basic arithmetic operations are built into Python, like:\n",
    "- `+` -- addition\n",
    "- `-` -- subtraction\n",
    "- `*` -- multiplication\n",
    "- `/` -- division\n",
    "- `**` or `^` -- exponentiation\n",
    "- `%` -- modulo\n",
    "\n",
    "There are many others, which you can find information about [here](http://www.inferentialthinking.com/chapters/03/1/expressions.html). \n"
   ]
  },
  {
   "cell_type": "markdown",
   "id": "4a9f3ff0",
   "metadata": {
    "slideshow": {
     "slide_type": "slide"
    }
   },
   "source": [
    "The computer evaluates arithmetic according to the PEMDAS order of operations (just like you probably learned in middle school): anything in parentheses is done first, followed by exponents, then multiplication and division, and finally addition and subtraction.\n",
    "Some basic operations:"
   ]
  },
  {
   "cell_type": "code",
   "execution_count": null,
   "id": "47ff428f",
   "metadata": {
    "slideshow": {
     "slide_type": "fragment"
    }
   },
   "outputs": [],
   "source": [
    "5 * 5"
   ]
  },
  {
   "cell_type": "code",
   "execution_count": null,
   "id": "2b3e9df3",
   "metadata": {
    "slideshow": {
     "slide_type": "fragment"
    }
   },
   "outputs": [],
   "source": [
    "x = 5\n",
    "x = x / 2.1\n",
    "print (x)"
   ]
  },
  {
   "cell_type": "code",
   "execution_count": null,
   "id": "8b934db9",
   "metadata": {
    "slideshow": {
     "slide_type": "fragment"
    }
   },
   "outputs": [],
   "source": [
    "y = x ** 2\n",
    "print (y)"
   ]
  },
  {
   "cell_type": "markdown",
   "id": "81c016ab",
   "metadata": {
    "slideshow": {
     "slide_type": "fragment"
    }
   },
   "source": [
    "NOTE: Proper Python style requires using whitespace (\" \") on either side of an operator in an expression"
   ]
  },
  {
   "cell_type": "markdown",
   "id": "f283b9b1",
   "metadata": {
    "slideshow": {
     "slide_type": "slide"
    }
   },
   "source": [
    "Some of these operators also work on strings, but the behavior is different:"
   ]
  },
  {
   "cell_type": "code",
   "execution_count": null,
   "id": "19843181",
   "metadata": {
    "slideshow": {
     "slide_type": "fragment"
    }
   },
   "outputs": [],
   "source": [
    "city = 'San Francisco'\n",
    "sep = ', '\n",
    "state = 'California'\n",
    "location = city + sep + state\n",
    "print (location)"
   ]
  },
  {
   "cell_type": "code",
   "execution_count": null,
   "id": "3e830d20",
   "metadata": {
    "slideshow": {
     "slide_type": "fragment"
    }
   },
   "outputs": [],
   "source": [
    "city * 4"
   ]
  },
  {
   "cell_type": "markdown",
   "id": "4f428a2b",
   "metadata": {
    "slideshow": {
     "slide_type": "slide"
    }
   },
   "source": [
    "### 3.11.6 Expressions\n",
    "\n",
    "**Expressions** are combinations of values, variables, and operators, like most of the lines of code that we've just seen.\n"
   ]
  },
  {
   "cell_type": "code",
   "execution_count": null,
   "id": "05e77f2e",
   "metadata": {
    "slideshow": {
     "slide_type": "fragment"
    }
   },
   "outputs": [],
   "source": [
    "# an example of expression\n",
    "14 + 20"
   ]
  },
  {
   "cell_type": "markdown",
   "id": "71dcbed5",
   "metadata": {
    "slideshow": {
     "slide_type": "slide"
    }
   },
   "source": [
    "When you run the cell, the computer evaluates the expression and prints the result. Note that only the last line in a code cell will be printed, unless you explicitly tell the computer you want to print the result."
   ]
  },
  {
   "cell_type": "code",
   "execution_count": null,
   "id": "704ebbed",
   "metadata": {
    "slideshow": {
     "slide_type": "fragment"
    }
   },
   "outputs": [],
   "source": [
    "# more expressions. what gets printed and what doesn't?\n",
    "100 / 10\n",
    "\n",
    "print(4.3 + 10.98)\n",
    "\n",
    "33 - 9 * (40000 + 1)\n",
    "\n",
    "884"
   ]
  },
  {
   "cell_type": "markdown",
   "id": "0a0404e9",
   "metadata": {
    "slideshow": {
     "slide_type": "slide"
    }
   },
   "source": [
    "You can also assign names to expressions. The computer will compute the expression and assign the name to the result of the computation."
   ]
  },
  {
   "cell_type": "code",
   "execution_count": null,
   "id": "309226ad",
   "metadata": {
    "slideshow": {
     "slide_type": "fragment"
    }
   },
   "outputs": [],
   "source": [
    "y = 50 * 2 + 1\n",
    "y"
   ]
  },
  {
   "cell_type": "markdown",
   "id": "fb6265d7",
   "metadata": {
    "slideshow": {
     "slide_type": "fragment"
    }
   },
   "source": [
    "We can then use these names as if they were whatever they stand for (in this case, numbers)."
   ]
  },
  {
   "cell_type": "code",
   "execution_count": null,
   "id": "11ccfb02",
   "metadata": {
    "slideshow": {
     "slide_type": "fragment"
    }
   },
   "outputs": [],
   "source": [
    "x - 42"
   ]
  },
  {
   "cell_type": "code",
   "execution_count": null,
   "id": "cadfee97",
   "metadata": {
    "slideshow": {
     "slide_type": "fragment"
    }
   },
   "outputs": [],
   "source": [
    "x + y"
   ]
  },
  {
   "cell_type": "code",
   "execution_count": null,
   "id": "61fa21de",
   "metadata": {
    "slideshow": {
     "slide_type": "fragment"
    }
   },
   "outputs": [],
   "source": [
    "# before you run this cell, can you say what it should print?\n",
    "4 - 2 * (1 + 6 / 3)"
   ]
  },
  {
   "cell_type": "markdown",
   "id": "5e6f4618",
   "metadata": {
    "slideshow": {
     "slide_type": "slide"
    }
   },
   "source": [
    "### 3.11.7 Statements\n",
    "**Statements** often include expressions, but unlike expressions they do not always have a value (e.g. print statement), and represent a line of code that Python can execute."
   ]
  },
  {
   "cell_type": "markdown",
   "id": "a06fd219",
   "metadata": {
    "slideshow": {
     "slide_type": "slide"
    }
   },
   "source": [
    "\n",
    "### 3.11.8 Scripts\n",
    "A **script** is a text file which stores a bunch of Python statements to be executed in sequential order. Python scripts will normally use the \".py\" file extension.\n",
    "\n",
    "Jupyter makes it easy for you to convert a .ipynb notebook to a .py script from the file menu: `File > Download as > Python (.py)`. Python scripts can be run at the command line by typing `python <filename>` where `<filename>` is name of the .py script you want to run. "
   ]
  },
  {
   "cell_type": "markdown",
   "id": "981b7092",
   "metadata": {
    "slideshow": {
     "slide_type": "slide"
    }
   },
   "source": [
    "### 3.11.9 Comments\n",
    "A good thing to add to code, both in notebooks and scripts, to remind yourself of its intended use or to document it for someone else who may want to run it in the future. Use liberally! They won't slow anything down."
   ]
  },
  {
   "cell_type": "code",
   "execution_count": null,
   "id": "0ff2de82",
   "metadata": {
    "slideshow": {
     "slide_type": "fragment"
    }
   },
   "outputs": [],
   "source": [
    "# This is a comment explaining the code below which, if my code is complex,\n",
    "# I might not remember in detail later without comments.\n",
    "# Below I create an array of 10 numbers by adding a random number between\n",
    "# 0 and 10000 to a base of 5000 and then taking the natural logarithm of the result\n",
    "income = 50000.0 + 10000 * np.random.randn(10)\n",
    "y = np.log(income)\n",
    "y"
   ]
  },
  {
   "cell_type": "markdown",
   "id": "41fe970b",
   "metadata": {
    "collapsed": true,
    "slideshow": {
     "slide_type": "slide"
    }
   },
   "source": [
    "### 3.12 Before going on... \n",
    "...make sure you have Anaconda Python installed and working correctly.\n",
    "\n",
    "Once you have Anaconda Python installed you should be able to launch a Jupyter Notebook and experiment with creating some cells with Markdown text, some code cells with simple calculations and creating variables, and execute those cells using `<shift> + <enter>` or using the Run icon at the top of the notebook."
   ]
  },
  {
   "cell_type": "markdown",
   "id": "c85cf718",
   "metadata": {
    "slideshow": {
     "slide_type": "slide"
    }
   },
   "source": [
    "# 4. For next time"
   ]
  },
  {
   "cell_type": "markdown",
   "id": "8483fa08",
   "metadata": {
    "slideshow": {
     "slide_type": "fragment"
    }
   },
   "source": [
    "1. Keep working on Assignment 0\n",
    "2. Finish working through this notebook\n",
    "3. Try creating a conda environment and accessing it from a notebook"
   ]
  },
  {
   "cell_type": "markdown",
   "id": "5fe565db",
   "metadata": {
    "slideshow": {
     "slide_type": "slide"
    }
   },
   "source": [
    "# 5. Questions?"
   ]
  }
 ],
 "metadata": {
  "celltoolbar": "Slideshow",
  "kernelspec": {
   "display_name": "Python 3 (ipykernel)",
   "language": "python",
   "name": "python3"
  },
  "language_info": {
   "codemirror_mode": {
    "name": "ipython",
    "version": 3
   },
   "file_extension": ".py",
   "mimetype": "text/x-python",
   "name": "python",
   "nbconvert_exporter": "python",
   "pygments_lexer": "ipython3",
   "version": "3.11.5"
  },
  "toc": {
   "base_numbering": 1,
   "nav_menu": {},
   "number_sections": false,
   "sideBar": false,
   "skip_h1_title": true,
   "title_cell": "Table of Contents",
   "title_sidebar": "Contents",
   "toc_cell": false,
   "toc_position": {},
   "toc_section_display": true,
   "toc_window_display": false
  }
 },
 "nbformat": 4,
 "nbformat_minor": 5
}
