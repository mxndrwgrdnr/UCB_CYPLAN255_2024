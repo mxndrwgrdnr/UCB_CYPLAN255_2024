{
 "cells": [
  {
   "cell_type": "markdown",
   "id": "d307746f",
   "metadata": {
    "slideshow": {
     "slide_type": "slide"
    }
   },
   "source": [
    "# CYPLAN255\n",
    "### Urban Informatics and Visualization"
   ]
  },
  {
   "cell_type": "markdown",
   "id": "d8297602",
   "metadata": {
    "slideshow": {
     "slide_type": "slide"
    }
   },
   "source": [
    "# Lecture 05 -- Getting Caught Up\n",
    "## The GitHub-based Class Workflow, Python Installs, etc.\n",
    "*******\n",
    "January 31, 2024"
   ]
  },
  {
   "cell_type": "markdown",
   "id": "ca5e5872",
   "metadata": {
    "slideshow": {
     "slide_type": "slide"
    }
   },
   "source": [
    "## Agenda\n",
    "\n",
    "1. Announcements\n",
    "2. Live GitHub workflow demo\n",
    "3. Breakout rooms:\n",
    "    1. Lecture 4 Notebook\n",
    "    2. Anaconda installation on WSL\n",
    "4. For next time\n",
    "5. Questions"
   ]
  },
  {
   "cell_type": "markdown",
   "id": "a663491a",
   "metadata": {
    "slideshow": {
     "slide_type": "slide"
    }
   },
   "source": [
    "# 1. Announcements"
   ]
  },
  {
   "cell_type": "markdown",
   "id": "a1ad5fb5",
   "metadata": {
    "slideshow": {
     "slide_type": "fragment"
    }
   },
   "source": [
    "- Emergency office hours -- all remote, will post recordings\n",
    "   1. GitHub workflow tutorial with Meiqing (FRI @ 12-1pm on [Zoom](https://berkeley.zoom.us/my/meiqingli))\n",
    "   2. Python installation (esp. on WSL) tutorial with Max (THU @ 4:30-5:30pm on [Zoom](https://berkeley.zoom.us/j/9814509930))\n",
    "- HW1 due date pushed back!\n",
    "- Update to lecture format"
   ]
  },
  {
   "cell_type": "markdown",
   "id": "c2d94d29",
   "metadata": {
    "slideshow": {
     "slide_type": "slide"
    }
   },
   "source": [
    "# 2. Live GitHub workflow demo"
   ]
  },
  {
   "cell_type": "markdown",
   "id": "f57f1e51",
   "metadata": {
    "slideshow": {
     "slide_type": "slide"
    }
   },
   "source": [
    "# 3. Breakout Rooms"
   ]
  },
  {
   "cell_type": "markdown",
   "id": "2576e964",
   "metadata": {
    "slideshow": {
     "slide_type": "slide"
    }
   },
   "source": [
    "# 4. For next time"
   ]
  },
  {
   "cell_type": "markdown",
   "id": "2a9b9379",
   "metadata": {
    "slideshow": {
     "slide_type": "fragment"
    }
   },
   "source": [
    "- I will publish Lecture 6 Notebook the night before class. Make sure you can open it before class on Monday!"
   ]
  },
  {
   "cell_type": "markdown",
   "id": "749f1336",
   "metadata": {
    "slideshow": {
     "slide_type": "slide"
    }
   },
   "source": [
    "# 5. Questions?"
   ]
  }
 ],
 "metadata": {
  "celltoolbar": "Slideshow",
  "kernelspec": {
   "display_name": "Python 3 (ipykernel)",
   "language": "python",
   "name": "python3"
  },
  "language_info": {
   "codemirror_mode": {
    "name": "ipython",
    "version": 3
   },
   "file_extension": ".py",
   "mimetype": "text/x-python",
   "name": "python",
   "nbconvert_exporter": "python",
   "pygments_lexer": "ipython3",
   "version": "3.11.5"
  },
  "toc": {
   "base_numbering": 1,
   "nav_menu": {},
   "number_sections": false,
   "sideBar": false,
   "skip_h1_title": true,
   "title_cell": "Table of Contents",
   "title_sidebar": "Contents",
   "toc_cell": false,
   "toc_position": {},
   "toc_section_display": true,
   "toc_window_display": false
  }
 },
 "nbformat": 4,
 "nbformat_minor": 5
}
