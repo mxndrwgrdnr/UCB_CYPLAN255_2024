{
 "cells": [
  {
   "cell_type": "markdown",
   "id": "893c435f",
   "metadata": {
    "slideshow": {
     "slide_type": "slide"
    }
   },
   "source": [
    "# CYPLAN 255, Spring 2024\n",
    "## Urban Informatics and Data Visualization\n",
    "\n",
    "**Instructor: Max Gardner** <br>\n",
    "**GSI: Meiqing Li**"
   ]
  },
  {
   "cell_type": "markdown",
   "id": "8ff6adeb",
   "metadata": {
    "slideshow": {
     "slide_type": "slide"
    }
   },
   "source": [
    "# Lecture 03 -- Python from the Command Line\n",
    "*******\n",
    "January 24, 2024"
   ]
  },
  {
   "cell_type": "markdown",
   "id": "71e23616",
   "metadata": {
    "slideshow": {
     "slide_type": "slide"
    }
   },
   "source": [
    "# Agenda\n",
    "1. Announcements\n",
    "2. Getting started with GitHub (Cont'd)\n",
    "3. Python from the Command Line\n",
    "4. For next time\n",
    "5. Questions"
   ]
  },
  {
   "cell_type": "markdown",
   "id": "041c8dd3",
   "metadata": {
    "slideshow": {
     "slide_type": "slide"
    }
   },
   "source": [
    "# 1. Announcements"
   ]
  },
  {
   "cell_type": "markdown",
   "id": "cc4da355",
   "metadata": {
    "slideshow": {
     "slide_type": "fragment"
    }
   },
   "source": [
    "- Waitlist (good news)\n",
    "- Camera policy \n",
    "- Maptime! \n",
    "   - https://www.meetup.com/maptime-sf/events/298643532/\n",
    "- Error on GitHub cheat sheet:\n",
    "   - ~~CYPLAN255~~ --> UCB_CYPLAN255_2024"
   ]
  },
  {
   "cell_type": "markdown",
   "id": "9760f8bc",
   "metadata": {
    "slideshow": {
     "slide_type": "slide"
    }
   },
   "source": [
    "# 2. Git Cont'd"
   ]
  },
  {
   "cell_type": "markdown",
   "id": "3ef1b2d3",
   "metadata": {
    "slideshow": {
     "slide_type": "fragment"
    }
   },
   "source": [
    "![](https://lh3.googleusercontent.com/pw/ABLVV84wrG-7FUen9lAb3UkfD5Cg_KYFJutSW8RPXf0abaLKHnn4UJXEI0eDIXRQbP0fZviMeEWiEuBF-4YXpyCZ86ZD0rBsA-78Ps0WYxdW_X_XQqLjyYWPIph5rcV3T06kdcK-QwmUCu4NBo1NCEskHQ0oTQ=w3450-h1522-s-no)"
   ]
  },
  {
   "cell_type": "markdown",
   "id": "63ae974a",
   "metadata": {
    "slideshow": {
     "slide_type": "slide"
    }
   },
   "source": [
    "## 2.1 Authentication"
   ]
  },
  {
   "cell_type": "markdown",
   "id": "bf1fbdd4",
   "metadata": {
    "slideshow": {
     "slide_type": "fragment"
    }
   },
   "source": [
    "- Pushing any changes from local to remote repo requires authentication\n",
    "- Two options for authentication, determined when you clone a repo\n",
    "\n",
    "     | https + access token (see docs [here](https://docs.github.com/en/authentication/keeping-your-account-and-data-secure/managing-your-personal-access-tokens))| ssh + keypair (see docs [here](https://docs.github.com/en/authentication/connecting-to-github-with-ssh))|\n",
    "     |--|--|\n",
    "     |<img src=\"https://lh3.googleusercontent.com/pw/ABLVV87l6xAW6wHFiYWdpH_MxmBHqMHyHJPgiPDnYBcWVLCZ5gIONcP24M7NJZiQmUhe69k8ZVxqCSkw1MTYEkJdcYd9I_8RTw9ymaEGPMOkI_rx7MCYR8w8ORoUqICjrm18puL0pZr7YM4p4x3h0VGYxyxe3A=w786-h326-s-no\" width=70% align=\"center\"> | <img src=\"https://lh3.googleusercontent.com/pw/ABLVV86BYqb1hfWmd_UZHVeT5LZGG7aY5D53Pc5uZeWe3xPKJBxD5eFjbPv-8dSgyzk6bPLaWUfd-YEZHJpGMCrhaeQ66qGevKqENycoA1U9qVLkThcgol4yQSKbD7oyltekgM4_H_OfBrOLrX21JlYNqIV2LA=w776-h318-s-no\" width=70% align=\"center\"> |\n",
    "\n",
    "- https vs. ssh\n",
    "    - access token works like a password, you'll be asked to enter it each time you push a commit\n",
    "    - ssh does everything behind the scenes after you push your first commit, but requires a bit more work to setup\n"
   ]
  },
  {
   "cell_type": "markdown",
   "id": "70d0291d",
   "metadata": {
    "slideshow": {
     "slide_type": "slide"
    }
   },
   "source": [
    "## 2.2 Syncing your fork"
   ]
  },
  {
   "cell_type": "markdown",
   "id": "476a1982",
   "metadata": {
    "slideshow": {
     "slide_type": "slide"
    }
   },
   "source": [
    "### 2.2.1 The lazy way:\n",
    "1. Sync from the web GUI:\n",
    "   <img src=\"https://lh3.googleusercontent.com/pw/ABLVV85AWws_AzaMnsHy7caMV9u6W9523R1oBbiLIQbRZl6t8cirn0FHyS-DgLFQThPPWgTGCGlQlU-2rxO2uFTbXR4m3RU0hD0aLmEBECMYuYeu7LhTPj3l3idvG5KhCEb1EmoTiyiUYFNTImXooTSpDAqiHA=w1832-h966-s-no\" width=60%>\n",
    "2. `git pull` from your remote to local\n",
    "\n",
    "NOTE: Doing things the lazy way may cause problems for you down the road, so don't rely on it."
   ]
  },
  {
   "cell_type": "markdown",
   "id": "9d4aaa88",
   "metadata": {
    "slideshow": {
     "slide_type": "slide"
    }
   },
   "source": [
    "### 2.2.2 The proper way:\n",
    "1. Add `upstream` as an additional remote for your local copy of the repo:\n",
    "   - `git remote add upstream https://github.com/mxndrwgrdnr/UCB_CYPLAN255_2024.git`\n",
    "2. Make sure your on the \"main\" branch:\n",
    "   - `git checkout main`\n",
    "3. \"Fetch\" any changes to \"main\" from `upstream`, but don't merge them yet:\n",
    "   - `git fetch upstream`\n",
    "4. Merge any changes from `upstream/main` into your local repository:\n",
    "   - `git merge main`"
   ]
  },
  {
   "cell_type": "markdown",
   "id": "b7fcd68b",
   "metadata": {
    "slideshow": {
     "slide_type": "slide"
    }
   },
   "source": [
    "## 2.3 Tips for avoiding merge conflicts"
   ]
  },
  {
   "cell_type": "markdown",
   "id": "8fb49a08",
   "metadata": {
    "slideshow": {
     "slide_type": "fragment"
    }
   },
   "source": [
    "- Only commit changes from one file at a time:\n",
    "   - `git add my_script.py` instead of `git add .`\n",
    "- Create a copy of any file that you don't own, give it a new name, and edit that one, not the original!"
   ]
  },
  {
   "cell_type": "markdown",
   "id": "35f12d5b",
   "metadata": {
    "slideshow": {
     "slide_type": "slide"
    }
   },
   "source": [
    "# 3. Python from the Command Line\n",
    "<br>\n",
    "<br>\n",
    "<br>\n",
    "<br>\n",
    "<br>\n",
    "<br>\n",
    "<br>\n",
    "<br>\n",
    "NOTE: This portion of the notebook was heavily adapted from previous course material by Prof. Paul Waddell and Samuel Maurer."
   ]
  },
  {
   "cell_type": "markdown",
   "id": "2b0eb3cf",
   "metadata": {
    "slideshow": {
     "slide_type": "slide"
    }
   },
   "source": [
    "## 3.1 Installing Anaconda Python Bundle with Jupyter on Your Own Computer\n",
    "\n",
    "You should install Python on your own computer for this class to gain experience managing a Python installation and supporting libraries, and to give you more compute resources than you would get using Datahub.  Please use the following installer to make things as consistent as possible with the environment in class.\n",
    "\n",
    "- https://www.anaconda.com/products/individual\n",
    "\n",
    "You will find installers for each operating system, and the current default version is 3.9.  Please do not install an earlier version, especially not one below Python 3, since the syntax is very different and many libraries no longer support it.\n",
    "\n",
    "Python and the Anaconda distribution is free. In fact, all the software we will use in this class is open source and free (as in no cost). Python runs on Windows, OSX, and Linux, so regardless of what computer you are using, it will most likely run on it.   "
   ]
  },
  {
   "cell_type": "markdown",
   "id": "34029281",
   "metadata": {
    "cell_style": "split",
    "slideshow": {
     "slide_type": "slide"
    }
   },
   "source": [
    "## 3.2 Python vs. IPython vs. Jupyter\n",
    "- **Python** - an interpreted, high-level programming language\n",
    "    - At runtime, Python 'interpreter' reads the command, figures out what the intended computation is, and then executes it. \n",
    "    - This differs from low-level languages like C or C++, in which you generally have to _compile_ code before you can run it, and if you find errors they have to be diagnosed and then the code re-compiled before you can run it. \n",
    "    - Interpreted languages skip the compile step, and just execute code directly, and if there are errors, they are seen at runtime. "
   ]
  },
  {
   "cell_type": "markdown",
   "id": "e1603bd7",
   "metadata": {
    "cell_style": "split",
    "slideshow": {
     "slide_type": "fragment"
    }
   },
   "source": [
    "<img src=\"https://www.python.org/static/community_logos/python-logo-master-v3-TM.png\" width=200% align=\"center\">\n",
    "\n",
    "\n",
    "\n",
    "\n"
   ]
  },
  {
   "cell_type": "markdown",
   "id": "84e4b04d",
   "metadata": {
    "cell_style": "split",
    "slideshow": {
     "slide_type": "slide"
    }
   },
   "source": [
    "## 3.2 Python vs. IPython vs. Jupyter\n",
    "- IPython - “interactive” Python interpreter \n",
    "- Jupyter Notebooks - web-based GUI for IPython\n"
   ]
  },
  {
   "cell_type": "markdown",
   "id": "bd68d933",
   "metadata": {
    "cell_style": "split",
    "slideshow": {
     "slide_type": "fragment"
    }
   },
   "source": [
    "<img src=\"https://upload.wikimedia.org/wikipedia/commons/3/3c/IPython_Logo.png\" width=50% align=\"center\">\n",
    "<img src=\"https://miro.medium.com/v2/resize:fit:1400/format:webp/1*b1PpLl1-C8FWTLzNO3OqVA.jpeg\" width=20% align=\"center\">"
   ]
  },
  {
   "cell_type": "markdown",
   "id": "2687bed7",
   "metadata": {
    "slideshow": {
     "slide_type": "slide"
    }
   },
   "source": [
    "## 3.3 Options for running Python from a terminal"
   ]
  },
  {
   "cell_type": "markdown",
   "id": "5ea266bc",
   "metadata": {
    "slideshow": {
     "slide_type": "fragment"
    }
   },
   "source": [
    "When we write and execute Python code, we generally do that within an environment call as an interpreter. Python interpreters and editing environments can be quite varied. Some options include:\n",
    "- `python`\t\t\t\t--\t\tlaunch the default Python interpreter\n",
    "   - `exit()` \t\t\t--\t\t\texit\n",
    "   - `<ctrl> + d`   \t--\t\texit (Mac/Linux)\n",
    "   - `<ctrl> + z` \t\t--\texit (Windows)\n",
    "- `ipython`\t\t--\t\tlaunch the interactive Python interpreter\n",
    "   - `exit` \t--\t\t\t\t\texit\n",
    "   - `<ctrl> + d` --   \t\t\texit  (Mac/Linux)\n",
    "   - `<ctrl> + z` --  \t\t\texit (Windows)\n",
    "- `jupyter notebook` --\t\t\tlaunch a notebook server and dashboard\n",
    "   - `<quit>` --\t\texit (notebook dashboard)\n",
    "   - `<ctrl> + c` -- \t\t\texit (Mac/Linux)\n",
    "- Launch Python from an integrated development environment (IDE) like PyCharm or Visual Studio Code (VSCode)\n",
    "- `python my_script.py`\t--\texecute a Python script, interpreted in the background."
   ]
  },
  {
   "cell_type": "markdown",
   "id": "edbde0e5",
   "metadata": {
    "slideshow": {
     "slide_type": "slide"
    }
   },
   "source": [
    "## 3.4 Managing packages with virtual environments"
   ]
  },
  {
   "cell_type": "markdown",
   "id": "ac6e10c6",
   "metadata": {
    "slideshow": {
     "slide_type": "slide"
    }
   },
   "source": [
    "### 3.4.1 Python, Anaconda, Conda, etc."
   ]
  },
  {
   "cell_type": "markdown",
   "id": "dee66f18",
   "metadata": {
    "slideshow": {
     "slide_type": "fragment"
    }
   },
   "source": [
    "- **Anaconda** – a Python _distribution_ <img src=\"https://know.anaconda.com/rs/387-XNW-688/images/Anaconda_ForTrademark_HorizontalLarge_white.png\" width=50% align=\"right\">\n",
    "- **Conda** – a Python _package manager_ and _environment manager_\n",
    "   - Created by the Anaconda folks\n",
    "   - As a package manager:\n",
    "      - Installs Python libraries (packages) from package repositories (e.g. conda-forge)\n",
    "      - Manages dependencies and resolves conflicts\n",
    "      - Other examples: “pip”\n",
    "   - As an environment manager:\n",
    "      - Manages Python virtual environments (sandboxes)\n",
    "      - Other examples: “virtualenv”\n",
    "      \n",
    "      \n"
   ]
  },
  {
   "cell_type": "markdown",
   "id": "d39446b8",
   "metadata": {
    "slideshow": {
     "slide_type": "slide"
    }
   },
   "source": [
    "### 3.4.2 Max’s Tips for Creating a Conda Environment"
   ]
  },
  {
   "cell_type": "markdown",
   "id": "11488ff6",
   "metadata": {
    "slideshow": {
     "slide_type": "fragment"
    }
   },
   "source": [
    "- `conda create -n my-first-env`  <-- name this whatever you want\n",
    "- `conda activate my-first-env`\n",
    "- `conda config --add channels conda-forge`\n",
    "- `conda config --set channel_priority strict`\n",
    "- `conda install python ipython notebook nb_conda_kernels`\n",
    "- optional:\n",
    "   - `conda install jupyter_contrib_nbextensions`\n",
    "   - `jupyter contrib nbextension install --user`\n"
   ]
  },
  {
   "cell_type": "markdown",
   "id": "74bee47e",
   "metadata": {
    "slideshow": {
     "slide_type": "slide"
    }
   },
   "source": [
    "## 3.5 Jupyter Notebooks\n",
    "\n",
    "This first session will cover the basics of Python, and introduce elements that will help you get familiar with Python as an interactive computational environment for exploring data.  The material is presented in an interactive environment that runs within your web browser, called a Jupyter Notebook.  It allows presentation of text and graphics to be combined with Python code that can be run interactively, with the results appearing inline.  We are looking at a Jupyter notebook now.  ~~Note that Jupyter is a relatively recent name for this so sometimes you may still see it referred to as an IPython noteboook.  Jupyter is just the new version of IPython notebooks, but now also supports a variety of other languages and tools.~~  \n",
    "\n",
    "Let's start by getting familiar with the Jupyter Notebook and how it works.\n",
    "\n",
    "\n"
   ]
  },
  {
   "cell_type": "markdown",
   "id": "f203a04b",
   "metadata": {
    "slideshow": {
     "slide_type": "slide"
    }
   },
   "source": [
    "Once you have a shell, use `cd` (change directory) to navigate to whatever directory you want to work in. You'll need to use the command prompt from the beginning of this course, so get comfortable with basic commands this week if you are not already.\n",
    "\n",
    "At the command prompt, `cd` to the location of this notebook, and run the following command:\n",
    "- `jupyter notebook`\n",
    "\n",
    "This command does two things:\n",
    "1. launches a Jupyter Notebook Server in the terminal\n",
    "2. launches the [Notebook Dashboard](https://jupyter-notebook.readthedocs.io/en/stable/ui_components.html#notebook-dashboard) in the browser\n",
    "\n"
   ]
  },
  {
   "cell_type": "markdown",
   "id": "971f46f2",
   "metadata": {
    "slideshow": {
     "slide_type": "slide"
    }
   },
   "source": [
    "### 3.5.1 Using Jupyter Notebooks\n",
    "\n",
    "From the Notebook Dashboard, you can either load an existing notebook if you see one, create a new one (or open a terminal). If you started the server from the right place, you should see the name of this notebook listed there: **lecture_03_command_line_python.ipynb**. If you click on this notebook, another tab will open in your browser, containing this notebook, ready to use. Go ahead and do that.\n",
    "\n",
    "A notebook is made of cells. So in this notebook you've only seen cells that contain text. These are markdown cells. Notice the pulldown list for the cell type contains:\n",
    "\n",
    "* Code -- which we will use for Python code mainly, though it could use other languages\n",
    "* Markdown -- like this cell, using a flavor of structured text like that is used in Wikipedia and many other platforms\n",
    "* Other options will appear depending on what else is installed for use with Jupyter, like kernels for Scala, R, Octave, etc."
   ]
  },
  {
   "cell_type": "markdown",
   "id": "4ef822da",
   "metadata": {
    "slideshow": {
     "slide_type": "slide"
    }
   },
   "source": [
    "#### Edit Mode + Markdown\n",
    "You can edit the contents of a cell by double-clicking on it. The border of the cell will turn from blue to green. You are now in \"edit mode\". Try it on this cell. When you are ready to save the cell or exit edit mode, just use `<shift> + <enter>`. That's one way to run a cell. We will see how the code cells work next. Before going on to that, read a little bit about how you can format your text cells with Markdown [here](https://jupyter-notebook.readthedocs.io/en/stable/examples/Notebook/Working%20With%20Markdown%20Cells.html)\n",
    "\n",
    "For example, you can render LaTeX equations in your Markdown cells:\n",
    "\n",
    "- $y = \\alpha + \\beta X $\n",
    "- $c = \\sqrt{a^2 + b^2}$\n",
    "\n",
    "Or use the backtick \"\\`\" character to style text like lines of code:\n",
    "- `math.sqrt(98)`"
   ]
  },
  {
   "cell_type": "markdown",
   "id": "f99f6ed4",
   "metadata": {
    "slideshow": {
     "slide_type": "slide"
    }
   },
   "source": [
    "Cells can also contain lines of interactive code. The next cell contains a Python command. You can run that command in two ways:\n",
    "1. Select the cell in \"command mode\" (blue) and type `<shift> + <enter>`\n",
    "2. Clicking on the Run icon  (left of the black square), on the toolbar. \n",
    "\n",
    "Try running the next cell and notice that it executes the command and writes the output below the cell:"
   ]
  },
  {
   "cell_type": "code",
<<<<<<< HEAD
   "execution_count": 1,
   "id": "f618a553",
=======
   "execution_count": null,
   "id": "93200ac8",
>>>>>>> a037b90e7c01d8989b9b059efc1413a61795db50
   "metadata": {
    "slideshow": {
     "slide_type": "fragment"
    }
   },
   "outputs": [
    {
     "data": {
      "text/plain": [
       "7.0"
      ]
     },
     "execution_count": 1,
     "metadata": {},
     "output_type": "execute_result"
    }
   ],
   "source": [
    "import math\n",
    "math.sqrt(49)"
   ]
  },
  {
   "cell_type": "markdown",
   "id": "73b72b2d",
   "metadata": {
    "slideshow": {
     "slide_type": "slide"
    }
   },
   "source": [
    "## 3.6 Hello World!\n",
    "\n",
    "The first programming command demonstrated when you are learning a programming language is usually to make the computer print 'Hello World!'.  In Python, doing this is pretty simple:"
   ]
  },
  {
   "cell_type": "code",
<<<<<<< HEAD
   "execution_count": 2,
   "id": "9d87c349",
=======
   "execution_count": null,
   "id": "14287267",
>>>>>>> a037b90e7c01d8989b9b059efc1413a61795db50
   "metadata": {
    "slideshow": {
     "slide_type": "fragment"
    }
   },
<<<<<<< HEAD
   "outputs": [
    {
     "name": "stdout",
     "output_type": "stream",
     "text": [
      "Hello world!\n"
     ]
    }
   ],
   "source": [
    "print(\"Hello world!\")"
=======
   "outputs": [],
   "source": [
    "print(\"Hello World!\")"
>>>>>>> a037b90e7c01d8989b9b059efc1413a61795db50
   ]
  },
  {
   "cell_type": "markdown",
   "id": "3c52a3e8",
   "metadata": {
    "slideshow": {
     "slide_type": "fragment"
    }
   },
   "source": [
    "As you can see, there is not much code involved in making this happen.  The word 'print' is a command that Python knows how to process, and the text string 'Hello World!' in quotations is an **argument** being passes to the print command.  You can of course pass any kind of argument to the Python print command, and it will try to *do the right thing* without you having to micro-manage the process."
   ]
  },
  {
   "cell_type": "markdown",
   "id": "40716086",
   "metadata": {
    "slideshow": {
     "slide_type": "slide"
    }
   },
   "source": [
    "## 3.7 Python as an Interactive Calculator\n",
    "\n",
    "Python can be used as a simple interactive calculator, by just typing in a mathematical expression as you might on a regular or scientific calculator:"
   ]
  },
  {
   "cell_type": "code",
<<<<<<< HEAD
   "execution_count": 3,
   "id": "5f2e22ec",
=======
   "execution_count": null,
   "id": "b6651129",
>>>>>>> a037b90e7c01d8989b9b059efc1413a61795db50
   "metadata": {
    "slideshow": {
     "slide_type": "fragment"
    }
   },
   "outputs": [
    {
     "data": {
      "text/plain": [
       "-2"
      ]
     },
     "execution_count": 3,
     "metadata": {},
     "output_type": "execute_result"
    }
   ],
   "source": [
    "2 - 4"
   ]
  },
  {
   "cell_type": "markdown",
   "id": "de1f2665",
   "metadata": {
    "slideshow": {
     "slide_type": "fragment"
    }
   },
   "source": [
    "What happened above is that Python interpreted the line `2 - 4` to parse that it should understand the first object it encountered as an integer, the second object as a mathematical operator for addition, and the third as another integer.  Python's interpreter mostly just tries to figure out what you mean when you write statements like this, and as long as it is unambiguous and feasible to compute, it just does it without you having to explain things in detail."
   ]
  },
  {
   "cell_type": "markdown",
   "id": "a5ed42d3",
   "metadata": {
    "slideshow": {
     "slide_type": "slide"
    }
   },
   "source": [
    "You can of course use any kinds of numbers (e.g. integers or decimals), and any standard mathematical operators, and most of the time you get what you expect:"
   ]
  },
  {
   "cell_type": "code",
<<<<<<< HEAD
   "execution_count": 4,
   "id": "8a8faa23",
=======
   "execution_count": null,
   "id": "c21bc8d7",
>>>>>>> a037b90e7c01d8989b9b059efc1413a61795db50
   "metadata": {
    "slideshow": {
     "slide_type": "fragment"
    }
   },
   "outputs": [
    {
     "data": {
      "text/plain": [
       "12.8"
      ]
     },
     "execution_count": 4,
     "metadata": {},
     "output_type": "execute_result"
    }
   ],
   "source": [
    "3.2 * 4"
   ]
  },
  {
   "cell_type": "code",
<<<<<<< HEAD
   "execution_count": 5,
   "id": "3708fd28",
=======
   "execution_count": null,
   "id": "2f2ad7fe",
>>>>>>> a037b90e7c01d8989b9b059efc1413a61795db50
   "metadata": {
    "slideshow": {
     "slide_type": "fragment"
    }
   },
   "outputs": [
    {
     "data": {
      "text/plain": [
       "81"
      ]
     },
     "execution_count": 5,
     "metadata": {},
     "output_type": "execute_result"
    }
   ],
   "source": [
    "3 ** 4"
   ]
  },
  {
   "cell_type": "markdown",
   "id": "a2fd1fad",
   "metadata": {
    "slideshow": {
     "slide_type": "subslide"
    }
   },
   "source": [
    "### A Note on Calculating with Different Data Types\n",
    "\n",
    "What happens if we perform computations with mixed types?"
   ]
  },
  {
   "cell_type": "code",
<<<<<<< HEAD
   "execution_count": 6,
   "id": "24d6c924",
=======
   "execution_count": null,
   "id": "f075c969",
>>>>>>> a037b90e7c01d8989b9b059efc1413a61795db50
   "metadata": {
    "slideshow": {
     "slide_type": "fragment"
    }
   },
   "outputs": [
    {
     "name": "stdout",
     "output_type": "stream",
     "text": [
      "15\n"
     ]
    },
    {
     "data": {
      "text/plain": [
       "int"
      ]
     },
     "execution_count": 6,
     "metadata": {},
     "output_type": "execute_result"
    }
   ],
   "source": [
    "print(12 + 3)\n",
    "type(12 + 3)"
   ]
  },
  {
   "cell_type": "code",
<<<<<<< HEAD
   "execution_count": 7,
   "id": "d5225dc7",
=======
   "execution_count": null,
   "id": "ba8fe763",
>>>>>>> a037b90e7c01d8989b9b059efc1413a61795db50
   "metadata": {
    "slideshow": {
     "slide_type": "fragment"
    }
   },
   "outputs": [
    {
     "name": "stdout",
     "output_type": "stream",
     "text": [
      "15.0\n"
     ]
    },
    {
     "data": {
      "text/plain": [
       "float"
      ]
     },
     "execution_count": 7,
     "metadata": {},
     "output_type": "execute_result"
    }
   ],
   "source": [
    "print(12. + 3)\n",
    "type(12. + 3)"
   ]
  },
  {
   "cell_type": "markdown",
   "id": "28dec3d3",
   "metadata": {
    "slideshow": {
     "slide_type": "slide"
    }
   },
   "source": [
    "## 3.8 The Interactive Plotting Environment\n",
    "\n",
    "OK, so maybe using Python as an interactive calculator is not the most compelling case for using Python, even if it does demonstrate that Python has a very shallow learning curve for someone completely new to programming.  You can actually begin using it productively even before learning how to program in it!\n",
    "\n",
    "To give a preview of somewhat more advanced topics, let's look at the interactive plotting mode in IPython that we can invoke by using 'magic' commands, and importing some modules: "
   ]
  },
  {
   "cell_type": "code",
<<<<<<< HEAD
   "execution_count": 8,
   "id": "75131aa7",
=======
   "execution_count": null,
   "id": "4d831620",
>>>>>>> a037b90e7c01d8989b9b059efc1413a61795db50
   "metadata": {
    "slideshow": {
     "slide_type": "fragment"
    }
   },
   "outputs": [],
   "source": [
    "#import necessary packages/modules\n",
    "import pandas as pd, numpy as np, matplotlib.pyplot as plt"
   ]
  },
  {
   "cell_type": "markdown",
   "id": "270e360f",
   "metadata": {
    "slideshow": {
     "slide_type": "fragment"
    }
   },
   "source": [
    "This loads pandas and numpy and the matplotlib plotting environment.  We'll come back to these libraries in more detail later, but now let's look at how they allow us to extend the range of things we can do.  Let's assign 100 sequential numbers to a variable labeled x, and create another variable, y, that has some transformation of x, and then plot y against x:"
   ]
  },
  {
   "cell_type": "code",
<<<<<<< HEAD
   "execution_count": 9,
   "id": "cf094238",
   "metadata": {},
   "outputs": [
    {
     "name": "stdout",
     "output_type": "stream",
     "text": [
      "range(0, 100)\n",
      "[0, 1, 2, 3, 4, 5, 6, 7, 8, 9, 10, 11, 12, 13, 14, 15, 16, 17, 18, 19, 20, 21, 22, 23, 24, 25, 26, 27, 28, 29, 30, 31, 32, 33, 34, 35, 36, 37, 38, 39, 40, 41, 42, 43, 44, 45, 46, 47, 48, 49, 50, 51, 52, 53, 54, 55, 56, 57, 58, 59, 60, 61, 62, 63, 64, 65, 66, 67, 68, 69, 70, 71, 72, 73, 74, 75, 76, 77, 78, 79, 80, 81, 82, 83, 84, 85, 86, 87, 88, 89, 90, 91, 92, 93, 94, 95, 96, 97, 98, 99]\n"
     ]
    }
   ],
=======
   "execution_count": null,
   "id": "1a938b01",
   "metadata": {
    "slideshow": {
     "slide_type": "fragment"
    }
   },
   "outputs": [],
>>>>>>> a037b90e7c01d8989b9b059efc1413a61795db50
   "source": [
    "x = range(100)\n",
    "print(x)\n",
    "print(list(x))"
   ]
  },
  {
   "cell_type": "code",
<<<<<<< HEAD
   "execution_count": 10,
   "id": "d7856d80",
=======
   "execution_count": null,
   "id": "8d003d97",
>>>>>>> a037b90e7c01d8989b9b059efc1413a61795db50
   "metadata": {
    "slideshow": {
     "slide_type": "fragment"
    }
   },
   "outputs": [
    {
     "name": "stdout",
     "output_type": "stream",
     "text": [
      "The first 10 entries in y: [ 0.          0.84147098  0.90929743  0.14112001 -0.7568025  -0.95892427\n",
      " -0.2794155   0.6569866   0.98935825  0.41211849]\n"
     ]
    }
   ],
   "source": [
    "y = np.sin(x)\n",
    "print(\"The first 10 entries in y: {0}\".format(y[:10])) "
   ]
  },
  {
   "cell_type": "code",
<<<<<<< HEAD
   "execution_count": 11,
   "id": "4bf7e2a7",
=======
   "execution_count": null,
   "id": "d1b3fa0b",
>>>>>>> a037b90e7c01d8989b9b059efc1413a61795db50
   "metadata": {
    "slideshow": {
     "slide_type": "slide"
    }
   },
   "outputs": [
    {
     "data": {
      "text/plain": [
       "[<matplotlib.lines.Line2D at 0x12650bf90>]"
      ]
     },
     "execution_count": 11,
     "metadata": {},
     "output_type": "execute_result"
    },
    {
     "data": {
      "image/png": "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",
      "text/plain": [
       "<Figure size 640x480 with 1 Axes>"
      ]
     },
     "metadata": {},
     "output_type": "display_data"
    }
   ],
   "source": [
    "plt.plot(x, x * y)"
   ]
  },
  {
   "cell_type": "markdown",
   "id": "75df5da5",
   "metadata": {
    "slideshow": {
     "slide_type": "slide"
    }
   },
   "source": [
    "Or here is how we could draw 1,000 random numbers from a normal distribution, and plot the results as a frequency histogram:"
   ]
  },
  {
   "cell_type": "code",
<<<<<<< HEAD
   "execution_count": 44,
   "id": "0c08abea",
=======
   "execution_count": null,
   "id": "3ef3b2dc",
>>>>>>> a037b90e7c01d8989b9b059efc1413a61795db50
   "metadata": {
    "slideshow": {
     "slide_type": "fragment"
    }
   },
   "outputs": [
    {
     "data": {
      "image/png": "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",
      "text/plain": [
       "<Figure size 640x480 with 1 Axes>"
      ]
     },
     "metadata": {},
     "output_type": "display_data"
    }
   ],
   "source": [
    "x = np.random.randn(1000)\n",
    "_ = plt.hist(x, bins=30)\n",
    "y = x * 5"
   ]
  },
  {
   "cell_type": "markdown",
   "id": "57b37a18",
   "metadata": {
    "slideshow": {
     "slide_type": "slide"
    }
   },
   "source": [
    "## 3.9 Getting Some Help\n",
    "\n",
    "A couple of things that IPython does to help you be more productive are useful to introduce here. \n",
    "\n",
    "One is called **tab-completion**. If you can't quite remember the full name of a function, or it is really long and you don't like to type much, you can type the first few characters, and hit the `<tab>` key, and the options that begin with those first few characters show up on a menu.\n",
    "\n",
    "You can also use `<shift> + <tab>` to display a **tool-tip** for a function you may have forgotten how to use.\n",
    "\n",
    "Try these in the cell below:"
   ]
  },
  {
   "cell_type": "code",
<<<<<<< HEAD
   "execution_count": 46,
   "id": "383b0982",
=======
   "execution_count": null,
   "id": "c24b1abf",
>>>>>>> a037b90e7c01d8989b9b059efc1413a61795db50
   "metadata": {
    "slideshow": {
     "slide_type": "fragment"
    }
   },
   "outputs": [
    {
     "data": {
      "text/plain": [
       "[<matplotlib.lines.Line2D at 0x12a97a510>]"
      ]
     },
     "execution_count": 46,
     "metadata": {},
     "output_type": "execute_result"
    },
    {
     "data": {
      "image/png": "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",
      "text/plain": [
       "<Figure size 640x480 with 1 Axes>"
      ]
     },
     "metadata": {},
     "output_type": "display_data"
    }
   ],
   "source": [
<<<<<<< HEAD
    "plt.plot(x, x + y)"
=======
    "plt.hist()"
>>>>>>> a037b90e7c01d8989b9b059efc1413a61795db50
   ]
  },
  {
   "cell_type": "markdown",
   "id": "28781a07",
   "metadata": {
    "slideshow": {
     "slide_type": "slide"
    }
   },
   "source": [
    "The other thing you can make a lot of use of is **help**! If you want to know more about how a method or function works, type the name of the function followed by `?`. For example, if we wanted to see how to configure the hist command, we could do:"
   ]
  },
  {
   "cell_type": "code",
<<<<<<< HEAD
   "execution_count": 17,
   "id": "52b4cfb2",
=======
   "execution_count": null,
   "id": "1a93238e",
>>>>>>> a037b90e7c01d8989b9b059efc1413a61795db50
   "metadata": {
    "slideshow": {
     "slide_type": "fragment"
    }
   },
   "outputs": [],
   "source": [
    "plt.hist?"
   ]
  },
  {
   "cell_type": "markdown",
   "id": "6a62a8d8",
   "metadata": {
    "slideshow": {
     "slide_type": "fragment"
    }
   },
   "source": [
    "This brings up help text for this command, in a split window in the IPython Notebook.  After you read the help, you can minimize the help window by dragging the divider down to the bottom of the Notebook window."
   ]
  },
  {
   "cell_type": "markdown",
   "id": "71b06ba2",
   "metadata": {
    "slideshow": {
     "slide_type": "slide"
    }
   },
   "source": [
    "Another interactive feature I use all the time is the `dir()` function. With no argument, it will tell you about all of the Python objects you have access to in your **namespace**. Or, if you pass in a Python object, it will tell you all of the attributes of that object. Give it a try:"
   ]
  },
  {
   "cell_type": "code",
<<<<<<< HEAD
   "execution_count": 18,
   "id": "9ef80fc4",
   "metadata": {},
   "outputs": [
    {
     "data": {
      "text/plain": [
       "['In',\n",
       " 'Out',\n",
       " '_',\n",
       " '_1',\n",
       " '_11',\n",
       " '_3',\n",
       " '_4',\n",
       " '_5',\n",
       " '_6',\n",
       " '_7',\n",
       " '__',\n",
       " '___',\n",
       " '__builtin__',\n",
       " '__builtins__',\n",
       " '__doc__',\n",
       " '__loader__',\n",
       " '__name__',\n",
       " '__package__',\n",
       " '__spec__',\n",
       " '_dh',\n",
       " '_i',\n",
       " '_i1',\n",
       " '_i10',\n",
       " '_i11',\n",
       " '_i12',\n",
       " '_i13',\n",
       " '_i14',\n",
       " '_i15',\n",
       " '_i16',\n",
       " '_i17',\n",
       " '_i18',\n",
       " '_i2',\n",
       " '_i3',\n",
       " '_i4',\n",
       " '_i5',\n",
       " '_i6',\n",
       " '_i7',\n",
       " '_i8',\n",
       " '_i9',\n",
       " '_ih',\n",
       " '_ii',\n",
       " '_iii',\n",
       " '_oh',\n",
       " 'exit',\n",
       " 'get_ipython',\n",
       " 'math',\n",
       " 'np',\n",
       " 'open',\n",
       " 'pd',\n",
       " 'plt',\n",
       " 'quit',\n",
       " 'x',\n",
       " 'y']"
      ]
     },
     "execution_count": 18,
     "metadata": {},
     "output_type": "execute_result"
    }
   ],
=======
   "execution_count": null,
   "id": "5d20ad8e",
   "metadata": {
    "slideshow": {
     "slide_type": "fragment"
    }
   },
   "outputs": [],
>>>>>>> a037b90e7c01d8989b9b059efc1413a61795db50
   "source": [
    "dir()"
   ]
  },
  {
   "cell_type": "code",
<<<<<<< HEAD
   "execution_count": 19,
   "id": "33ea1ac2",
=======
   "execution_count": null,
   "id": "0d5df236",
>>>>>>> a037b90e7c01d8989b9b059efc1413a61795db50
   "metadata": {
    "scrolled": false,
    "slideshow": {
     "slide_type": "fragment"
    }
   },
   "outputs": [
    {
     "data": {
      "text/plain": [
       "['T',\n",
       " '__abs__',\n",
       " '__add__',\n",
       " '__and__',\n",
       " '__array__',\n",
       " '__array_finalize__',\n",
       " '__array_function__',\n",
       " '__array_interface__',\n",
       " '__array_prepare__',\n",
       " '__array_priority__',\n",
       " '__array_struct__',\n",
       " '__array_ufunc__',\n",
       " '__array_wrap__',\n",
       " '__bool__',\n",
       " '__class__',\n",
       " '__class_getitem__',\n",
       " '__complex__',\n",
       " '__contains__',\n",
       " '__copy__',\n",
       " '__deepcopy__',\n",
       " '__delattr__',\n",
       " '__delitem__',\n",
       " '__dir__',\n",
       " '__divmod__',\n",
       " '__dlpack__',\n",
       " '__dlpack_device__',\n",
       " '__doc__',\n",
       " '__eq__',\n",
       " '__float__',\n",
       " '__floordiv__',\n",
       " '__format__',\n",
       " '__ge__',\n",
       " '__getattribute__',\n",
       " '__getitem__',\n",
       " '__getstate__',\n",
       " '__gt__',\n",
       " '__hash__',\n",
       " '__iadd__',\n",
       " '__iand__',\n",
       " '__ifloordiv__',\n",
       " '__ilshift__',\n",
       " '__imatmul__',\n",
       " '__imod__',\n",
       " '__imul__',\n",
       " '__index__',\n",
       " '__init__',\n",
       " '__init_subclass__',\n",
       " '__int__',\n",
       " '__invert__',\n",
       " '__ior__',\n",
       " '__ipow__',\n",
       " '__irshift__',\n",
       " '__isub__',\n",
       " '__iter__',\n",
       " '__itruediv__',\n",
       " '__ixor__',\n",
       " '__le__',\n",
       " '__len__',\n",
       " '__lshift__',\n",
       " '__lt__',\n",
       " '__matmul__',\n",
       " '__mod__',\n",
       " '__mul__',\n",
       " '__ne__',\n",
       " '__neg__',\n",
       " '__new__',\n",
       " '__or__',\n",
       " '__pos__',\n",
       " '__pow__',\n",
       " '__radd__',\n",
       " '__rand__',\n",
       " '__rdivmod__',\n",
       " '__reduce__',\n",
       " '__reduce_ex__',\n",
       " '__repr__',\n",
       " '__rfloordiv__',\n",
       " '__rlshift__',\n",
       " '__rmatmul__',\n",
       " '__rmod__',\n",
       " '__rmul__',\n",
       " '__ror__',\n",
       " '__rpow__',\n",
       " '__rrshift__',\n",
       " '__rshift__',\n",
       " '__rsub__',\n",
       " '__rtruediv__',\n",
       " '__rxor__',\n",
       " '__setattr__',\n",
       " '__setitem__',\n",
       " '__setstate__',\n",
       " '__sizeof__',\n",
       " '__str__',\n",
       " '__sub__',\n",
       " '__subclasshook__',\n",
       " '__truediv__',\n",
       " '__xor__',\n",
       " 'all',\n",
       " 'any',\n",
       " 'argmax',\n",
       " 'argmin',\n",
       " 'argpartition',\n",
       " 'argsort',\n",
       " 'astype',\n",
       " 'base',\n",
       " 'byteswap',\n",
       " 'choose',\n",
       " 'clip',\n",
       " 'compress',\n",
       " 'conj',\n",
       " 'conjugate',\n",
       " 'copy',\n",
       " 'ctypes',\n",
       " 'cumprod',\n",
       " 'cumsum',\n",
       " 'data',\n",
       " 'diagonal',\n",
       " 'dot',\n",
       " 'dtype',\n",
       " 'dump',\n",
       " 'dumps',\n",
       " 'fill',\n",
       " 'flags',\n",
       " 'flat',\n",
       " 'flatten',\n",
       " 'getfield',\n",
       " 'imag',\n",
       " 'item',\n",
       " 'itemset',\n",
       " 'itemsize',\n",
       " 'max',\n",
       " 'mean',\n",
       " 'min',\n",
       " 'nbytes',\n",
       " 'ndim',\n",
       " 'newbyteorder',\n",
       " 'nonzero',\n",
       " 'partition',\n",
       " 'prod',\n",
       " 'ptp',\n",
       " 'put',\n",
       " 'ravel',\n",
       " 'real',\n",
       " 'repeat',\n",
       " 'reshape',\n",
       " 'resize',\n",
       " 'round',\n",
       " 'searchsorted',\n",
       " 'setfield',\n",
       " 'setflags',\n",
       " 'shape',\n",
       " 'size',\n",
       " 'sort',\n",
       " 'squeeze',\n",
       " 'std',\n",
       " 'strides',\n",
       " 'sum',\n",
       " 'swapaxes',\n",
       " 'take',\n",
       " 'tobytes',\n",
       " 'tofile',\n",
       " 'tolist',\n",
       " 'tostring',\n",
       " 'trace',\n",
       " 'transpose',\n",
       " 'var',\n",
       " 'view']"
      ]
     },
     "execution_count": 19,
     "metadata": {},
     "output_type": "execute_result"
    }
   ],
   "source": [
    "dir(x)"
   ]
  },
  {
   "cell_type": "code",
<<<<<<< HEAD
   "execution_count": 20,
   "id": "faf06bd5",
   "metadata": {},
   "outputs": [
    {
     "data": {
      "text/plain": [
       "3.217090217648797"
      ]
     },
     "execution_count": 20,
     "metadata": {},
     "output_type": "execute_result"
    }
   ],
=======
   "execution_count": null,
   "id": "42aa4a19",
   "metadata": {
    "slideshow": {
     "slide_type": "fragment"
    }
   },
   "outputs": [],
>>>>>>> a037b90e7c01d8989b9b059efc1413a61795db50
   "source": [
    "x.max()"
   ]
  },
  {
   "cell_type": "markdown",
   "id": "80b9742e",
   "metadata": {
    "slideshow": {
     "slide_type": "slide"
    }
   },
   "source": [
    "## 3.10 Useful Notebook shortcuts\n",
    "\n",
    "For more shortcuts see `Help > Keyboard Shortcuts` in the file menu at the top of this page\n",
    "\n",
    "### Command mode\n",
    "- `00` -- Restart the kernel\n",
    "- `<shift> + m` -- Merge the contents of a cell with the cell below it\n",
    "- `a` -- Create a new blank cell above this one\n",
    "- `b` -- Create a new blank cell below this one\n",
    "- `dd` -- Delete this cell\n",
    "- `y` -- Convert cell to code\n",
    "- `m` -- Convert cell to markdown"
   ]
  },
  {
   "cell_type": "markdown",
   "id": "5ba9ce98",
   "metadata": {
    "slideshow": {
     "slide_type": "slide"
    }
   },
   "source": [
    "## 3.11 Python Fundamentals"
   ]
  },
  {
   "cell_type": "markdown",
   "id": "79651815",
   "metadata": {
    "slideshow": {
     "slide_type": "slide"
    }
   },
   "source": [
    "### 3.11.1 What is a Program?\n",
    "\n",
    "As Allen Downey explains in _Think Python_ the main elements of a program are:\n",
    "\n",
    "- **input**: Get data from the keyboard, a ﬁle, or some other device.\n",
    "- **output**: Display data on the screen or send data to a ﬁle or other device.\n",
    "- **math**: Perform basic mathematical operations like addition and multiplication.\n",
    "- **conditional execution**: Check for certain conditions and execute the appropriate code.\n",
    "- **repetition**: Perform some action repeatedly, usually with some variation.\n",
    "\n",
    "These are common steps that you will find to be a generic recipe for many programs, whether written in Python or any other language."
   ]
  },
  {
   "cell_type": "markdown",
   "id": "6b847eee",
   "metadata": {
    "slideshow": {
     "slide_type": "slide"
    }
   },
   "source": [
    "###  3.11.2  Basic Data Types\n",
    "\n",
    "Data in Python is interpreted as having a **type**.  In low-level, compiled languages like C or C++, the programmer has to explicitly declare the type of each variable before actually using it.  In Python, the type is inferred at run time, and you can always ask Python what the type of an object is:"
   ]
  },
  {
   "cell_type": "code",
<<<<<<< HEAD
   "execution_count": 21,
   "id": "354ee2c7",
=======
   "execution_count": null,
   "id": "22e8e615",
>>>>>>> a037b90e7c01d8989b9b059efc1413a61795db50
   "metadata": {
    "slideshow": {
     "slide_type": "fragment"
    }
   },
   "outputs": [
    {
     "data": {
      "text/plain": [
       "int"
      ]
     },
     "execution_count": 21,
     "metadata": {},
     "output_type": "execute_result"
    }
   ],
   "source": [
    "a = 13\n",
    "type(a)"
   ]
  },
  {
   "cell_type": "code",
<<<<<<< HEAD
   "execution_count": 22,
   "id": "df3e6752",
=======
   "execution_count": null,
   "id": "31720901",
>>>>>>> a037b90e7c01d8989b9b059efc1413a61795db50
   "metadata": {
    "slideshow": {
     "slide_type": "fragment"
    }
   },
   "outputs": [
    {
     "data": {
      "text/plain": [
       "float"
      ]
     },
     "execution_count": 22,
     "metadata": {},
     "output_type": "execute_result"
    }
   ],
   "source": [
    "a = a * 1.1\n",
    "type(a)"
   ]
  },
  {
   "cell_type": "code",
<<<<<<< HEAD
   "execution_count": 23,
   "id": "61dd3cec",
=======
   "execution_count": null,
   "id": "a6c5ef2a",
>>>>>>> a037b90e7c01d8989b9b059efc1413a61795db50
   "metadata": {
    "slideshow": {
     "slide_type": "fragment"
    }
   },
   "outputs": [
    {
     "data": {
      "text/plain": [
       "str"
      ]
     },
     "execution_count": 23,
     "metadata": {},
     "output_type": "execute_result"
    }
   ],
   "source": [
    "a = 'Hello World!'\n",
    "type(a)"
   ]
  },
  {
   "cell_type": "markdown",
   "id": "461be0db",
   "metadata": {
    "slideshow": {
     "slide_type": "subslide"
    }
   },
   "source": [
    "Notice that when we multiply `a`, which was initially an integer, by a floating point (decimal number) the result is **cast** as a float.  This is like the integer divide problem earlier -- using a floating point number in the calculation causes the result of the calculation to become a floating point number.\n",
    "\n",
    "Notice also that we can reassign any value or type to a variable.  We began with `a` being an integer, then changed its value to a float, and then to a string (text).  Variables are dynamically updated in this way based on values assigned to them. That's what people mean when they say Python is a _dynamically typed_ language, instead of a _statically typed_ language like C++."
   ]
  },
  {
   "cell_type": "markdown",
   "id": "c0845888",
   "metadata": {
    "slideshow": {
     "slide_type": "slide"
    }
   },
   "source": [
    "### 3.11.3 Lists\n",
    "In Python, you can also make lists of numbers. A Python **list** is enclosed in square brackets. Items inside the list are separated by commas."
   ]
  },
  {
   "cell_type": "code",
<<<<<<< HEAD
   "execution_count": 24,
   "id": "49d5722a",
=======
   "execution_count": null,
   "id": "9af8018c",
>>>>>>> a037b90e7c01d8989b9b059efc1413a61795db50
   "metadata": {
    "slideshow": {
     "slide_type": "fragment"
    }
   },
   "outputs": [
    {
     "data": {
      "text/plain": [
       "[7.0, 6.24, 9.98, 4]"
      ]
     },
     "execution_count": 24,
     "metadata": {},
     "output_type": "execute_result"
    }
   ],
   "source": [
    "# a list\n",
    "[7.0, 6.24, 9.98, 4]"
   ]
  },
  {
   "cell_type": "markdown",
   "id": "4040764d",
   "metadata": {
    "slideshow": {
     "slide_type": "fragment"
    }
   },
   "source": [
    "Lists can be stored as variables, which is handy for when you want to want to save a set of items without writing them out over and over again."
   ]
  },
  {
   "cell_type": "code",
<<<<<<< HEAD
   "execution_count": 25,
   "id": "377801ee",
=======
   "execution_count": null,
   "id": "3bf877d6",
>>>>>>> a037b90e7c01d8989b9b059efc1413a61795db50
   "metadata": {
    "slideshow": {
     "slide_type": "fragment"
    }
   },
   "outputs": [
    {
     "data": {
      "text/plain": [
       "[4, 8, 15, 16, 23, 42]"
      ]
     },
     "execution_count": 25,
     "metadata": {},
     "output_type": "execute_result"
    }
   ],
   "source": [
    "my_list = [4, 8, 15, 16, 23, 42]\n",
    "my_list"
   ]
  },
  {
   "cell_type": "markdown",
   "id": "1b8642c5",
   "metadata": {
    "slideshow": {
     "slide_type": "slide"
    }
   },
   "source": [
    "### 3.11.4 Variables\n",
    "\n",
    "Variables are named objects that we use to store a value. They can be of any type: "
   ]
  },
  {
   "cell_type": "code",
<<<<<<< HEAD
   "execution_count": 26,
   "id": "93796cc9",
=======
   "execution_count": null,
   "id": "f12ea321",
>>>>>>> a037b90e7c01d8989b9b059efc1413a61795db50
   "metadata": {
    "slideshow": {
     "slide_type": "fragment"
    }
   },
   "outputs": [
    {
     "name": "stdout",
     "output_type": "stream",
     "text": [
      "San Francisco is a  <class 'str'>\n"
     ]
    }
   ],
   "source": [
    "city = 'San Francisco'\n",
    "print(city, 'is a ', type(city))"
   ]
  },
  {
   "cell_type": "code",
<<<<<<< HEAD
   "execution_count": 27,
   "id": "02f10802",
=======
   "execution_count": null,
   "id": "00f604e1",
>>>>>>> a037b90e7c01d8989b9b059efc1413a61795db50
   "metadata": {
    "slideshow": {
     "slide_type": "fragment"
    }
   },
   "outputs": [
    {
     "name": "stdout",
     "output_type": "stream",
     "text": [
      "345 is a  <class 'int'>\n"
     ]
    }
   ],
   "source": [
    "x = 345\n",
    "print(x, 'is a ', type(x))"
   ]
  },
  {
   "cell_type": "code",
<<<<<<< HEAD
   "execution_count": 28,
   "id": "db6e601d",
=======
   "execution_count": null,
   "id": "c438faab",
>>>>>>> a037b90e7c01d8989b9b059efc1413a61795db50
   "metadata": {
    "slideshow": {
     "slide_type": "fragment"
    }
   },
   "outputs": [
    {
     "name": "stdout",
     "output_type": "stream",
     "text": [
      "2.324 is a  <class 'float'>\n"
     ]
    }
   ],
   "source": [
    "y = 2.324\n",
    "print(y, 'is a ', type(y))"
   ]
  },
  {
   "cell_type": "markdown",
   "id": "bd0b7f8f",
   "metadata": {
    "slideshow": {
     "slide_type": "slide"
    }
   },
   "source": [
    "You can use a lot of names for a variable, but there are exceptions (another word for error!).  Some rules apply.  You can't use Python reserved words, or start with a number, or use nonstandard characters like a copyright symbol.  You'll get an **exception** if you do:"
   ]
  },
  {
   "cell_type": "code",
<<<<<<< HEAD
   "execution_count": 29,
   "id": "7f4847bc",
=======
   "execution_count": null,
   "id": "82237a49",
>>>>>>> a037b90e7c01d8989b9b059efc1413a61795db50
   "metadata": {
    "slideshow": {
     "slide_type": "fragment"
    }
   },
   "outputs": [
    {
     "ename": "SyntaxError",
     "evalue": "invalid decimal literal (4037902406.py, line 1)",
     "output_type": "error",
     "traceback": [
      "\u001b[0;36m  Cell \u001b[0;32mIn[29], line 1\u001b[0;36m\u001b[0m\n\u001b[0;31m    2x = 24\u001b[0m\n\u001b[0m    ^\u001b[0m\n\u001b[0;31mSyntaxError\u001b[0m\u001b[0;31m:\u001b[0m invalid decimal literal\n"
     ]
    }
   ],
   "source": [
    "2x = 24"
   ]
  },
  {
   "cell_type": "markdown",
   "id": "e867c2d4",
   "metadata": {
    "slideshow": {
     "slide_type": "fragment"
    }
   },
   "source": [
    "And here are the 31 keywords reserved by Python (in version 2), that are ineligible for use as variable names:\n",
    "\n",
    "`and`, `as`, `assert`, `break`, `class`, `continue`, `def`, `del`, `elif`, `else`, `except`, `exec`, `finally`, `for`, `from`, `global`, `if`, `import`, `in`, `is`, `lambda`, `not`, `or`, `pass`, `print`, `raise`, `return`, `try`, `while`, `with`, `yield`."
   ]
  },
  {
   "cell_type": "markdown",
   "id": "c710cd0b",
   "metadata": {
    "slideshow": {
     "slide_type": "slide"
    }
   },
   "source": [
    "### 3.11.5 Operators and Equations\n",
    "\n",
    "Operators are symbols used to indicate different operations, mostly mathematical, but some operate on strings also. Many basic arithmetic operations are built into Python, like:\n",
    "- `+` -- addition\n",
    "- `-` -- subtraction\n",
    "- `*` -- multiplication\n",
    "- `/` -- division\n",
    "- `**` or `^` -- exponentiation\n",
    "- `%` -- modulo\n",
    "\n",
    "There are many others, which you can find information about [here](http://www.inferentialthinking.com/chapters/03/1/expressions.html). \n"
   ]
  },
  {
   "cell_type": "markdown",
   "id": "019f8a3d",
   "metadata": {
    "slideshow": {
     "slide_type": "slide"
    }
   },
   "source": [
    "The computer evaluates arithmetic according to the PEMDAS order of operations (just like you probably learned in middle school): anything in parentheses is done first, followed by exponents, then multiplication and division, and finally addition and subtraction.\n",
    "Some basic operations:"
   ]
  },
  {
   "cell_type": "code",
<<<<<<< HEAD
   "execution_count": 30,
   "id": "47ff428f",
=======
   "execution_count": null,
   "id": "f13a75fb",
>>>>>>> a037b90e7c01d8989b9b059efc1413a61795db50
   "metadata": {
    "slideshow": {
     "slide_type": "fragment"
    }
   },
   "outputs": [
    {
     "data": {
      "text/plain": [
       "25"
      ]
     },
     "execution_count": 30,
     "metadata": {},
     "output_type": "execute_result"
    }
   ],
   "source": [
    "5 * 5"
   ]
  },
  {
   "cell_type": "code",
<<<<<<< HEAD
   "execution_count": 31,
   "id": "2b3e9df3",
=======
   "execution_count": null,
   "id": "0f5cc84c",
>>>>>>> a037b90e7c01d8989b9b059efc1413a61795db50
   "metadata": {
    "slideshow": {
     "slide_type": "fragment"
    }
   },
   "outputs": [
    {
     "name": "stdout",
     "output_type": "stream",
     "text": [
      "2.380952380952381\n"
     ]
    }
   ],
   "source": [
    "x = 5\n",
    "x = x / 2.1\n",
    "print (x)"
   ]
  },
  {
   "cell_type": "code",
<<<<<<< HEAD
   "execution_count": 32,
   "id": "8b934db9",
=======
   "execution_count": null,
   "id": "b86a6d8d",
>>>>>>> a037b90e7c01d8989b9b059efc1413a61795db50
   "metadata": {
    "slideshow": {
     "slide_type": "fragment"
    }
   },
   "outputs": [
    {
     "name": "stdout",
     "output_type": "stream",
     "text": [
      "5.668934240362812\n"
     ]
    }
   ],
   "source": [
    "y = x ** 2\n",
    "print (y)"
   ]
  },
  {
   "cell_type": "markdown",
   "id": "6da8bfb1",
   "metadata": {
    "slideshow": {
     "slide_type": "fragment"
    }
   },
   "source": [
    "NOTE: Proper Python style requires using whitespace (\" \") on either side of an operator in an expression"
   ]
  },
  {
   "cell_type": "markdown",
   "id": "1ebc97aa",
   "metadata": {
    "slideshow": {
     "slide_type": "slide"
    }
   },
   "source": [
    "Some of these operators also work on strings, but the behavior is different:"
   ]
  },
  {
   "cell_type": "code",
<<<<<<< HEAD
   "execution_count": 33,
   "id": "19843181",
=======
   "execution_count": null,
   "id": "94e2c417",
>>>>>>> a037b90e7c01d8989b9b059efc1413a61795db50
   "metadata": {
    "slideshow": {
     "slide_type": "fragment"
    }
   },
   "outputs": [
    {
     "name": "stdout",
     "output_type": "stream",
     "text": [
      "San Francisco, California\n"
     ]
    }
   ],
   "source": [
    "city = 'San Francisco'\n",
    "sep = ', '\n",
    "state = 'California'\n",
    "location = city + sep + state\n",
    "print (location)"
   ]
  },
  {
   "cell_type": "code",
<<<<<<< HEAD
   "execution_count": 34,
   "id": "3e830d20",
=======
   "execution_count": null,
   "id": "d544a00c",
>>>>>>> a037b90e7c01d8989b9b059efc1413a61795db50
   "metadata": {
    "slideshow": {
     "slide_type": "fragment"
    }
   },
   "outputs": [
    {
     "data": {
      "text/plain": [
       "'San FranciscoSan FranciscoSan FranciscoSan Francisco'"
      ]
     },
     "execution_count": 34,
     "metadata": {},
     "output_type": "execute_result"
    }
   ],
   "source": [
    "city * 4"
   ]
  },
  {
   "cell_type": "markdown",
   "id": "4de359e4",
   "metadata": {
    "slideshow": {
     "slide_type": "slide"
    }
   },
   "source": [
    "### 3.11.6 Expressions\n",
    "\n",
    "**Expressions** are combinations of values, variables, and operators, like most of the lines of code that we've just seen.\n"
   ]
  },
  {
   "cell_type": "code",
<<<<<<< HEAD
   "execution_count": 35,
   "id": "05e77f2e",
=======
   "execution_count": null,
   "id": "1a85d658",
>>>>>>> a037b90e7c01d8989b9b059efc1413a61795db50
   "metadata": {
    "slideshow": {
     "slide_type": "fragment"
    }
   },
   "outputs": [
    {
     "data": {
      "text/plain": [
       "34"
      ]
     },
     "execution_count": 35,
     "metadata": {},
     "output_type": "execute_result"
    }
   ],
   "source": [
    "# an example of expression\n",
    "14 + 20"
   ]
  },
  {
   "cell_type": "markdown",
   "id": "10bff8c2",
   "metadata": {
    "slideshow": {
     "slide_type": "slide"
    }
   },
   "source": [
    "When you run the cell, the computer evaluates the expression and prints the result. Note that only the last line in a code cell will be printed, unless you explicitly tell the computer you want to print the result."
   ]
  },
  {
   "cell_type": "code",
<<<<<<< HEAD
   "execution_count": 36,
   "id": "704ebbed",
=======
   "execution_count": null,
   "id": "61441885",
>>>>>>> a037b90e7c01d8989b9b059efc1413a61795db50
   "metadata": {
    "slideshow": {
     "slide_type": "fragment"
    }
   },
   "outputs": [
    {
     "name": "stdout",
     "output_type": "stream",
     "text": [
      "15.280000000000001\n"
     ]
    },
    {
     "data": {
      "text/plain": [
       "884"
      ]
     },
     "execution_count": 36,
     "metadata": {},
     "output_type": "execute_result"
    }
   ],
   "source": [
    "# more expressions. what gets printed and what doesn't?\n",
    "100 / 10\n",
    "\n",
    "print(4.3 + 10.98)\n",
    "\n",
    "33 - 9 * (40000 + 1)\n",
    "\n",
    "884"
   ]
  },
  {
   "cell_type": "markdown",
   "id": "ec2b5585",
   "metadata": {
    "slideshow": {
     "slide_type": "slide"
    }
   },
   "source": [
    "You can also assign names to expressions. The computer will compute the expression and assign the name to the result of the computation."
   ]
  },
  {
   "cell_type": "code",
<<<<<<< HEAD
   "execution_count": 37,
   "id": "309226ad",
=======
   "execution_count": null,
   "id": "f5e46a65",
>>>>>>> a037b90e7c01d8989b9b059efc1413a61795db50
   "metadata": {
    "slideshow": {
     "slide_type": "fragment"
    }
   },
   "outputs": [
    {
     "data": {
      "text/plain": [
       "101"
      ]
     },
     "execution_count": 37,
     "metadata": {},
     "output_type": "execute_result"
    }
   ],
   "source": [
    "y = 50 * 2 + 1\n",
    "y"
   ]
  },
  {
   "cell_type": "markdown",
   "id": "9d8a0643",
   "metadata": {
    "slideshow": {
     "slide_type": "fragment"
    }
   },
   "source": [
    "We can then use these names as if they were whatever they stand for (in this case, numbers)."
   ]
  },
  {
   "cell_type": "code",
<<<<<<< HEAD
   "execution_count": 38,
   "id": "11ccfb02",
=======
   "execution_count": null,
   "id": "327030b0",
>>>>>>> a037b90e7c01d8989b9b059efc1413a61795db50
   "metadata": {
    "slideshow": {
     "slide_type": "fragment"
    }
   },
   "outputs": [
    {
     "data": {
      "text/plain": [
       "-39.61904761904762"
      ]
     },
     "execution_count": 38,
     "metadata": {},
     "output_type": "execute_result"
    }
   ],
   "source": [
    "x - 42"
   ]
  },
  {
   "cell_type": "code",
<<<<<<< HEAD
   "execution_count": 39,
   "id": "cadfee97",
=======
   "execution_count": null,
   "id": "8dcdbb0c",
>>>>>>> a037b90e7c01d8989b9b059efc1413a61795db50
   "metadata": {
    "slideshow": {
     "slide_type": "fragment"
    }
   },
   "outputs": [
    {
     "data": {
      "text/plain": [
       "103.38095238095238"
      ]
     },
     "execution_count": 39,
     "metadata": {},
     "output_type": "execute_result"
    }
   ],
   "source": [
    "x + y"
   ]
  },
  {
   "cell_type": "code",
<<<<<<< HEAD
   "execution_count": 40,
   "id": "61fa21de",
=======
   "execution_count": null,
   "id": "cbf15a34",
>>>>>>> a037b90e7c01d8989b9b059efc1413a61795db50
   "metadata": {
    "slideshow": {
     "slide_type": "fragment"
    }
   },
   "outputs": [
    {
     "data": {
      "text/plain": [
       "-2.0"
      ]
     },
     "execution_count": 40,
     "metadata": {},
     "output_type": "execute_result"
    }
   ],
   "source": [
    "# before you run this cell, can you say what it should print?\n",
    "4 - 2 * (1 + 6 / 3)"
   ]
  },
  {
   "cell_type": "markdown",
   "id": "14ea17e6",
   "metadata": {
    "slideshow": {
     "slide_type": "slide"
    }
   },
   "source": [
    "### 3.11.7 Statements\n",
    "**Statements** often include expressions, but unlike expressions they do not always have a value (e.g. print statement), and represent a line of code that Python can execute."
   ]
  },
  {
   "cell_type": "markdown",
   "id": "babac331",
   "metadata": {
    "slideshow": {
     "slide_type": "slide"
    }
   },
   "source": [
    "\n",
    "### 3.11.8 Scripts\n",
    "A **script** is a text file which stores a bunch of Python statements to be executed in sequential order. Python scripts will normally use the \".py\" file extension.\n",
    "\n",
    "Jupyter makes it easy for you to convert a .ipynb notebook to a .py script from the file menu: `File > Download as > Python (.py)`. Python scripts can be run at the command line by typing `python <filename>` where `<filename>` is name of the .py script you want to run. "
   ]
  },
  {
   "cell_type": "markdown",
   "id": "44ca8d80",
   "metadata": {
    "slideshow": {
     "slide_type": "slide"
    }
   },
   "source": [
    "### 3.11.9 Comments\n",
    "A good thing to add to code, both in notebooks and scripts, to remind yourself of its intended use or to document it for someone else who may want to run it in the future. Use liberally! They won't slow anything down."
   ]
  },
  {
   "cell_type": "code",
<<<<<<< HEAD
   "execution_count": 41,
   "id": "0ff2de82",
=======
   "execution_count": null,
   "id": "00688915",
>>>>>>> a037b90e7c01d8989b9b059efc1413a61795db50
   "metadata": {
    "slideshow": {
     "slide_type": "fragment"
    }
   },
   "outputs": [
    {
     "data": {
      "text/plain": [
       "array([10.96646812, 10.60831588, 10.82527631, 10.8513885 , 10.96693747,\n",
       "       10.92448786, 10.68255913, 10.8857965 , 10.80732021, 10.88509459])"
      ]
     },
     "execution_count": 41,
     "metadata": {},
     "output_type": "execute_result"
    }
   ],
   "source": [
    "# This is a comment explaining the code below which, if my code is complex,\n",
    "# I might not remember in detail later without comments.\n",
    "# Below I create an array of 10 numbers by adding a random number between\n",
    "# 0 and 10000 to a base of 5000 and then taking the natural logarithm of the result\n",
    "income = 50000.0 + 10000 * np.random.randn(10)\n",
    "y = np.log(income)\n",
    "y"
   ]
  },
  {
   "cell_type": "markdown",
   "id": "3538fe4a",
   "metadata": {
    "collapsed": true,
    "slideshow": {
     "slide_type": "slide"
    }
   },
   "source": [
    "### 3.12 Before going on... \n",
    "...make sure you have Anaconda Python installed and working correctly.\n",
    "\n",
    "Once you have Anaconda Python installed you should be able to launch a Jupyter Notebook and experiment with creating some cells with Markdown text, some code cells with simple calculations and creating variables, and execute those cells using `<shift> + <enter>` or using the Run icon at the top of the notebook."
   ]
  },
  {
   "cell_type": "markdown",
   "id": "bbf3b7b9",
   "metadata": {
    "slideshow": {
     "slide_type": "slide"
    }
   },
   "source": [
    "# 4. For next time"
   ]
  },
  {
   "cell_type": "markdown",
   "id": "8f42149c",
   "metadata": {
    "slideshow": {
     "slide_type": "fragment"
    }
   },
   "source": [
    "1. Keep working on Assignment 0\n",
    "2. Finish working through this notebook\n",
    "3. Try creating a conda environment and accessing it from a notebook"
   ]
  },
  {
   "cell_type": "markdown",
   "id": "acf3f5dc",
   "metadata": {
    "slideshow": {
     "slide_type": "slide"
    }
   },
   "source": [
    "# 5. Questions?"
   ]
  }
 ],
 "metadata": {
  "celltoolbar": "Slideshow",
  "kernelspec": {
   "display_name": "Python 3 (ipykernel)",
   "language": "python",
   "name": "python3"
  },
  "language_info": {
   "codemirror_mode": {
    "name": "ipython",
    "version": 3
   },
   "file_extension": ".py",
   "mimetype": "text/x-python",
   "name": "python",
   "nbconvert_exporter": "python",
   "pygments_lexer": "ipython3",
<<<<<<< HEAD
   "version": "3.11.5"
=======
   "version": "3.8.13"
>>>>>>> a037b90e7c01d8989b9b059efc1413a61795db50
  },
  "toc": {
   "base_numbering": 1,
   "nav_menu": {},
   "number_sections": false,
   "sideBar": false,
   "skip_h1_title": true,
   "title_cell": "Table of Contents",
   "title_sidebar": "Contents",
   "toc_cell": false,
   "toc_position": {},
   "toc_section_display": true,
   "toc_window_display": false
  }
 },
 "nbformat": 4,
 "nbformat_minor": 5
}
