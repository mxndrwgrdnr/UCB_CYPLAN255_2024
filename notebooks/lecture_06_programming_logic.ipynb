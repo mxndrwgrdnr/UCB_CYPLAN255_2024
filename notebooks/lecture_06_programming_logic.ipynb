{
 "cells": [
  {
   "cell_type": "markdown",
   "id": "b40ef5a4",
   "metadata": {
    "slideshow": {
     "slide_type": "slide"
    }
   },
   "source": [
    "# CYPLAN255\n",
    "### Urban Informatics and Visualization"
   ]
  },
  {
   "cell_type": "markdown",
   "id": "0ceea7a8",
   "metadata": {
    "slideshow": {
     "slide_type": "slide"
    }
   },
   "source": [
    "# Lecture 05 -- Programming Logic\n",
    "## Flow Control in Python\n",
    "*******\n",
    "February 5, 2024"
   ]
  },
  {
   "cell_type": "markdown",
   "id": "75f7d376",
   "metadata": {
    "slideshow": {
     "slide_type": "slide"
    }
   },
   "source": [
    "## Agenda\n",
    "1. Announcements\n",
    "2. Lecture 4 notebook questions\n",
    "3. Programming Logic\n",
    "4. For next time\n",
    "5. Questions\n"
   ]
  },
  {
   "cell_type": "markdown",
   "id": "4f1c0cef",
   "metadata": {
    "slideshow": {
     "slide_type": "slide"
    }
   },
   "source": [
    "# 1. Announcements"
   ]
  },
  {
   "cell_type": "markdown",
   "id": "8e5d336f",
   "metadata": {
    "slideshow": {
     "slide_type": "fragment"
    }
   },
   "source": [
    "1. Updated GitHub cheat sheet:  \n",
    "    - ~~`git merge main`~~ --> `git merge upstream/main`\n",
    "2. Assignment 1\n",
    "   - Now due Feb 11\n",
    "3. Third guest lecture confirmed: Mary Shi and Erin McElroy from the Anti-Eviction Mapping Project"
   ]
  },
  {
   "cell_type": "markdown",
   "id": "45d88f9d",
   "metadata": {
    "slideshow": {
     "slide_type": "slide"
    }
   },
   "source": [
    "# 2. Lecture 4 Questions"
   ]
  },
  {
   "cell_type": "markdown",
   "id": "9edf5d43",
   "metadata": {
    "slideshow": {
     "slide_type": "fragment"
    }
   },
   "source": [
    "- data types:\n",
    "   - `int`, `float`, `str`, `list`, `dict`, `tuple`\n",
    "- basic operations:\n",
    "   - type conversion\n",
    "   - list indexing\n",
    "   - retrieving data from a `dict`\n",
    "   - `range()`\n",
    "- \"mutability\"\n",
    "   - of `str`, `list`, `dict`, `tuple`?"
   ]
  },
  {
   "cell_type": "markdown",
   "id": "6de08b17",
   "metadata": {
    "slideshow": {
     "slide_type": "slide"
    }
   },
   "source": [
    "# 3. Programming Logic"
   ]
  },
  {
   "cell_type": "markdown",
   "id": "32de15b7",
   "metadata": {
    "slideshow": {
     "slide_type": "slide"
    }
   },
   "source": [
    "#### Programming Logic and Flow Control  in Python\n",
    "\n",
    "So far we have learned about Python data types and some of the methods available to operate on them.  We managed to do a bit of functional programming to reorganize the contents of a string to change it into a different string. But real programming requires more tools.  This session will focus on the following tools:\n",
    "\n",
    "* **Booleans** - another built-in data type, test whether a condition is met or not\n",
    "* **Conditionals** - do something based on whether a condition is met or not\n",
    "* **Iterables** - automate\n",
    "\n",
    "With these tools, we can begin to do some real programming."
   ]
  },
  {
   "cell_type": "markdown",
   "id": "d692fc14",
   "metadata": {
    "slideshow": {
     "slide_type": "slide"
    }
   },
   "source": [
    "## 3.1 Booleans"
   ]
  },
  {
   "cell_type": "markdown",
   "id": "e8a79c38",
   "metadata": {
    "slideshow": {
     "slide_type": "fragment"
    }
   },
   "source": [
    "Python has four \"atomic\" built-in data types (things like lists and dictionaries are not atomic because they are comprised of other Python objects of various types). We've already seen three: `int`, `float`, and `str`. The 4th is `bool`, short for boolean.\n",
    "\n",
    "`bool` objects in Python can only have one of two values: `True` or `False`. These might look like strings, but they are not:"
   ]
  },
  {
   "cell_type": "code",
   "execution_count": null,
   "id": "8ed50f68",
   "metadata": {
    "slideshow": {
     "slide_type": "fragment"
    }
   },
   "outputs": [],
   "source": [
    "type(True)"
   ]
  },
  {
   "cell_type": "code",
   "execution_count": null,
   "id": "7411303d",
   "metadata": {
    "slideshow": {
     "slide_type": "fragment"
    }
   },
   "outputs": [],
   "source": [
    "type(\"True\")"
   ]
  },
  {
   "cell_type": "markdown",
   "id": "b2587a31",
   "metadata": {
    "slideshow": {
     "slide_type": "slide"
    }
   },
   "source": [
    "### 3.1.1. Basics of Booleans\n",
    "\n",
    "A Boolean **expression** is one that when evaluated returns a `bool`, either `True` or `False`. You can think of it as making an assertion, and having Python tell you if you are right or not in making that assertion. A fact checker, in a sense. \n",
    "\n",
    "It does not pass moral judgments. It will only tell you if your assertion is correct or incorrect. Programming logic is very literal, and Boolean tests are either True or False. No room for ambiguity or grey areas when working with Booleans.    "
   ]
  },
  {
   "cell_type": "markdown",
   "id": "0c1f20e7",
   "metadata": {
    "slideshow": {
     "slide_type": "slide"
    }
   },
   "source": [
    "We often use (in)equality operators to construct Boolean expressions. The `==` operator is an assertion that what is on the left of the operator it is equivalent to what is on its right.  The `>=` operator is greater than or equal to, and `!=` asserts that two objects are not the same. \n",
    "\n",
    "Don't be confused by the similarity of these two operators `=` and `==`: one is an _assignment_ of a value to a variable, and the other is a _comparison_ operator.  \n",
    "\n",
    "Booleans are a pre-requisite for writing a program that can follow conditional logic. All tests of conditional logic are based on a Boolean expression.  Some examples:"
   ]
  },
  {
   "cell_type": "markdown",
   "id": "a312b66e",
   "metadata": {
    "slideshow": {
     "slide_type": "slide"
    }
   },
   "source": [
    "Use `==` to evaluate whether two expression are equivalent"
   ]
  },
  {
   "cell_type": "code",
   "execution_count": null,
   "id": "697ea51c",
   "metadata": {
    "slideshow": {
     "slide_type": "fragment"
    }
   },
   "outputs": [],
   "source": [
    "2 + 2 == 4"
   ]
  },
  {
   "cell_type": "markdown",
   "id": "c170da53",
   "metadata": {
    "slideshow": {
     "slide_type": "fragment"
    }
   },
   "source": [
    "Or evaluate whether two _variables_ are equivalent"
   ]
  },
  {
   "cell_type": "code",
   "execution_count": null,
   "id": "f863b01b",
   "metadata": {
    "slideshow": {
     "slide_type": "fragment"
    }
   },
   "outputs": [],
   "source": [
    "a = 11\n",
    "b = 1\n",
    "a == b"
   ]
  },
  {
   "cell_type": "markdown",
   "id": "d769237f",
   "metadata": {
    "slideshow": {
     "slide_type": "slide"
    }
   },
   "source": [
    "You can also evaluate inequalities"
   ]
  },
  {
   "cell_type": "code",
   "execution_count": null,
   "id": "9e575dde",
   "metadata": {
    "slideshow": {
     "slide_type": "fragment"
    }
   },
   "outputs": [],
   "source": [
    "a > 11"
   ]
  },
  {
   "cell_type": "code",
   "execution_count": null,
   "id": "c0d4be8c",
   "metadata": {
    "slideshow": {
     "slide_type": "fragment"
    }
   },
   "outputs": [],
   "source": [
    "a >= 11"
   ]
  },
  {
   "cell_type": "code",
   "execution_count": null,
   "id": "869e37c4",
   "metadata": {
    "slideshow": {
     "slide_type": "fragment"
    }
   },
   "outputs": [],
   "source": [
    "a != b"
   ]
  },
  {
   "cell_type": "markdown",
   "id": "1517e9dc",
   "metadata": {
    "slideshow": {
     "slide_type": "slide"
    }
   },
   "source": [
    "### 3.1.2 Boolean arithmetic"
   ]
  },
  {
   "cell_type": "markdown",
   "id": "a549d30c",
   "metadata": {
    "slideshow": {
     "slide_type": "slide"
    }
   },
   "source": [
    "Remember, even though you can read them like strings, Booleans are not string objects. In practice they behave a lot more like integers than strings. In Python, like many (most? all?) programming languages, Booleans also have the following integer representations: "
   ]
  },
  {
   "cell_type": "code",
   "execution_count": null,
   "id": "f6dfa779",
   "metadata": {
    "slideshow": {
     "slide_type": "fragment"
    }
   },
   "outputs": [],
   "source": [
    "True == 1"
   ]
  },
  {
   "cell_type": "code",
   "execution_count": null,
   "id": "1a76deb5",
   "metadata": {
    "slideshow": {
     "slide_type": "fragment"
    }
   },
   "outputs": [],
   "source": [
    "False == 0"
   ]
  },
  {
   "cell_type": "markdown",
   "id": "b2c91967",
   "metadata": {
    "slideshow": {
     "slide_type": "slide"
    }
   },
   "source": [
    "This means you can use `bool` type objects to perform arithmetic operations"
   ]
  },
  {
   "cell_type": "code",
   "execution_count": null,
   "id": "4afa570f",
   "metadata": {
    "slideshow": {
     "slide_type": "fragment"
    }
   },
   "outputs": [],
   "source": [
    "True * 5"
   ]
  },
  {
   "cell_type": "code",
   "execution_count": null,
   "id": "8643729f",
   "metadata": {
    "slideshow": {
     "slide_type": "fragment"
    }
   },
   "outputs": [],
   "source": [
    "False * 5"
   ]
  },
  {
   "cell_type": "code",
   "execution_count": null,
   "id": "de7abec0",
   "metadata": {
    "slideshow": {
     "slide_type": "fragment"
    }
   },
   "outputs": [],
   "source": [
    "True * False"
   ]
  },
  {
   "cell_type": "code",
   "execution_count": null,
   "id": "2a5df757",
   "metadata": {
    "slideshow": {
     "slide_type": "fragment"
    }
   },
   "outputs": [],
   "source": [
    "False * False"
   ]
  },
  {
   "cell_type": "markdown",
   "id": "50d14ca2",
   "metadata": {
    "slideshow": {
     "slide_type": "slide"
    }
   },
   "source": [
    "### 3.1.3 Logical Operators"
   ]
  },
  {
   "cell_type": "markdown",
   "id": "07aef2ae",
   "metadata": {
    "slideshow": {
     "slide_type": "fragment"
    }
   },
   "source": [
    "Python also has built-in **logical operators** that are very useful when combined with Booleans. These include:\n",
    "- `and`\n",
    "- `or`\n",
    "- `not`"
   ]
  },
  {
   "cell_type": "markdown",
   "id": "456c9a3d",
   "metadata": {
    "slideshow": {
     "slide_type": "slide"
    }
   },
   "source": [
    "The `and` and `or` operators allow you to combine multiple Boolean expressions"
   ]
  },
  {
   "cell_type": "code",
   "execution_count": null,
   "id": "fb39414c",
   "metadata": {
    "slideshow": {
     "slide_type": "fragment"
    }
   },
   "outputs": [],
   "source": [
    "c = 5\n",
    "(c > 2) and (c < 5)"
   ]
  },
  {
   "cell_type": "code",
   "execution_count": null,
   "id": "a1a29ef1",
   "metadata": {
    "slideshow": {
     "slide_type": "fragment"
    }
   },
   "outputs": [],
   "source": [
    "(c > 2) or (c < 5)"
   ]
  },
  {
   "cell_type": "markdown",
   "id": "8fed14f4",
   "metadata": {
    "slideshow": {
     "slide_type": "slide"
    }
   },
   "source": [
    "The `not` operator acts to invert the value of a Boolean such that `True` becomes `False` and vice versa"
   ]
  },
  {
   "cell_type": "code",
   "execution_count": null,
   "id": "b25378f2",
   "metadata": {
    "slideshow": {
     "slide_type": "fragment"
    }
   },
   "outputs": [],
   "source": [
    "c == 5"
   ]
  },
  {
   "cell_type": "code",
   "execution_count": null,
   "id": "22114480",
   "metadata": {
    "slideshow": {
     "slide_type": "fragment"
    }
   },
   "outputs": [],
   "source": [
    "not (c == 5)"
   ]
  },
  {
   "cell_type": "markdown",
   "id": "99ca076c",
   "metadata": {
    "slideshow": {
     "slide_type": "slide"
    }
   },
   "source": [
    "Two additional common boolean operators:\n",
    "- `is`\n",
    "- `in`"
   ]
  },
  {
   "cell_type": "markdown",
   "id": "8a55bc10",
   "metadata": {
    "slideshow": {
     "slide_type": "slide"
    }
   },
   "source": [
    "#### The `is` operator"
   ]
  },
  {
   "cell_type": "code",
   "execution_count": null,
   "id": "b9a1220f",
   "metadata": {
    "slideshow": {
     "slide_type": "fragment"
    }
   },
   "outputs": [],
   "source": [
    "a = [1, 2, 3]"
   ]
  },
  {
   "cell_type": "code",
   "execution_count": null,
   "id": "87809fef",
   "metadata": {
    "slideshow": {
     "slide_type": "fragment"
    }
   },
   "outputs": [],
   "source": [
    "b = a"
   ]
  },
  {
   "cell_type": "code",
   "execution_count": null,
   "id": "f7f61b64",
   "metadata": {
    "slideshow": {
     "slide_type": "fragment"
    }
   },
   "outputs": [],
   "source": [
    "a is b"
   ]
  },
  {
   "cell_type": "markdown",
   "id": "5d411082",
   "metadata": {
    "slideshow": {
     "slide_type": "slide"
    }
   },
   "source": [
    "#### The `in` operator"
   ]
  },
  {
   "cell_type": "markdown",
   "id": "7db669ec",
   "metadata": {
    "slideshow": {
     "slide_type": "fragment"
    }
   },
   "source": [
    "The `in` operator works with a variety of Python types, lists and strings"
   ]
  },
  {
   "cell_type": "code",
   "execution_count": null,
   "id": "4c0d3a2e",
   "metadata": {
    "slideshow": {
     "slide_type": "fragment"
    }
   },
   "outputs": [],
   "source": [
    "1 in a"
   ]
  },
  {
   "cell_type": "code",
   "execution_count": null,
   "id": "92d18072",
   "metadata": {
    "scrolled": true,
    "slideshow": {
     "slide_type": "fragment"
    }
   },
   "outputs": [],
   "source": [
    "word = 'This'\n",
    "sentence = 'This is CP255'\n",
    "word in sentence"
   ]
  },
  {
   "cell_type": "markdown",
   "id": "6a420929",
   "metadata": {
    "slideshow": {
     "slide_type": "slide"
    }
   },
   "source": [
    "### Question 1\n",
    "Run the following cell. "
   ]
  },
  {
   "cell_type": "code",
   "execution_count": null,
   "id": "908f80cd",
   "metadata": {
    "scrolled": true,
    "slideshow": {
     "slide_type": "fragment"
    }
   },
   "outputs": [],
   "source": [
    "2 and 3"
   ]
  },
  {
   "cell_type": "markdown",
   "id": "e93bb2e9",
   "metadata": {
    "slideshow": {
     "slide_type": "fragment"
    }
   },
   "source": [
    "What is happening here?"
   ]
  },
  {
   "cell_type": "markdown",
   "id": "65bfd2fc",
   "metadata": {
    "slideshow": {
     "slide_type": "slide"
    }
   },
   "source": [
    "### Question 2\n",
    "\n",
    "We've already seen that we can evaluate the equivalency of two objects with `==`, which will always return a `bool`. The `is` operator does something similar, but is it the same? Try running the following cells and see if they give you any clue:"
   ]
  },
  {
   "cell_type": "code",
   "execution_count": null,
   "id": "40175e52",
   "metadata": {
    "slideshow": {
     "slide_type": "fragment"
    }
   },
   "outputs": [],
   "source": [
    "a = [1, 2, 3]\n",
    "b = a.copy()"
   ]
  },
  {
   "cell_type": "code",
   "execution_count": null,
   "id": "6c4ba259",
   "metadata": {
    "slideshow": {
     "slide_type": "fragment"
    }
   },
   "outputs": [],
   "source": [
    "a is b"
   ]
  },
  {
   "cell_type": "code",
   "execution_count": null,
   "id": "3559752f",
   "metadata": {
    "slideshow": {
     "slide_type": "fragment"
    }
   },
   "outputs": [],
   "source": [
    "a == b"
   ]
  },
  {
   "cell_type": "markdown",
   "id": "5cb1733c",
   "metadata": {
    "slideshow": {
     "slide_type": "slide"
    }
   },
   "source": [
    "## 3.2 Conditionals"
   ]
  },
  {
   "cell_type": "markdown",
   "id": "c3b388eb",
   "metadata": {
    "slideshow": {
     "slide_type": "fragment"
    }
   },
   "source": [
    "Now that we know that we can construct Boolean tests for a wide variety of situations, let's explore how they can help us in constructing conditional execution.  We often need to have program code that 'branches', based on specific conditions. If one condition exists, do some specific things.  If a different condition exists, do some other specific things.  Let's look at how this works.\n",
    "\n",
    "Some of the figures and examples below are drawn from this excellent resource:\n",
    "http://www.openbookproject.net/books/bpp4awd/index.html#"
   ]
  },
  {
   "cell_type": "markdown",
   "id": "740f30d3",
   "metadata": {
    "slideshow": {
     "slide_type": "slide"
    }
   },
   "source": [
    "### 3.2.1 The `if` statement\n",
    "The **if** statement is a conditional statement with the following form:"
   ]
  },
  {
   "cell_type": "markdown",
   "id": "8cb7ebb7",
   "metadata": {
    "cell_style": "split",
    "slideshow": {
     "slide_type": "fragment"
    }
   },
   "source": [
    "```\n",
    "if <BOOL>:\n",
    "    <DO STUFF>\n",
    "```"
   ]
  },
  {
   "cell_type": "markdown",
   "id": "be1bd749",
   "metadata": {
    "cell_style": "split",
    "slideshow": {
     "slide_type": "fragment"
    }
   },
   "source": [
    "<img src='https://www.openbookproject.net/books/bpp4awd/_images/flowchart_if_only.png'>"
   ]
  },
  {
   "cell_type": "markdown",
   "id": "f6f259f7",
   "metadata": {
    "slideshow": {
     "slide_type": "slide"
    }
   },
   "source": [
    "An `if` statement must always terminate with a colon (`:`), followed by an indented chunk of code below it. Many Python interpreters (like IPython) will automatically indent the next line for you when you type an `if` clause followed by a colon and hit `<return>`. But take care that you ALWAYS USE FOUR (4) SPACES FOR INDENTATION IN PYTHON. \n",
    "\n",
    "The indented chunk of code contains statements that will be evaluated if and only if the Boolean expression above it evaluates to `True`. These statements can be any valid Python statements. They might compute some values, print some output, or evaluate more conditional clauses!"
   ]
  },
  {
   "cell_type": "markdown",
   "id": "0eb1d5cc",
   "metadata": {
    "slideshow": {
     "slide_type": "slide"
    }
   },
   "source": [
    "#### Some examples\n",
    "An `if` statement is used to execute the indented code only if some condition is met:"
   ]
  },
  {
   "cell_type": "code",
   "execution_count": null,
   "id": "722c6eac",
   "metadata": {
    "slideshow": {
     "slide_type": "fragment"
    }
   },
   "outputs": [],
   "source": [
    "x = 11\n",
    "if x < 10:\n",
    "    print(str(x) + ' is less than 10')"
   ]
  },
  {
   "cell_type": "markdown",
   "id": "63da3f51",
   "metadata": {
    "slideshow": {
     "slide_type": "fragment"
    }
   },
   "source": [
    "What happens if you change the value of `x` to 11 in the code above? Not much. The code does not have anything to do if the evaluation of the Boolean expression in the If statement returns a value of False.  We need more logic to handle different input values that may meet different conditions."
   ]
  },
  {
   "cell_type": "markdown",
   "id": "601e0c82",
   "metadata": {
    "slideshow": {
     "slide_type": "slide"
    }
   },
   "source": [
    "#### A more complicated example\n",
    "It is good practice to group Boolean expressions with parentheses to ensure the proper order of operations is followed"
   ]
  },
  {
   "cell_type": "code",
   "execution_count": null,
   "id": "728d2d9a",
   "metadata": {
    "scrolled": true,
    "slideshow": {
     "slide_type": "fragment"
    }
   },
   "outputs": [],
   "source": [
    "x = 3.5\n",
    "if (x >= 3) and (x <= 6):\n",
    "    print(x, 'is between 3 and 6')"
   ]
  },
  {
   "cell_type": "markdown",
   "id": "49fd2364",
   "metadata": {
    "slideshow": {
     "slide_type": "fragment"
    }
   },
   "source": [
    "By the way, notice that you can print variables and strings together in a print statement..."
   ]
  },
  {
   "cell_type": "markdown",
   "id": "0d3285fa",
   "metadata": {
    "slideshow": {
     "slide_type": "slide"
    }
   },
   "source": [
    "### 3.2.2 The `if else` statement\n",
    "\n",
    "It is frequently the case that you want one thing to happen when a condition it true, and something else to happen when it is false. For that we have the `if else` statement.  Its syntax is:"
   ]
  },
  {
   "cell_type": "markdown",
   "id": "87c453f9",
   "metadata": {
    "cell_style": "split",
    "slideshow": {
     "slide_type": "fragment"
    }
   },
   "source": [
    "```\n",
    "if <BOOL>:\n",
    "    <DO THING>\n",
    "else:\n",
    "    <DO OTHER THING>\n",
    "```"
   ]
  },
  {
   "cell_type": "markdown",
   "id": "bc742c5d",
   "metadata": {
    "cell_style": "split",
    "slideshow": {
     "slide_type": "fragment"
    }
   },
   "source": [
    "<img src='https://www.openbookproject.net/books/bpp4awd/_images/flowchart_if_else.png'>"
   ]
  },
  {
   "cell_type": "markdown",
   "id": "63b96860",
   "metadata": {
    "slideshow": {
     "slide_type": "slide"
    }
   },
   "source": [
    "#### An example"
   ]
  },
  {
   "cell_type": "code",
   "execution_count": null,
   "id": "c9d6c78f",
   "metadata": {
    "slideshow": {
     "slide_type": "fragment"
    }
   },
   "outputs": [],
   "source": [
    "x = 10\n",
    "if x < 10:\n",
    "    print('x is less than 10')\n",
    "else:\n",
    "    print('x is greater than or equal to 10')"
   ]
  },
  {
   "cell_type": "markdown",
   "id": "8638cae4",
   "metadata": {
    "slideshow": {
     "slide_type": "slide"
    }
   },
   "source": [
    "### 3.2.3 Chained conditionals\n",
    "\n",
    "Sometimes there are more than two possibilities and we need more than two branches. One way to express a computation like that is a chained conditional, which adds `elif`/`else if` to our syntax:"
   ]
  },
  {
   "cell_type": "markdown",
   "id": "3ea27e21",
   "metadata": {
    "cell_style": "split",
    "slideshow": {
     "slide_type": "fragment"
    }
   },
   "source": [
    "```\n",
    "if <BOOL>:\n",
    "    <DO FIRST THING>\n",
    "elif <OTHER BOOL>:\n",
    "    <DO SECOND THING>\n",
    "else:\n",
    "    <DO THIRD THING>\n",
    "```"
   ]
  },
  {
   "cell_type": "markdown",
   "id": "903ebca8",
   "metadata": {
    "cell_style": "split",
    "slideshow": {
     "slide_type": "fragment"
    }
   },
   "source": [
    "<center><img src='https://www.openbookproject.net/books/bpp4awd/_images/flowchart_nested_conditional.png'></center>"
   ]
  },
  {
   "cell_type": "markdown",
   "id": "1a4d111c",
   "metadata": {
    "slideshow": {
     "slide_type": "slide"
    }
   },
   "source": [
    "#### Example\n",
    "If the first if statement evaluates to false, you can add other Boolean tests using `elif` (short for `else if`).\n",
    "`elif` executes a code block if its condition is true. `else` catches everything else."
   ]
  },
  {
   "cell_type": "code",
   "execution_count": null,
   "id": "d4198cf4",
   "metadata": {
    "slideshow": {
     "slide_type": "fragment"
    }
   },
   "outputs": [],
   "source": [
    "x = 11\n",
    "if x < 10:\n",
    "    print('x is less than 10')\n",
    "elif x == 10:\n",
    "    print('x equals 10')\n",
    "else:\n",
    "    print('x is greater than 10')"
   ]
  },
  {
   "cell_type": "markdown",
   "id": "144326f2",
   "metadata": {
    "slideshow": {
     "slide_type": "fragment"
    }
   },
   "source": [
    "Notice that once a condition is met, the program executes that block of statements indented below it and then exits the if statement block completely."
   ]
  },
  {
   "cell_type": "markdown",
   "id": "352d2116",
   "metadata": {
    "slideshow": {
     "slide_type": "slide"
    }
   },
   "source": [
    "### Question 3\n",
    "\n",
    "Try constructing the following tests in code blocks below:"
   ]
  },
  {
   "cell_type": "markdown",
   "id": "2c5723c6",
   "metadata": {
    "slideshow": {
     "slide_type": "fragment"
    }
   },
   "source": [
    "1) Test whether a City name is in a list of city names (just type a few into a list)"
   ]
  },
  {
   "cell_type": "code",
   "execution_count": null,
   "id": "c182e3cd",
   "metadata": {
    "slideshow": {
     "slide_type": "fragment"
    }
   },
   "outputs": [],
   "source": []
  },
  {
   "cell_type": "markdown",
   "id": "dd0e2740",
   "metadata": {
    "slideshow": {
     "slide_type": "fragment"
    }
   },
   "source": [
    "2) Test first whether a variable value is less than 1000, and if so, whether it is above 500.  If not, whether it is above 250.  Print a message indicating what range the variable falls in.  Test it with several values of the variable to make sure it works correctly."
   ]
  },
  {
   "cell_type": "code",
   "execution_count": null,
   "id": "7abcaa23",
   "metadata": {
    "slideshow": {
     "slide_type": "fragment"
    }
   },
   "outputs": [],
   "source": []
  },
  {
   "cell_type": "markdown",
   "id": "1e5eaa5c",
   "metadata": {
    "slideshow": {
     "slide_type": "slide"
    }
   },
   "source": [
    "## 3.3 Iteration\n"
   ]
  },
  {
   "cell_type": "markdown",
   "id": "0e03ac71",
   "metadata": {
    "slideshow": {
     "slide_type": "fragment"
    }
   },
   "source": [
    "One of the most powerful tools in programming is its capacity to automate repetitive tasks.  Much of this comes from functionality to apply operations iteratively.  We review here some of the ways to use this functionality in Python.\n",
    "\n",
    "A very useful thing to know is that many of the data types we have looked at are **iterable**.  That means that Python already knows how to iterate over its elements.  "
   ]
  },
  {
   "cell_type": "markdown",
   "id": "7f2ea39a",
   "metadata": {
    "slideshow": {
     "slide_type": "slide"
    }
   },
   "source": [
    "### 3.3.1 The `for` loop"
   ]
  },
  {
   "cell_type": "markdown",
   "id": "2745680f",
   "metadata": {
    "slideshow": {
     "slide_type": "fragment"
    }
   },
   "source": [
    "The `for` loop is used to iterate over the elements of a sequence. It looks like this:\n"
   ]
  },
  {
   "cell_type": "markdown",
   "id": "bf8ad892",
   "metadata": {
    "slideshow": {
     "slide_type": "fragment"
    }
   },
   "source": [
    "```\n",
    "for <item> in <sequence>:\n",
    "    <DO STUFF>\n",
    "```"
   ]
  },
  {
   "cell_type": "markdown",
   "id": "ba4c6e54",
   "metadata": {
    "slideshow": {
     "slide_type": "slide"
    }
   },
   "source": [
    "#### An example"
   ]
  },
  {
   "cell_type": "code",
   "execution_count": null,
   "id": "2cb725f3",
   "metadata": {
    "slideshow": {
     "slide_type": "fragment"
    }
   },
   "outputs": [],
   "source": [
    "sentence = 'This is CP255'\n",
    "for character in sentence:\n",
    "    print(character) "
   ]
  },
  {
   "cell_type": "markdown",
   "id": "71bb44d9",
   "metadata": {
    "slideshow": {
     "slide_type": "fragment"
    }
   },
   "source": [
    "The word 'character' in the code above is an arbitrary variable name. It could be anything we want to call it.  It is just a reference we can use to connect to later, within the scope of the iteration, like a print statement in the example above -- we just have to refer to it by the same name.  Its value will change as we iterate through the iterable sequence."
   ]
  },
  {
   "cell_type": "markdown",
   "id": "4d05352f",
   "metadata": {
    "slideshow": {
     "slide_type": "slide"
    }
   },
   "source": [
    "#### More examples"
   ]
  },
  {
   "cell_type": "markdown",
   "id": "f6181f91",
   "metadata": {
    "slideshow": {
     "slide_type": "fragment"
    }
   },
   "source": [
    "Looping through a list, backwards"
   ]
  },
  {
   "cell_type": "code",
   "execution_count": null,
   "id": "918e6985",
   "metadata": {
    "slideshow": {
     "slide_type": "fragment"
    }
   },
   "outputs": [],
   "source": [
    "list_a = [1, 2, 3, 4, 5]\n",
    "for item in reversed(list_a):\n",
    "    print(item)"
   ]
  },
  {
   "cell_type": "markdown",
   "id": "35954b81",
   "metadata": {
    "slideshow": {
     "slide_type": "fragment"
    }
   },
   "source": [
    "iterate through the list, printing each element multiplied by 2"
   ]
  },
  {
   "cell_type": "code",
   "execution_count": null,
   "id": "0d0db546",
   "metadata": {
    "scrolled": true,
    "slideshow": {
     "slide_type": "fragment"
    }
   },
   "outputs": [],
   "source": [
    "numbers = [2, 4, 6, 8, 10]\n",
    "for number in numbers:\n",
    "    print(number * 2)"
   ]
  },
  {
   "cell_type": "markdown",
   "id": "a74c8c2d",
   "metadata": {
    "slideshow": {
     "slide_type": "slide"
    }
   },
   "source": [
    "Now you can begin to see how the methods you learned last week on data types can be combined with booleans and iteration to provide a lot more expressive capacity to your coding."
   ]
  },
  {
   "cell_type": "markdown",
   "id": "4e63f30a",
   "metadata": {
    "slideshow": {
     "slide_type": "fragment"
    }
   },
   "source": [
    "Below we use extended slice syntax to iterate in reverse. It works by doing [begin:end:step] - by leaving begin and end off and specifying a step of -1, it prints the list elements, multiplied by 2, in reverse."
   ]
  },
  {
   "cell_type": "code",
   "execution_count": null,
   "id": "53c8d010",
   "metadata": {
    "scrolled": true,
    "slideshow": {
     "slide_type": "fragment"
    }
   },
   "outputs": [],
   "source": [
    "for number in numbers[::-1]:\n",
    "    print(number * 2)"
   ]
  },
  {
   "cell_type": "markdown",
   "id": "0acd613a",
   "metadata": {
    "slideshow": {
     "slide_type": "slide"
    }
   },
   "source": [
    "### 3.3.2 The `while` loop\n",
    "\n",
    "Like the branching conditional clauses and the `for` loop, the `while` statement is a compound statement consisting of a header and a body. A `while` loop executes an unlimited number of times, as long at the Boolean expression is true. In general they look like this:"
   ]
  },
  {
   "cell_type": "markdown",
   "id": "d87e6a8b",
   "metadata": {
    "slideshow": {
     "slide_type": "fragment"
    }
   },
   "source": [
    "```\n",
    "while <BOOL>:\n",
    "    <DO STUFF>\n",
    "```"
   ]
  },
  {
   "cell_type": "markdown",
   "id": "7bb9f11f",
   "metadata": {
    "slideshow": {
     "slide_type": "slide"
    }
   },
   "source": [
    "#### An example"
   ]
  },
  {
   "cell_type": "code",
   "execution_count": null,
   "id": "38b04815",
   "metadata": {
    "slideshow": {
     "slide_type": "fragment"
    }
   },
   "outputs": [],
   "source": [
    "number = 0\n",
    "prompt = \"What is the meaning of life, the universe, and everything? \"\n",
    "\n",
    "while number != \"42\":\n",
    "    new_number =  input(prompt)\n",
    "    if new_number != \"42\":\n",
    "        print('You are still searching for the meaning of the universe...')\n",
    "    else:\n",
    "        number = new_number\n",
    "print(\"You have found the meaning of the universe!\")"
   ]
  },
  {
   "cell_type": "markdown",
   "id": "cbd6a729",
   "metadata": {
    "slideshow": {
     "slide_type": "slide"
    }
   },
   "source": [
    "#### Beware of infinite loops\n",
    "The while loop tells the computer to do something as long as the condition is met. It is therefore very important that the indented clause contains some logic to break out of the loop."
   ]
  },
  {
   "cell_type": "code",
   "execution_count": null,
   "id": "15badec9",
   "metadata": {
    "slideshow": {
     "slide_type": "fragment"
    }
   },
   "outputs": [],
   "source": [
    "x = 5\n",
    "while x > 0:\n",
    "    print(x, end='...')\n",
    "    x -= 1\n",
    "print('blast off!')"
   ]
  },
  {
   "cell_type": "markdown",
   "id": "9824d456",
   "metadata": {
    "slideshow": {
     "slide_type": "slide"
    }
   },
   "source": [
    "#### More uses of `while` loops:"
   ]
  },
  {
   "cell_type": "markdown",
   "id": "48c524ae",
   "metadata": {
    "slideshow": {
     "slide_type": "fragment"
    }
   },
   "source": [
    "Add the numbers 0 to 10 to a list:"
   ]
  },
  {
   "cell_type": "code",
   "execution_count": null,
   "id": "0de4a486",
   "metadata": {
    "slideshow": {
     "slide_type": "fragment"
    }
   },
   "outputs": [],
   "source": [
    "my_list = []\n",
    "x = 0\n",
    "while x < 10:\n",
    "    my_list.append(x)\n",
    "    x = x + 1 \n",
    "my_list"
   ]
  },
  {
   "cell_type": "markdown",
   "id": "acdc8beb",
   "metadata": {
    "slideshow": {
     "slide_type": "fragment"
    }
   },
   "source": [
    "Create a list of even numbers smaller than 20"
   ]
  },
  {
   "cell_type": "code",
   "execution_count": null,
   "id": "39b15711",
   "metadata": {
    "slideshow": {
     "slide_type": "fragment"
    }
   },
   "outputs": [],
   "source": [
    "even_numbers=[]\n",
    "x = 2\n",
    "while x < 20:\n",
    "    even_numbers.append(x)\n",
    "    x = x + 2\n",
    "even_numbers"
   ]
  },
  {
   "cell_type": "markdown",
   "id": "911f9b20",
   "metadata": {
    "collapsed": true,
    "slideshow": {
     "slide_type": "slide"
    }
   },
   "source": [
    "### 3.3.3 More Fun with Loops"
   ]
  },
  {
   "cell_type": "markdown",
   "id": "b067e4fa",
   "metadata": {
    "slideshow": {
     "slide_type": "fragment"
    }
   },
   "source": [
    "#### Loop through items in an `dict`:"
   ]
  },
  {
   "cell_type": "code",
   "execution_count": null,
   "id": "b1c4204d",
   "metadata": {
    "scrolled": true,
    "slideshow": {
     "slide_type": "fragment"
    }
   },
   "outputs": [],
   "source": [
    "knights = {'gallahad': 'the pure', 'robin': 'the brave'}\n",
    "for k, v in knights.items():\n",
    "    print(k, v)"
   ]
  },
  {
   "cell_type": "markdown",
   "id": "5de9cbdf",
   "metadata": {
    "slideshow": {
     "slide_type": "slide"
    }
   },
   "source": [
    "#### Or two lists at once!"
   ]
  },
  {
   "cell_type": "code",
   "execution_count": null,
   "id": "f2680675",
   "metadata": {
    "scrolled": true,
    "slideshow": {
     "slide_type": "fragment"
    }
   },
   "outputs": [],
   "source": [
    "questions = ['name', 'quest', 'favorite color']\n",
    "answers = ['lancelot', 'the holy grail', 'blue']\n",
    "for foo in zip(questions, answers):\n",
    "    first, second = foo\n",
    "    print('What is your {0}?  It is {1}.'.format(first, second))"
   ]
  },
  {
   "cell_type": "markdown",
   "id": "80aaec31",
   "metadata": {
    "slideshow": {
     "slide_type": "fragment"
    }
   },
   "source": [
    "^^ Don't look now but we're doing [string formatting](https://docs.python.org/3/library/stdtypes.html#str.format)!!"
   ]
  },
  {
   "cell_type": "markdown",
   "id": "51657b19",
   "metadata": {
    "slideshow": {
     "slide_type": "slide"
    }
   },
   "source": [
    "#### Enumeration\n",
    "Enumeration allows us to extract multiple variables from the iterator, where first variable refers to the position in the sequence:"
   ]
  },
  {
   "cell_type": "code",
   "execution_count": null,
   "id": "ab526488",
   "metadata": {
    "scrolled": true,
    "slideshow": {
     "slide_type": "fragment"
    }
   },
   "outputs": [],
   "source": [
    "for i, v in enumerate(['tic', 'tac', 'toe']):\n",
    "    print(i, v)"
   ]
  },
  {
   "cell_type": "markdown",
   "id": "cab904ab",
   "metadata": {
    "slideshow": {
     "slide_type": "slide"
    }
   },
   "source": [
    "### 3.3.4. The `break` statement\n",
    "\n",
    "The `break` statement is used inside of a loop to immediately stop execution and exit the loop. The next statement to be executed is the first one after the body.\n",
    "\n",
    "The code below tells the Python interpreter to iterate over a list of integers and print each one until it reaches an odd number, but don't print the odd number, print \"Done\" instead."
   ]
  },
  {
   "cell_type": "code",
   "execution_count": null,
   "id": "4e2134b3",
   "metadata": {
    "scrolled": true,
    "slideshow": {
     "slide_type": "fragment"
    }
   },
   "outputs": [],
   "source": [
    "for i in [12, 16, 17, 24, 29]:\n",
    "    if i % 2 == 1:  # if the number is odd\n",
    "        break        # immediately exit the loop\n",
    "    print(i)\n",
    "print(\"done\")"
   ]
  },
  {
   "cell_type": "markdown",
   "id": "a7589e20",
   "metadata": {
    "slideshow": {
     "slide_type": "slide"
    }
   },
   "source": [
    "### 3.3.5 The `continue` statement\n",
    "\n",
    "This is a control flow statement that causes the program to immediately skip the processing of the rest of the body of the loop, for the current iteration. But the loop still carries on running for its remaining iterations:"
   ]
  },
  {
   "cell_type": "markdown",
   "id": "4d8c4d9e",
   "metadata": {
    "slideshow": {
     "slide_type": "fragment"
    }
   },
   "source": [
    "Here the code tells Python to step through the list and print each number but instead of printing the odd numbers just keep going:"
   ]
  },
  {
   "cell_type": "code",
   "execution_count": null,
   "id": "47b8cc81",
   "metadata": {
    "slideshow": {
     "slide_type": "fragment"
    }
   },
   "outputs": [],
   "source": [
    "for i in [12, 16, 17, 24, 29, 30]:\n",
    "    if i % 2 == 1:      # if the number is odd\n",
    "        continue        # don't process it\n",
    "    print(i)\n",
    "print(\"done\")"
   ]
  },
  {
   "cell_type": "markdown",
   "id": "79443a9c",
   "metadata": {
    "slideshow": {
     "slide_type": "slide"
    }
   },
   "source": [
    "### Question 4"
   ]
  },
  {
   "cell_type": "markdown",
   "id": "f60602c2",
   "metadata": {
    "slideshow": {
     "slide_type": "fragment"
    }
   },
   "source": [
    "How might you alter the following code block to print each _word_ in the sentence rather than each character?"
   ]
  },
  {
   "cell_type": "code",
   "execution_count": null,
   "id": "8ffb3d79",
   "metadata": {
    "slideshow": {
     "slide_type": "fragment"
    }
   },
   "outputs": [],
   "source": [
    "sentence = 'This is CP255'\n",
    "for character in sentence:\n",
    "    print(character) "
   ]
  },
  {
   "cell_type": "markdown",
   "id": "b90c8a24",
   "metadata": {
    "slideshow": {
     "slide_type": "slide"
    }
   },
   "source": [
    "### Question 5"
   ]
  },
  {
   "cell_type": "markdown",
   "id": "f5d1d2bc",
   "metadata": {
    "slideshow": {
     "slide_type": "fragment"
    }
   },
   "source": [
    "How do you properly indent a new line of code after initiating a `for` loop or an `if` clause?"
   ]
  },
  {
   "cell_type": "markdown",
   "id": "ac7c7df8",
   "metadata": {
    "slideshow": {
     "slide_type": "slide"
    }
   },
   "source": [
    "### 3.3.6 The `range()` function\n",
    "\n",
    "We already saw what `range()` did last time, but maybe now that we know how to work with iterables it makes more sense:"
   ]
  },
  {
   "cell_type": "code",
   "execution_count": null,
   "id": "8fbe64ba",
   "metadata": {
    "slideshow": {
     "slide_type": "fragment"
    }
   },
   "outputs": [],
   "source": [
    "a = range(10)\n",
    "print(a)\n",
    "print(list(a))"
   ]
  },
  {
   "cell_type": "markdown",
   "id": "966874c2",
   "metadata": {
    "slideshow": {
     "slide_type": "fragment"
    }
   },
   "source": [
    "Remember, the first argument of `range()` just tells it how many numbers to return, starting at zero."
   ]
  },
  {
   "cell_type": "code",
   "execution_count": null,
   "id": "103e3720",
   "metadata": {
    "slideshow": {
     "slide_type": "fragment"
    }
   },
   "outputs": [],
   "source": [
    "n = 10\n",
    "list(range(1, n + 1))"
   ]
  },
  {
   "cell_type": "markdown",
   "id": "15c7534c",
   "metadata": {
    "slideshow": {
     "slide_type": "slide"
    }
   },
   "source": [
    "But you can pass more than one argument to `range()` to specify a starting number, an ending number, and a step size"
   ]
  },
  {
   "cell_type": "code",
   "execution_count": null,
   "id": "b908c911",
   "metadata": {
    "slideshow": {
     "slide_type": "fragment"
    }
   },
   "outputs": [],
   "source": [
    "numbers = range(2, 12, 2)\n",
    "print(numbers)\n",
    "list(numbers)"
   ]
  },
  {
   "cell_type": "markdown",
   "id": "fef0215b",
   "metadata": {
    "slideshow": {
     "slide_type": "fragment"
    }
   },
   "source": [
    "And since a `range` object is iterable, it is designed to work nicely with loops:"
   ]
  },
  {
   "cell_type": "code",
   "execution_count": null,
   "id": "d8f91650",
   "metadata": {
    "slideshow": {
     "slide_type": "fragment"
    }
   },
   "outputs": [],
   "source": [
    "for i in range(10):\n",
    "    print(i, i ** 2)"
   ]
  },
  {
   "cell_type": "markdown",
   "id": "45ee7913",
   "metadata": {
    "slideshow": {
     "slide_type": "slide"
    }
   },
   "source": [
    "### 3.3.7 List Comprehension\n",
    "\n",
    "A list comprehension is a syntactic construct that allows you to loop through iterables in a single line of code:"
   ]
  },
  {
   "cell_type": "markdown",
   "id": "7fb7df7c",
   "metadata": {
    "slideshow": {
     "slide_type": "fragment"
    }
   },
   "source": [
    "```\n",
    "[<DO THING> for <ITEM> in <ITERABLE>]\n",
    "```"
   ]
  },
  {
   "cell_type": "markdown",
   "id": "ae14cffc",
   "metadata": {
    "slideshow": {
     "slide_type": "fragment"
    }
   },
   "source": [
    "which is functionally the same as the syntax below, but much more concise:"
   ]
  },
  {
   "cell_type": "markdown",
   "id": "32bf71c3",
   "metadata": {
    "slideshow": {
     "slide_type": "fragment"
    }
   },
   "source": [
    "```\n",
    "output_sequence = []\n",
    "for <ITEM> in <ITERABLE>:\n",
    "    new_item = <DO THING TO ITEM>\n",
    "    output_sequence.append(new_item)\n",
    "```"
   ]
  },
  {
   "cell_type": "markdown",
   "id": "1d9a848b",
   "metadata": {
    "slideshow": {
     "slide_type": "slide"
    }
   },
   "source": [
    "Work through the rest of the examples on your own until it starts to make sense:"
   ]
  },
  {
   "cell_type": "code",
   "execution_count": null,
   "id": "c0b6681d",
   "metadata": {
    "slideshow": {
     "slide_type": "slide"
    }
   },
   "outputs": [],
   "source": [
    "# list comprehension lets you create a list based on some expression\n",
    "new_list = [x for x in range(5)]\n",
    "new_list"
   ]
  },
  {
   "cell_type": "code",
   "execution_count": null,
   "id": "037ca390",
   "metadata": {
    "slideshow": {
     "slide_type": "fragment"
    }
   },
   "outputs": [],
   "source": [
    "new_list = []\n",
    "for x in range(5):\n",
    "    new_list.append(x)\n",
    "new_list"
   ]
  },
  {
   "cell_type": "code",
   "execution_count": null,
   "id": "9adf7902",
   "metadata": {
    "slideshow": {
     "slide_type": "fragment"
    }
   },
   "outputs": [],
   "source": [
    "# you can perform operations within a list comprehension\n",
    "[x + 1 for x in range(5)]"
   ]
  },
  {
   "cell_type": "markdown",
   "id": "da2750f3",
   "metadata": {
    "slideshow": {
     "slide_type": "fragment"
    }
   },
   "source": [
    "Notice how embedding the list comprehension in square brackets automatically produced a list? You can think of list comprehension like you are dynamically defining the contents of a list."
   ]
  },
  {
   "cell_type": "code",
   "execution_count": null,
   "id": "13b4e5c4",
   "metadata": {
    "slideshow": {
     "slide_type": "slide"
    }
   },
   "outputs": [],
   "source": [
    "# you can use list comprehension to convert a list of ints to a new list of strings\n",
    "string_list = [str(x * 2) for x in range(2, 12, 2)]\n",
    "string_list"
   ]
  },
  {
   "cell_type": "markdown",
   "id": "9def0d63",
   "metadata": {
    "slideshow": {
     "slide_type": "slide"
    }
   },
   "source": [
    "### Question 6"
   ]
  },
  {
   "cell_type": "markdown",
   "id": "d03de2d7",
   "metadata": {
    "slideshow": {
     "slide_type": "fragment"
    }
   },
   "source": [
    "Use list comprehension to take the square each element of the following list of numbers:"
   ]
  },
  {
   "cell_type": "code",
   "execution_count": null,
   "id": "d51e0afc",
   "metadata": {
    "slideshow": {
     "slide_type": "fragment"
    }
   },
   "outputs": [],
   "source": [
    "numbers = [1, 2, 3, 4]"
   ]
  },
  {
   "cell_type": "markdown",
   "id": "beaa5aa0",
   "metadata": {
    "slideshow": {
     "slide_type": "fragment"
    }
   },
   "source": [
    "Now do the same thing, but make sure the output list only contains numbers greater than 8:"
   ]
  },
  {
   "cell_type": "code",
   "execution_count": null,
   "id": "1016d23f",
   "metadata": {
    "slideshow": {
     "slide_type": "fragment"
    }
   },
   "outputs": [],
   "source": []
  },
  {
   "cell_type": "markdown",
   "id": "1b73d015",
   "metadata": {
    "slideshow": {
     "slide_type": "fragment"
    }
   },
   "source": [
    "Now, instead of returning the square of each number, use list comprehension to return a `tuple` containing the original number, its squared value, _and_ its cubed value:"
   ]
  },
  {
   "cell_type": "code",
   "execution_count": null,
   "id": "c480170b",
   "metadata": {
    "slideshow": {
     "slide_type": "fragment"
    }
   },
   "outputs": [],
   "source": []
  },
  {
   "cell_type": "markdown",
   "id": "134a4d5e",
   "metadata": {
    "slideshow": {
     "slide_type": "slide"
    }
   },
   "source": [
    "### Question 7"
   ]
  },
  {
   "cell_type": "markdown",
   "id": "201a1a36",
   "metadata": {
    "slideshow": {
     "slide_type": "fragment"
    }
   },
   "source": [
    "Below is a list of common files and directories you might find if you do `ls` in a Linux terminal. Can you use list comprehension to return only the names that do not indicate a [hidden file](https://en.wikipedia.org/wiki/Hidden_file_and_hidden_directory)?"
   ]
  },
  {
   "cell_type": "code",
   "execution_count": null,
   "id": "5db7f826",
   "metadata": {
    "slideshow": {
     "slide_type": "fragment"
    }
   },
   "outputs": [],
   "source": [
    "names = ['bin', 'Data', 'Desktop', '.bashrc', '.ssh', '.git']"
   ]
  }
 ],
 "metadata": {
  "celltoolbar": "Slideshow",
  "kernelspec": {
   "display_name": "Python 3",
   "language": "python",
   "name": "python3"
  },
  "language_info": {
   "codemirror_mode": {
    "name": "ipython",
    "version": 3
   },
   "file_extension": ".py",
   "mimetype": "text/x-python",
   "name": "python",
   "nbconvert_exporter": "python",
   "pygments_lexer": "ipython3",
   "version": "3.9.10"
  },
  "toc": {
   "base_numbering": 1,
   "nav_menu": {},
   "number_sections": false,
   "sideBar": false,
   "skip_h1_title": true,
   "title_cell": "Table of Contents",
   "title_sidebar": "Contents",
   "toc_cell": false,
   "toc_position": {},
   "toc_section_display": true,
   "toc_window_display": false
  }
 },
 "nbformat": 4,
 "nbformat_minor": 5
}
