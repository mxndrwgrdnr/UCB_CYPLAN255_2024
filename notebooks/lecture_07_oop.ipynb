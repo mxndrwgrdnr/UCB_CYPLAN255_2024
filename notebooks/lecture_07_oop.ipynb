{
 "cells": [
  {
   "cell_type": "markdown",
   "id": "b40ef5a4",
   "metadata": {
    "slideshow": {
     "slide_type": "slide"
    }
   },
   "source": [
    "# CYPLAN255\n",
    "### Urban Informatics and Visualization"
   ]
  },
  {
   "cell_type": "markdown",
   "id": "2adc2c5d",
   "metadata": {
    "slideshow": {
     "slide_type": "slide"
    }
   },
   "source": [
    "HIT RECORD and TRANSCRIBE"
   ]
  },
  {
   "cell_type": "markdown",
   "id": "0ceea7a8",
   "metadata": {
    "slideshow": {
     "slide_type": "slide"
    }
   },
   "source": [
    "# Lecture 07 -- Object-Oriented Programming\n",
    "### Beyond Expressions, Procedures, and Scripts\n",
    "*******\n",
    "February 7, 2024"
   ]
  },
  {
   "cell_type": "markdown",
   "id": "75f7d376",
   "metadata": {
    "slideshow": {
     "slide_type": "slide"
    }
   },
   "source": [
    "# Agenda\n",
    "1. Announcements\n",
    "2. Object-oriented programming\n",
    "3. For next time\n",
    "4. Questions\n"
   ]
  },
  {
   "cell_type": "markdown",
   "id": "4f1c0cef",
   "metadata": {
    "slideshow": {
     "slide_type": "slide"
    }
   },
   "source": [
    "# 1. Announcements"
   ]
  },
  {
   "cell_type": "markdown",
   "id": "8e5d336f",
   "metadata": {
    "slideshow": {
     "slide_type": "fragment"
    }
   },
   "source": [
    "1. Assignment 1 due Sunday\n",
    "2. Assignment 2 released Monday"
   ]
  },
  {
   "cell_type": "markdown",
   "id": "6de08b17",
   "metadata": {
    "slideshow": {
     "slide_type": "slide"
    }
   },
   "source": [
    "# 2. Object-Oriented Programming"
   ]
  },
  {
   "cell_type": "markdown",
   "id": "55c45549",
   "metadata": {
    "slideshow": {
     "slide_type": "fragment"
    }
   },
   "source": [
    "So far you have learned the logic of programming using what is referred to as procedure-oriented programming. Python lets you do this easily. But as the programs you write get to be more complex, modern programming guidance is to use what is called an object-oriented programming style, sometimes referred to as object-oriented programming (OOP).\n",
    "\n",
    "While procedural programming can suffice for writing short, simple programs, an object-oriented approach becomes increasingly valuable as your program grows in size and complexity. The more data and functions your code contains, the more important it is to arrange them into logical subgroups (classes) making sure that 1) related data and functions are grouped together and 2) unrelated data and functions do _not_ interfere with each other. Modular code is easier to read, modify, and reuse – and code reuse is valuable because it reduces development time."
   ]
  },
  {
   "cell_type": "code",
   "execution_count": null,
   "id": "ccf19780",
   "metadata": {
    "slideshow": {
     "slide_type": "fragment"
    }
   },
   "outputs": [],
   "source": [
    "type(print)"
   ]
  },
  {
   "cell_type": "markdown",
   "id": "676c4a81",
   "metadata": {
    "slideshow": {
     "slide_type": "slide"
    }
   },
   "source": [
    "## 2.1 Abstraction\n",
    "The key to object-oriented programming is a concept called **abstraction**.\n",
    "\n",
    "Just like we've defined **variables** to make it easier to reuse data, we can also define **Functions** which instead of data store statements, expressions, conditional logic, loops, etc. This makes it easier to apply the same _procedures_ to different data."
   ]
  },
  {
   "cell_type": "markdown",
   "id": "23a5936e",
   "metadata": {
    "slideshow": {
     "slide_type": "fragment"
    }
   },
   "source": [
    "We call this \"abstraction\" because a function (e.g. `print()`) is a generic _representation_ of a much more complex procedure which the user doesn't necessarily know or need to know about. By defining your procedure as a Function, you not only protect the user from having to worry about the details of that procedure, but you also prevent them from altering it."
   ]
  },
  {
   "cell_type": "markdown",
   "id": "f1cb2cb9",
   "metadata": {
    "slideshow": {
     "slide_type": "slide"
    }
   },
   "source": [
    "### 2.1.1 Package > Module > Class > Method\n",
    "\n",
    "Similarly, we'll define **class** objects, which organize groups of related functions and variables together. Not all functions belong to classes, but when they do we call them **methods** of that class. Variables that are stored in a class are called **attributes** of that class.\n",
    "\n",
    "Going even further, we might want to organize a collection of classes, Functions, and variables into a **module**. Modules are stored on disk as their own .py files, and can be imported by other Python modules, scripts, or interactive sessions (e.g. Notebooks). \n",
    "\n",
    "Lastly we have Python **libraries** or **packages**, which are basically just a collection of **modules** with some addition instructions for telling Python how to install it."
   ]
  },
  {
   "cell_type": "markdown",
   "id": "5ee8a82c",
   "metadata": {
    "slideshow": {
     "slide_type": "slide"
    }
   },
   "source": [
    "### 2.1.2 Namespaces and Scopes\n",
    "\n",
    "We have previously seen that `dir()` is a helpful function which, if we do not provide an argument, will print out the list of all of the names of the objects which are defined in our **namespace**. \n"
   ]
  },
  {
   "cell_type": "code",
<<<<<<< Updated upstream
   "execution_count": null,
   "id": "a59403f9",
   "metadata": {},
   "outputs": [],
   "source": [
    "a"
   ]
  },
  {
   "cell_type": "code",
   "execution_count": null,
   "id": "b6c37c80",
   "metadata": {},
   "outputs": [],
   "source": [
    "c = 5"
   ]
  },
  {
   "cell_type": "code",
   "execution_count": null,
=======
   "execution_count": 1,
>>>>>>> Stashed changes
   "id": "00aea25d",
   "metadata": {
    "slideshow": {
     "slide_type": "fragment"
    }
   },
   "outputs": [
    {
     "data": {
      "text/plain": [
       "['In',\n",
       " 'Out',\n",
       " '_',\n",
       " '__',\n",
       " '___',\n",
       " '__builtin__',\n",
       " '__builtins__',\n",
       " '__doc__',\n",
       " '__loader__',\n",
       " '__name__',\n",
       " '__package__',\n",
       " '__spec__',\n",
       " '_dh',\n",
       " '_i',\n",
       " '_i1',\n",
       " '_ih',\n",
       " '_ii',\n",
       " '_iii',\n",
       " '_oh',\n",
       " 'a',\n",
       " 'b',\n",
       " 'exit',\n",
       " 'get_ipython',\n",
       " 'open',\n",
       " 'quit']"
      ]
     },
     "execution_count": 1,
     "metadata": {},
     "output_type": "execute_result"
    }
   ],
   "source": [
    "\n",
    "dir()"
   ]
  },
  {
   "cell_type": "markdown",
   "id": "dd28857b",
   "metadata": {
    "slideshow": {
     "slide_type": "fragment"
    }
   },
   "source": [
    "A namespace is like a dictionary which maps names of objects to the objects themselves. Every module, method, or class object that we define will have its own namespace, called a **local** namespace. The local namespace can be interrogated with the built-in `locals()` function. Locals is like a glossary of what you've defined."
   ]
  },
  {
   "cell_type": "code",
   "execution_count": 2,
   "id": "c466b13c",
   "metadata": {
    "scrolled": false,
    "slideshow": {
     "slide_type": "fragment"
    }
   },
   "outputs": [
    {
     "data": {
      "text/plain": [
       "{'__name__': '__main__',\n",
       " '__doc__': 'Automatically created module for IPython interactive environment',\n",
       " '__package__': None,\n",
       " '__loader__': None,\n",
       " '__spec__': None,\n",
       " '__builtin__': <module 'builtins' (built-in)>,\n",
       " '__builtins__': <module 'builtins' (built-in)>,\n",
       " '_ih': ['', 'a = 1\\nb = 2\\ndir()', 'locals()'],\n",
       " '_oh': {1: ['In',\n",
       "   'Out',\n",
       "   '_',\n",
       "   '__',\n",
       "   '___',\n",
       "   '__builtin__',\n",
       "   '__builtins__',\n",
       "   '__doc__',\n",
       "   '__loader__',\n",
       "   '__name__',\n",
       "   '__package__',\n",
       "   '__spec__',\n",
       "   '_dh',\n",
       "   '_i',\n",
       "   '_i1',\n",
       "   '_ih',\n",
       "   '_ii',\n",
       "   '_iii',\n",
       "   '_oh',\n",
       "   'a',\n",
       "   'b',\n",
       "   'exit',\n",
       "   'get_ipython',\n",
       "   'open',\n",
       "   'quit']},\n",
       " '_dh': [WindowsPath('C:/Users/sandr/UCB_CYPLAN255_2024/notebooks')],\n",
       " 'In': ['', 'a = 1\\nb = 2\\ndir()', 'locals()'],\n",
       " 'Out': {1: ['In',\n",
       "   'Out',\n",
       "   '_',\n",
       "   '__',\n",
       "   '___',\n",
       "   '__builtin__',\n",
       "   '__builtins__',\n",
       "   '__doc__',\n",
       "   '__loader__',\n",
       "   '__name__',\n",
       "   '__package__',\n",
       "   '__spec__',\n",
       "   '_dh',\n",
       "   '_i',\n",
       "   '_i1',\n",
       "   '_ih',\n",
       "   '_ii',\n",
       "   '_iii',\n",
       "   '_oh',\n",
       "   'a',\n",
       "   'b',\n",
       "   'exit',\n",
       "   'get_ipython',\n",
       "   'open',\n",
       "   'quit']},\n",
       " 'get_ipython': <bound method InteractiveShell.get_ipython of <ipykernel.zmqshell.ZMQInteractiveShell object at 0x000001763D0307D0>>,\n",
       " 'exit': <IPython.core.autocall.ZMQExitAutocall at 0x1763d03d210>,\n",
       " 'quit': <IPython.core.autocall.ZMQExitAutocall at 0x1763d03d210>,\n",
       " 'open': <function io.open(file, mode='r', buffering=-1, encoding=None, errors=None, newline=None, closefd=True, opener=None)>,\n",
       " '_': ['In',\n",
       "  'Out',\n",
       "  '_',\n",
       "  '__',\n",
       "  '___',\n",
       "  '__builtin__',\n",
       "  '__builtins__',\n",
       "  '__doc__',\n",
       "  '__loader__',\n",
       "  '__name__',\n",
       "  '__package__',\n",
       "  '__spec__',\n",
       "  '_dh',\n",
       "  '_i',\n",
       "  '_i1',\n",
       "  '_ih',\n",
       "  '_ii',\n",
       "  '_iii',\n",
       "  '_oh',\n",
       "  'a',\n",
       "  'b',\n",
       "  'exit',\n",
       "  'get_ipython',\n",
       "  'open',\n",
       "  'quit'],\n",
       " '__': '',\n",
       " '___': '',\n",
       " '_i': 'a = 1\\nb = 2\\ndir()',\n",
       " '_ii': '',\n",
       " '_iii': '',\n",
       " '_i1': 'a = 1\\nb = 2\\ndir()',\n",
       " 'a': 1,\n",
       " 'b': 2,\n",
       " '_1': ['In',\n",
       "  'Out',\n",
       "  '_',\n",
       "  '__',\n",
       "  '___',\n",
       "  '__builtin__',\n",
       "  '__builtins__',\n",
       "  '__doc__',\n",
       "  '__loader__',\n",
       "  '__name__',\n",
       "  '__package__',\n",
       "  '__spec__',\n",
       "  '_dh',\n",
       "  '_i',\n",
       "  '_i1',\n",
       "  '_ih',\n",
       "  '_ii',\n",
       "  '_iii',\n",
       "  '_oh',\n",
       "  'a',\n",
       "  'b',\n",
       "  'exit',\n",
       "  'get_ipython',\n",
       "  'open',\n",
       "  'quit'],\n",
       " '_i2': 'locals()'}"
      ]
     },
     "execution_count": 2,
     "metadata": {},
     "output_type": "execute_result"
    }
   ],
   "source": [
    "locals()"
   ]
  },
  {
   "cell_type": "markdown",
   "id": "b6c12163",
   "metadata": {
    "slideshow": {
     "slide_type": "fragment"
    }
   },
   "source": [
    "This looks a lot like what we saw when we ran the `dir()` command. That's because when you run `dir()`, you are basically seeing the keys of the `locals` dict."
   ]
  },
  {
   "cell_type": "markdown",
   "id": "b6ce9101",
   "metadata": {
    "slideshow": {
     "slide_type": "slide"
    }
   },
   "source": [
    "Each namespace has something called a **scope** which defines the region of a Python program from which that namespace is accessible.\n",
    "\n",
    "These concepts are related to abstraction because objects that are encapsulated by other objects automatically inherit the namespaces of their encapsulating objects. Another way of saying this is that the scope of an object's namespace extends to all of the namespaces of objects that are defined within that object. For example, the namespace of a class has a scope which extends to all methods (functions) defined in that class. The opposite is not true, however. If a variable is defined within a method, the encapsulating class object does not have access to that variable. \n",
    "\n",
    "There is also a **global** namespace which defines the namespace that is not encapsulated by any other. Any object in the global namespace is accessible from any other namespace in the program. When our Python interpreter is executing code from an interactive session (like this one) rather than a class or function, its local namespace is also the global namespace. Try for yourself:\n"
   ]
  },
  {
   "cell_type": "code",
   "execution_count": 3,
   "id": "b59b671d",
   "metadata": {
    "slideshow": {
     "slide_type": "fragment"
    }
   },
   "outputs": [
    {
     "data": {
      "text/plain": [
       "True"
      ]
     },
     "execution_count": 3,
     "metadata": {},
     "output_type": "execute_result"
    }
   ],
   "source": [
    "locals() == globals()"
   ]
  },
  {
   "cell_type": "markdown",
   "id": "d1f11780",
   "metadata": {
    "slideshow": {
     "slide_type": "fragment"
    }
   },
   "source": [
    "This will all make more sense once you see how classes and functions are defined."
   ]
  },
  {
   "cell_type": "markdown",
   "id": "6dc6594f",
   "metadata": {
    "slideshow": {
     "slide_type": "slide"
    }
   },
   "source": [
    "## 2.2 Functions\n",
    "\n",
    "You can group programming steps into functions to be able to reuse them easily and flexibly, on different inputs.\n",
    "\n",
    "Note the syntax below.  A function definition begins with the word `def`. It then has a name, and then parentheses containing one or more elements called **arguments**. Arguments define generic, descriptive, placeholder names for the values that you intend to pass to the function at runtime.  Notice also the indentation of the block of code defining the procedure.\n",
    "\n",
    "```\n",
    "def function_name(args):\n",
    "    <DO STUFF>\n",
    "```\n",
    "\n",
    "The general syntax for a function looks a bit like the syntax for an `if` statement."
   ]
  },
  {
   "cell_type": "markdown",
   "id": "ec66cf8a",
   "metadata": {
    "slideshow": {
     "slide_type": "slide"
    }
   },
   "source": [
    "Recall the example of a chained conditional we covered last time:"
   ]
  },
  {
   "cell_type": "code",
   "execution_count": null,
   "id": "fdfde41f",
   "metadata": {
    "slideshow": {
     "slide_type": "fragment"
    }
   },
   "outputs": [],
   "source": [
    "x = 11\n",
    "if x < 10:\n",
    "    print('x is less than 10')\n",
    "elif x == 10:\n",
    "    print('x equals 10')\n",
    "else:\n",
    "    print('x is greater than 10')"
   ]
  },
  {
   "cell_type": "markdown",
   "id": "bc666e02",
   "metadata": {
    "slideshow": {
     "slide_type": "slide"
    }
   },
   "source": [
    "Let's try encapsulating these statements with a function"
   ]
  },
  {
   "cell_type": "code",
   "execution_count": null,
   "id": "61e0e6d4",
   "metadata": {
    "slideshow": {
     "slide_type": "fragment"
    }
   },
   "outputs": [],
   "source": [
    "def compare_to_10(value):\n",
    "    if value < 10:\n",
    "        print(value, 'is less than 10')\n",
    "    elif value == 10:\n",
    "        print(value, 'equals 10')\n",
    "    else:\n",
    "        print(value, 'is greater than 10')    "
   ]
  },
  {
   "cell_type": "markdown",
   "id": "f16437e7",
   "metadata": {
    "slideshow": {
     "slide_type": "fragment"
    }
   },
   "source": [
    "A few things to notice here:\n",
    "- Running the cell above does not produce any output.  It just defines the function and adds it to our **namespace**, which makes it available to call later on.\n",
    "- Function names should always be **verbs** which describe what the function does (e.g. `do_this()`, `get_that()`, etc.). They should also always be all lower case, with underscores separating words as needed for legibility.\n",
    "- There is nothing special about the word `value` above. It's a placeholder for whatever argument we will eventually pass into the function when we're ready to use it. It defines a variable that does not yet have a value, and will take on the value of whatever argument we pass into the function when we call it. It will only be defined in the _local_ namespace of the function. It works kind of like `item` in the following for loop:\n",
    "```\n",
    "for item in list:\n",
    "    print(item)\n",
    "```"
   ]
  },
  {
   "cell_type": "markdown",
   "id": "288eae62",
   "metadata": {
    "slideshow": {
     "slide_type": "slide"
    }
   },
   "source": [
    "To call a function, just use its name as if it were a built in function and use parentheses to pass the function a value or set of values as **arguments**.  Just pay attention - the function doesn't exist until you initialize it by running the code that defines it."
   ]
  },
  {
   "cell_type": "markdown",
   "id": "377df8b4",
   "metadata": {
    "slideshow": {
     "slide_type": "fragment"
    }
   },
   "source": [
    "Let's try calling the function now"
   ]
  },
  {
   "cell_type": "code",
   "execution_count": null,
   "id": "41cc30e2",
   "metadata": {
    "slideshow": {
     "slide_type": "fragment"
    }
   },
   "outputs": [],
   "source": [
    "compare_to_10(9)"
   ]
  },
  {
   "cell_type": "markdown",
   "id": "9bdc132f",
   "metadata": {
    "slideshow": {
     "slide_type": "slide"
    }
   },
   "source": [
    "The above approach to calling the method isn't that different than the original use case. But now we can call the function from a for loop, and this is where you begin to see the value of functions in automating a process."
   ]
  },
  {
   "cell_type": "code",
   "execution_count": null,
   "id": "6113562e",
   "metadata": {
    "slideshow": {
     "slide_type": "fragment"
    }
   },
   "outputs": [],
   "source": [
    "for i in range(20):\n",
    "    compare_to_10(i)"
   ]
  },
  {
   "cell_type": "markdown",
   "id": "986947f0",
   "metadata": {
    "slideshow": {
     "slide_type": "slide"
    }
   },
   "source": [
    "### 2.2.1 `return` values\n",
    "\n",
    "Your function can produce output data that you can use from wherever you've called that function.\n",
    "\n",
    "Note the use of `return` here. `return` not only tells your function which results to return, but it also send a signal to your function that the function is \"done\". Kind of like `break` in a loop. "
   ]
  },
  {
   "cell_type": "code",
   "execution_count": null,
   "id": "3bb27583",
   "metadata": {
    "slideshow": {
     "slide_type": "fragment"
    }
   },
   "outputs": [],
   "source": [
    "def greater_than(x, y):\n",
    "    if x > y:\n",
    "        return True\n",
    "    else:\n",
    "        return False"
   ]
  },
  {
   "cell_type": "code",
   "execution_count": null,
   "id": "7b76bc9f",
   "metadata": {
    "scrolled": false,
    "slideshow": {
     "slide_type": "fragment"
    }
   },
   "outputs": [],
   "source": [
    "greater_than('B', 'A')"
   ]
  },
  {
   "cell_type": "markdown",
   "id": "acec9184",
   "metadata": {
    "slideshow": {
     "slide_type": "slide"
    }
   },
   "source": [
    "One of the most practical uses of using return is that you can assign the result to a variable and continue working with it."
   ]
  },
  {
   "cell_type": "code",
   "execution_count": null,
   "id": "25b29b66",
   "metadata": {
    "slideshow": {
     "slide_type": "fragment"
    }
   },
   "outputs": [],
   "source": [
    "z = greater_than(3, 5)"
   ]
  },
  {
   "cell_type": "code",
   "execution_count": null,
   "id": "afe556cd",
   "metadata": {
    "slideshow": {
     "slide_type": "fragment"
    }
   },
   "outputs": [],
   "source": [
    "z"
   ]
  },
  {
   "cell_type": "markdown",
   "id": "73e4cd85",
   "metadata": {
    "slideshow": {
     "slide_type": "slide"
    }
   },
   "source": [
    "### 2.2.2 A more complex example\n",
    "\n",
    "Here is a more complex function that calculates a Fibonacci series up to $n$.  Fibonacci series have the property that the sum of two adjacent numbers in the list equals the next value in the list.  \n",
    "\n",
    "Figuring out how to write functions to solve a problem requires analyzing the problem and, if it is complicated, breaking it down to smaller steps.  In this case, to create a Fibonnaci series we should:\n",
    "\n",
    "1. Initialize two variables with the first two values, 0 and 1\n",
    "2. create a while loop to iterate over a sequence of values up to $n$\n",
    "2. at each iteration, assign the second value to the first variable and assign the sum of the two to the second variable"
   ]
  },
  {
   "cell_type": "markdown",
   "id": "ec33eb48",
   "metadata": {
    "slideshow": {
     "slide_type": "fragment"
    }
   },
   "source": [
    "Note that when a function does not explicitly return anything, Python will return `None`. This is equivalent to the following:"
   ]
  },
  {
   "cell_type": "code",
   "execution_count": null,
   "id": "06c661b6",
   "metadata": {
    "slideshow": {
     "slide_type": "fragment"
    }
   },
   "outputs": [],
   "source": [
    "def create_fibonacci(n):    \n",
    "    a, b = 0, 1  # use commas to assign multiple variables in one line\n",
    "    while a < n:\n",
    "        print(a, end=' ')\n",
    "        a, b = b, a + b\n",
    "    return"
   ]
  },
  {
   "cell_type": "markdown",
   "id": "a3a43d0e",
   "metadata": {
    "slideshow": {
     "slide_type": "slide"
    }
   },
   "source": [
    "We can add documentation to functions by adding a statement in triple quotation marks following the `def` statement. These are called **docstring**, which Python can use to generate documentation for a function."
   ]
  },
  {
   "cell_type": "code",
   "execution_count": null,
   "id": "7f5214b4",
   "metadata": {
    "scrolled": true,
    "slideshow": {
     "slide_type": "fragment"
    }
   },
   "outputs": [],
   "source": [
    "def create_fibonacci(n):    \n",
    "    \"\"\"Print a Fibonacci series up to n, where each element \n",
    "    is the sum of the preceding two elements in the sequence.\n",
    "    \"\"\"\n",
    "    a, b = 0, 1\n",
    "    print(list(locals().keys()))\n",
    "    while a < n:\n",
    "        print(a, end=' ')\n",
    "        a, b = b, a + b\n",
    "    \n",
    "create_fibonacci(1000)"
   ]
  },
  {
   "cell_type": "markdown",
   "id": "2f310fb1",
   "metadata": {
    "slideshow": {
     "slide_type": "slide"
    }
   },
   "source": [
    "Let's modify the function to create a list, return it, and assign it to a new variable."
   ]
  },
  {
   "cell_type": "code",
   "execution_count": null,
   "id": "094f8b5f",
   "metadata": {
    "slideshow": {
     "slide_type": "fragment"
    }
   },
   "outputs": [],
   "source": [
    "def create_fibonacci(n):    \n",
    "    \"\"\"Print a Fibonacci series up to n, where each element\n",
    "    is the sum of the preceding two elements in the sequence.\n",
    "    \"\"\"\n",
    "    result = []\n",
    "    a, b = 0, 1\n",
    "    while a < n:\n",
    "        result.append(a)\n",
    "        a, b = b, a + b\n",
    "    return result\n",
    "    \n",
    "f = create_fibonacci(1000)"
   ]
  },
  {
   "cell_type": "code",
   "execution_count": null,
   "id": "6ab3a222",
   "metadata": {
    "slideshow": {
     "slide_type": "slide"
    }
   },
   "outputs": [],
   "source": [
    "# print the doctring for a function\n",
    "print(create_fibonacci.__doc__)"
   ]
  },
  {
   "cell_type": "code",
   "execution_count": null,
   "id": "13ac21e0",
   "metadata": {
    "scrolled": true,
    "slideshow": {
     "slide_type": "fragment"
    }
   },
   "outputs": [],
   "source": [
    "help(create_fibonacci)"
   ]
  },
  {
   "cell_type": "markdown",
   "id": "46866f5f",
   "metadata": {
    "slideshow": {
     "slide_type": "slide"
    }
   },
   "source": [
    "### Question 1\n",
    "\n",
    "Write a Python function named `countdown()` that:\n",
    "1. accepts an integer as an argument\n",
    "2. prints that integer and counts down to zero from there.\n",
    "\n",
    "Test it by passing it a value of 9."
   ]
  },
  {
   "cell_type": "code",
   "execution_count": null,
   "id": "57c73247",
   "metadata": {
    "slideshow": {
     "slide_type": "fragment"
    }
   },
   "outputs": [],
   "source": []
  },
  {
   "cell_type": "markdown",
   "id": "37faba83",
   "metadata": {
    "slideshow": {
     "slide_type": "slide"
    }
   },
   "source": [
    "### Question 2\n",
    "\n",
    "We saw earlier than `local() == globals()` evaluates to `True` when you run it in a notebook cell. Let's modify our fibonacci function to evaluate this statement inside the function call and print the result:"
   ]
  },
  {
   "cell_type": "code",
   "execution_count": null,
<<<<<<< Updated upstream
   "id": "57af02ad",
   "metadata": {},
   "outputs": [],
   "source": [
    "locals() == globals()"
=======
   "id": "4fff9ee7",
   "metadata": {},
   "outputs": [],
   "source": [
    "local() == globals()\n",
    "*****what you define in a function \"def\" you cant be referenced outside the function"
>>>>>>> Stashed changes
   ]
  },
  {
   "cell_type": "code",
   "execution_count": null,
   "id": "f84147d5",
   "metadata": {
    "slideshow": {
     "slide_type": "fragment"
    }
   },
   "outputs": [],
   "source": [
    "c = \"foo\"\n",
    "def create_fibonacci(n):    \n",
    "    \"\"\"Print a Fibonacci series up to n, where each element\n",
    "    is the sum of the preceding two elements in the sequence.\n",
    "    \"\"\"\n",
    "    result = []\n",
    "    a, b = 0, 1\n",
    "    d = 100\n",
    "    print(locals() == globals())\n",
    "    while a < n:\n",
    "        result.append(a)\n",
    "        a, b = b, a + b\n",
    "    return result, a, b\n",
    "    \n",
    "f = create_fibonacci(1000)\n",
    "print(d)"
   ]
  },
  {
   "cell_type": "markdown",
   "id": "8693bf32",
   "metadata": {
    "slideshow": {
     "slide_type": "fragment"
    }
   },
   "source": [
    "Why do we get a different result?"
   ]
  },
  {
   "cell_type": "markdown",
   "id": "4ce047d0",
   "metadata": {
    "slideshow": {
     "slide_type": "slide"
    }
   },
   "source": [
    "### 2.2.3 \"Lambda\" Functions"
   ]
  },
  {
   "cell_type": "markdown",
   "id": "5be49e73",
   "metadata": {
    "slideshow": {
     "slide_type": "fragment"
    }
   },
   "source": [
    "One way to write small functions in a compact way that avoids the `def` statement is to use the **lambda** function. Lambda takes a number of parameters and an expression combining these parameters, and creates an anonymous function that returns the value of the expression. Lambda functions come very handy when operating with lists or other iterables. These function are defined by the keyword lambda followed by the variables, a colon and the respective expression."
   ]
  },
  {
   "cell_type": "code",
   "execution_count": null,
   "id": "425151c1",
   "metadata": {
    "slideshow": {
     "slide_type": "fragment"
    }
   },
   "outputs": [],
   "source": [
    "multiply = lambda x: x * x"
   ]
  },
  {
   "cell_type": "code",
   "execution_count": null,
   "id": "d6a82fe4",
   "metadata": {
    "slideshow": {
     "slide_type": "fragment"
    }
   },
   "outputs": [],
   "source": [
    "multiply(7)"
   ]
  },
  {
   "cell_type": "markdown",
   "id": "857256b8",
   "metadata": {
    "slideshow": {
     "slide_type": "slide"
    }
   },
   "source": [
    "The lamda function above is equivalent to the following code:"
   ]
  },
  {
   "cell_type": "code",
   "execution_count": null,
   "id": "9c04e7fa",
   "metadata": {
    "slideshow": {
     "slide_type": "fragment"
    }
   },
   "outputs": [],
   "source": [
    "def multiply(x):\n",
    "    result = x * x\n",
    "    return result\n",
    "\n",
    "multiply(7)"
   ]
  },
  {
   "cell_type": "markdown",
   "id": "4cff7cd8",
   "metadata": {
    "slideshow": {
     "slide_type": "slide"
    }
   },
   "source": [
    "Here's an example lambda function which takes two arguments"
   ]
  },
  {
   "cell_type": "code",
   "execution_count": null,
   "id": "c980881a",
   "metadata": {
    "slideshow": {
     "slide_type": "fragment"
    }
   },
   "outputs": [],
   "source": [
    "add = lambda x, y: x + y"
   ]
  },
  {
   "cell_type": "code",
   "execution_count": null,
   "id": "3ad8f028",
   "metadata": {
    "slideshow": {
     "slide_type": "fragment"
    }
   },
   "outputs": [],
   "source": [
    "add(3, 4)"
   ]
  },
  {
   "cell_type": "markdown",
   "id": "cfa5c828",
   "metadata": {
    "slideshow": {
     "slide_type": "fragment"
    }
   },
   "source": [
    "This is just an alternative way to \"def statement\"  and defining a function in the usual way."
   ]
  },
  {
   "cell_type": "code",
   "execution_count": null,
   "id": "a64ed775",
   "metadata": {
    "slideshow": {
     "slide_type": "fragment"
    }
   },
   "outputs": [],
   "source": [
    "def add(x, y):\n",
    "    result = x + y\n",
    "    return result"
   ]
  },
  {
   "cell_type": "markdown",
   "id": "136af772",
   "metadata": {
    "slideshow": {
     "slide_type": "slide"
    }
   },
   "source": [
    "Here is an example of embedding a boolean test in a lambda"
   ]
  },
  {
   "cell_type": "code",
   "execution_count": null,
   "id": "5d3dcba3",
   "metadata": {
    "slideshow": {
     "slide_type": "fragment"
    }
   },
   "outputs": [],
   "source": [
    "check_even = lambda x: x % 2 == 0\n",
    "check_even(9)"
   ]
  },
  {
   "cell_type": "markdown",
   "id": "77b25255",
   "metadata": {
    "slideshow": {
     "slide_type": "slide"
    }
   },
   "source": [
    "### 2.2.4 The `map()` function\n",
    "`map()` is a function which evaluates a function on each item of a sequence. To achieve this, it takes other functions as an argument."
   ]
  },
  {
   "cell_type": "code",
   "execution_count": null,
   "id": "4bf878eb",
   "metadata": {
    "slideshow": {
     "slide_type": "fragment"
    }
   },
   "outputs": [],
   "source": [
    "ls = list(range(2, 10))\n",
    "list(map(str, ls))"
   ]
  },
  {
   "cell_type": "code",
   "execution_count": null,
   "id": "dbad7c7d",
   "metadata": {},
   "outputs": [],
   "source": [
    "str(ls)"
   ]
  },
  {
   "cell_type": "markdown",
   "id": "83a000de",
   "metadata": {
    "slideshow": {
     "slide_type": "fragment"
    }
   },
   "source": [
    "When combined with lambda functions, `map()` can make for some very powerful one-liners"
   ]
  },
  {
   "cell_type": "code",
   "execution_count": null,
   "id": "04177039",
   "metadata": {
    "slideshow": {
     "slide_type": "fragment"
    }
   },
   "outputs": [],
   "source": [
    "list(map(lambda x: x * x, list(range(2, 10))))"
   ]
  },
  {
   "cell_type": "markdown",
   "id": "94afd1a9",
   "metadata": {
    "slideshow": {
     "slide_type": "slide"
    }
   },
   "source": [
    "Notice that without `list()`, map returns a `map` object, similar to how `range()` produces a `range` object"
   ]
  },
  {
   "cell_type": "code",
   "execution_count": null,
   "id": "e51113ec",
   "metadata": {
    "slideshow": {
     "slide_type": "fragment"
    }
   },
   "outputs": [],
   "source": [
    "eg = map(lambda x: x + 2, ls)\n",
    "print(ls)\n",
    "print(eg)\n",
    "print(list(eg))"
   ]
  },
  {
   "cell_type": "code",
   "execution_count": null,
   "id": "266ae02f",
   "metadata": {
    "slideshow": {
     "slide_type": "fragment"
    }
   },
   "outputs": [],
   "source": [
    "ls = list(range(10))\n",
    "eg3 = map(lambda x: x % 2 == 0, ls)\n",
    "print(ls)\n",
    "print(list(eg3))"
   ]
  },
  {
   "cell_type": "markdown",
   "id": "12494a6d",
   "metadata": {
    "slideshow": {
     "slide_type": "slide"
    }
   },
   "source": [
    "## 2.3 `class` objects"
   ]
  },
  {
   "cell_type": "markdown",
   "id": "1c785c82",
   "metadata": {
    "slideshow": {
     "slide_type": "fragment"
    }
   },
   "source": [
    "Let's create a simple class for UC Berkeley employees."
   ]
  },
  {
   "cell_type": "code",
   "execution_count": null,
   "id": "93f3ee46",
   "metadata": {
    "slideshow": {
     "slide_type": "fragment"
    }
   },
   "outputs": [],
   "source": [
    "class Employee:\n",
    "    pass  # pass is kind of like \"continue\" in a loop, it does nothing."
   ]
  },
  {
   "cell_type": "markdown",
   "id": "0f15c4de",
   "metadata": {
    "slideshow": {
     "slide_type": "fragment"
    }
   },
   "source": [
    "Above, a class object named \"Employee\" is declared. It kind of looks like a function definition except instead of `def` you use `class`, and you don't return anything. Think of a `class` like a blueprint or a recipe for creating objects that have a predefined set of attributes and methods for manipulating those attributes. You can use that blueprint to create lots of different versions or **instances** of that class."
   ]
  },
  {
   "cell_type": "markdown",
   "id": "15608028",
   "metadata": {
    "slideshow": {
     "slide_type": "slide"
    }
   },
   "source": [
    "### 2.3.1 Instantiate a class "
   ]
  },
  {
   "cell_type": "markdown",
   "id": "c4971cc6",
   "metadata": {
    "slideshow": {
     "slide_type": "fragment"
    }
   },
   "source": [
    "Each unique employee that we create using our \"Employee\" class will be an instance of that class. For instance, employees 1 and 2. To create an instance all you need to do is: "
   ]
  },
  {
   "cell_type": "code",
   "execution_count": null,
   "id": "8a21cc13",
   "metadata": {
    "slideshow": {
     "slide_type": "fragment"
    }
   },
   "outputs": [],
   "source": [
    "emp_1 = Employee()\n",
    "emp_2 = Employee()"
   ]
  },
  {
   "cell_type": "markdown",
   "id": "6af487f5",
   "metadata": {
    "slideshow": {
     "slide_type": "slide"
    }
   },
   "source": [
    "If we print these two instances, you will see both of them are Employee objects which are unique -- they each have different locations in the computer's memory."
   ]
  },
  {
   "cell_type": "code",
   "execution_count": null,
   "id": "ec76d933",
   "metadata": {
    "scrolled": true,
    "slideshow": {
     "slide_type": "fragment"
    }
   },
   "outputs": [],
   "source": [
    "print(emp_1)\n",
    "print(type(emp_1))"
   ]
  },
  {
   "cell_type": "markdown",
   "id": "1e5569da",
   "metadata": {
    "slideshow": {
     "slide_type": "fragment"
    }
   },
   "source": [
    "Knowing the difference between a class and an instance of that class is important.  Its like the difference between a blueprint for a building and an actual building constructed from that blueprint.\n"
   ]
  },
  {
   "cell_type": "markdown",
   "id": "d8df1f11",
   "metadata": {
    "slideshow": {
     "slide_type": "slide"
    }
   },
   "source": [
    "### 2.3.2 Class attributes"
   ]
  },
  {
   "cell_type": "markdown",
   "id": "557a8982",
   "metadata": {
    "slideshow": {
     "slide_type": "fragment"
    }
   },
   "source": [
    "Variables that are stored within class objects are called **attributes**. Let's add some for our employees:"
   ]
  },
  {
   "cell_type": "code",
   "execution_count": null,
   "id": "eac6976d",
   "metadata": {
    "slideshow": {
     "slide_type": "fragment"
    }
   },
   "outputs": [],
   "source": [
    "emp_1.first = 'John'\n",
    "emp_1.last= 'Smith'\n",
    "emp_1.email= '{0}.{1}@berkeley.edu'.format(emp_1.first, emp_1.last)\n",
    "emp_1.pay= 85000\n",
    "\n",
    "emp_2.first = 'Jane'\n",
    "emp_2.last= 'Doe'\n",
    "emp_2.email= '{0}.{1}@berkeley.edu'.format(emp_2.first, emp_2.last)\n",
    "emp_2.pay= 20000"
   ]
  },
  {
   "cell_type": "markdown",
   "id": "464f3b57",
   "metadata": {
    "slideshow": {
     "slide_type": "fragment"
    }
   },
   "source": [
    "Now let's print out the email address for employee 2"
   ]
  },
  {
   "cell_type": "code",
   "execution_count": null,
   "id": "8b71ce4e",
   "metadata": {
    "slideshow": {
     "slide_type": "fragment"
    }
   },
   "outputs": [],
   "source": [
    "print(emp_2.email)"
   ]
  },
  {
   "cell_type": "markdown",
   "id": "bf9c143f",
   "metadata": {
    "slideshow": {
     "slide_type": "slide"
    }
   },
   "source": [
    "## 2.4 Class methods"
   ]
  },
  {
   "cell_type": "markdown",
   "id": "c7fade63",
   "metadata": {
    "slideshow": {
     "slide_type": "fragment"
    }
   },
   "source": [
    "First, a reminder. Methods are just functions of a class. They are constructed the exact same way, with one minor difference: "
   ]
  },
  {
   "cell_type": "markdown",
   "id": "36baa253",
   "metadata": {
    "slideshow": {
     "slide_type": "fragment"
    }
   },
   "source": [
    "```\n",
    "def print_hello(self):\n",
    "    print(\"Hello World!\")\n",
    "```"
   ]
  },
  {
   "cell_type": "markdown",
   "id": "14c63e62",
   "metadata": {
    "slideshow": {
     "slide_type": "fragment"
    }
   },
   "source": [
    "The first argument of a method is always the instance object itself. For the sake of convention, we usually name this argument `self`, but it can really be anything. This argument never needs to be specified when the method itself is called. It's just there. Ignore it except when you are defining a method."
   ]
  },
  {
   "cell_type": "markdown",
   "id": "c991b1a4",
   "metadata": {},
   "source": [
    "### 2.4.1 the `__init__()` method"
   ]
  },
  {
   "cell_type": "markdown",
   "id": "419d0ff4",
   "metadata": {
    "slideshow": {
     "slide_type": "slide"
    }
   },
   "source": [
    "Back to our employee class. What should we do if we want to create many employee instances? To do this manually it would require writing a lot of code, and we'd probably eventually make a mistake if we re-write it every time.\n",
    "\n",
    "To make this **instantiation** easier we use the `__init__()` method, short for \"initialize\". It will define an _initial_ state for all instances of this class. As soon as a class instance is instantiated, the code inside of `__init__()` will be run."
   ]
  },
  {
   "cell_type": "code",
   "execution_count": null,
   "id": "3620b64e",
   "metadata": {
    "slideshow": {
     "slide_type": "fragment"
    }
   },
   "outputs": [],
   "source": [
    "class Employee:\n",
    "\n",
    "    def __init__(self, first, last, pay):\n",
    "        self.first = first\n",
    "        self.last = last\n",
    "        self.pay = pay\n",
    "        self.email = '{0}.{1}@berkeley.edu'.format(first, last)"
   ]
  },
  {
   "cell_type": "markdown",
   "id": "da291fea",
   "metadata": {
    "slideshow": {
     "slide_type": "slide"
    }
   },
   "source": [
    "Now we can instantiate `Employee` type objects with attributes right from the start:"
   ]
  },
  {
   "cell_type": "code",
   "execution_count": null,
   "id": "c3fc1028",
   "metadata": {
    "slideshow": {
     "slide_type": "fragment"
    }
   },
   "outputs": [],
   "source": [
    "emp_1 = Employee('John', 'Smith', 83000)\n",
    "emp_2 = Employee('Jane', 'Doe', 20000)"
   ]
  },
  {
   "cell_type": "markdown",
   "id": "c3ada9e3",
   "metadata": {
    "slideshow": {
     "slide_type": "fragment"
    }
   },
   "source": [
    "And once you have instantiated an object, you can call it by name and access its attributes:"
   ]
  },
  {
   "cell_type": "code",
   "execution_count": null,
   "id": "380fe164",
   "metadata": {
    "slideshow": {
     "slide_type": "fragment"
    }
   },
   "outputs": [],
   "source": [
    "print(\"{0} {1}: ${2}\".format(emp_1.first, emp_1.last, emp_1.pay))"
   ]
  },
  {
   "cell_type": "markdown",
   "id": "ed9e4fb4",
   "metadata": {
    "slideshow": {
     "slide_type": "slide"
    }
   },
   "source": [
    "### 2.4.2 Defining your own class methods"
   ]
  },
  {
   "cell_type": "markdown",
   "id": "20aa0bd7",
   "metadata": {
    "slideshow": {
     "slide_type": "fragment"
    }
   },
   "source": [
    "That's a lot to type each time we want to display the full name of an employee. To make it easier, we can add a **method**. In this case, the instance object is the only argument we need:"
   ]
  },
  {
   "cell_type": "code",
   "execution_count": null,
   "id": "c040543e",
   "metadata": {
    "slideshow": {
     "slide_type": "fragment"
    }
   },
   "outputs": [],
   "source": [
    "class Employee:\n",
    "    def __init__(self, first, last, pay):\n",
    "        self.first = first\n",
    "        self.last = last\n",
    "        self.pay = pay\n",
    "        self.email = '{0}.{1}@berkeley.edu'.format(first, last)\n",
    "        \n",
    "    def get_full_name(self):\n",
    "        \"\"\"my method\n",
    "        \"\"\"\n",
    "        return '{0} {1}'.format(self.first, self.last)"
   ]
  },
  {
   "cell_type": "code",
   "execution_count": null,
   "id": "9aa5ddf5",
   "metadata": {
    "slideshow": {
     "slide_type": "slide"
    }
   },
   "outputs": [],
   "source": [
    "emp_1 = Employee('John', 'Smith', 83000)\n",
    "emp_2 = Employee('Jane', 'Doe', 20000)"
   ]
  },
  {
   "cell_type": "code",
   "execution_count": null,
   "id": "6301ec64",
   "metadata": {
    "scrolled": true,
    "slideshow": {
     "slide_type": "fragment"
    }
   },
   "outputs": [],
   "source": [
    "emp_1.get_full_name()"
   ]
  },
  {
   "cell_type": "markdown",
   "id": "2ec0ae40",
   "metadata": {
    "slideshow": {
     "slide_type": "fragment"
    }
   },
   "source": [
    "Even though `get_full_name()` doesn't take any arguments, we still need to use `()` to let Python know that it's a function. Let's see what would we get if we print the above code without ( ). "
   ]
  },
  {
   "cell_type": "code",
   "execution_count": null,
   "id": "6ee612ca",
   "metadata": {
    "slideshow": {
     "slide_type": "fragment"
    }
   },
   "outputs": [],
   "source": []
  },
  {
   "cell_type": "markdown",
   "id": "a5d65d0b",
   "metadata": {
    "slideshow": {
     "slide_type": "slide"
    }
   },
   "source": [
    "### Question 3"
   ]
  },
  {
   "cell_type": "markdown",
   "id": "21143be3",
   "metadata": {
    "slideshow": {
     "slide_type": "fragment"
    }
   },
   "source": [
    "Now let's practice adding more \"functionality\" to our class. For instance, all staff are supposed to get a 2% raise each year. But the union is renegotiating contracts, so it could be more! Add a method called `get_new_salary()` to the `Employee` class definition which will calculate the salary after the raise:"
   ]
  },
  {
   "cell_type": "code",
   "execution_count": null,
   "id": "4aefb82d",
   "metadata": {
    "slideshow": {
     "slide_type": "fragment"
    }
   },
   "outputs": [],
   "source": []
  },
  {
   "cell_type": "markdown",
   "id": "5abefa45",
   "metadata": {
    "slideshow": {
     "slide_type": "slide"
    }
   },
   "source": [
    "### 2.4.3 Know thy `self`\n",
    "\n",
    "Any of these methods can be called from the class itself rather than a class instance. When we do that, we pass the  instance object in as the first argument:"
   ]
  },
  {
   "cell_type": "code",
   "execution_count": null,
   "id": "9af5d25a",
   "metadata": {
    "slideshow": {
     "slide_type": "fragment"
    }
   },
   "outputs": [],
   "source": [
    "print(emp_1.get_full_name())\n",
    "print(Employee.get_full_name(emp_1))\n",
    "print(emp_1.get_full_name() == Employee.get_full_name(emp_1))"
   ]
  },
  {
   "cell_type": "markdown",
   "id": "98984337",
   "metadata": {
    "slideshow": {
     "slide_type": "fragment"
    }
   },
   "source": [
    "That's why we write `self` when we define methods, and also why we don't need it when we call the method from the class instance object."
   ]
  },
  {
   "cell_type": "markdown",
   "id": "e2f367fd",
   "metadata": {
    "slideshow": {
     "slide_type": "slide"
    }
   },
   "source": [
    "One common mistake in creating method is forgetting to define the `self` argument. Let's take a quick look to our code to see what that would look like if we forgot our `self`s: "
   ]
  },
  {
   "cell_type": "code",
   "execution_count": null,
   "id": "7486089a",
   "metadata": {
    "slideshow": {
     "slide_type": "fragment"
    }
   },
   "outputs": [],
   "source": [
    "class Employee:\n",
    "    def __init__(self, first, last, pay):\n",
    "        self.first = first\n",
    "        self.last = last\n",
    "        self.pay = pay\n",
    "        self.email = '{0}.{1}@berkeley.edu'.format(first, last)\n",
    "        \n",
    "    def get_full_name():\n",
    "        \"\"\"my method\n",
    "        \"\"\"\n",
    "        return '{0} {1}'.format(self.first, self.last)"
   ]
  },
  {
   "cell_type": "code",
   "execution_count": null,
   "id": "13e57728",
   "metadata": {
    "slideshow": {
     "slide_type": "fragment"
    }
   },
   "outputs": [],
   "source": [
    "emp_1 = Employee('John', 'Smith', 83000)\n",
    "emp_2 = Employee('Jane', 'Doe', 20000)"
   ]
  },
  {
   "cell_type": "code",
   "execution_count": null,
   "id": "61a00203",
   "metadata": {
    "slideshow": {
     "slide_type": "fragment"
    }
   },
   "outputs": [],
   "source": [
    "print(emp_1.get_full_name())"
   ]
  },
  {
   "cell_type": "markdown",
   "id": "5cd58c1d",
   "metadata": {
    "slideshow": {
     "slide_type": "slide"
    }
   },
   "source": [
    "# 3. For next time\n",
    "- Assignment 1 Due Sunday\n",
    "- Assignment 2 Due ???\n",
    "- GitHub Pages Workshop"
   ]
  },
  {
   "cell_type": "markdown",
   "id": "1e4b5e83",
   "metadata": {
    "slideshow": {
     "slide_type": "slide"
    }
   },
   "source": [
    "# 4. Questions?"
   ]
  }
 ],
 "metadata": {
  "celltoolbar": "Slideshow",
  "kernelspec": {
   "display_name": "Python 3 (ipykernel)",
   "language": "python",
   "name": "python3"
  },
  "language_info": {
   "codemirror_mode": {
    "name": "ipython",
    "version": 3
   },
   "file_extension": ".py",
   "mimetype": "text/x-python",
   "name": "python",
   "nbconvert_exporter": "python",
   "pygments_lexer": "ipython3",
   "version": "3.11.4"
  },
  "toc": {
   "base_numbering": 1,
   "nav_menu": {},
   "number_sections": false,
   "sideBar": true,
   "skip_h1_title": true,
   "title_cell": "Table of Contents",
   "title_sidebar": "Contents",
   "toc_cell": false,
   "toc_position": {
    "height": "calc(100% - 180px)",
    "left": "10px",
    "top": "150px",
    "width": "336px"
   },
   "toc_section_display": true,
   "toc_window_display": false
  }
 },
 "nbformat": 4,
 "nbformat_minor": 5
}
