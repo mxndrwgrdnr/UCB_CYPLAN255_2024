{
 "cells": [
  {
   "cell_type": "markdown",
   "id": "b40ef5a4",
   "metadata": {
    "slideshow": {
     "slide_type": "slide"
    }
   },
   "source": [
    "# CYPLAN255\n",
    "### Urban Informatics and Visualization"
   ]
  },
  {
   "cell_type": "markdown",
   "id": "0ceea7a8",
   "metadata": {
    "cell_style": "center",
    "slideshow": {
     "slide_type": "slide"
    }
   },
   "source": [
    "# Lecture 10 -- Intro to Data Visualization\n",
    "*******\n",
    "February 26, 2024\n",
    "<img title=\"Aerial view of the Japanese aircraft carrier Sōryū evading an air attack during the Battle of Midway, 1942\" src=\"https://i.redd.it/xmh9uljdl0ca1.jpg\" width=50% align=\"right\">"
   ]
  },
  {
   "cell_type": "markdown",
   "id": "75f7d376",
   "metadata": {
    "slideshow": {
     "slide_type": "slide"
    }
   },
   "source": [
    "# Agenda\n",
    "1. Announcements\n",
    "2. Review of last session\n",
    "3. Data Viz\n",
    "4. For next time\n",
    "5. Questions\n"
   ]
  },
  {
   "cell_type": "markdown",
   "id": "4f1c0cef",
   "metadata": {
    "slideshow": {
     "slide_type": "slide"
    }
   },
   "source": [
    "# 1. Announcements"
   ]
  },
  {
   "cell_type": "markdown",
   "id": "8e5d336f",
   "metadata": {
    "slideshow": {
     "slide_type": "fragment"
    }
   },
   "source": [
    "- Assignment 3 Due Weds\n",
    "- Meiqing to lead GitHub Pages tutorial\n",
    "   - _will be recorded_"
   ]
  },
  {
   "cell_type": "markdown",
   "id": "155910d8",
   "metadata": {
    "slideshow": {
     "slide_type": "slide"
    }
   },
   "source": [
    "# 2. Review"
   ]
  },
  {
   "cell_type": "markdown",
   "id": "abe7c8ea",
   "metadata": {
    "slideshow": {
     "slide_type": "slide"
    }
   },
   "source": [
    "## 2.1 Imports and load data"
   ]
  },
  {
   "cell_type": "code",
   "execution_count": null,
   "id": "9df58a05",
   "metadata": {
    "slideshow": {
     "slide_type": "fragment"
    }
   },
   "outputs": [],
   "source": [
    "import pandas as pd\n",
    "from matplotlib import pyplot as plt\n",
    "import seaborn as sns\n",
    "import numpy as np\n",
    "%matplotlib inline"
   ]
  },
  {
   "cell_type": "code",
   "execution_count": null,
   "id": "a8992bbd",
   "metadata": {
    "slideshow": {
     "slide_type": "fragment"
    }
   },
   "outputs": [],
   "source": [
    "sf1 = pd.read_hdf('data/bay_sf1_small.h5', 'sf1_extract')\n",
    "sf1.head()"
   ]
  },
  {
   "cell_type": "code",
   "execution_count": null,
   "id": "65101087",
   "metadata": {
    "slideshow": {
     "slide_type": "fragment"
    }
   },
   "outputs": [],
   "source": [
    "rentals = pd.read_csv(\n",
    "    'data/sfbay_geocoded.csv',\n",
    "    usecols=['rent', 'bedrooms', 'sqft', 'fips_block', 'longitude', 'latitude'],\n",
    "    dtype={'fips_block': str}  # load fips_block as str, numeric type will drop leading zero\n",
    ")  \n",
    "rentals.head()"
   ]
  },
  {
   "cell_type": "markdown",
   "id": "c421db22",
   "metadata": {
    "slideshow": {
     "slide_type": "slide"
    }
   },
   "source": [
    "## 2.2 Cleaning and transforming"
   ]
  },
  {
   "cell_type": "code",
   "execution_count": null,
   "id": "d692a184",
   "metadata": {
    "slideshow": {
     "slide_type": "fragment"
    }
   },
   "outputs": [],
   "source": [
    "county_fips_to_name = {\n",
    "    '001': 'Alameda', '013': 'Contra Costa', '041': 'Marin', '055': 'Napa', '075': 'San Francisco',\n",
    "    '081': 'San Mateo', '085': 'Santa Clara', '095': 'Solano', '097': 'Sonoma'}"
   ]
  },
  {
   "cell_type": "code",
   "execution_count": null,
   "id": "08fe00c5",
   "metadata": {
    "slideshow": {
     "slide_type": "fragment"
    }
   },
   "outputs": [],
   "source": [
    "sf1.insert(4, 'county_name', sf1['county'].replace(county_fips_to_name))"
   ]
  },
  {
   "cell_type": "code",
   "execution_count": null,
   "id": "9aec5979",
   "metadata": {
    "slideshow": {
     "slide_type": "fragment"
    }
   },
   "outputs": [],
   "source": [
    "sf1['pct_rent'] = sf1['H0040004'] / sf1['H0040001'] * 100\n",
    "sf1['pct_black'] = sf1['P0030003'] / sf1['P0030001'] * 100\n",
    "sf1['pct_asian'] = sf1['P0030005'] / sf1['P0030001'] * 100\n",
    "sf1['pct_white'] = sf1['P0030002'] / sf1['P0030001'] * 100\n",
    "sf1['pct_hisp'] = sf1['P0040003'] / sf1['P0040001'] * 100\n",
    "sf1['pct_vacant'] = sf1['H0050001'] / sf1['H00010001'] * 100\n",
    "sf1['pop_sqmi'] = (sf1['P0010001'] / (sf1['arealand'] / 2589988))\n",
    "sf1 = sf1[sf1['P0030001'] > 0]  # drop unpopulated census blocks"
   ]
  },
  {
   "cell_type": "markdown",
   "id": "a96d4142",
   "metadata": {
    "slideshow": {
     "slide_type": "slide"
    }
   },
   "source": [
    "## 2.3 Merging data tables"
   ]
  },
  {
   "cell_type": "code",
   "execution_count": null,
   "id": "1fcceecf",
   "metadata": {
    "slideshow": {
     "slide_type": "fragment"
    }
   },
   "outputs": [],
   "source": [
    "rentals_sf1 = pd.merge(rentals, sf1, left_on='fips_block', right_on='blockfips')\n",
    "rentals_sf1.head()"
   ]
  },
  {
   "cell_type": "markdown",
   "id": "25ab48bf",
   "metadata": {
    "slideshow": {
     "slide_type": "slide"
    }
   },
   "source": [
    "## 2.4 Plotting with pandas"
   ]
  },
  {
   "cell_type": "markdown",
   "id": "4c519121",
   "metadata": {
    "slideshow": {
     "slide_type": "fragment"
    }
   },
   "source": [
    "Let's visualize average rent by `county` and `bedrooms`. We can use a multi-column group-by for this:"
   ]
  },
  {
   "cell_type": "code",
   "execution_count": null,
   "id": "ea975db2",
   "metadata": {
    "slideshow": {
     "slide_type": "fragment"
    }
   },
   "outputs": [],
   "source": [
    "rentals_sf1.groupby(['county_name', 'bedrooms'])['rent'].mean().plot(kind='bar')"
   ]
  },
  {
   "cell_type": "markdown",
   "id": "dcbc69e5",
   "metadata": {
    "slideshow": {
     "slide_type": "fragment"
    }
   },
   "source": [
    "Note that in one line of pandas code we can aggregate, transform, and plot our data. But this plot has some issues. Let's see if we can improve it."
   ]
  },
  {
   "cell_type": "code",
   "execution_count": null,
   "id": "cec0cb2b",
   "metadata": {
    "slideshow": {
     "slide_type": "slide"
    }
   },
   "outputs": [],
   "source": [
    "_ = rentals_sf1.groupby(['county_name', 'bedrooms'])['rent'].mean().unstack().plot(\n",
    "    kind='bar', figsize=(14,6), title='Avg. Rents by County and # Bedrooms', ylabel='rent ($)', xlabel='county')"
   ]
  },
  {
   "cell_type": "markdown",
   "id": "0f0325a5",
   "metadata": {
    "slideshow": {
     "slide_type": "slide"
    }
   },
   "source": [
    "If we re-order the sequence of our group-by columns, we'll swap the rows and columns of the dataframe returned by `unstack()`:"
   ]
  },
  {
   "cell_type": "code",
   "execution_count": null,
   "id": "9f18b1a2",
   "metadata": {
    "slideshow": {
     "slide_type": "slide"
    }
   },
   "outputs": [],
   "source": [
    "rentals_sf1.groupby(['bedrooms', 'county_name'])['rent'].mean().unstack().plot(\n",
    "    kind='bar', figsize=(14,6), title='Average Rents by County and # Bedrooms',\n",
    "    ylabel='rent ($)', xlabel='# bedrooms')"
   ]
  },
  {
   "cell_type": "markdown",
   "id": "95d162c2",
   "metadata": {
    "slideshow": {
     "slide_type": "slide"
    }
   },
   "source": [
    "## 2.5 Pivot tables and cross-tabulations"
   ]
  },
  {
   "cell_type": "markdown",
   "id": "85d43f46",
   "metadata": {
    "slideshow": {
     "slide_type": "fragment"
    }
   },
   "source": [
    "For all you Excel wizards out there thinking \"this is dumb it's just a pivot table\"...you're right!"
   ]
  },
  {
   "cell_type": "code",
   "execution_count": null,
   "id": "a05086c4",
   "metadata": {
    "slideshow": {
     "slide_type": "fragment"
    }
   },
   "outputs": [],
   "source": [
    "pd.pivot_table(rentals_sf1, values='rent', index=['bedrooms'], columns=['county_name']).plot(\n",
    "    kind='bar', figsize=(14,6), title='Average Rents by County and Bedrooms')"
   ]
  },
  {
   "cell_type": "markdown",
   "id": "ee589391",
   "metadata": {
    "slideshow": {
     "slide_type": "slide"
    }
   },
   "source": [
    "Behind the scenes, pivot table is just doing a group-by and taking the mean."
   ]
  },
  {
   "cell_type": "code",
   "execution_count": null,
   "id": "fd6b5f9f",
   "metadata": {
    "slideshow": {
     "slide_type": "fragment"
    }
   },
   "outputs": [],
   "source": [
    "pd.pivot_table(rentals_sf1, values='rent', index='bedrooms', columns='county_name')"
   ]
  },
  {
   "cell_type": "markdown",
   "id": "8d2618f9",
   "metadata": {
    "slideshow": {
     "slide_type": "slide"
    }
   },
   "source": [
    "But you could specify other aggregation functions if you wanted. You can also add other useful features like marginals."
   ]
  },
  {
   "cell_type": "code",
   "execution_count": null,
   "id": "3f66a128",
   "metadata": {
    "slideshow": {
     "slide_type": "fragment"
    }
   },
   "outputs": [],
   "source": [
    "pd.pivot_table(rentals_sf1, values='rent', index='bedrooms', columns='county_name', aggfunc='count', margins=True)"
   ]
  },
  {
   "cell_type": "markdown",
   "id": "66893c86",
   "metadata": {
    "slideshow": {
     "slide_type": "fragment"
    }
   },
   "source": [
    "When you specify `count` as your aggregation method, you are doing **cross-\n",
    "tabulation**.        "
   ]
  },
  {
   "cell_type": "markdown",
   "id": "04f6e3df",
   "metadata": {
    "slideshow": {
     "slide_type": "slide"
    }
   },
   "source": [
    "Cross-tabulation is such a common operation that pandas has a built-in function for _it_, too!"
   ]
  },
  {
   "cell_type": "code",
   "execution_count": null,
   "id": "d4ca2d85",
   "metadata": {
    "slideshow": {
     "slide_type": "fragment"
    }
   },
   "outputs": [],
   "source": [
    "pd.crosstab(rentals_sf1['bedrooms'], rentals_sf1['county_name'], margins=True)"
   ]
  },
  {
   "cell_type": "markdown",
   "id": "ede59b52",
   "metadata": {
    "slideshow": {
     "slide_type": "slide"
    }
   },
   "source": [
    "Getting a little fancy here, but cross-tab data lends itself nicely to higher-dimensional data visualization styles like the \"heat map\" below:"
   ]
  },
  {
   "cell_type": "code",
   "execution_count": null,
   "id": "97bdfea9",
   "metadata": {
    "slideshow": {
     "slide_type": "fragment"
    }
   },
   "outputs": [],
   "source": [
    "fig, ax = plt.subplots(figsize=(10,8))\n",
    "_ = sns.heatmap(\n",
    "    pd.crosstab(rentals_sf1['county_name'], rentals_sf1['bedrooms'], normalize='columns'), square=True, ax=ax)"
   ]
  },
  {
   "cell_type": "markdown",
   "id": "e76de119",
   "metadata": {
    "slideshow": {
     "slide_type": "slide"
    }
   },
   "source": [
    "# 3. Intro to Data Visualization"
   ]
  },
  {
   "cell_type": "markdown",
   "id": "0536f5ad",
   "metadata": {
    "slideshow": {
     "slide_type": "fragment"
    }
   },
   "source": [
    "- 3.1. Ethics of Data Visualization \n",
    "- 3.2. Conceptual Overview\n",
    "- 3.3. Matplotlib\n",
    "- 3.4. Seaborn"
   ]
  },
  {
   "cell_type": "markdown",
   "id": "0b08d7d2",
   "metadata": {
    "slideshow": {
     "slide_type": "slide"
    }
   },
   "source": [
    "## 3.1 Ethical Data Visualization"
   ]
  },
  {
   "cell_type": "markdown",
   "id": "60901789",
   "metadata": {
    "slideshow": {
     "slide_type": "fragment"
    }
   },
   "source": [
    "It is exceedingly easy to lie with data visualization. You **will** be tempted to do so, if only subconsciouly, in order to nudge your results towards support for your hypotheses. Be aware, and learn to recognize this tendency in yourself.\n",
    "\n",
    "A victimless crime? Perhaps."
   ]
  },
  {
   "cell_type": "markdown",
   "id": "24a9148b",
   "metadata": {
    "slideshow": {
     "slide_type": "slide"
    }
   },
   "source": [
    "But perhaps not:"
   ]
  },
  {
   "cell_type": "code",
   "execution_count": null,
   "id": "88053b4a",
   "metadata": {
    "hide_input": true,
    "slideshow": {
     "slide_type": "fragment"
    },
    "tags": [
     "hide-input"
    ]
   },
   "outputs": [],
   "source": [
    "%%html\n",
    "<iframe src=\"https://web.archive.org/web/20211112185644/https://www.cbsnews.com/news/how-purdue-used-misleading-charts-to-hide-oxycontins-addictive-power/\" width=100% height=800></iframe>"
   ]
  },
  {
   "cell_type": "markdown",
   "id": "fdfb7520",
   "metadata": {
    "slideshow": {
     "slide_type": "slide"
    }
   },
   "source": [
    "## 3.2 Conceptual overview"
   ]
  },
  {
   "cell_type": "markdown",
   "id": "bbdd6189",
   "metadata": {
    "slideshow": {
     "slide_type": "slide"
    }
   },
   "source": [
    "### 3.2.1 Categorical vs. Continuous data"
   ]
  },
  {
   "cell_type": "code",
   "execution_count": null,
   "id": "63eb21bf",
   "metadata": {
    "scrolled": false,
    "slideshow": {
     "slide_type": "fragment"
    }
   },
   "outputs": [],
   "source": [
    "fig, axarr = plt.subplots(1, 2, figsize=(13,5))\n",
    "rentals_sf1['county_name'].value_counts(sort=False).plot(kind='bar', ax=axarr[0], title='County Name')\n",
    "axarr[0].set_ylabel(\"count\")\n",
    "rentals_sf1['rent'].plot(kind='kde', ax=axarr[1], title='Price ($)')"
   ]
  },
  {
   "cell_type": "markdown",
   "id": "e86c2d39",
   "metadata": {
    "slideshow": {
     "slide_type": "fragment"
    }
   },
   "source": [
    "![](https://matplotlib.org/stable/_images/sphx_glr_categorical_variables_001_2_00x.png)\n"
   ]
  },
  {
   "cell_type": "markdown",
   "id": "f06ad503",
   "metadata": {
    "slideshow": {
     "slide_type": "slide"
    }
   },
   "source": [
    "### 3.2.2 Building blocks"
   ]
  },
  {
   "cell_type": "markdown",
   "id": "c29d5e84",
   "metadata": {
    "slideshow": {
     "slide_type": "fragment"
    }
   },
   "source": [
    "- **shape**: points, lines, bars, areas (fill/patch)\n",
    "- **size**: of shape, figure, etc.\n",
    "- **color**: hue, opacity, gradient (colormap)\n",
    "- **axes (dimensionality)**: tick marks, labels\n",
    "- **auxiliary data**: legend, margin plots, annotation"
   ]
  },
  {
   "cell_type": "markdown",
   "id": "13a9e60e",
   "metadata": {
    "slideshow": {
     "slide_type": "slide"
    }
   },
   "source": [
    "### 3.2.3 Dimensionality"
   ]
  },
  {
   "cell_type": "markdown",
   "id": "d4c277ee",
   "metadata": {
    "slideshow": {
     "slide_type": "fragment"
    }
   },
   "source": [
    "**Dimensionality**: number of axes of variation"
   ]
  },
  {
   "cell_type": "markdown",
   "id": "42691df0",
   "metadata": {
    "slideshow": {
     "slide_type": "slide"
    }
   },
   "source": [
    "### Question 1\n",
    "How many dimensions are shown in the following examples?"
   ]
  },
  {
   "cell_type": "markdown",
   "id": "d0b38f64",
   "metadata": {
    "slideshow": {
     "slide_type": "slide"
    }
   },
   "source": [
    "<img src=\"https://assets.bwbx.io/images/users/iqjWHBFdfxIU/iCIEic94rsFk/v0/-1x-1.png\" width=800px >"
   ]
  },
  {
   "cell_type": "markdown",
   "id": "47e17db8",
   "metadata": {
    "slideshow": {
     "slide_type": "slide"
    }
   },
   "source": [
    "![](https://upload.wikimedia.org/wikipedia/commons/thumb/8/80/SoilTexture_USDA.png/500px-SoilTexture_USDA.png)"
   ]
  },
  {
   "cell_type": "markdown",
   "id": "416d1dd3",
   "metadata": {
    "slideshow": {
     "slide_type": "slide"
    }
   },
   "source": [
    "<img src=\"https://raw.githubusercontent.com/zonination/perceptions/master/joy1.png\" width=700px>"
   ]
  },
  {
   "cell_type": "markdown",
   "id": "affb635d",
   "metadata": {
    "slideshow": {
     "slide_type": "slide"
    }
   },
   "source": [
    "<img src=\"https://flowingdata.com/wp-content/uploads/2013/09/most-unisex-names2.png\" width=600px>"
   ]
  },
  {
   "cell_type": "code",
   "execution_count": null,
   "id": "727f9d24",
   "metadata": {
    "hide_input": true,
    "scrolled": false,
    "slideshow": {
     "slide_type": "slide"
    }
   },
   "outputs": [],
   "source": [
    "%%html\n",
    "<iframe src=\"//www.gapminder.org/tools/?embedded=true#$ui;&chart-type=bubbles&url=v1\" style=\"width: 100%; height: 500px; margin: 0 0 0 0; border: 1px solid grey;\" allowfullscreen></iframe>"
   ]
  },
  {
   "cell_type": "markdown",
   "id": "e11bfa47",
   "metadata": {
    "slideshow": {
     "slide_type": "slide"
    }
   },
   "source": [
    "**EXAMPLES:**\n",
    "\n",
    "- **1d**: [histogram](https://matplotlib.org/stable/plot_types/stats/hist_plot.html), [kernel density estimate (KDE)](https://seaborn.pydata.org/tutorial/distributions.html#kernel-density-estimation), [rugplot](https://seaborn.pydata.org/generated/seaborn.rugplot.html#seaborn.rugplot)/[eventplot](https://matplotlib.org/stable/plot_types/stats/eventplot.html), [pie chart](https://matplotlib.org/stable/plot_types/stats/pie.html)\n",
    "\n",
    "- **1.5d**: [boxplot](https://matplotlib.org/stable/gallery/pyplots/boxplot_demo_pyplot.html), [grouped histogram](https://seaborn.pydata.org/tutorial/distributions.html#conditioning-on-other-variables), [grouped KDE](https://seaborn.pydata.org/tutorial/distributions.html#id1)\n",
    "\n",
    "- **2d**: [scatter](https://matplotlib.org/stable/plot_types/basic/scatter_plot.html), [line](https://matplotlib.org/stable/plot_types/basic/plot.html), [bar](https://matplotlib.org/stable/plot_types/basic/bar.html#sphx-glr-plot-types-basic-bar-py), [boxplot](https://matplotlib.org/stable/gallery/pyplots/boxplot_demo_pyplot.html), maps (?)\n",
    "\n",
    "- **2.5d**: [categorical scatter](https://seaborn.pydata.org/tutorial/categorical.html#categorical-scatterplots), [grouped boxplot](https://seaborn.pydata.org/tutorial/categorical.html#boxplots), [grouped line](https://seaborn.pydata.org/generated/seaborn.lineplot.html), [grouped scatter](https://seaborn.pydata.org/tutorial/relational.html#relating-variables-with-scatter-plots), [bubble](https://plotly.com/python/bubble-charts/)\n",
    "\n",
    "- **3d+**: [heatmap](https://seaborn.pydata.org/generated/seaborn.heatmap.html), [contour](https://matplotlib.org/stable/gallery/images_contours_and_fields/contour_demo.html), [bivariate distribution](https://seaborn.pydata.org/tutorial/distributions.html#visualizing-bivariate-distributions), [hexbin](https://matplotlib.org/stable/plot_types/stats/hexbin.html), [raster images](https://matplotlib.org/stable/plot_types/arrays/imshow.html), \n"
   ]
  },
  {
   "cell_type": "markdown",
   "id": "1ae110e2",
   "metadata": {
    "slideshow": {
     "slide_type": "slide"
    }
   },
   "source": [
    "## 3.3. Matplotlib"
   ]
  },
  {
   "cell_type": "markdown",
   "id": "a4372e56",
   "metadata": {
    "slideshow": {
     "slide_type": "fragment"
    }
   },
   "source": [
    "Matplotlib is to data viz what NumPy is to data analysis in Python. Nearly every other plotting library is built on top of it. For this reason, Matplotlib is the most flexible and powerful of Python's data viz packages. Almost everything that can be done in the more sophisticated plotting libraries can be implemented in pure Matplotlib with a little bit of extra work.\n",
    "\n"
   ]
  },
  {
   "cell_type": "markdown",
   "id": "e4710369",
   "metadata": {
    "slideshow": {
     "slide_type": "fragment"
    }
   },
   "source": [
    "In practice, I find Matplotlib most useful for two scenarios:\n",
    "1. quick 1- or 2d data viz (histograms, scatterplots, etc.) for array-based data\n",
    "2. control of figure components for non-standard plot types"
   ]
  },
  {
   "cell_type": "markdown",
   "id": "7570542b",
   "metadata": {
    "slideshow": {
     "slide_type": "slide"
    }
   },
   "source": [
    "### 3.3.1. The basics: `Figure` vs. `Axes` vs. the rest "
   ]
  },
  {
   "cell_type": "markdown",
   "id": "910536b6",
   "metadata": {
    "slideshow": {
     "slide_type": "fragment"
    }
   },
   "source": [
    "<img src=\"https://matplotlib.org/stable/_images/anatomy.png\" width=700px>"
   ]
  },
  {
   "cell_type": "code",
   "execution_count": null,
   "id": "1461c250",
   "metadata": {
    "slideshow": {
     "slide_type": "fragment"
    }
   },
   "outputs": [],
   "source": [
    "plt.hist(rentals_sf1['P0010001'])\n",
    "plt.show()"
   ]
  },
  {
   "cell_type": "code",
   "execution_count": null,
   "id": "ea94c7d7",
   "metadata": {
    "slideshow": {
     "slide_type": "fragment"
    }
   },
   "outputs": [],
   "source": [
    "fig, ax = plt.subplots()\n",
    "ax.hist(rentals_sf1['P0010001'])\n",
    "plt.show()"
   ]
  },
  {
   "cell_type": "code",
   "execution_count": null,
   "id": "9a973efb",
   "metadata": {
    "slideshow": {
     "slide_type": "fragment"
    }
   },
   "outputs": [],
   "source": [
    "fig, ax = plt.subplots()\n",
    "_ = ax.hist(rentals_sf1['P0010001'])"
   ]
  },
  {
   "cell_type": "markdown",
   "id": "e0d11d0d",
   "metadata": {
    "slideshow": {
     "slide_type": "slide"
    }
   },
   "source": [
    "### 3.3.2. Subplots and axes"
   ]
  },
  {
   "cell_type": "markdown",
   "id": "dc45294f",
   "metadata": {
    "slideshow": {
     "slide_type": "slide"
    }
   },
   "source": [
    "### Question 2\n",
    "Can you spot the difference between the next two plots?"
   ]
  },
  {
   "cell_type": "code",
   "execution_count": null,
   "id": "1556c1f7",
   "metadata": {
    "cell_style": "center",
    "slideshow": {
     "slide_type": "fragment"
    }
   },
   "outputs": [],
   "source": [
    "fig = plt.figure(1, figsize=(10,8), )\n",
    "fig.suptitle(\"2010 Racial and Ethnic Distribution by Census Block, San Francisco Bay Area\", fontsize=16)\n",
    "\n",
    "ax1 = plt.subplot(221)\n",
    "ax1.hist(rentals_sf1['pct_asian'], bins=50)\n",
    "ax1.set_title(\"Asian\")\n",
    "ax1.set_xlabel('% Population in Block')\n",
    "ax1.set_ylabel('Total Census Blocks')\n",
    "\n",
    "ax2 = plt.subplot(222)\n",
    "ax2.hist(rentals_sf1['pct_black'], bins=50)\n",
    "ax2.set_title(\"Black\")\n",
    "ax2.set_xlabel('% Population in Block')\n",
    "ax2.set_ylabel('Total Census Blocks')\n",
    "\n",
    "ax3 = plt.subplot(223)\n",
    "ax3.hist(rentals_sf1['pct_hisp'], bins=50)\n",
    "ax3.set_title(\"Hispanic\")\n",
    "ax3.set_xlabel('% Population in Block')\n",
    "ax3.set_ylabel('Total Census Blocks')\n",
    "\n",
    "ax4 = plt.subplot(224)\n",
    "ax4.hist(rentals_sf1['pct_white'], bins=50)\n",
    "ax4.set_title(\"White\")\n",
    "ax4.set_xlabel('% Population in Block')\n",
    "ax4.set_ylabel('Total Census Blocks')\n",
    "\n",
    "plt.subplots_adjust(wspace=.25, hspace=.25)\n",
    "plt.show()"
   ]
  },
  {
   "cell_type": "code",
   "execution_count": null,
   "id": "78eda266",
   "metadata": {
    "cell_style": "center",
    "slideshow": {
     "slide_type": "fragment"
    }
   },
   "outputs": [],
   "source": [
    "fig, axarr = plt.subplots(2, 2, figsize=(10,8), sharey=True, sharex=True)\n",
    "fig.suptitle(\"2010 Racial and Ethnic Distribution by Census Block, San Francisco Bay Area\", fontsize=16)\n",
    "\n",
    "axarr[0, 0].hist(rentals_sf1['pct_asian'], bins=50)\n",
    "axarr[0, 0].set_title(\"Asian\")\n",
    "axarr[0, 0].set_xlabel('% Population in Block')\n",
    "axarr[0, 0].set_ylabel('Total Census Blocks')\n",
    "\n",
    "axarr[0, 1].hist(rentals_sf1['pct_black'], bins=50)\n",
    "axarr[0, 1].set_title(\"Black\")\n",
    "axarr[0, 1].set_xlabel('% Population in Block')\n",
    "axarr[0, 1].set_ylabel('Total Census Blocks')\n",
    "\n",
    "axarr[1, 0].hist(rentals_sf1['pct_hisp'], bins=50)\n",
    "axarr[1, 0].set_title(\"Hispanic\")\n",
    "axarr[1, 0].set_xlabel('% Population in Block')\n",
    "axarr[1, 0].set_ylabel('Total Census Blocks')\n",
    "\n",
    "axarr[1, 1].hist(rentals_sf1['pct_white'], bins=50)\n",
    "axarr[1, 1].set_title(\"White\")\n",
    "axarr[1, 1].set_xlabel('% Population in Block')\n",
    "axarr[1, 1].set_ylabel('Total Census Blocks')\n",
    "\n",
    "plt.subplots_adjust(wspace=.25, hspace=.25)\n",
    "plt.show()"
   ]
  },
  {
   "cell_type": "markdown",
   "id": "65b3241c",
   "metadata": {
    "slideshow": {
     "slide_type": "slide"
    }
   },
   "source": [
    "Let's clean up this code a bit"
   ]
  },
  {
   "cell_type": "code",
   "execution_count": null,
   "id": "83d2e1ea",
   "metadata": {
    "slideshow": {
     "slide_type": "fragment"
    }
   },
   "outputs": [],
   "source": [
    "import matplotlib.ticker as ticker\n",
    "\n",
    "fig, axarr = plt.subplots(2,2, figsize=(10,8), sharey=True, sharex=True)\n",
    "fig.suptitle(\"2010 Racial and Ethnic Distribution by Census Block, San Francisco Bay Area\", fontsize=16)\n",
    "\n",
    "cats = ['asian', 'black', 'hisp', 'white']\n",
    "\n",
    "for i, ax in enumerate(axarr.flatten()):\n",
    "    ax.hist(rentals_sf1['pct_{0}'.format(cats[i])], bins=50)\n",
    "    ax.set_title(cats[i])\n",
    "    ax.set_xlabel('% Population in Block')\n",
    "    ax.set_ylabel('Total Census Blocks')\n",
    "    ax.xaxis.set_major_formatter(ticker.PercentFormatter(xmax=100))\n",
    "\n",
    "plt.subplots_adjust(wspace=.25, hspace=.25)\n",
    "plt.show()"
   ]
  },
  {
   "cell_type": "code",
   "execution_count": null,
   "id": "a781b5fa",
   "metadata": {
    "slideshow": {
     "slide_type": "slide"
    }
   },
   "outputs": [],
   "source": [
    "fig, ax= plt.subplots(figsize=(10, 4))\n",
    "fig.suptitle(\"2010 Racial and Ethnic Distribution by Census Block, San Francisco Bay Area\", fontsize=16)\n",
    "\n",
    "cats = ['asian', 'black', 'hisp', 'white']\n",
    "\n",
    "for cat in cats:\n",
    "    ax.hist(rentals_sf1['pct_{0}'.format(cat)], bins=50, alpha=0.3, label=cat)\n",
    "    ax.set_xlabel('% Population in Block')\n",
    "    ax.set_ylabel('Total Census Blocks')\n",
    "    ax.xaxis.set_major_formatter(ticker.PercentFormatter(xmax=100))\n",
    "    \n",
    "ax.legend()\n",
    "\n",
    "plt.subplots_adjust(wspace=.25, hspace=.25)\n",
    "plt.show()"
   ]
  },
  {
   "cell_type": "markdown",
   "id": "1eb433a0",
   "metadata": {
    "slideshow": {
     "slide_type": "slide"
    }
   },
   "source": [
    "### 3.3.3 Bivariate data"
   ]
  },
  {
   "cell_type": "code",
   "execution_count": null,
   "id": "cee2c5e6",
   "metadata": {
    "slideshow": {
     "slide_type": "fragment"
    }
   },
   "outputs": [],
   "source": [
    "fig, ax = plt.subplots(figsize=(8, 6))\n",
    "foo = ax.scatter(rentals_sf1['sqft'], rentals_sf1['rent'], c='g', alpha=0.2, s=0.4)\n",
    "ax.set_xlabel(\"Size (ft$^2$)\", fontsize=15)\n",
    "_ = ax.set_ylabel('Rent ($)', fontsize=15)"
   ]
  },
  {
   "cell_type": "code",
   "execution_count": null,
   "id": "d8c51313",
   "metadata": {
    "scrolled": false,
    "slideshow": {
     "slide_type": "fragment"
    }
   },
   "outputs": [],
   "source": [
    "fig, ax = plt.subplots(figsize=(8, 6))\n",
    "ax.set_title(\"SF Bay Area Craigslist Rental Listings\", fontsize=20)\n",
    "ax.set_xlabel('Bedrooms', fontsize=15)\n",
    "ax.set_ylabel('Rent ($)', fontsize=15)\n",
    "foo = ax.scatter(\n",
    "    rentals_sf1['bedrooms'], rentals_sf1['rent'], c=np.log(rentals_sf1['sqft']), alpha=.1, s=50)\n",
    "cbar = fig.colorbar(foo)\n",
    "cbar.set_label(\"log(size) (ft$^2$)\", fontsize=15)"
   ]
  },
  {
   "cell_type": "code",
   "execution_count": null,
   "id": "9a495ff4",
   "metadata": {
    "slideshow": {
     "slide_type": "fragment"
    }
   },
   "outputs": [],
   "source": [
    "fig, ax = plt.subplots(figsize=(8, 6))\n",
    "ax.set_title(\"SF Bay Area Craigslist Rental Listings\", fontsize=20)\n",
    "ax.set_xlabel('Bedrooms', fontsize=15)\n",
    "ax.set_ylabel('Rent ($)', fontsize=15)\n",
    "_ = ax.boxplot([x['rent'] for i, x in rentals_sf1.groupby('bedrooms')])"
   ]
  },
  {
   "cell_type": "code",
   "execution_count": null,
   "id": "e496a53c",
   "metadata": {
    "slideshow": {
     "slide_type": "slide"
    }
   },
   "outputs": [],
   "source": [
    "fig, ax = plt.subplots(figsize=(8, 6))\n",
    "sns.boxplot(data=rentals_sf1, x='bedrooms', y='rent', ax=ax)"
   ]
  },
  {
   "cell_type": "code",
   "execution_count": null,
   "id": "6a6bbd46",
   "metadata": {
    "slideshow": {
     "slide_type": "fragment"
    }
   },
   "outputs": [],
   "source": [
    "fig, ax = plt.subplots(figsize=(8, 6))\n",
    "sns.stripplot(data=rentals_sf1, x='bedrooms', y='rent', alpha=0.1, ax=ax)"
   ]
  },
  {
   "cell_type": "code",
   "execution_count": null,
   "id": "2c90f933",
   "metadata": {
    "slideshow": {
     "slide_type": "fragment"
    }
   },
   "outputs": [],
   "source": [
    "fig, ax = plt.subplots(figsize=(13, 6))\n",
    "sns.violinplot(data=rentals_sf1, x='bedrooms', y='rent',ax=ax)"
   ]
  },
  {
   "cell_type": "markdown",
   "id": "c9170835",
   "metadata": {
    "slideshow": {
     "slide_type": "slide"
    }
   },
   "source": [
    "## 3.4 Seaborn"
   ]
  },
  {
   "cell_type": "markdown",
   "id": "1ff81fb5",
   "metadata": {
    "slideshow": {
     "slide_type": "fragment"
    }
   },
   "source": [
    "### 3.4.1 The basics"
   ]
  },
  {
   "cell_type": "markdown",
   "id": "26286274",
   "metadata": {
    "slideshow": {
     "slide_type": "fragment"
    }
   },
   "source": [
    "Matplotlib, for DataFrames! In fact, it works directly on top of `fig` and `ax` objects:"
   ]
  },
  {
   "cell_type": "code",
   "execution_count": null,
   "id": "e1cb1083",
   "metadata": {
    "slideshow": {
     "slide_type": "fragment"
    }
   },
   "outputs": [],
   "source": [
    "fig, ax = plt.subplots(figsize=(8, 6))\n",
    "sns.stripplot(data=rentals_sf1, x='bedrooms', y='rent', alpha=0.1, ax=ax)\n",
    "ax.set_title(\"SF Bay Area Craigslist Rental Listings\", fontsize=20)\n",
    "ax.set_xlabel('Bedrooms', fontsize=15)\n",
    "_ = ax.set_ylabel('Rent ($)', fontsize=15)\n",
    "fig.set_facecolor('lightgrey')"
   ]
  },
  {
   "cell_type": "code",
   "execution_count": null,
   "id": "4b70b905",
   "metadata": {
    "slideshow": {
     "slide_type": "slide"
    }
   },
   "outputs": [],
   "source": [
    "fig, ax = plt.subplots(figsize=(12,6))\n",
    "sns.kdeplot(data=rentals_sf1, x=\"rent\", hue='county_name', fill=True, ax=ax)"
   ]
  },
  {
   "cell_type": "markdown",
   "id": "447e9282",
   "metadata": {
    "slideshow": {
     "slide_type": "slide"
    }
   },
   "source": [
    "### 3.4.2 Facets"
   ]
  },
  {
   "cell_type": "markdown",
   "id": "ed2e7df9",
   "metadata": {
    "slideshow": {
     "slide_type": "fragment"
    }
   },
   "source": [
    "Seaborn makes it easy to create a grid of subplots on-the-fly. In Seaborn parlance, each subplot is a `Facet`, and the grid is a `FacetGrid`. Seaborn allows you to specify a `FacetGrid` in which the rows/columns correspond to column values from your dataframe. Below, we define a FacetGrid where the facets are defined by `county_name`, and use the `col_wrap` argument to tell Seaborn to start a new row after every 3rd column."
   ]
  },
  {
   "cell_type": "code",
   "execution_count": null,
   "id": "a24258d1",
   "metadata": {
    "slideshow": {
     "slide_type": "fragment"
    }
   },
   "outputs": [],
   "source": [
    "g = sns.FacetGrid(rentals_sf1, col=\"county_name\", col_wrap=3, height=2.5, aspect=1.5)\n",
    "g.map(sns.histplot, \"rent\")"
   ]
  },
  {
   "cell_type": "code",
   "execution_count": null,
   "id": "301c1d38",
   "metadata": {
    "slideshow": {
     "slide_type": "slide"
    }
   },
   "outputs": [],
   "source": [
    "g = sns.FacetGrid(rentals_sf1, col=\"county_name\", col_wrap=3, height=2.5, aspect=1.5)\n",
    "g.map(sns.kdeplot, \"rent\", fill=True)"
   ]
  },
  {
   "cell_type": "code",
   "execution_count": null,
   "id": "ea275471",
   "metadata": {
    "scrolled": false,
    "slideshow": {
     "slide_type": "slide"
    }
   },
   "outputs": [],
   "source": [
    "from matplotlib import rcParams\n",
    "\n",
    "with sns.axes_style({\"style\": \"white\", \"axes.facecolor\": (0, 0, 0, 0)}):\n",
    "    g = sns.FacetGrid(rentals_sf1, row=\"county_name\", hue=\"county_name\", aspect=20, height=.75)\n",
    "    g.map(sns.kdeplot, \"rent\",\n",
    "          bw_adjust=.5, clip_on=False,\n",
    "          fill=True, alpha=.5, linewidth=1.5)\n",
    "    g.figure.subplots_adjust(hspace=-.5)\n",
    "    g.set_titles(\"\")\n",
    "    g.set(yticks=[])\n",
    "    g.despine( left=True)\n",
    "    g.set_axis_labels(\"Rent ($)\", \"\", fontsize=15)\n",
    "    g.set_titles(row_template='{row_name}')\n",
    "    for ax in g.axes:\n",
    "        title = ax[0].get_title()\n",
    "        ax[0].set_title(\"\")\n",
    "        ax[0].set_ylabel(title, rotation=0, loc='bottom', labelpad=0)\n"
   ]
  },
  {
   "cell_type": "markdown",
   "id": "194bbd66",
   "metadata": {
    "slideshow": {
     "slide_type": "slide"
    }
   },
   "source": [
    "### 3.4.3 High-dimension plots"
   ]
  },
  {
   "cell_type": "code",
   "execution_count": null,
   "id": "29d8a551",
   "metadata": {
    "slideshow": {
     "slide_type": "fragment"
    }
   },
   "outputs": [],
   "source": [
    "%time\n",
    "fig, ax = plt.subplots(figsize=(10,7))\n",
    "sns.kdeplot(\n",
    "    x=\"sqft\", y=\"rent\", data=rentals_sf1, thresh=0, fill=True, cmap='magma', alpha=0.7)"
   ]
  },
  {
   "cell_type": "code",
   "execution_count": null,
   "id": "d06b71a9",
   "metadata": {
    "slideshow": {
     "slide_type": "fragment"
    }
   },
   "outputs": [],
   "source": [
    "%time\n",
    "sns.jointplot(\n",
    "    x=\"sqft\", y=\"rent\", kind=\"hex\", data=rentals_sf1, cmap='magma', joint_kws={\"mincnt\": 1, \"gridsize\":30})"
   ]
  },
  {
   "cell_type": "code",
   "execution_count": null,
   "id": "2597716f",
   "metadata": {
    "slideshow": {
     "slide_type": "slide"
    }
   },
   "outputs": [],
   "source": [
    "sns.pairplot(rentals_sf1[['rent', 'sqft', 'pop_sqmi', 'pct_white']],\n",
    "    plot_kws = {'alpha': 0.05, 's': 1, 'edgecolor': 'none', 'facecolor':'k'});"
   ]
  },
  {
   "cell_type": "markdown",
   "id": "6b928d05",
   "metadata": {
    "slideshow": {
     "slide_type": "slide"
    }
   },
   "source": [
    "### 3.4.4. A bit of color theory"
   ]
  },
  {
   "cell_type": "code",
   "execution_count": null,
   "id": "ea8ec991",
   "metadata": {
    "hide_input": true,
    "scrolled": true,
    "slideshow": {
     "slide_type": "fragment"
    }
   },
   "outputs": [],
   "source": [
    "%%html\n",
    "<iframe src=\"https://ai.googleblog.com/2019/08/turbo-improved-rainbow-colormap-for.html\" width=100% height=700></iframe>"
   ]
  },
  {
   "cell_type": "markdown",
   "id": "ca5bffa1",
   "metadata": {
    "slideshow": {
     "slide_type": "slide"
    }
   },
   "source": [
    "#### 3.4.4.1 The Three Components of Color"
   ]
  },
  {
   "cell_type": "markdown",
   "id": "d879077b",
   "metadata": {
    "slideshow": {
     "slide_type": "fragment"
    }
   },
   "source": [
    "1. Hue"
   ]
  },
  {
   "cell_type": "code",
   "execution_count": null,
   "id": "9eb60e5d",
   "metadata": {
    "slideshow": {
     "slide_type": "fragment"
    }
   },
   "outputs": [],
   "source": [
    "sns.color_palette(\"hls\", 8)"
   ]
  },
  {
   "cell_type": "markdown",
   "id": "e57c247d",
   "metadata": {
    "slideshow": {
     "slide_type": "fragment"
    }
   },
   "source": [
    "2. Saturation"
   ]
  },
  {
   "cell_type": "code",
   "execution_count": null,
   "id": "f0477e3a",
   "metadata": {
    "slideshow": {
     "slide_type": "fragment"
    }
   },
   "outputs": [],
   "source": [
    "sns.color_palette(\"blend:grey,b\", 8)"
   ]
  },
  {
   "cell_type": "markdown",
   "id": "9d75ec63",
   "metadata": {
    "slideshow": {
     "slide_type": "fragment"
    }
   },
   "source": [
    "3. Lightness"
   ]
  },
  {
   "cell_type": "code",
   "execution_count": null,
   "id": "c0952af9",
   "metadata": {
    "slideshow": {
     "slide_type": "fragment"
    }
   },
   "outputs": [],
   "source": [
    "sns.cubehelix_palette(8, start=.25, rot=-.25, reverse=True)"
   ]
  },
  {
   "cell_type": "markdown",
   "id": "ebe230b7",
   "metadata": {
    "slideshow": {
     "slide_type": "slide"
    }
   },
   "source": [
    "#### 3.4.4.2. Color Palettes"
   ]
  },
  {
   "cell_type": "markdown",
   "id": "4d83a523",
   "metadata": {
    "slideshow": {
     "slide_type": "fragment"
    }
   },
   "source": [
    "Categorical/Qualitative"
   ]
  },
  {
   "attachments": {},
   "cell_type": "markdown",
   "id": "110028db",
   "metadata": {
    "slideshow": {
     "slide_type": "fragment"
    }
   },
   "source": [
    "<center><img src=\"https://seaborn.pydata.org/_images/color_palettes_22_0.svg\" width=500></center>"
   ]
  },
  {
   "cell_type": "code",
   "execution_count": null,
   "id": "32d40dad",
   "metadata": {
    "slideshow": {
     "slide_type": "fragment"
    }
   },
   "outputs": [],
   "source": [
    "sns.color_palette(\"dark\", 10)"
   ]
  },
  {
   "cell_type": "code",
   "execution_count": null,
   "id": "2254e65b",
   "metadata": {
    "slideshow": {
     "slide_type": "fragment"
    }
   },
   "outputs": [],
   "source": [
    "# colorbrewer palettes\n",
    "sns.color_palette(\"Set2\", 7)"
   ]
  },
  {
   "cell_type": "markdown",
   "id": "e52347eb",
   "metadata": {
    "slideshow": {
     "slide_type": "slide"
    }
   },
   "source": [
    "Circular color systems"
   ]
  },
  {
   "cell_type": "code",
   "execution_count": null,
   "id": "80f9f0ba",
   "metadata": {
    "slideshow": {
     "slide_type": "fragment"
    }
   },
   "outputs": [],
   "source": [
    "# HLS\n",
    "sns.color_palette(\"hls\", 7)"
   ]
  },
  {
   "cell_type": "code",
   "execution_count": null,
   "id": "c003d3ef",
   "metadata": {
    "slideshow": {
     "slide_type": "fragment"
    }
   },
   "outputs": [],
   "source": [
    "# HUSL\n",
    "sns.color_palette(\"husl\", 7)"
   ]
  },
  {
   "cell_type": "markdown",
   "id": "efc59c0f",
   "metadata": {
    "slideshow": {
     "slide_type": "slide"
    }
   },
   "source": [
    "Sequential"
   ]
  },
  {
   "cell_type": "code",
   "execution_count": null,
   "id": "25a1dbf9",
   "metadata": {
    "slideshow": {
     "slide_type": "fragment"
    }
   },
   "outputs": [],
   "source": [
    "# perceptually uniform\n",
    "sns.color_palette(\"rocket_r\", 10)"
   ]
  },
  {
   "cell_type": "code",
   "execution_count": null,
   "id": "231170d4",
   "metadata": {
    "slideshow": {
     "slide_type": "fragment"
    }
   },
   "outputs": [],
   "source": [
    "# cubehelix\n",
    "sns.color_palette(\"ch:start=.5,rot=-.5\", 10)"
   ]
  },
  {
   "cell_type": "markdown",
   "id": "c74f5052",
   "metadata": {
    "slideshow": {
     "slide_type": "slide"
    }
   },
   "source": [
    "Divergent"
   ]
  },
  {
   "cell_type": "code",
   "execution_count": null,
   "id": "d7de0105",
   "metadata": {
    "slideshow": {
     "slide_type": "fragment"
    }
   },
   "outputs": [],
   "source": [
    "sns.color_palette(\"Spectral\", 10)"
   ]
  },
  {
   "cell_type": "code",
   "execution_count": null,
   "id": "bfae1940",
   "metadata": {
    "slideshow": {
     "slide_type": "fragment"
    }
   },
   "outputs": [],
   "source": [
    "sns.color_palette(\"coolwarm\", 10)"
   ]
  },
  {
   "cell_type": "code",
   "execution_count": null,
   "id": "26b73e65",
   "metadata": {
    "slideshow": {
     "slide_type": "fragment"
    }
   },
   "outputs": [],
   "source": [
    "# perceptually uniform\n",
    "sns.color_palette(\"vlag\", 10)"
   ]
  },
  {
   "cell_type": "code",
   "execution_count": null,
   "id": "0eb187cf",
   "metadata": {
    "slideshow": {
     "slide_type": "fragment"
    }
   },
   "outputs": [],
   "source": [
    "# custom\n",
    "sns.diverging_palette(250, 30, s=99, l=65, center=\"dark\", n=10)"
   ]
  },
  {
   "cell_type": "markdown",
   "id": "4b5cc0cf",
   "metadata": {
    "slideshow": {
     "slide_type": "slide"
    }
   },
   "source": [
    "Matplotlib colormaps"
   ]
  },
  {
   "cell_type": "code",
   "execution_count": null,
   "id": "2b69916b",
   "metadata": {
    "scrolled": false,
    "slideshow": {
     "slide_type": "fragment"
    }
   },
   "outputs": [],
   "source": [
    "cmaps = [('Perceptually Uniform Sequential', [\n",
    "            'viridis', 'plasma', 'inferno', 'magma']),\n",
    "         ('Sequential', [\n",
    "            'Greys', 'Purples', 'Blues', 'Greens', 'Oranges', 'Reds',\n",
    "            'YlOrBr', 'YlOrRd', 'OrRd', 'PuRd', 'RdPu', 'BuPu',\n",
    "            'GnBu', 'PuBu', 'YlGnBu', 'PuBuGn', 'BuGn', 'YlGn']),\n",
    "         ('Sequential (2)', [\n",
    "            'binary', 'gist_yarg', 'gist_gray', 'gray', 'bone', 'pink',\n",
    "            'spring', 'summer', 'autumn', 'winter', 'cool', 'Wistia',\n",
    "            'hot', 'afmhot', 'gist_heat', 'copper']),\n",
    "         ('Diverging', [\n",
    "            'PiYG', 'PRGn', 'BrBG', 'PuOr', 'RdGy', 'RdBu',\n",
    "            'RdYlBu', 'RdYlGn', 'Spectral', 'coolwarm', 'bwr', 'seismic']),\n",
    "         ('Qualitative', [\n",
    "            'Pastel1', 'Pastel2', 'Paired', 'Accent',\n",
    "            'Dark2', 'Set1', 'Set2', 'Set3',\n",
    "            'tab10', 'tab20', 'tab20b', 'tab20c']),\n",
    "         ('Miscellaneous', [\n",
    "            'flag', 'prism', 'ocean', 'gist_earth', 'terrain', 'gist_stern',\n",
    "            'gnuplot', 'gnuplot2', 'CMRmap', 'cubehelix', 'brg', 'hsv',\n",
    "            'gist_rainbow', 'rainbow', 'jet',  'turbo', 'nipy_spectral', 'gist_ncar'])]\n",
    "\n",
    "nrows = [len(cmap_list) for cmap_category, cmap_list in cmaps]\n",
    "gradient = np.linspace(0, 1, 256)\n",
    "gradient = np.vstack((gradient, gradient))\n",
    "\n",
    "\n",
    "def plot_color_gradients(cmap_category, cmap_list, nrows):\n",
    "    fig, axes = plt.subplots(nrows=nrows, figsize=(10, nrows / 3))\n",
    "    fig.subplots_adjust(top=0.95, bottom=0.01, left=0.2, right=0.99)\n",
    "    axes[0].set_title(cmap_category + ' colormaps', fontsize=14)\n",
    "\n",
    "    for ax, name in zip(axes, cmap_list):\n",
    "        ax.imshow(gradient, aspect='auto', cmap=plt.get_cmap(name))\n",
    "        pos = list(ax.get_position().bounds)\n",
    "        x_text = pos[0] - 0.01\n",
    "        y_text = pos[1] + pos[3]/2.\n",
    "        fig.text(x_text, y_text, name, va='center', ha='right', fontsize=10)\n",
    "\n",
    "    # Turn off *all* ticks & spines, not just the ones with colormaps.\n",
    "    for ax in axes:\n",
    "        ax.set_axis_off()"
   ]
  },
  {
   "cell_type": "code",
   "execution_count": null,
   "id": "4742a3da",
   "metadata": {
    "scrolled": false,
    "slideshow": {
     "slide_type": "fragment"
    }
   },
   "outputs": [],
   "source": [
    "for i, cmap in enumerate(cmaps):\n",
    "    cmap_category, cmap_list = cmap\n",
    "    plot_color_gradients(cmap_category, cmap_list, nrows[i])"
   ]
  },
  {
   "cell_type": "markdown",
   "id": "9a17cbfe",
   "metadata": {
    "slideshow": {
     "slide_type": "slide"
    }
   },
   "source": [
    "#### 3.4.4.3 More on Color\n",
    "- https://www.boronine.com/2012/03/26/Color-Spaces-for-Human-Beings/\n",
    "- https://colorbrewer2.org/\n",
    "- https://earthobservatory.nasa.gov/blogs/elegantfigures/2013/08/05/subtleties-of-color-part-1-of-6/\n",
    "- https://matplotlib.org/2.0.2/users/colormaps.html"
   ]
  },
  {
   "cell_type": "markdown",
   "id": "4144ba9e",
   "metadata": {
    "slideshow": {
     "slide_type": "slide"
    }
   },
   "source": [
    "# 4. For next time\n",
    "\n",
    "- Data viz. examples\n",
    "- HW3"
   ]
  },
  {
   "cell_type": "markdown",
   "id": "8764a410",
   "metadata": {
    "slideshow": {
     "slide_type": "slide"
    }
   },
   "source": [
    "# 5. Questions?"
   ]
  }
 ],
 "metadata": {
  "celltoolbar": "Slideshow",
  "kernelspec": {
   "display_name": "Python 3",
   "language": "python",
   "name": "python3"
  },
  "language_info": {
   "codemirror_mode": {
    "name": "ipython",
    "version": 3
   },
   "file_extension": ".py",
   "mimetype": "text/x-python",
   "name": "python",
   "nbconvert_exporter": "python",
   "pygments_lexer": "ipython3",
   "version": "3.9.10"
  },
  "toc": {
   "base_numbering": 1,
   "nav_menu": {},
   "number_sections": false,
   "sideBar": false,
   "skip_h1_title": true,
   "title_cell": "Table of Contents",
   "title_sidebar": "Contents",
   "toc_cell": false,
   "toc_position": {},
   "toc_section_display": true,
   "toc_window_display": false
  }
 },
 "nbformat": 4,
 "nbformat_minor": 5
}
