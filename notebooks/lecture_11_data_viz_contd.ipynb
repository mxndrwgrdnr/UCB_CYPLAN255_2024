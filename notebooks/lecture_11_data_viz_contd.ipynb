{
 "cells": [
  {
   "cell_type": "markdown",
   "id": "b40ef5a4",
   "metadata": {
    "slideshow": {
     "slide_type": "slide"
    }
   },
   "source": [
    "# CYPLAN255\n",
    "### Urban Informatics and Visualization"
   ]
  },
  {
   "cell_type": "markdown",
   "id": "0ceea7a8",
   "metadata": {
    "slideshow": {
     "slide_type": "slide"
    }
   },
   "source": [
    "# Lecture 11 -- Data Visualization Cont'd\n",
    "*******\n",
    "February 28, 2024\n",
    "\n",
    "<img src=\"https://i.redd.it/rd88gqi7f9x81.jpg\" width=400 align=\"right\" title=\"Enormous tiger jumping trough the window while actress Tippi Hedren is in the kitchen, San Fernando Valley 1981 [562 x 853]\">"
   ]
  },
  {
   "cell_type": "markdown",
   "id": "75f7d376",
   "metadata": {
    "slideshow": {
     "slide_type": "slide"
    }
   },
   "source": [
    "# Agenda\n",
    "1. Announcements\n",
    "2. Color theory\n",
    "3. Interactive plotting\n",
    "4. For next time\n",
    "5. Questions\n"
   ]
  },
  {
   "cell_type": "markdown",
   "id": "4f1c0cef",
   "metadata": {
    "slideshow": {
     "slide_type": "slide"
    }
   },
   "source": [
    "# 1. Announcements"
   ]
  },
  {
   "cell_type": "markdown",
   "id": "8e5d336f",
   "metadata": {
    "slideshow": {
     "slide_type": "fragment"
    }
   },
   "source": [
    "- Meiqing's GitHub Pages tutorial"
   ]
  },
  {
   "cell_type": "markdown",
   "id": "32539338",
   "metadata": {
    "slideshow": {
     "slide_type": "slide"
    }
   },
   "source": [
    "\n",
    "# 2. A bit of color theory"
   ]
  },
  {
   "cell_type": "markdown",
   "id": "6b928d05",
   "metadata": {
    "slideshow": {
     "slide_type": "slide"
    }
   },
   "source": [
    "## 2.1. Why does color matter?"
   ]
  },
  {
   "cell_type": "markdown",
   "id": "a8a0d010",
   "metadata": {
    "slideshow": {
     "slide_type": "fragment"
    }
   },
   "source": [
    "- colorblindness\n",
    "- even people without colorblindness do not perceive all colors are perceived equally/evenly\n",
    "- grayscale reproduction (i.e. photocopy safe)\n",
    "- ?"
   ]
  },
  {
   "cell_type": "markdown",
   "id": "dbb16190",
   "metadata": {
    "slideshow": {
     "slide_type": "slide"
    }
   },
   "source": [
    "<img src=\"https://bids.github.io/colormap/images/screenshots/jet.png\" width=800>"
   ]
  },
  {
   "cell_type": "code",
   "execution_count": null,
   "id": "ea8ec991",
   "metadata": {
    "hide_input": true,
    "scrolled": false,
    "slideshow": {
     "slide_type": "slide"
    }
   },
   "outputs": [],
   "source": [
    "%%html\n",
    "<iframe src=\"https://ai.googleblog.com/2019/08/turbo-improved-rainbow-colormap-for.html\" width=100% height=700></iframe>"
   ]
  },
  {
   "cell_type": "markdown",
   "id": "ca5bffa1",
   "metadata": {
    "hide_input": true,
    "slideshow": {
     "slide_type": "slide"
    }
   },
   "source": [
    "## 2.2. The Three Components of Color"
   ]
  },
  {
   "cell_type": "code",
   "execution_count": null,
   "id": "6c981276",
   "metadata": {
    "slideshow": {
     "slide_type": "fragment"
    }
   },
   "outputs": [],
   "source": [
    "import seaborn as sns"
   ]
  },
  {
   "cell_type": "markdown",
   "id": "d879077b",
   "metadata": {
    "slideshow": {
     "slide_type": "fragment"
    }
   },
   "source": [
    "1. **Hue**"
   ]
  },
  {
   "cell_type": "code",
   "execution_count": null,
   "id": "9eb60e5d",
   "metadata": {
    "slideshow": {
     "slide_type": "fragment"
    }
   },
   "outputs": [],
   "source": [
    "sns.color_palette(\"hls\", 8)"
   ]
  },
  {
   "cell_type": "markdown",
   "id": "e57c247d",
   "metadata": {
    "slideshow": {
     "slide_type": "fragment"
    }
   },
   "source": [
    "2. **Saturation**"
   ]
  },
  {
   "cell_type": "code",
   "execution_count": null,
   "id": "f0477e3a",
   "metadata": {
    "slideshow": {
     "slide_type": "fragment"
    }
   },
   "outputs": [],
   "source": [
    "sns.color_palette(\"blend:grey,b\", 8)"
   ]
  },
  {
   "cell_type": "markdown",
   "id": "9d75ec63",
   "metadata": {
    "slideshow": {
     "slide_type": "fragment"
    }
   },
   "source": [
    "3. **Lightness**"
   ]
  },
  {
   "cell_type": "code",
   "execution_count": null,
   "id": "c0952af9",
   "metadata": {
    "slideshow": {
     "slide_type": "fragment"
    }
   },
   "outputs": [],
   "source": [
    "sns.cubehelix_palette(8, start=.25, rot=-.25, reverse=True)"
   ]
  },
  {
   "cell_type": "markdown",
   "id": "ebe230b7",
   "metadata": {
    "slideshow": {
     "slide_type": "slide"
    }
   },
   "source": [
    "## 2.3. Color Spaces"
   ]
  },
  {
   "cell_type": "markdown",
   "id": "6e06d7b3",
   "metadata": {
    "slideshow": {
     "slide_type": "fragment"
    }
   },
   "source": [
    "You are all likely familiar with the concept of the color wheel. When it comes to digital imagery, we call these **color spaces** because they are typically modeled in multi-dimensional space (e.g. RGB, CMYK).\n",
    "\n",
    "If you've ever used image editing software like Adobe Illustrator or Photoshop, this should sound familiar to you."
   ]
  },
  {
   "cell_type": "markdown",
   "id": "2b15119a",
   "metadata": {
    "slideshow": {
     "slide_type": "slide"
    }
   },
   "source": [
    "### 2.3.1. RGB\n",
    "\n",
    "Almost all computers use the standard RGB color space ([sRGB](https://en.wikipedia.org/wiki/SRGB)) to render digital images on the pixels of your computer screen/monitor. The sRGB color space is often modeled as cube, with each of its three axes positioned orthogonally to the other two:\n",
    "\n",
    "<img src=https://upload.wikimedia.org/wikipedia/commons/d/d6/RGB_color_cube.svg width=75%>\n",
    "\n",
    "This is because the RGB system is _additive_, meaning colors are created by adding together values chosen independently along each axis."
   ]
  },
  {
   "cell_type": "markdown",
   "id": "a7275431",
   "metadata": {
    "slideshow": {
     "slide_type": "slide"
    }
   },
   "source": [
    "### 2.3.2 HSL & HSV\n",
    "\n",
    "Somewhere along the line someone decided it would be more useful to create a color space in which the component axes corresponded to the three components of human perception of color (hue, saturation, and luminosity/lightness). To do this, they went back to the basics, the color wheel, and extended it in a third dimension to create a cylindrical color space.\n",
    "\n",
    "<img src=\"https://www.boronine.com/images/hsl.png\">"
   ]
  },
  {
   "cell_type": "markdown",
   "id": "b04de6dc",
   "metadata": {
    "slideshow": {
     "slide_type": "slide"
    }
   },
   "source": [
    "The most common of these are the HSV and HSL (HLS) color systems:\n",
    "\n",
    "<br><center><img src=\"https://upload.wikimedia.org/wikipedia/commons/a/a0/Hsl-hsv_models.svg\" width=500></center>"
   ]
  },
  {
   "cell_type": "markdown",
   "id": "a504dcf5",
   "metadata": {
    "slideshow": {
     "slide_type": "slide"
    }
   },
   "source": [
    "Both are available in Seaborn. HSV is inherited from matplotlib, and HSL in built-in to Seaborn (they call it HLS):"
   ]
  },
  {
   "cell_type": "code",
   "execution_count": null,
   "id": "30ffff7d",
   "metadata": {
    "slideshow": {
     "slide_type": "fragment"
    }
   },
   "outputs": [],
   "source": [
    "sns.color_palette(\"hsv\", 10)"
   ]
  },
  {
   "cell_type": "code",
   "execution_count": null,
   "id": "2f422046",
   "metadata": {
    "slideshow": {
     "slide_type": "fragment"
    }
   },
   "outputs": [],
   "source": [
    "sns.color_palette(\"hls\", 10) "
   ]
  },
  {
   "cell_type": "markdown",
   "id": "f9e1af37",
   "metadata": {
    "slideshow": {
     "slide_type": "fragment"
    }
   },
   "source": [
    "From the Seaborn [docs](https://seaborn.pydata.org/tutorial/color_palettes.html#using-circular-color-systems):\n",
    "\n",
    "> When you have an arbitrary number of categories, the easiest approach to finding unique hues is to draw evenly-spaced colors in a circular color space (one where the hue changes while keeping the brightness and saturation constant). This is what most seaborn functions default to when they need to use more colors than are currently set in the default color cycle.\n"
   ]
  },
  {
   "cell_type": "markdown",
   "id": "288d5861",
   "metadata": {
    "slideshow": {
     "slide_type": "slide"
    }
   },
   "source": [
    "### 2.3.3 HUSL/HSLuv"
   ]
  },
  {
   "cell_type": "markdown",
   "id": "469f71b3",
   "metadata": {
    "slideshow": {
     "slide_type": "fragment"
    }
   },
   "source": [
    "One of the problems with the standard color wheel, however, is that not all colors are perceived equally well, even if they have the same saturation and brightness. Some stand out more than others:"
   ]
  },
  {
   "cell_type": "code",
   "execution_count": null,
   "id": "134d7270",
   "metadata": {
    "slideshow": {
     "slide_type": "fragment"
    }
   },
   "outputs": [],
   "source": [
    "sns.hls_palette(10, h=0.01, l=0.7, s=0.9)"
   ]
  },
  {
   "cell_type": "markdown",
   "id": "cb8b3041",
   "metadata": {
    "slideshow": {
     "slide_type": "fragment"
    }
   },
   "source": [
    "The [HSLuv](https://www.hsluv.org/) (FKA \"husl\") system solves that issue by introducing perceptual uniformity into a cylindrical color space:"
   ]
  },
  {
   "cell_type": "code",
   "execution_count": null,
   "id": "c003d3ef",
   "metadata": {
    "slideshow": {
     "slide_type": "fragment"
    }
   },
   "outputs": [],
   "source": [
    "sns.husl_palette(10, h=0.01, l=0.7, s=0.9)"
   ]
  },
  {
   "cell_type": "markdown",
   "id": "aff4f5dc",
   "metadata": {
    "slideshow": {
     "slide_type": "slide"
    }
   },
   "source": [
    "## 2.4 Color palettes (A.K.A. color ramps/maps/gradients)\n",
    "We typically talk about three types of color palettes:\n",
    "1. **categorical** (sometimes called **qualitative** or **nominal**)\n",
    "2. **sequential**\n",
    "3. **divergent**"
   ]
  },
  {
   "cell_type": "markdown",
   "id": "4d83a523",
   "metadata": {
    "slideshow": {
     "slide_type": "slide"
    }
   },
   "source": [
    "### 2.4.1 Categorical"
   ]
  },
  {
   "cell_type": "markdown",
   "id": "c4d9e1e2",
   "metadata": {
    "slideshow": {
     "slide_type": "fragment"
    }
   },
   "source": [
    "Seaborn has it's own default qualitative color palette:"
   ]
  },
  {
   "cell_type": "code",
   "execution_count": null,
   "id": "32d40dad",
   "metadata": {
    "slideshow": {
     "slide_type": "fragment"
    }
   },
   "outputs": [],
   "source": [
    "sns.color_palette(\"pastel\")"
   ]
  },
  {
   "cell_type": "markdown",
   "id": "110028db",
   "metadata": {
    "slideshow": {
     "slide_type": "fragment"
    }
   },
   "source": [
    "as well as some useful pre-defined variations:\n",
    "<center><img src=\"https://seaborn.pydata.org/_images/color_palettes_22_0.svg\" width=400></center>"
   ]
  },
  {
   "cell_type": "markdown",
   "id": "28b50503",
   "metadata": {
    "slideshow": {
     "slide_type": "slide"
    }
   },
   "source": [
    "Seaborn also has access to all of the qualitative color maps from matplotlib:\n",
    "\n",
    "<center><img src=\"https://matplotlib.org/stable/_images/sphx_glr_colormap_reference_006_2_00x.png\" width=700></center>"
   ]
  },
  {
   "cell_type": "code",
   "execution_count": null,
   "id": "2254e65b",
   "metadata": {
    "slideshow": {
     "slide_type": "fragment"
    }
   },
   "outputs": [],
   "source": [
    "sns.color_palette(\"Set2\", 7)"
   ]
  },
  {
   "cell_type": "markdown",
   "id": "efc59c0f",
   "metadata": {
    "slideshow": {
     "slide_type": "slide"
    }
   },
   "source": [
    "### 2.4.2 Sequential"
   ]
  },
  {
   "cell_type": "markdown",
   "id": "d26b4408",
   "metadata": {
    "slideshow": {
     "slide_type": "fragment"
    }
   },
   "source": [
    "When dealing with numeric data or continuous variables, you'll likely want to use a **sequential** color map. Most of these come from Matplotlib. Note: for each sequential color map there exists a reversed version which you can access using the `_r` suffix.\n",
    "\n",
    "Some interesting examples:"
   ]
  },
  {
   "cell_type": "code",
   "execution_count": null,
   "id": "483f8f95",
   "metadata": {
    "slideshow": {
     "slide_type": "fragment"
    }
   },
   "outputs": [],
   "source": [
    "sns.color_palette(\"hot_r\", 10)"
   ]
  },
  {
   "cell_type": "code",
   "execution_count": null,
   "id": "23f115de",
   "metadata": {
    "slideshow": {
     "slide_type": "fragment"
    }
   },
   "outputs": [],
   "source": [
    "for pal in [\"spring\", \"YlOrBr\", \"cool\", \"Greens\"]:\n",
    "    sns.palplot(sns.color_palette(pal, 10), .5)"
   ]
  },
  {
   "cell_type": "markdown",
   "id": "2bce2c56",
   "metadata": {
    "slideshow": {
     "slide_type": "slide"
    }
   },
   "source": [
    "Seaborn has 4 built-in **perceptually uniform** sequential color maps (`mako`, `rocket`, `crest`, and `flare`) in addition to the 5 defined in matplotlib (`viridis`, `cividis`, `magma`, `plasma`, and `inferno`)."
   ]
  },
  {
   "cell_type": "code",
   "execution_count": null,
   "id": "25a1dbf9",
   "metadata": {
    "slideshow": {
     "slide_type": "fragment"
    }
   },
   "outputs": [],
   "source": [
    "for pal in [\"mako\", \"rocket\", \"crest\", \"flare\", \"viridis\", \"cividis\", \"magma\", \"plasma\", \"inferno\"]:\n",
    "    sns.palplot(sns.color_palette(pal, 10), .5)"
   ]
  },
  {
   "cell_type": "markdown",
   "id": "b063822b",
   "metadata": {
    "slideshow": {
     "slide_type": "slide"
    }
   },
   "source": [
    "**Cubehelix** color maps takes the idea of perceptual uniformity one step further by also guaranteeing that the gradient is uniform when rendered in greyscale. This is great for b+w prints and for colorblindness."
   ]
  },
  {
   "cell_type": "code",
   "execution_count": null,
   "id": "489a14f6",
   "metadata": {
    "slideshow": {
     "slide_type": "fragment"
    }
   },
   "outputs": [],
   "source": [
    "sns.color_palette(\"cubehelix\", 10)"
   ]
  },
  {
   "cell_type": "code",
   "execution_count": null,
   "id": "231170d4",
   "metadata": {
    "slideshow": {
     "slide_type": "fragment"
    }
   },
   "outputs": [],
   "source": [
    "sns.cubehelix_palette(10, start=.5, rot=-.5, hue=0)"
   ]
  },
  {
   "cell_type": "code",
   "execution_count": null,
   "id": "03e76ee2",
   "metadata": {
    "slideshow": {
     "slide_type": "fragment"
    }
   },
   "outputs": [],
   "source": [
    "sns.color_palette(\"ch:start=.5,rot=-.5,hue=.5\", 10)"
   ]
  },
  {
   "cell_type": "markdown",
   "id": "c74f5052",
   "metadata": {
    "slideshow": {
     "slide_type": "slide"
    }
   },
   "source": [
    "Lastly **divergent** color maps are very useful when your data has a well-defined, meaningful midpoint or threshold that you want to highlight:"
   ]
  },
  {
   "cell_type": "code",
   "execution_count": null,
   "id": "d7de0105",
   "metadata": {
    "slideshow": {
     "slide_type": "fragment"
    }
   },
   "outputs": [],
   "source": [
    "sns.color_palette(\"Spectral\", 10)"
   ]
  },
  {
   "cell_type": "code",
   "execution_count": null,
   "id": "bfae1940",
   "metadata": {
    "slideshow": {
     "slide_type": "fragment"
    }
   },
   "outputs": [],
   "source": [
    "sns.color_palette(\"coolwarm\", 10)"
   ]
  },
  {
   "cell_type": "code",
   "execution_count": null,
   "id": "26b73e65",
   "metadata": {
    "slideshow": {
     "slide_type": "fragment"
    }
   },
   "outputs": [],
   "source": [
    "# perceptually uniform\n",
    "sns.color_palette(\"vlag\", 10)"
   ]
  },
  {
   "cell_type": "code",
   "execution_count": null,
   "id": "0eb187cf",
   "metadata": {
    "slideshow": {
     "slide_type": "fragment"
    }
   },
   "outputs": [],
   "source": [
    "# custom\n",
    "sns.diverging_palette(250, 30, s=99, l=65, center=\"dark\", n=10)"
   ]
  },
  {
   "cell_type": "markdown",
   "id": "4b5cc0cf",
   "metadata": {
    "slideshow": {
     "slide_type": "slide"
    }
   },
   "source": [
    "All of the sequential/diverging colormaps from Matplotlib per the [docs](https://matplotlib.org/stable/gallery/color/colormap_reference.html):\n",
    "<img src=\"https://matplotlib.org/stable/_images/sphx_glr_colormap_reference_001_2_00x.png\" width=600>\n",
    "<img src=\"https://matplotlib.org/stable/_images/sphx_glr_colormap_reference_002_2_00x.png\" width=600>\n",
    "<img src=\"https://matplotlib.org/stable/_images/sphx_glr_colormap_reference_003_2_00x.png\" width=600>\n",
    "<img src=\"https://matplotlib.org/stable/_images/sphx_glr_colormap_reference_004_2_00x.png\" width=600>\n",
    "<img src=\"https://matplotlib.org/stable/_images/sphx_glr_colormap_reference_005_2_00x.png\" width=600>\n",
    "<img src=\"https://matplotlib.org/stable/_images/sphx_glr_colormap_reference_007_2_00x.png\" width=600>"
   ]
  },
  {
   "cell_type": "markdown",
   "id": "9a17cbfe",
   "metadata": {
    "slideshow": {
     "slide_type": "slide"
    }
   },
   "source": [
    "## 2.5 More resources on color\n",
    "- https://www.boronine.com/2012/03/26/Color-Spaces-for-Human-Beings/\n",
    "- https://colorbrewer2.org/\n",
    "- https://earthobservatory.nasa.gov/blogs/elegantfigures/2013/08/05/subtleties-of-color-part-1-of-6/\n",
    "- https://matplotlib.org/2.0.2/users/colormaps.html\n",
    "- https://www.axismaps.com/guide/using-colors-on-maps"
   ]
  },
  {
   "cell_type": "markdown",
   "id": "215e600b",
   "metadata": {
    "slideshow": {
     "slide_type": "slide"
    }
   },
   "source": [
    "# 3. Interactive Plotting in Python"
   ]
  },
  {
   "cell_type": "markdown",
   "id": "43786af3",
   "metadata": {
    "slideshow": {
     "slide_type": "fragment"
    }
   },
   "source": [
    "Types of interactivity you might consider:\n",
    "- annotation on hover/click\n",
    "- pan-and-zoom\n",
    "- data filters: buttons, sliders, and drop-down menu\n",
    "- animation\n",
    "\n",
    "Don't add interactivity for the sake of interactivity!"
   ]
  },
  {
   "cell_type": "markdown",
   "id": "a8b91d2c",
   "metadata": {
    "slideshow": {
     "slide_type": "slide"
    }
   },
   "source": [
    "## 3.1 Plotly\n",
    "https://plotly.com/python/\n",
    "\n",
    "Plotly is a fantastic library for generating interactive versions of all of the types of plots/charts we've been looking at.\n"
   ]
  },
  {
   "cell_type": "code",
   "execution_count": null,
   "id": "08360374",
   "metadata": {
    "hide_input": true,
    "scrolled": false,
    "slideshow": {
     "slide_type": "slide"
    }
   },
   "outputs": [],
   "source": [
    "%%html\n",
    "<iframe src=\"https://plotly.com/python/\" width=100% height=700></iframe>"
   ]
  },
  {
   "cell_type": "code",
   "execution_count": null,
   "id": "890df1c7",
   "metadata": {
    "slideshow": {
     "slide_type": "slide"
    }
   },
   "outputs": [],
   "source": [
    "import plotly.express as px\n",
    "import plotly\n",
    "df = px.data.gapminder()\n",
    "fig = px.scatter(df, x=\"gdpPercap\", y=\"lifeExp\", animation_frame=\"year\", animation_group=\"country\",\n",
    "           size=\"pop\", color=\"continent\", hover_name=\"country\",\n",
    "           log_x=True, size_max=55, range_x=[100,100000], range_y=[25,90])\n",
    "fig.show()"
   ]
  },
  {
   "cell_type": "markdown",
   "id": "d7485386",
   "metadata": {
    "slideshow": {
     "slide_type": "slide"
    }
   },
   "source": [
    "### 3.1.1. Embed plotly charts as .html\n",
    "\n",
    "Plotly makes it easy to embed interactive charts into static webpages. After generating your plot, all you have to do is run the following command to convert everything (including the data!) to .html."
   ]
  },
  {
   "cell_type": "code",
   "execution_count": null,
   "id": "4e56b01b",
   "metadata": {
    "scrolled": false,
    "slideshow": {
     "slide_type": "fragment"
    }
   },
   "outputs": [],
   "source": [
    "print(plotly.offline.plot(fig, include_plotlyjs='cdn', output_type='div'))"
   ]
  },
  {
   "cell_type": "markdown",
   "id": "9908ceb3",
   "metadata": {
    "slideshow": {
     "slide_type": "slide"
    }
   },
   "source": [
    "## 3.2 ipywidgets\n",
    "\n",
    "Installation instructions [here](https://ipywidgets.readthedocs.io/en/stable/user_install.html)"
   ]
  },
  {
   "cell_type": "code",
   "execution_count": null,
   "id": "6f3360e3",
   "metadata": {
    "slideshow": {
     "slide_type": "fragment"
    }
   },
   "outputs": [],
   "source": [
    "from ipywidgets import interact, interactive, fixed, interact_manual\n",
    "import ipywidgets as widgets"
   ]
  },
  {
   "cell_type": "markdown",
   "id": "5ac87911",
   "metadata": {
    "slideshow": {
     "slide_type": "fragment"
    }
   },
   "source": [
    "### 3.2.1. Basics"
   ]
  },
  {
   "cell_type": "code",
   "execution_count": null,
   "id": "f4da5351",
   "metadata": {
    "slideshow": {
     "slide_type": "fragment"
    }
   },
   "outputs": [],
   "source": [
    "def sq_num(x):\n",
    "    return x**2\n",
    "\n",
    "interact(sq_num, x=10);"
   ]
  },
  {
   "cell_type": "code",
   "execution_count": null,
   "id": "02624b1f",
   "metadata": {
    "slideshow": {
     "slide_type": "fragment"
    }
   },
   "outputs": [],
   "source": [
    "interact(sq_num, x=widgets.IntSlider(min=-10, max=30, step=1, value=10));"
   ]
  },
  {
   "cell_type": "code",
   "execution_count": null,
   "id": "bbb2f031",
   "metadata": {
    "slideshow": {
     "slide_type": "fragment"
    }
   },
   "outputs": [],
   "source": [
    "widgets.IntSlider()"
   ]
  },
  {
   "cell_type": "markdown",
   "id": "3d2af3c3",
   "metadata": {
    "slideshow": {
     "slide_type": "slide"
    }
   },
   "source": [
    "### 3.2.2. Interactive Pivot Table"
   ]
  },
  {
   "cell_type": "markdown",
   "id": "68daf2c4",
   "metadata": {
    "slideshow": {
     "slide_type": "fragment"
    }
   },
   "source": [
    "Re-create the merged SF1 Craigslist data"
   ]
  },
  {
   "cell_type": "code",
   "execution_count": 46,
   "id": "9e43cd7c",
   "metadata": {
    "slideshow": {
     "slide_type": "fragment"
    }
   },
   "outputs": [],
   "source": [
    "import pandas as pd\n",
    "from matplotlib import pyplot as plt\n",
    "rentals = pd.read_csv(\n",
    "    'data/sfbay_geocoded.csv',\n",
    "    usecols=['rent', 'bedrooms', 'sqft', 'fips_block', 'longitude', 'latitude'],\n",
    "    dtype={'fips_block': str}  # load fips_block as str, numeric type will drop leading zero\n",
    ")\n",
    "\n",
    "sf1 = pd.read_hdf('data/bay_sf1_small.h5', 'sf1_extract')\n",
    "\n",
    "county_fips_to_name = {\n",
    "    '001': 'Alameda', '013': 'Contra Costa', '041': 'Marin', '055': 'Napa', '075': 'San Francisco',\n",
    "    '081': 'San Mateo', '085': 'Santa Clara', '095': 'Solano', '097': 'Sonoma'}\n",
    "sf1.insert(4, 'county_name', sf1['county'].replace(county_fips_to_name))\n",
    "\n",
    "sf1['pct_rent'] = sf1['H0040004'] / sf1['H0040001'] * 100\n",
    "sf1['pct_black'] = sf1['P0030003'] / sf1['P0030001'] * 100\n",
    "sf1['pct_asian'] = sf1['P0030005'] / sf1['P0030001'] * 100\n",
    "sf1['pct_white'] = sf1['P0030002'] / sf1['P0030001'] * 100\n",
    "sf1['pct_hisp'] = sf1['P0040003'] / sf1['P0040001'] * 100\n",
    "sf1['pct_vacant'] = sf1['H0050001'] / sf1['H00010001'] * 100\n",
    "sf1['pop_sqmi'] = (sf1['P0010001'] / (sf1['arealand'] / 2589988))\n",
    "sf1 = sf1[sf1['P0030001'] > 0]  # drop unpopulated census blocks\n",
    "\n",
    "rentals_sf1 = pd.merge(rentals, sf1, left_on='fips_block', right_on='blockfips')"
   ]
  },
  {
   "cell_type": "code",
   "execution_count": null,
   "id": "c94d4832",
   "metadata": {
    "slideshow": {
     "slide_type": "slide"
    }
   },
   "outputs": [],
   "source": [
    "def pivot_intx(value_col, group_col, hue_col, agg_func):\n",
    "\n",
    "    piv_df = pd.pivot_table(rentals_sf1, values=value_col, index=group_col, columns=hue_col, aggfunc=agg_func)\n",
    "    fig, ax = plt.subplots(figsize=(12,7))\n",
    "    _ = piv_df.plot(\n",
    "        kind='bar', figsize=(14,6), title='Average {0} by {1} and {2}'.format(value_col, group_col, hue_col),\n",
    "        ax=ax)\n",
    "\n",
    "    return"
   ]
  },
  {
   "cell_type": "code",
   "execution_count": null,
   "id": "c1c52492",
   "metadata": {
    "slideshow": {
     "slide_type": "fragment"
    }
   },
   "outputs": [],
   "source": [
    "group_col_selector = widgets.Dropdown(\n",
    "    options=rentals_sf1.columns.tolist(),\n",
    "    description='group by:',\n",
    "    value='bedrooms'\n",
    ")\n",
    "\n",
    "hue_col_selector = widgets.Dropdown(\n",
    "    options=rentals_sf1.columns.tolist(),\n",
    "    description='hue:',\n",
    "    value='county_name'\n",
    ")\n",
    "\n",
    "value_col_selector = widgets.Dropdown(\n",
    "    options=rentals_sf1.columns.tolist(),\n",
    "    description='value:',\n",
    "    value='rent'\n",
    ")\n",
    "\n",
    "agg_func_selector = widgets.RadioButtons(\n",
    "    options=['count', 'sum', 'mean', 'median'],\n",
    "    value=\"mean\",\n",
    "    description='agg function:',\n",
    ")"
   ]
  },
  {
   "cell_type": "code",
   "execution_count": null,
   "id": "1ff5c7c5",
   "metadata": {
    "hide_input": false,
    "scrolled": false,
    "slideshow": {
     "slide_type": "slide"
    }
   },
   "outputs": [],
   "source": [
    "interact(\n",
    "    pivot_intx,\n",
    "    value_col=value_col_selector,\n",
    "    group_col=group_col_selector,\n",
    "    hue_col=hue_col_selector,\n",
    "    agg_func=agg_func_selector\n",
    ");"
   ]
  },
  {
   "cell_type": "markdown",
   "id": "879f8820",
   "metadata": {
    "slideshow": {
     "slide_type": "slide"
    }
   },
   "source": [
    "## 3.3 Bokeh\n",
    "https://bokeh.org/\n",
    "\n",
    "Kind of like Plotly, but uses a different JavaScript library for charts"
   ]
  },
  {
   "cell_type": "code",
   "execution_count": null,
   "id": "e25346d8",
   "metadata": {
    "hide_input": true,
    "slideshow": {
     "slide_type": "fragment"
    }
   },
   "outputs": [],
   "source": [
    "%%html\n",
    "<iframe src=\"https://demo.bokeh.org/\"  width=100% height=700></iframe>"
   ]
  },
  {
   "cell_type": "code",
   "execution_count": null,
   "id": "0f096cd5",
   "metadata": {
    "slideshow": {
     "slide_type": "fragment"
    }
   },
   "outputs": [],
   "source": [
    "from bokeh.models import ColumnDataSource, HoverTool\n",
    "from bokeh.plotting import figure\n",
    "from bokeh.sampledata.autompg import autompg_clean as df\n",
    "from bokeh.transform import factor_cmap\n",
    "from bokeh.io import output_notebook, show, output_file"
   ]
  },
  {
   "cell_type": "markdown",
   "id": "eff066a9",
   "metadata": {
    "hide_input": true,
    "slideshow": {
     "slide_type": "slide"
    }
   },
   "source": [
    "### 3.3.1 A different approach to the grouped bar plot"
   ]
  },
  {
   "cell_type": "code",
   "execution_count": null,
   "id": "cae654c1",
   "metadata": {
    "slideshow": {
     "slide_type": "fragment"
    }
   },
   "outputs": [],
   "source": [
    "rentals_sf1['bedrooms'] = rentals_sf1['bedrooms'].astype(str)\n",
    "group = rentals_sf1.groupby(['bedrooms','county_name'])\n",
    "source = ColumnDataSource(group)\n",
    "\n",
    "output_notebook()\n",
    "p = figure(width=800, height=300, title=\"Rent x Bedrooms x County\",\n",
    "           x_range=group, toolbar_location=None, tools=\"\")\n",
    "\n",
    "p.vbar(x='bedrooms_county_name', top='rent_mean', width=1, source=source,\n",
    "       line_color=\"white\",\n",
    "       hover_line_color=\"darkgrey\", )\n",
    "\n",
    "p.xgrid.grid_line_color = None\n",
    "p.xaxis.axis_label = \"Test\"\n",
    "p.xaxis.major_label_orientation = 1.2\n",
    "p.add_tools(HoverTool(tooltips=[(\"rent\", \"@rent_mean\"), (\"bedrooms, county_name\", \"@bedrooms_county_name\")]))"
   ]
  },
  {
   "cell_type": "code",
   "execution_count": null,
   "id": "8f86e4ae",
   "metadata": {
    "slideshow": {
     "slide_type": "slide"
    }
   },
   "outputs": [],
   "source": [
    "show(p)"
   ]
  },
  {
   "cell_type": "code",
   "execution_count": null,
   "id": "2024fd16",
   "metadata": {
    "slideshow": {
     "slide_type": "fragment"
    }
   },
   "outputs": [],
   "source": [
    "output_file(\"plot.html\")"
   ]
  },
  {
   "cell_type": "code",
   "execution_count": null,
   "id": "63027dcb",
   "metadata": {
    "slideshow": {
     "slide_type": "fragment"
    }
   },
   "outputs": [],
   "source": [
    "show(p)"
   ]
  },
  {
   "cell_type": "markdown",
   "id": "1d7424b3",
   "metadata": {
    "slideshow": {
     "slide_type": "slide"
    }
   },
   "source": [
    "## 3.4 More\n",
    "- https://panel.holoviz.org/ (dashboards with Bokeh)\n",
    "- https://streamlit.io/ (standalone apps and dashboards)\n",
    "- https://voila-gallery.org/ (another library for converting Jupyter Notebooks into dashboards)"
   ]
  },
  {
   "cell_type": "markdown",
   "id": "24780d16",
   "metadata": {
    "slideshow": {
     "slide_type": "slide"
    }
   },
   "source": [
    "# 4. For next time\n",
    "- Assignment 3 due\n",
    "- Assignment 4 released tonight: Project Proposals"
   ]
  },
  {
   "cell_type": "markdown",
   "id": "029ed6ab",
   "metadata": {
    "slideshow": {
     "slide_type": "slide"
    }
   },
   "source": [
    "# 5. Questions?"
   ]
  }
 ],
 "metadata": {
  "celltoolbar": "Slideshow",
  "kernelspec": {
   "display_name": "Python [conda env:cp255] *",
   "language": "python",
   "name": "conda-env-cp255-py"
  },
  "language_info": {
   "codemirror_mode": {
    "name": "ipython",
    "version": 3
   },
   "file_extension": ".py",
   "mimetype": "text/x-python",
   "name": "python",
   "nbconvert_exporter": "python",
   "pygments_lexer": "ipython3",
   "version": "3.9.10"
  },
  "toc": {
   "base_numbering": 1,
   "nav_menu": {},
   "number_sections": false,
   "sideBar": true,
   "skip_h1_title": false,
   "title_cell": "Table of Contents",
   "title_sidebar": "Contents",
   "toc_cell": false,
   "toc_position": {
    "height": "401.717px",
    "left": "106px",
    "top": "348px",
    "width": "165px"
   },
   "toc_section_display": true,
   "toc_window_display": false
  },
  "widgets": {
   "application/vnd.jupyter.widget-state+json": {
    "state": {
     "036890bb793d4ae492801cc3249198d9": {
      "model_module": "@jupyter-widgets/base",
      "model_module_version": "1.2.0",
      "model_name": "LayoutModel",
      "state": {}
     },
     "0577a88b1dd34108b5711f7c7fe8aa6d": {
      "model_module": "@jupyter-widgets/controls",
      "model_module_version": "1.5.0",
      "model_name": "VBoxModel",
      "state": {
       "_dom_classes": [
        "widget-interact"
       ],
       "children": [
        "IPY_MODEL_1465fe697ae449ffbeb81bd31a816218",
        "IPY_MODEL_388c13d7a917478fae18c04e2508b402"
       ],
       "layout": "IPY_MODEL_498af9d578094035b2c50e6001bb9dca"
      }
     },
     "07bd63bb51484e148f950100d1c362e3": {
      "model_module": "@jupyter-widgets/base",
      "model_module_version": "1.2.0",
      "model_name": "LayoutModel",
      "state": {}
     },
     "0a5918df5549449281d0b352db00ba80": {
      "model_module": "@jupyter-widgets/controls",
      "model_module_version": "1.5.0",
      "model_name": "DropdownModel",
      "state": {
       "_options_labels": [
        "rent",
        "bedrooms",
        "sqft",
        "longitude",
        "latitude",
        "fips_block",
        "logrecno",
        "blockfips",
        "state",
        "county",
        "county_name",
        "tract",
        "blkgrp",
        "block",
        "arealand",
        "P0010001",
        "P0020001",
        "P0020002",
        "P0020003",
        "P0020004",
        "P0020005",
        "P0020006",
        "P0030001",
        "P0030002",
        "P0030003",
        "P0030004",
        "P0030005",
        "P0030006",
        "P0030007",
        "P0030008",
        "P0040001",
        "P0040002",
        "P0040003",
        "H00010001",
        "H0030001",
        "H0030002",
        "H0030003",
        "H0040001",
        "H0040002",
        "H0040003",
        "H0040004",
        "H0050001",
        "H0050002",
        "H0050003",
        "H0050004",
        "H0050005",
        "H0050006",
        "H0050007",
        "H0050008",
        "pct_rent",
        "pct_black",
        "pct_asian",
        "pct_white",
        "pct_hisp",
        "pct_vacant",
        "pop_sqmi"
       ],
       "description": "value:",
       "index": 0,
       "layout": "IPY_MODEL_948f3a06edac4ebb825d97d3bcbc277b",
       "style": "IPY_MODEL_fed5e5cccb6b4bf89cb905ba918d9515"
      }
     },
     "0d624edcd3f447dda4333f259a2e51d1": {
      "model_module": "@jupyter-widgets/base",
      "model_module_version": "1.2.0",
      "model_name": "LayoutModel",
      "state": {}
     },
     "0e8ca577f9ac4bd8a84078a902970252": {
      "model_module": "@jupyter-widgets/controls",
      "model_module_version": "1.5.0",
      "model_name": "SliderStyleModel",
      "state": {
       "description_width": ""
      }
     },
     "0e90c7a49a374a8a82353d4e0c9ac540": {
      "model_module": "@jupyter-widgets/output",
      "model_module_version": "1.0.0",
      "model_name": "OutputModel",
      "state": {
       "layout": "IPY_MODEL_dccabf80757743289ea1b7cfe52d8e72",
       "outputs": [
        {
         "data": {
          "image/png": "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\n",
          "text/plain": "<Figure size 1008x432 with 1 Axes>"
         },
         "metadata": {
          "needs_background": "light"
         },
         "output_type": "display_data"
        }
       ]
      }
     },
     "10112be082ff4b4a9a3ac15826c3ccfe": {
      "model_module": "@jupyter-widgets/controls",
      "model_module_version": "1.5.0",
      "model_name": "DropdownModel",
      "state": {
       "_options_labels": [
        "rent",
        "bedrooms",
        "sqft",
        "longitude",
        "latitude",
        "fips_block",
        "logrecno",
        "blockfips",
        "state",
        "county",
        "county_name",
        "tract",
        "blkgrp",
        "block",
        "arealand",
        "P0010001",
        "P0020001",
        "P0020002",
        "P0020003",
        "P0020004",
        "P0020005",
        "P0020006",
        "P0030001",
        "P0030002",
        "P0030003",
        "P0030004",
        "P0030005",
        "P0030006",
        "P0030007",
        "P0030008",
        "P0040001",
        "P0040002",
        "P0040003",
        "H00010001",
        "H0030001",
        "H0030002",
        "H0030003",
        "H0040001",
        "H0040002",
        "H0040003",
        "H0040004",
        "H0050001",
        "H0050002",
        "H0050003",
        "H0050004",
        "H0050005",
        "H0050006",
        "H0050007",
        "H0050008",
        "pct_rent",
        "pct_black",
        "pct_asian",
        "pct_white",
        "pct_hisp",
        "pct_vacant",
        "pop_sqmi"
       ],
       "description": "hue:",
       "index": 10,
       "layout": "IPY_MODEL_a3d0e99889154e3b97b1351c6ac0f1a6",
       "style": "IPY_MODEL_bae72a97b4384940aee8e6cf686ef0ce"
      }
     },
     "102b50129efb427d9bf1dcaa82e0a801": {
      "model_module": "@jupyter-widgets/controls",
      "model_module_version": "1.5.0",
      "model_name": "SliderStyleModel",
      "state": {
       "description_width": ""
      }
     },
     "10481c83c52548b2a4292db94126cd64": {
      "model_module": "@jupyter-widgets/base",
      "model_module_version": "1.2.0",
      "model_name": "LayoutModel",
      "state": {}
     },
     "1449899fbb0f4e30bd7d238c0320d82e": {
      "model_module": "@jupyter-widgets/base",
      "model_module_version": "1.2.0",
      "model_name": "LayoutModel",
      "state": {}
     },
     "1465fe697ae449ffbeb81bd31a816218": {
      "model_module": "@jupyter-widgets/controls",
      "model_module_version": "1.5.0",
      "model_name": "IntSliderModel",
      "state": {
       "description": "x",
       "layout": "IPY_MODEL_036890bb793d4ae492801cc3249198d9",
       "max": 30,
       "min": -10,
       "style": "IPY_MODEL_415cec7ad6da49fe9170b9969add12fc",
       "value": 10
      }
     },
     "16a7e943591147fbbaad0b827cbb09db": {
      "model_module": "@jupyter-widgets/controls",
      "model_module_version": "1.5.0",
      "model_name": "IntSliderModel",
      "state": {
       "description": "x",
       "layout": "IPY_MODEL_a770e174ba8b400bb0cabe12f0175ba6",
       "max": 30,
       "min": -10,
       "style": "IPY_MODEL_b80756c995c440499bf7062c0494466b",
       "value": 10
      }
     },
     "1837dbf70f924e8893a0bca1d78eac25": {
      "model_module": "@jupyter-widgets/controls",
      "model_module_version": "1.5.0",
      "model_name": "IntSliderModel",
      "state": {
       "description": "x",
       "layout": "IPY_MODEL_c2d80c89e66e4fcf9e0ab6ee786dedf6",
       "max": 30,
       "min": -10,
       "style": "IPY_MODEL_72924217a8e64141842454379dfee1be",
       "value": 10
      }
     },
     "197dbf06871f491c98e18234e49e6662": {
      "model_module": "@jupyter-widgets/output",
      "model_module_version": "1.0.0",
      "model_name": "OutputModel",
      "state": {
       "layout": "IPY_MODEL_65f635ac318f429ba9563deee27ac42c",
       "outputs": [
        {
         "data": {
          "image/png": "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\n",
          "text/plain": "<Figure size 1008x432 with 1 Axes>"
         },
         "metadata": {
          "needs_background": "light"
         },
         "output_type": "display_data"
        }
       ]
      }
     },
     "1b0df1238c6c435a81b36575d8b0ffb7": {
      "model_module": "@jupyter-widgets/base",
      "model_module_version": "1.2.0",
      "model_name": "LayoutModel",
      "state": {}
     },
     "1bec4d5fbf6e4576960c4ad3c505479e": {
      "model_module": "@jupyter-widgets/base",
      "model_module_version": "1.2.0",
      "model_name": "LayoutModel",
      "state": {}
     },
     "1c5cda7ed0d14c1a98b40bc68c98ac47": {
      "model_module": "@jupyter-widgets/base",
      "model_module_version": "1.2.0",
      "model_name": "LayoutModel",
      "state": {}
     },
     "24baecf0eb4c42a3b2523135cecb8595": {
      "model_module": "@jupyter-widgets/base",
      "model_module_version": "1.2.0",
      "model_name": "LayoutModel",
      "state": {}
     },
     "26cdef640de648229d073f9fa5b28308": {
      "model_module": "@jupyter-widgets/output",
      "model_module_version": "1.0.0",
      "model_name": "OutputModel",
      "state": {
       "layout": "IPY_MODEL_4f8f525e9b8f4fa9b456bd40d2fe69fe",
       "outputs": [
        {
         "data": {
          "text/plain": "1"
         },
         "metadata": {},
         "output_type": "display_data"
        }
       ]
      }
     },
     "28b738a22f674f2fb65a12f382e9968d": {
      "model_module": "@jupyter-widgets/base",
      "model_module_version": "1.2.0",
      "model_name": "LayoutModel",
      "state": {}
     },
     "292b2cb66c1041ac912bc93285891a8e": {
      "model_module": "@jupyter-widgets/base",
      "model_module_version": "1.2.0",
      "model_name": "LayoutModel",
      "state": {}
     },
     "29f1cdbed08f4db494796ae5e56ab245": {
      "model_module": "@jupyter-widgets/controls",
      "model_module_version": "1.5.0",
      "model_name": "VBoxModel",
      "state": {
       "_dom_classes": [
        "widget-interact"
       ],
       "children": [
        "IPY_MODEL_90f7b82a07e44d0b96f4b0f64151ae87",
        "IPY_MODEL_4075dbc081de45579c0ae2ff8a944455"
       ],
       "layout": "IPY_MODEL_d0de7e3d17d1460eb61e22bfe2b205f1"
      }
     },
     "2cf1cb2f8492412195213a0e816cedeb": {
      "model_module": "@jupyter-widgets/controls",
      "model_module_version": "1.5.0",
      "model_name": "VBoxModel",
      "state": {
       "_dom_classes": [
        "widget-interact"
       ],
       "children": [
        "IPY_MODEL_16a7e943591147fbbaad0b827cbb09db",
        "IPY_MODEL_4f6bfeda42a047be891dcf6437188959"
       ],
       "layout": "IPY_MODEL_1449899fbb0f4e30bd7d238c0320d82e"
      }
     },
     "2f5b288019094743b81f590c2fb141de": {
      "model_module": "@jupyter-widgets/controls",
      "model_module_version": "1.5.0",
      "model_name": "IntSliderModel",
      "state": {
       "layout": "IPY_MODEL_804fe264cbc54fb184cda24f2c55cfe7",
       "style": "IPY_MODEL_d833cc8ed5f14c428b55fd6a130b39c8",
       "value": 21
      }
     },
     "351530f5bffb499a95667909d050239f": {
      "model_module": "@jupyter-widgets/controls",
      "model_module_version": "1.5.0",
      "model_name": "IntSliderModel",
      "state": {
       "description": "x",
       "layout": "IPY_MODEL_fa97aefcb76f440ca4e7286567321464",
       "max": 30,
       "min": -10,
       "style": "IPY_MODEL_400ee23b54144d56b832e28c9d4c2c9f",
       "value": 12
      }
     },
     "35a98824282f4b31ad78cf5019eddd98": {
      "model_module": "@jupyter-widgets/base",
      "model_module_version": "1.2.0",
      "model_name": "LayoutModel",
      "state": {}
     },
     "37fc956d3f9a4747abe5b1c34c3b3571": {
      "model_module": "@jupyter-widgets/controls",
      "model_module_version": "1.5.0",
      "model_name": "SliderStyleModel",
      "state": {
       "description_width": ""
      }
     },
     "388c13d7a917478fae18c04e2508b402": {
      "model_module": "@jupyter-widgets/output",
      "model_module_version": "1.0.0",
      "model_name": "OutputModel",
      "state": {
       "layout": "IPY_MODEL_81afee2ef254462cbabc9d993f1f1603",
       "outputs": [
        {
         "data": {
          "text/plain": "100"
         },
         "metadata": {},
         "output_type": "display_data"
        }
       ]
      }
     },
     "393d7fb1fa1a4058b5178885c78bd6a9": {
      "model_module": "@jupyter-widgets/controls",
      "model_module_version": "1.5.0",
      "model_name": "DescriptionStyleModel",
      "state": {
       "description_width": ""
      }
     },
     "3a597aef9ab34ae9922301d213906c90": {
      "model_module": "@jupyter-widgets/controls",
      "model_module_version": "1.5.0",
      "model_name": "IntSliderModel",
      "state": {
       "layout": "IPY_MODEL_a6dda80f0e7d41de87f6ad8be6af5790",
       "max": 30,
       "min": -10,
       "style": "IPY_MODEL_beeb425cc692414785981e237dd9a53a",
       "value": 10
      }
     },
     "3d6acc6e8b4d4855b652426af2241615": {
      "model_module": "@jupyter-widgets/base",
      "model_module_version": "1.2.0",
      "model_name": "LayoutModel",
      "state": {}
     },
     "3f17151432bf43c793bc9d16ccc2095f": {
      "model_module": "@jupyter-widgets/base",
      "model_module_version": "1.2.0",
      "model_name": "LayoutModel",
      "state": {}
     },
     "3f97a0ab3ae441408f509728dbccca47": {
      "model_module": "@jupyter-widgets/controls",
      "model_module_version": "1.5.0",
      "model_name": "IntSliderModel",
      "state": {
       "description": "x",
       "layout": "IPY_MODEL_1bec4d5fbf6e4576960c4ad3c505479e",
       "max": 30,
       "min": -10,
       "style": "IPY_MODEL_37fc956d3f9a4747abe5b1c34c3b3571",
       "value": -1
      }
     },
     "3ff2c844c17745b09e9e3f03a56c9500": {
      "model_module": "@jupyter-widgets/controls",
      "model_module_version": "1.5.0",
      "model_name": "SliderStyleModel",
      "state": {
       "description_width": ""
      }
     },
     "400ee23b54144d56b832e28c9d4c2c9f": {
      "model_module": "@jupyter-widgets/controls",
      "model_module_version": "1.5.0",
      "model_name": "SliderStyleModel",
      "state": {
       "description_width": ""
      }
     },
     "4075dbc081de45579c0ae2ff8a944455": {
      "model_module": "@jupyter-widgets/output",
      "model_module_version": "1.0.0",
      "model_name": "OutputModel",
      "state": {
       "layout": "IPY_MODEL_0d624edcd3f447dda4333f259a2e51d1",
       "outputs": [
        {
         "data": {
          "text/plain": "100"
         },
         "metadata": {},
         "output_type": "display_data"
        }
       ]
      }
     },
     "415cec7ad6da49fe9170b9969add12fc": {
      "model_module": "@jupyter-widgets/controls",
      "model_module_version": "1.5.0",
      "model_name": "SliderStyleModel",
      "state": {
       "description_width": ""
      }
     },
     "45c5c98d57164cedaefedc118e92a2a1": {
      "model_module": "@jupyter-widgets/controls",
      "model_module_version": "1.5.0",
      "model_name": "VBoxModel",
      "state": {
       "_dom_classes": [
        "widget-interact"
       ],
       "children": [
        "IPY_MODEL_3f97a0ab3ae441408f509728dbccca47",
        "IPY_MODEL_4b01a278c4f34424a17701e0247ab53b"
       ],
       "layout": "IPY_MODEL_af91a9e895e345a298d2dda26ffda05f"
      }
     },
     "498af9d578094035b2c50e6001bb9dca": {
      "model_module": "@jupyter-widgets/base",
      "model_module_version": "1.2.0",
      "model_name": "LayoutModel",
      "state": {}
     },
     "4b01a278c4f34424a17701e0247ab53b": {
      "model_module": "@jupyter-widgets/output",
      "model_module_version": "1.0.0",
      "model_name": "OutputModel",
      "state": {
       "layout": "IPY_MODEL_3d6acc6e8b4d4855b652426af2241615",
       "outputs": [
        {
         "data": {
          "text/plain": "1"
         },
         "metadata": {},
         "output_type": "display_data"
        }
       ]
      }
     },
     "4beddeb288584f18bc8ad074f533fdcc": {
      "model_module": "@jupyter-widgets/controls",
      "model_module_version": "1.5.0",
      "model_name": "DropdownModel",
      "state": {
       "_options_labels": [
        "rent",
        "bedrooms",
        "sqft",
        "longitude",
        "latitude",
        "fips_block",
        "logrecno",
        "blockfips",
        "state",
        "county",
        "county_name",
        "tract",
        "blkgrp",
        "block",
        "arealand",
        "P0010001",
        "P0020001",
        "P0020002",
        "P0020003",
        "P0020004",
        "P0020005",
        "P0020006",
        "P0030001",
        "P0030002",
        "P0030003",
        "P0030004",
        "P0030005",
        "P0030006",
        "P0030007",
        "P0030008",
        "P0040001",
        "P0040002",
        "P0040003",
        "H00010001",
        "H0030001",
        "H0030002",
        "H0030003",
        "H0040001",
        "H0040002",
        "H0040003",
        "H0040004",
        "H0050001",
        "H0050002",
        "H0050003",
        "H0050004",
        "H0050005",
        "H0050006",
        "H0050007",
        "H0050008",
        "pct_rent",
        "pct_black",
        "pct_asian",
        "pct_white",
        "pct_hisp",
        "pct_vacant",
        "pop_sqmi"
       ],
       "description": "group by:",
       "index": 1,
       "layout": "IPY_MODEL_07bd63bb51484e148f950100d1c362e3",
       "style": "IPY_MODEL_e2b41c00c7484b54817557c50da48fad"
      }
     },
     "4c51d7bed12f4c48bfc116795885af23": {
      "model_module": "@jupyter-widgets/controls",
      "model_module_version": "1.5.0",
      "model_name": "ColorPickerModel",
      "state": {
       "disabled": false,
       "layout": "IPY_MODEL_1b0df1238c6c435a81b36575d8b0ffb7",
       "style": "IPY_MODEL_393d7fb1fa1a4058b5178885c78bd6a9",
       "value": "#000000"
      }
     },
     "4f6bfeda42a047be891dcf6437188959": {
      "model_module": "@jupyter-widgets/output",
      "model_module_version": "1.0.0",
      "model_name": "OutputModel",
      "state": {
       "layout": "IPY_MODEL_10481c83c52548b2a4292db94126cd64",
       "outputs": [
        {
         "data": {
          "text/plain": "100"
         },
         "metadata": {},
         "output_type": "display_data"
        }
       ]
      }
     },
     "4f8f525e9b8f4fa9b456bd40d2fe69fe": {
      "model_module": "@jupyter-widgets/base",
      "model_module_version": "1.2.0",
      "model_name": "LayoutModel",
      "state": {}
     },
     "4fa3c4aa26c0430ab4a452cee468efd6": {
      "model_module": "@jupyter-widgets/controls",
      "model_module_version": "1.5.0",
      "model_name": "IntSliderModel",
      "state": {
       "description": "x",
       "layout": "IPY_MODEL_292b2cb66c1041ac912bc93285891a8e",
       "max": 30,
       "min": -10,
       "style": "IPY_MODEL_3ff2c844c17745b09e9e3f03a56c9500",
       "value": -10
      }
     },
     "527311a2ade845bd84db78f8576b1f88": {
      "model_module": "@jupyter-widgets/controls",
      "model_module_version": "1.5.0",
      "model_name": "SliderStyleModel",
      "state": {
       "description_width": ""
      }
     },
     "5722a16a6f5b4f53af4b7a562863f03c": {
      "model_module": "@jupyter-widgets/controls",
      "model_module_version": "1.5.0",
      "model_name": "IntSliderModel",
      "state": {
       "layout": "IPY_MODEL_bc704deaa2a04dfd95d80170be60d219",
       "style": "IPY_MODEL_527311a2ade845bd84db78f8576b1f88",
       "value": 28
      }
     },
     "5819989fc17b4a8c95bcfffd726dd5ce": {
      "model_module": "@jupyter-widgets/base",
      "model_module_version": "1.2.0",
      "model_name": "LayoutModel",
      "state": {}
     },
     "5cbe977e33cb46db9f69332b106365ff": {
      "model_module": "@jupyter-widgets/base",
      "model_module_version": "1.2.0",
      "model_name": "LayoutModel",
      "state": {}
     },
     "6046e0ab49e944c695e909e603b9eed3": {
      "model_module": "@jupyter-widgets/base",
      "model_module_version": "1.2.0",
      "model_name": "LayoutModel",
      "state": {}
     },
     "64b4b696e5b94243bc3a32480679b777": {
      "model_module": "@jupyter-widgets/base",
      "model_module_version": "1.2.0",
      "model_name": "LayoutModel",
      "state": {}
     },
     "65b94365d2b54f0ab86186a41b32c84d": {
      "model_module": "@jupyter-widgets/controls",
      "model_module_version": "1.5.0",
      "model_name": "DropdownModel",
      "state": {
       "_options_labels": [
        "rent",
        "bedrooms",
        "sqft",
        "longitude",
        "latitude",
        "fips_block",
        "logrecno",
        "blockfips",
        "state",
        "county",
        "county_name",
        "tract",
        "blkgrp",
        "block",
        "arealand",
        "P0010001",
        "P0020001",
        "P0020002",
        "P0020003",
        "P0020004",
        "P0020005",
        "P0020006",
        "P0030001",
        "P0030002",
        "P0030003",
        "P0030004",
        "P0030005",
        "P0030006",
        "P0030007",
        "P0030008",
        "P0040001",
        "P0040002",
        "P0040003",
        "H00010001",
        "H0030001",
        "H0030002",
        "H0030003",
        "H0040001",
        "H0040002",
        "H0040003",
        "H0040004",
        "H0050001",
        "H0050002",
        "H0050003",
        "H0050004",
        "H0050005",
        "H0050006",
        "H0050007",
        "H0050008",
        "pct_rent",
        "pct_black",
        "pct_asian",
        "pct_white",
        "pct_hisp",
        "pct_vacant",
        "pop_sqmi"
       ],
       "description": "group by:",
       "index": 10,
       "layout": "IPY_MODEL_3f17151432bf43c793bc9d16ccc2095f",
       "style": "IPY_MODEL_d228a3ab4455457db2bb063de4e7903b"
      }
     },
     "65f635ac318f429ba9563deee27ac42c": {
      "model_module": "@jupyter-widgets/base",
      "model_module_version": "1.2.0",
      "model_name": "LayoutModel",
      "state": {}
     },
     "66d70b0850cb4865a929c6955e363790": {
      "model_module": "@jupyter-widgets/controls",
      "model_module_version": "1.5.0",
      "model_name": "DescriptionStyleModel",
      "state": {
       "description_width": ""
      }
     },
     "6aea8b090de64c01b7b6513f717ff586": {
      "model_module": "@jupyter-widgets/controls",
      "model_module_version": "1.5.0",
      "model_name": "DropdownModel",
      "state": {
       "_options_labels": [
        "rent",
        "bedrooms",
        "sqft",
        "longitude",
        "latitude",
        "fips_block",
        "logrecno",
        "blockfips",
        "state",
        "county",
        "county_name",
        "tract",
        "blkgrp",
        "block",
        "arealand",
        "P0010001",
        "P0020001",
        "P0020002",
        "P0020003",
        "P0020004",
        "P0020005",
        "P0020006",
        "P0030001",
        "P0030002",
        "P0030003",
        "P0030004",
        "P0030005",
        "P0030006",
        "P0030007",
        "P0030008",
        "P0040001",
        "P0040002",
        "P0040003",
        "H00010001",
        "H0030001",
        "H0030002",
        "H0030003",
        "H0040001",
        "H0040002",
        "H0040003",
        "H0040004",
        "H0050001",
        "H0050002",
        "H0050003",
        "H0050004",
        "H0050005",
        "H0050006",
        "H0050007",
        "H0050008",
        "pct_rent",
        "pct_black",
        "pct_asian",
        "pct_white",
        "pct_hisp",
        "pct_vacant",
        "pop_sqmi"
       ],
       "description": "group by:",
       "index": 1,
       "layout": "IPY_MODEL_7190accd82e74393af0dd2f9272c1597",
       "style": "IPY_MODEL_87261346ad984e19a2ebcad78b6a0185"
      }
     },
     "6b06534774224363b77492cb41db7abd": {
      "model_module": "@jupyter-widgets/controls",
      "model_module_version": "1.5.0",
      "model_name": "VBoxModel",
      "state": {
       "_dom_classes": [
        "widget-interact"
       ],
       "children": [
        "IPY_MODEL_8f78cb7cae7044ce8f3b1ea5c0c42bf9",
        "IPY_MODEL_26cdef640de648229d073f9fa5b28308"
       ],
       "layout": "IPY_MODEL_f2f44f43277d4b3f984581776d54b846"
      }
     },
     "6c13eb090a514665b2abb8bdd1ed4f60": {
      "model_module": "@jupyter-widgets/base",
      "model_module_version": "1.2.0",
      "model_name": "LayoutModel",
      "state": {}
     },
     "7190accd82e74393af0dd2f9272c1597": {
      "model_module": "@jupyter-widgets/base",
      "model_module_version": "1.2.0",
      "model_name": "LayoutModel",
      "state": {}
     },
     "72924217a8e64141842454379dfee1be": {
      "model_module": "@jupyter-widgets/controls",
      "model_module_version": "1.5.0",
      "model_name": "SliderStyleModel",
      "state": {
       "description_width": ""
      }
     },
     "737af0401924419486c075b8b8bdf815": {
      "model_module": "@jupyter-widgets/base",
      "model_module_version": "1.2.0",
      "model_name": "LayoutModel",
      "state": {}
     },
     "804fe264cbc54fb184cda24f2c55cfe7": {
      "model_module": "@jupyter-widgets/base",
      "model_module_version": "1.2.0",
      "model_name": "LayoutModel",
      "state": {}
     },
     "81afee2ef254462cbabc9d993f1f1603": {
      "model_module": "@jupyter-widgets/base",
      "model_module_version": "1.2.0",
      "model_name": "LayoutModel",
      "state": {}
     },
     "830f0fad448341c0aac05e36e4c5250a": {
      "model_module": "@jupyter-widgets/controls",
      "model_module_version": "1.5.0",
      "model_name": "SliderStyleModel",
      "state": {
       "description_width": ""
      }
     },
     "83acbff55b5e43d8a96a0338109762da": {
      "model_module": "@jupyter-widgets/controls",
      "model_module_version": "1.5.0",
      "model_name": "DropdownModel",
      "state": {
       "_options_labels": [
        "rent",
        "bedrooms",
        "sqft",
        "longitude",
        "latitude",
        "fips_block",
        "logrecno",
        "blockfips",
        "state",
        "county",
        "county_name",
        "tract",
        "blkgrp",
        "block",
        "arealand",
        "P0010001",
        "P0020001",
        "P0020002",
        "P0020003",
        "P0020004",
        "P0020005",
        "P0020006",
        "P0030001",
        "P0030002",
        "P0030003",
        "P0030004",
        "P0030005",
        "P0030006",
        "P0030007",
        "P0030008",
        "P0040001",
        "P0040002",
        "P0040003",
        "H00010001",
        "H0030001",
        "H0030002",
        "H0030003",
        "H0040001",
        "H0040002",
        "H0040003",
        "H0040004",
        "H0050001",
        "H0050002",
        "H0050003",
        "H0050004",
        "H0050005",
        "H0050006",
        "H0050007",
        "H0050008",
        "pct_rent",
        "pct_black",
        "pct_asian",
        "pct_white",
        "pct_hisp",
        "pct_vacant",
        "pop_sqmi"
       ],
       "description": "hue:",
       "index": 1,
       "layout": "IPY_MODEL_ca36ebeb5f884dd79d362e1825babded",
       "style": "IPY_MODEL_ac847405059946418c17fae55ae01b67"
      }
     },
     "860bafcec28745579643ab07042c7402": {
      "model_module": "@jupyter-widgets/base",
      "model_module_version": "1.2.0",
      "model_name": "LayoutModel",
      "state": {}
     },
     "87261346ad984e19a2ebcad78b6a0185": {
      "model_module": "@jupyter-widgets/controls",
      "model_module_version": "1.5.0",
      "model_name": "DescriptionStyleModel",
      "state": {
       "description_width": ""
      }
     },
     "88ac14f93be048d6972844c263ca51d6": {
      "model_module": "@jupyter-widgets/controls",
      "model_module_version": "1.5.0",
      "model_name": "DropdownModel",
      "state": {
       "_options_labels": [
        "rent",
        "bedrooms",
        "sqft",
        "longitude",
        "latitude",
        "fips_block",
        "logrecno",
        "blockfips",
        "state",
        "county",
        "county_name",
        "tract",
        "blkgrp",
        "block",
        "arealand",
        "P0010001",
        "P0020001",
        "P0020002",
        "P0020003",
        "P0020004",
        "P0020005",
        "P0020006",
        "P0030001",
        "P0030002",
        "P0030003",
        "P0030004",
        "P0030005",
        "P0030006",
        "P0030007",
        "P0030008",
        "P0040001",
        "P0040002",
        "P0040003",
        "H00010001",
        "H0030001",
        "H0030002",
        "H0030003",
        "H0040001",
        "H0040002",
        "H0040003",
        "H0040004",
        "H0050001",
        "H0050002",
        "H0050003",
        "H0050004",
        "H0050005",
        "H0050006",
        "H0050007",
        "H0050008",
        "pct_rent",
        "pct_black",
        "pct_asian",
        "pct_white",
        "pct_hisp",
        "pct_vacant",
        "pop_sqmi"
       ],
       "description": "hue:",
       "index": 10,
       "layout": "IPY_MODEL_28b738a22f674f2fb65a12f382e9968d",
       "style": "IPY_MODEL_66d70b0850cb4865a929c6955e363790"
      }
     },
     "8f78cb7cae7044ce8f3b1ea5c0c42bf9": {
      "model_module": "@jupyter-widgets/controls",
      "model_module_version": "1.5.0",
      "model_name": "IntSliderModel",
      "state": {
       "description": "x",
       "layout": "IPY_MODEL_aa032afab9db4a828cc4ae1b58d1e3d8",
       "max": 30,
       "min": -10,
       "style": "IPY_MODEL_102b50129efb427d9bf1dcaa82e0a801",
       "value": -1
      }
     },
     "90f7b82a07e44d0b96f4b0f64151ae87": {
      "model_module": "@jupyter-widgets/controls",
      "model_module_version": "1.5.0",
      "model_name": "IntSliderModel",
      "state": {
       "description": "x",
       "layout": "IPY_MODEL_860bafcec28745579643ab07042c7402",
       "max": 30,
       "min": -10,
       "style": "IPY_MODEL_830f0fad448341c0aac05e36e4c5250a",
       "value": 10
      }
     },
     "92d9183f0a834472ac9257b7281f8bdc": {
      "model_module": "@jupyter-widgets/controls",
      "model_module_version": "1.5.0",
      "model_name": "DescriptionStyleModel",
      "state": {
       "description_width": ""
      }
     },
     "948f3a06edac4ebb825d97d3bcbc277b": {
      "model_module": "@jupyter-widgets/base",
      "model_module_version": "1.2.0",
      "model_name": "LayoutModel",
      "state": {}
     },
     "99b128f05dde46c79b15f6193cc44d98": {
      "model_module": "@jupyter-widgets/base",
      "model_module_version": "1.2.0",
      "model_name": "LayoutModel",
      "state": {}
     },
     "9b61ddb3d3354d34b40ee975daf1c436": {
      "model_module": "@jupyter-widgets/controls",
      "model_module_version": "1.5.0",
      "model_name": "VBoxModel",
      "state": {
       "_dom_classes": [
        "widget-interact"
       ],
       "children": [
        "IPY_MODEL_c994489614e64e47a73118a2a047406e",
        "IPY_MODEL_65b94365d2b54f0ab86186a41b32c84d",
        "IPY_MODEL_83acbff55b5e43d8a96a0338109762da",
        "IPY_MODEL_bdcfd773037843bea41d95fb9e31ee93",
        "IPY_MODEL_197dbf06871f491c98e18234e49e6662"
       ],
       "layout": "IPY_MODEL_ed45697a7b3e4dd081ae50bc1f3bbd65"
      }
     },
     "9ba10cb8c73f4f3db6c30ab7ed9f1b7a": {
      "model_module": "@jupyter-widgets/controls",
      "model_module_version": "1.5.0",
      "model_name": "DescriptionStyleModel",
      "state": {
       "description_width": ""
      }
     },
     "a3d0e99889154e3b97b1351c6ac0f1a6": {
      "model_module": "@jupyter-widgets/base",
      "model_module_version": "1.2.0",
      "model_name": "LayoutModel",
      "state": {}
     },
     "a3f351571d2942258cc2270839629027": {
      "model_module": "@jupyter-widgets/controls",
      "model_module_version": "1.5.0",
      "model_name": "VBoxModel",
      "state": {
       "_dom_classes": [
        "widget-interact"
       ],
       "children": [
        "IPY_MODEL_351530f5bffb499a95667909d050239f",
        "IPY_MODEL_fad73ab64139479a88ad678929bf57f9"
       ],
       "layout": "IPY_MODEL_35a98824282f4b31ad78cf5019eddd98"
      }
     },
     "a6dda80f0e7d41de87f6ad8be6af5790": {
      "model_module": "@jupyter-widgets/base",
      "model_module_version": "1.2.0",
      "model_name": "LayoutModel",
      "state": {}
     },
     "a770e174ba8b400bb0cabe12f0175ba6": {
      "model_module": "@jupyter-widgets/base",
      "model_module_version": "1.2.0",
      "model_name": "LayoutModel",
      "state": {}
     },
     "aa032afab9db4a828cc4ae1b58d1e3d8": {
      "model_module": "@jupyter-widgets/base",
      "model_module_version": "1.2.0",
      "model_name": "LayoutModel",
      "state": {}
     },
     "aa2b50ba85a2410d9bf3740ebaad3ede": {
      "model_module": "@jupyter-widgets/controls",
      "model_module_version": "1.5.0",
      "model_name": "IntSliderModel",
      "state": {
       "layout": "IPY_MODEL_e6ec4675672947429b94ef1d22a77952",
       "max": 30,
       "min": -10,
       "style": "IPY_MODEL_b4cded5233fe420a8495561a4c3d9597",
       "value": 10
      }
     },
     "aae68b89798646b5af6127587af802c2": {
      "model_module": "@jupyter-widgets/controls",
      "model_module_version": "1.5.0",
      "model_name": "DescriptionStyleModel",
      "state": {
       "description_width": ""
      }
     },
     "ac79960d52aa40d09c7c8b82f9edaef8": {
      "model_module": "@jupyter-widgets/controls",
      "model_module_version": "1.5.0",
      "model_name": "VBoxModel",
      "state": {
       "_dom_classes": [
        "widget-interact"
       ],
       "children": [
        "IPY_MODEL_0a5918df5549449281d0b352db00ba80",
        "IPY_MODEL_4beddeb288584f18bc8ad074f533fdcc",
        "IPY_MODEL_88ac14f93be048d6972844c263ca51d6",
        "IPY_MODEL_da59b3cc61854168bc78f41a2d81b67f",
        "IPY_MODEL_ef80a9d796544017b632ace92e52aed8"
       ],
       "layout": "IPY_MODEL_6c13eb090a514665b2abb8bdd1ed4f60"
      }
     },
     "ac847405059946418c17fae55ae01b67": {
      "model_module": "@jupyter-widgets/controls",
      "model_module_version": "1.5.0",
      "model_name": "DescriptionStyleModel",
      "state": {
       "description_width": ""
      }
     },
     "aec2442c092a46198abd24a3f3a12738": {
      "model_module": "@jupyter-widgets/base",
      "model_module_version": "1.2.0",
      "model_name": "LayoutModel",
      "state": {}
     },
     "af91a9e895e345a298d2dda26ffda05f": {
      "model_module": "@jupyter-widgets/base",
      "model_module_version": "1.2.0",
      "model_name": "LayoutModel",
      "state": {}
     },
     "b4cded5233fe420a8495561a4c3d9597": {
      "model_module": "@jupyter-widgets/controls",
      "model_module_version": "1.5.0",
      "model_name": "SliderStyleModel",
      "state": {
       "description_width": ""
      }
     },
     "b78a4d4771b64dc4ae075af9039c0c8b": {
      "model_module": "@jupyter-widgets/controls",
      "model_module_version": "1.5.0",
      "model_name": "VBoxModel",
      "state": {
       "_dom_classes": [
        "widget-interact"
       ],
       "children": [
        "IPY_MODEL_4fa3c4aa26c0430ab4a452cee468efd6",
        "IPY_MODEL_bdd1561da32241228006020fadfc7ae2"
       ],
       "layout": "IPY_MODEL_aec2442c092a46198abd24a3f3a12738"
      }
     },
     "b80756c995c440499bf7062c0494466b": {
      "model_module": "@jupyter-widgets/controls",
      "model_module_version": "1.5.0",
      "model_name": "SliderStyleModel",
      "state": {
       "description_width": ""
      }
     },
     "b9b95dd909534062816dc216e0f326f6": {
      "model_module": "@jupyter-widgets/base",
      "model_module_version": "1.2.0",
      "model_name": "LayoutModel",
      "state": {}
     },
     "bae72a97b4384940aee8e6cf686ef0ce": {
      "model_module": "@jupyter-widgets/controls",
      "model_module_version": "1.5.0",
      "model_name": "DescriptionStyleModel",
      "state": {
       "description_width": ""
      }
     },
     "bc704deaa2a04dfd95d80170be60d219": {
      "model_module": "@jupyter-widgets/base",
      "model_module_version": "1.2.0",
      "model_name": "LayoutModel",
      "state": {}
     },
     "bdcfd773037843bea41d95fb9e31ee93": {
      "model_module": "@jupyter-widgets/controls",
      "model_module_version": "1.5.0",
      "model_name": "RadioButtonsModel",
      "state": {
       "_options_labels": [
        "count",
        "sum",
        "mean",
        "median"
       ],
       "description": "agg function:",
       "index": 3,
       "layout": "IPY_MODEL_f7986807077641e499db610c719fcfa5",
       "style": "IPY_MODEL_e0e80edeff6d4bc4b8aa50448a025411"
      }
     },
     "bdd1561da32241228006020fadfc7ae2": {
      "model_module": "@jupyter-widgets/output",
      "model_module_version": "1.0.0",
      "model_name": "OutputModel",
      "state": {
       "layout": "IPY_MODEL_db7cb266a1454e5d8b8e8f33e0ed0197",
       "outputs": [
        {
         "data": {
          "text/plain": "100"
         },
         "metadata": {},
         "output_type": "display_data"
        }
       ]
      }
     },
     "beeb425cc692414785981e237dd9a53a": {
      "model_module": "@jupyter-widgets/controls",
      "model_module_version": "1.5.0",
      "model_name": "SliderStyleModel",
      "state": {
       "description_width": ""
      }
     },
     "c2d80c89e66e4fcf9e0ab6ee786dedf6": {
      "model_module": "@jupyter-widgets/base",
      "model_module_version": "1.2.0",
      "model_name": "LayoutModel",
      "state": {}
     },
     "c994489614e64e47a73118a2a047406e": {
      "model_module": "@jupyter-widgets/controls",
      "model_module_version": "1.5.0",
      "model_name": "DropdownModel",
      "state": {
       "_options_labels": [
        "rent",
        "bedrooms",
        "sqft",
        "longitude",
        "latitude",
        "fips_block",
        "logrecno",
        "blockfips",
        "state",
        "county",
        "county_name",
        "tract",
        "blkgrp",
        "block",
        "arealand",
        "P0010001",
        "P0020001",
        "P0020002",
        "P0020003",
        "P0020004",
        "P0020005",
        "P0020006",
        "P0030001",
        "P0030002",
        "P0030003",
        "P0030004",
        "P0030005",
        "P0030006",
        "P0030007",
        "P0030008",
        "P0040001",
        "P0040002",
        "P0040003",
        "H00010001",
        "H0030001",
        "H0030002",
        "H0030003",
        "H0040001",
        "H0040002",
        "H0040003",
        "H0040004",
        "H0050001",
        "H0050002",
        "H0050003",
        "H0050004",
        "H0050005",
        "H0050006",
        "H0050007",
        "H0050008",
        "pct_rent",
        "pct_black",
        "pct_asian",
        "pct_white",
        "pct_hisp",
        "pct_vacant",
        "pop_sqmi"
       ],
       "description": "value:",
       "index": 0,
       "layout": "IPY_MODEL_1c5cda7ed0d14c1a98b40bc68c98ac47",
       "style": "IPY_MODEL_e5857157d0fe4c19bdbf515b8c5df6b8"
      }
     },
     "c99a5a3146204223876b50111d6e1e6a": {
      "model_module": "@jupyter-widgets/output",
      "model_module_version": "1.0.0",
      "model_name": "OutputModel",
      "state": {
       "layout": "IPY_MODEL_99b128f05dde46c79b15f6193cc44d98",
       "outputs": [
        {
         "data": {
          "text/plain": "100"
         },
         "metadata": {},
         "output_type": "display_data"
        }
       ]
      }
     },
     "ca36ebeb5f884dd79d362e1825babded": {
      "model_module": "@jupyter-widgets/base",
      "model_module_version": "1.2.0",
      "model_name": "LayoutModel",
      "state": {}
     },
     "d0de7e3d17d1460eb61e22bfe2b205f1": {
      "model_module": "@jupyter-widgets/base",
      "model_module_version": "1.2.0",
      "model_name": "LayoutModel",
      "state": {}
     },
     "d228a3ab4455457db2bb063de4e7903b": {
      "model_module": "@jupyter-widgets/controls",
      "model_module_version": "1.5.0",
      "model_name": "DescriptionStyleModel",
      "state": {
       "description_width": ""
      }
     },
     "d833cc8ed5f14c428b55fd6a130b39c8": {
      "model_module": "@jupyter-widgets/controls",
      "model_module_version": "1.5.0",
      "model_name": "SliderStyleModel",
      "state": {
       "description_width": ""
      }
     },
     "da59b3cc61854168bc78f41a2d81b67f": {
      "model_module": "@jupyter-widgets/controls",
      "model_module_version": "1.5.0",
      "model_name": "RadioButtonsModel",
      "state": {
       "_options_labels": [
        "count",
        "sum",
        "mean",
        "median"
       ],
       "description": "agg function:",
       "index": 2,
       "layout": "IPY_MODEL_e21e37ebe5ad449b82f9fbdf86f92a84",
       "style": "IPY_MODEL_92d9183f0a834472ac9257b7281f8bdc"
      }
     },
     "db7cb266a1454e5d8b8e8f33e0ed0197": {
      "model_module": "@jupyter-widgets/base",
      "model_module_version": "1.2.0",
      "model_name": "LayoutModel",
      "state": {}
     },
     "dccabf80757743289ea1b7cfe52d8e72": {
      "model_module": "@jupyter-widgets/base",
      "model_module_version": "1.2.0",
      "model_name": "LayoutModel",
      "state": {}
     },
     "df4cdba1f27c48f88cde1cd923a0f21e": {
      "model_module": "@jupyter-widgets/controls",
      "model_module_version": "1.5.0",
      "model_name": "VBoxModel",
      "state": {
       "_dom_classes": [
        "widget-interact"
       ],
       "children": [
        "IPY_MODEL_f4151ea8d84d4d0fa52bd9f150591e4d",
        "IPY_MODEL_6aea8b090de64c01b7b6513f717ff586",
        "IPY_MODEL_10112be082ff4b4a9a3ac15826c3ccfe",
        "IPY_MODEL_e584733c16944d58a031c9986968234e",
        "IPY_MODEL_0e90c7a49a374a8a82353d4e0c9ac540"
       ],
       "layout": "IPY_MODEL_b9b95dd909534062816dc216e0f326f6"
      }
     },
     "e0e80edeff6d4bc4b8aa50448a025411": {
      "model_module": "@jupyter-widgets/controls",
      "model_module_version": "1.5.0",
      "model_name": "DescriptionStyleModel",
      "state": {
       "description_width": ""
      }
     },
     "e21e37ebe5ad449b82f9fbdf86f92a84": {
      "model_module": "@jupyter-widgets/base",
      "model_module_version": "1.2.0",
      "model_name": "LayoutModel",
      "state": {}
     },
     "e2b41c00c7484b54817557c50da48fad": {
      "model_module": "@jupyter-widgets/controls",
      "model_module_version": "1.5.0",
      "model_name": "DescriptionStyleModel",
      "state": {
       "description_width": ""
      }
     },
     "e584733c16944d58a031c9986968234e": {
      "model_module": "@jupyter-widgets/controls",
      "model_module_version": "1.5.0",
      "model_name": "RadioButtonsModel",
      "state": {
       "_options_labels": [
        "count",
        "sum",
        "mean",
        "median"
       ],
       "description": "agg function:",
       "index": 2,
       "layout": "IPY_MODEL_5819989fc17b4a8c95bcfffd726dd5ce",
       "style": "IPY_MODEL_aae68b89798646b5af6127587af802c2"
      }
     },
     "e5857157d0fe4c19bdbf515b8c5df6b8": {
      "model_module": "@jupyter-widgets/controls",
      "model_module_version": "1.5.0",
      "model_name": "DescriptionStyleModel",
      "state": {
       "description_width": ""
      }
     },
     "e6ec4675672947429b94ef1d22a77952": {
      "model_module": "@jupyter-widgets/base",
      "model_module_version": "1.2.0",
      "model_name": "LayoutModel",
      "state": {}
     },
     "e87bfec58a4644daa171273ff3067554": {
      "model_module": "@jupyter-widgets/controls",
      "model_module_version": "1.5.0",
      "model_name": "VBoxModel",
      "state": {
       "_dom_classes": [
        "widget-interact"
       ],
       "children": [
        "IPY_MODEL_1837dbf70f924e8893a0bca1d78eac25",
        "IPY_MODEL_c99a5a3146204223876b50111d6e1e6a"
       ],
       "layout": "IPY_MODEL_6046e0ab49e944c695e909e603b9eed3"
      }
     },
     "ed45697a7b3e4dd081ae50bc1f3bbd65": {
      "model_module": "@jupyter-widgets/base",
      "model_module_version": "1.2.0",
      "model_name": "LayoutModel",
      "state": {}
     },
     "ef80a9d796544017b632ace92e52aed8": {
      "model_module": "@jupyter-widgets/output",
      "model_module_version": "1.0.0",
      "model_name": "OutputModel",
      "state": {
       "layout": "IPY_MODEL_24baecf0eb4c42a3b2523135cecb8595",
       "outputs": [
        {
         "data": {
          "image/png": "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\n",
          "text/plain": "<Figure size 1008x432 with 1 Axes>"
         },
         "metadata": {
          "needs_background": "light"
         },
         "output_type": "display_data"
        }
       ]
      }
     },
     "f2f44f43277d4b3f984581776d54b846": {
      "model_module": "@jupyter-widgets/base",
      "model_module_version": "1.2.0",
      "model_name": "LayoutModel",
      "state": {}
     },
     "f4151ea8d84d4d0fa52bd9f150591e4d": {
      "model_module": "@jupyter-widgets/controls",
      "model_module_version": "1.5.0",
      "model_name": "DropdownModel",
      "state": {
       "_options_labels": [
        "rent",
        "bedrooms",
        "sqft",
        "longitude",
        "latitude",
        "fips_block",
        "logrecno",
        "blockfips",
        "state",
        "county",
        "county_name",
        "tract",
        "blkgrp",
        "block",
        "arealand",
        "P0010001",
        "P0020001",
        "P0020002",
        "P0020003",
        "P0020004",
        "P0020005",
        "P0020006",
        "P0030001",
        "P0030002",
        "P0030003",
        "P0030004",
        "P0030005",
        "P0030006",
        "P0030007",
        "P0030008",
        "P0040001",
        "P0040002",
        "P0040003",
        "H00010001",
        "H0030001",
        "H0030002",
        "H0030003",
        "H0040001",
        "H0040002",
        "H0040003",
        "H0040004",
        "H0050001",
        "H0050002",
        "H0050003",
        "H0050004",
        "H0050005",
        "H0050006",
        "H0050007",
        "H0050008",
        "pct_rent",
        "pct_black",
        "pct_asian",
        "pct_white",
        "pct_hisp",
        "pct_vacant",
        "pop_sqmi"
       ],
       "description": "value:",
       "index": 52,
       "layout": "IPY_MODEL_64b4b696e5b94243bc3a32480679b777",
       "style": "IPY_MODEL_9ba10cb8c73f4f3db6c30ab7ed9f1b7a"
      }
     },
     "f535465508c24aa686a59ffc5f05e6a8": {
      "model_module": "@jupyter-widgets/controls",
      "model_module_version": "1.5.0",
      "model_name": "IntSliderModel",
      "state": {
       "layout": "IPY_MODEL_737af0401924419486c075b8b8bdf815",
       "max": 30,
       "min": -10,
       "style": "IPY_MODEL_0e8ca577f9ac4bd8a84078a902970252",
       "value": 10
      }
     },
     "f7986807077641e499db610c719fcfa5": {
      "model_module": "@jupyter-widgets/base",
      "model_module_version": "1.2.0",
      "model_name": "LayoutModel",
      "state": {}
     },
     "fa97aefcb76f440ca4e7286567321464": {
      "model_module": "@jupyter-widgets/base",
      "model_module_version": "1.2.0",
      "model_name": "LayoutModel",
      "state": {}
     },
     "fad73ab64139479a88ad678929bf57f9": {
      "model_module": "@jupyter-widgets/output",
      "model_module_version": "1.0.0",
      "model_name": "OutputModel",
      "state": {
       "layout": "IPY_MODEL_5cbe977e33cb46db9f69332b106365ff",
       "outputs": [
        {
         "data": {
          "text/plain": "144"
         },
         "metadata": {},
         "output_type": "display_data"
        }
       ]
      }
     },
     "fed5e5cccb6b4bf89cb905ba918d9515": {
      "model_module": "@jupyter-widgets/controls",
      "model_module_version": "1.5.0",
      "model_name": "DescriptionStyleModel",
      "state": {
       "description_width": ""
      }
     }
    },
    "version_major": 2,
    "version_minor": 0
   }
  }
 },
 "nbformat": 4,
 "nbformat_minor": 5
}
