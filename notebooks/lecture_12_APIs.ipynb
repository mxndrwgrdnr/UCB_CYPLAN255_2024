{
 "cells": [
  {
   "cell_type": "markdown",
   "id": "b40ef5a4",
   "metadata": {
    "slideshow": {
     "slide_type": "slide"
    }
   },
   "source": [
    "# CYPLAN255\n",
    "### Urban Informatics and Visualization"
   ]
  },
  {
   "cell_type": "markdown",
   "id": "0ceea7a8",
   "metadata": {
    "slideshow": {
     "slide_type": "slide"
    }
   },
   "source": [
    "# Lecture 11 -- APIs <img src=\"https://i.imgur.com/wNMULZP.jpg\" width=700 align='right' title=\"Man Standing in the Lumberyard of Seattle Cedar Lumber Manufacturing, Alfred Eisenstaedt (1939)\">\n",
    "******\n",
    "March 4, 2024"
   ]
  },
  {
   "cell_type": "markdown",
   "id": "75f7d376",
   "metadata": {
    "slideshow": {
     "slide_type": "slide"
    }
   },
   "source": [
    "# Agenda\n",
    "1. Announcements\n",
    "2. Intro to APIs\n",
    "3. Using APIs with Python\n",
    "4. Reminder: How to use Conda environments\n",
    "5. For next time\n",
    "6. Questions\n"
   ]
  },
  {
   "cell_type": "markdown",
   "id": "4f1c0cef",
   "metadata": {
    "slideshow": {
     "slide_type": "slide"
    }
   },
   "source": [
    "# 1. Announcements"
   ]
  },
  {
   "cell_type": "markdown",
   "id": "8e5d336f",
   "metadata": {
    "slideshow": {
     "slide_type": "fragment"
    }
   },
   "source": [
    "- Final Project released tonight\n",
    "- Assignment 4 (project proposal + initial analysis) due March 10\n",
    "- GitHub Pages tutorial"
   ]
  },
  {
   "cell_type": "markdown",
   "id": "963b0616",
   "metadata": {
    "slideshow": {
     "slide_type": "slide"
    }
   },
   "source": [
    "# 2. Intro to APIs"
   ]
  },
  {
   "cell_type": "markdown",
   "id": "d1e25966",
   "metadata": {
    "slideshow": {
     "slide_type": "fragment"
    }
   },
   "source": [
    "- What's an API?\n",
    "- Examples\n",
    "- Why are APIs useful?\n",
    "- Types of APIs and API responses"
   ]
  },
  {
   "cell_type": "markdown",
   "id": "be52e724",
   "metadata": {
    "slideshow": {
     "slide_type": "slide"
    }
   },
   "source": [
    "## 2.1. What's an API?"
   ]
  },
  {
   "cell_type": "markdown",
   "id": "cec23f50",
   "metadata": {
    "slideshow": {
     "slide_type": "fragment"
    }
   },
   "source": [
    "- **A**pplication\n",
    "  - software, product, or service\n",
    "- **P**rogramming\n",
    "  - we're going to be writing code\n",
    "- **I**nterface\n",
    "  - a point where two systems, subjects, organizations, etc. meet and interact"
   ]
  },
  {
   "cell_type": "markdown",
   "id": "d18d10bd",
   "metadata": {
    "slideshow": {
     "slide_type": "slide"
    }
   },
   "source": [
    "APIs are _transactional_, kind of like ordering food at a restaurant:\n",
    " 1. client requests an item from the menu\n",
    " 2. waiter takes the order and tells the cook what to make\n",
    " 3. cook prepares the item and gives it to the server\n",
    " 4. server brings client the item they ordered\n",
    "\n",
    "\n",
    "In this analogy, the **waiter** + **menu** + **server** constitute the **API**"
   ]
  },
  {
   "cell_type": "markdown",
   "id": "a2b9f0ff",
   "metadata": {
    "slideshow": {
     "slide_type": "slide"
    }
   },
   "source": [
    "## 2.2 Examples"
   ]
  },
  {
   "cell_type": "markdown",
   "id": "118823d5",
   "metadata": {
    "slideshow": {
     "slide_type": "fragment"
    }
   },
   "source": [
    "<center><img src=\"images/api1.png\" width=75%></center>"
   ]
  },
  {
   "cell_type": "markdown",
   "id": "c6a6adc4",
   "metadata": {
    "slideshow": {
     "slide_type": "slide"
    }
   },
   "source": [
    "<center><img src=\"images/api2.png\" width=75%></center>"
   ]
  },
  {
   "cell_type": "markdown",
   "id": "75426be0",
   "metadata": {
    "slideshow": {
     "slide_type": "slide"
    }
   },
   "source": [
    "<center><img src=\"images/api3.png\" width=75%></center>"
   ]
  },
  {
   "cell_type": "markdown",
   "id": "e9f1092b",
   "metadata": {
    "slideshow": {
     "slide_type": "fragment"
    }
   },
   "source": [
    "Yes, even pandas is an API!"
   ]
  },
  {
   "cell_type": "markdown",
   "id": "17f9e9ec",
   "metadata": {
    "slideshow": {
     "slide_type": "slide"
    }
   },
   "source": [
    "## 2.3 Why is an APIs useful? i.e. why do companies publish them?"
   ]
  },
  {
   "cell_type": "markdown",
   "id": "b26ae6e2",
   "metadata": {
    "slideshow": {
     "slide_type": "fragment"
    }
   },
   "source": [
    "- Standardizes the access points to a service or piece of software\n",
    "  - No ordering \"off the menu\"\n",
    "- Allows proprietary details to remain private\n",
    "  - The ingredients in the chef's secret sauce are never revealed\n",
    "- The implementation details do not matter to the client\n",
    "  - Customer doesn't need or want to be able to cook the dish themselves"
   ]
  },
  {
   "cell_type": "markdown",
   "id": "06e95518",
   "metadata": {
    "slideshow": {
     "slide_type": "slide"
    }
   },
   "source": [
    "## 2.4 Types of APIs"
   ]
  },
  {
   "cell_type": "markdown",
   "id": "7daa03d1",
   "metadata": {
    "slideshow": {
     "slide_type": "fragment"
    }
   },
   "source": [
    "1. APIs in a programming language\n",
    "  - Functions: `my_function()`\n",
    "  - Arguments/parameters: `my_function(args=x)`\n",
    "  - Function returns a value\n",
    "2. APIs over the web\n",
    "  - URL endpoints: `http://my.domain/endpoint`\n",
    "  - Query parameters: `http://my.domain/endpoint?args=x`\n",
    "  - HTTP request returns a value"
   ]
  },
  {
   "cell_type": "markdown",
   "id": "21f1fbf2",
   "metadata": {
    "slideshow": {
     "slide_type": "slide"
    }
   },
   "source": [
    "### 2.4.1 REST APIs"
   ]
  },
  {
   "cell_type": "markdown",
   "id": "fb89a877",
   "metadata": {
    "slideshow": {
     "slide_type": "fragment"
    }
   },
   "source": [
    "The most common type of API you'll encounter on the web is the **REST** API. REST APIs define a limited set of operations for transferring data between a **client** and a **server** using **HTTP**."
   ]
  },
  {
   "cell_type": "markdown",
   "id": "7a60c3ef",
   "metadata": {
    "slideshow": {
     "slide_type": "fragment"
    }
   },
   "source": [
    "<img src=\"https://phpenthusiast.com/theme/assets/images/blog/what_is_rest_api.png?021019a\" width=80%>"
   ]
  },
  {
   "cell_type": "markdown",
   "id": "b854e6ec",
   "metadata": {
    "slideshow": {
     "slide_type": "slide"
    }
   },
   "source": [
    "## 2.5 API Response Objects"
   ]
  },
  {
   "cell_type": "markdown",
   "id": "3e551c81",
   "metadata": {
    "slideshow": {
     "slide_type": "fragment"
    }
   },
   "source": [
    "We've primarily been dealing with _tabular_ data so far (columns and rows), but most APIs on the web will return data in a **hierarchical** format like **JSON** or **XML**."
   ]
  },
  {
   "cell_type": "markdown",
   "id": "3fecc38c",
   "metadata": {
    "slideshow": {
     "slide_type": "fragment"
    }
   },
   "source": [
    "<center><img src=\"images/api4.png\" width=500></center>"
   ]
  },
  {
   "cell_type": "markdown",
   "id": "007c77e8",
   "metadata": {
    "slideshow": {
     "slide_type": "slide"
    }
   },
   "source": [
    "JSON stands for **JavaScript Object Notation**. Since JavaScript is the \"language of the web\", most of the data you'll get from web APIs will be formatted as JSON.\n",
    "\n",
    "There's nothing special or fancy or scary about JSON: _it's just nested dictionaries_."
   ]
  },
  {
   "cell_type": "markdown",
   "id": "72edf6db",
   "metadata": {
    "slideshow": {
     "slide_type": "fragment"
    }
   },
   "source": [
    "_**JSON IS JUST NESTED DICTIONARIES**_"
   ]
  },
  {
   "cell_type": "markdown",
   "id": "757ed551",
   "metadata": {
    "slideshow": {
     "slide_type": "fragment"
    }
   },
   "source": [
    "This means its super easy to work with JSON in Python. "
   ]
  },
  {
   "cell_type": "markdown",
   "id": "b7116bf7",
   "metadata": {
    "slideshow": {
     "slide_type": "slide"
    }
   },
   "source": [
    "For example, Python comes with its own built-in module for reading and writing JSON files:\n",
    "\n",
    "```python\n",
    "import json\n",
    "```"
   ]
  },
  {
   "cell_type": "markdown",
   "id": "93afc674",
   "metadata": {
    "slideshow": {
     "slide_type": "slide"
    }
   },
   "source": [
    "This is JSON:\n",
    "\n",
    "```javascript\n",
    "{\n",
    "  \"firstName\": \"Jason\",\n",
    "  \"lastName\": \"Response\",\n",
    "  \"address\": {\n",
    "    \"streetAddress\": \"404 Error Street\",\n",
    "    \"city\": \"\",\n",
    "    \"state\": \"Null Island\",\n",
    "    \"postalCode\": \"10100-0100\"\n",
    "  }\n",
    "  \"spouse\": null\n",
    "}\n",
    "```"
   ]
  },
  {
   "cell_type": "markdown",
   "id": "7ff53277",
   "metadata": {
    "slideshow": {
     "slide_type": "slide"
    }
   },
   "source": [
    "# 3. APIs, Python, and you"
   ]
  },
  {
   "cell_type": "markdown",
   "id": "f06d0ce5",
   "metadata": {
    "slideshow": {
     "slide_type": "slide"
    }
   },
   "source": [
    "## 3.1 Using the `requests` library"
   ]
  },
  {
   "cell_type": "markdown",
   "id": "b5037d8b",
   "metadata": {
    "slideshow": {
     "slide_type": "fragment"
    }
   },
   "source": [
    "`requests` is my library of choice for querying API endpoints and URLs in Python. If you don't yet have it installed go ahead and do that now. Check out the [documentation](https://docs.python-requests.org/en/latest/).\n",
    "\n",
    "Using requests is as simple as:\n",
    "```python\n",
    "import requests\n",
    "requests.get(\"https://my.domain/endpoint\")\n",
    "```\n",
    "\n",
    "It can get a bit more complicated than that if, for example, an API requires authentication, or if you want to `POST` rather than `GET` data. But we don't need to worry about that for now."
   ]
  },
  {
   "cell_type": "markdown",
   "id": "53e26721",
   "metadata": {
    "slideshow": {
     "slide_type": "slide"
    }
   },
   "source": [
    "## 3.2. SF Trees"
   ]
  },
  {
   "cell_type": "markdown",
   "id": "28d8638c",
   "metadata": {
    "slideshow": {
     "slide_type": "fragment"
    }
   },
   "source": [
    "Let's get some street tree data from the San Francisco Open Data Portal and use it to practice with APIs. First, our imports:"
   ]
  },
  {
   "cell_type": "code",
   "execution_count": null,
   "id": "a9c0c8cf",
   "metadata": {
    "slideshow": {
     "slide_type": "fragment"
    }
   },
   "outputs": [],
   "source": [
    "import pandas as pd\n",
    "import json      # library for working with JSON-formatted text strings\n",
    "import requests  # library for accessing content from web URLs\n",
    "import pprint    # library for cleanly printing Python data structures\n",
    "pp = pprint.PrettyPrinter()"
   ]
  },
  {
   "cell_type": "markdown",
   "id": "a4d5f9f0",
   "metadata": {
    "slideshow": {
     "slide_type": "slide"
    }
   },
   "source": [
    "Take a moment to familiarize yourself with the API endpoint we'll be using by reading the documentation:\n",
    "https://data.sfgov.org/City-Infrastructure/Street-Tree-List/tkzw-k3nq/about_data\n",
    "\n",
    "Under Export > API Endpoint we can see the API endpoint url. Click on the button labeled \"API Documentation\" at the bottom of the window and you'll be taken to the Socrata documentation page for this specific endpoint. Check out and the section labeled \"Fields\" and you'll see the data columns available. This is the \"menu\" in our restaurant analogy.\n",
    "\n",
    "Now let's download the data:"
   ]
  },
  {
   "cell_type": "code",
   "execution_count": null,
   "id": "4c33493b",
   "metadata": {
    "slideshow": {
     "slide_type": "fragment"
    }
   },
   "outputs": [],
   "source": [
    "endpoint_url = \"https://data.sfgov.org/resource/tkzw-k3nq.json\"\n",
    "response = requests.get(endpoint_url)"
   ]
  },
  {
   "cell_type": "markdown",
   "id": "cc8c2f19",
   "metadata": {
    "slideshow": {
     "slide_type": "fragment"
    }
   },
   "source": [
    "Now let's take a look at what we got:"
   ]
  },
  {
   "cell_type": "code",
   "execution_count": null,
   "id": "f2a94ccf",
   "metadata": {
    "scrolled": true,
    "slideshow": {
     "slide_type": "fragment"
    }
   },
   "outputs": [],
   "source": [
    "response.text"
   ]
  },
  {
   "cell_type": "markdown",
   "id": "634c187f",
   "metadata": {
    "slideshow": {
     "slide_type": "slide"
    }
   },
   "source": [
    "We can use the `response.text` command to just look at the first 500 characters of the response object:"
   ]
  },
  {
   "cell_type": "code",
   "execution_count": null,
   "id": "7ca5e381",
   "metadata": {
    "slideshow": {
     "slide_type": "fragment"
    }
   },
   "outputs": [],
   "source": [
    "results = response.text\n",
    "print(type(results))\n",
    "print(results[:500])"
   ]
  },
  {
   "cell_type": "markdown",
   "id": "20645e84",
   "metadata": {
    "slideshow": {
     "slide_type": "slide"
    }
   },
   "source": [
    "We can use Python's `json` module to convert that string into a dictionary (or list of dictionaries):"
   ]
  },
  {
   "cell_type": "code",
   "execution_count": null,
   "id": "57057180",
   "metadata": {
    "scrolled": true,
    "slideshow": {
     "slide_type": "fragment"
    }
   },
   "outputs": [],
   "source": [
    "# parse the string into a Python dictionary (loads = \"load string\")\n",
    "data = json.loads(results)\n",
    "print(type(data))\n",
    "print(data[:3])"
   ]
  },
  {
   "cell_type": "markdown",
   "id": "ef2c81f0",
   "metadata": {
    "slideshow": {
     "slide_type": "slide"
    }
   },
   "source": [
    "Pretty Print makes this a bit easier to read:"
   ]
  },
  {
   "cell_type": "code",
   "execution_count": null,
   "id": "68abb239",
   "metadata": {
    "scrolled": true,
    "slideshow": {
     "slide_type": "fragment"
    }
   },
   "outputs": [],
   "source": [
    "pp.pprint(data[:3])"
   ]
  },
  {
   "cell_type": "markdown",
   "id": "63332c1c",
   "metadata": {
    "slideshow": {
     "slide_type": "slide"
    }
   },
   "source": [
    "Pandas makes it easy to work with JSON since it's already so used to working with dictionaries:"
   ]
  },
  {
   "cell_type": "code",
   "execution_count": null,
   "id": "37440181",
   "metadata": {
    "slideshow": {
     "slide_type": "fragment"
    }
   },
   "outputs": [],
   "source": [
    "pd.DataFrame.from_records(data, columns=['qspecies', 'latitude','longitude']).head()"
   ]
  },
  {
   "cell_type": "markdown",
   "id": "ee497bdd",
   "metadata": {
    "slideshow": {
     "slide_type": "slide"
    }
   },
   "source": [
    "But perhaps it would have been easier to work directly with the JSON output of our response object instead of using `response.text` and `json.loads()`:"
   ]
  },
  {
   "cell_type": "code",
   "execution_count": null,
   "id": "eb115abf",
   "metadata": {},
   "outputs": [],
   "source": [
    "pd.DataFrame.from_dict(response.json())[['qspecies', 'latitude','longitude']].head()"
   ]
  },
  {
   "cell_type": "markdown",
   "id": "5e71fde8",
   "metadata": {
    "slideshow": {
     "slide_type": "slide"
    }
   },
   "source": [
    "But perhaps it would have been even _easier_ if we had made our request directly from pandas in the first place:"
   ]
  },
  {
   "cell_type": "code",
   "execution_count": null,
   "id": "f63de848",
   "metadata": {
    "scrolled": true,
    "slideshow": {
     "slide_type": "fragment"
    }
   },
   "outputs": [],
   "source": [
    "pd.read_json(endpoint_url).head()"
   ]
  },
  {
   "cell_type": "markdown",
   "id": "1af1618d",
   "metadata": {
    "slideshow": {
     "slide_type": "slide"
    }
   },
   "source": [
    "### 3.3. Exercise: Police Stops in San Francisco\n",
    "\n",
    "Let's examine a second dataset from the San Francisco Open Data Portal for practice: police stops.\n",
    "\n",
    "Go to the City Open Data Portal and get the url for a JSON request for the Police Stops dataset.  Here is a shortcut to the dataset: https://data.sfgov.org/Public-Safety/Police-Department-Incident-Reports-Historical-2003/tmnf-yvry/about_data\n",
    "\n",
    "Use the methods we just learned for loading the data and creating a DataFrame. Explore the data using techniques from previous homeworks and lectures. For example, you could generate some summary statistics, or make some charts. What if you made a scatter plot where the x and y axes were the latitude and longitude columns from the traffic stop data, respectively? "
   ]
  },
  {
   "cell_type": "markdown",
   "id": "96de94e6",
   "metadata": {
    "slideshow": {
     "slide_type": "slide"
    }
   },
   "source": [
    "# 4. Conda Virtual Environments\n",
    "\n",
    "Create a new conda environment, activate it, and install the basic packages:\n",
    "1.  `conda create -n my-first-env`\n",
    "2. `conda activate my-first-env`\n",
    "3. `conda config --add channels conda-forge`\n",
    "4. `conda config --set channel_priority strict`\n",
    "5. `conda install python ipython notebook nb_conda_kernels jupyter_contrib_nbextensions`\n",
    "6. `jupyter contrib nbextension install --user`"
   ]
  },
  {
   "cell_type": "markdown",
   "id": "c008267e",
   "metadata": {
    "slideshow": {
     "slide_type": "slide"
    }
   },
   "source": [
    "# 5. For next time"
   ]
  },
  {
   "cell_type": "markdown",
   "id": "505a40a5",
   "metadata": {
    "slideshow": {
     "slide_type": "fragment"
    }
   },
   "source": [
    "1. Create a Mapbox account: https://account.mapbox.com/auth/signup/\n",
    "2. Generate a Mapbox API token: https://account.mapbox.com/access-tokens"
   ]
  },
  {
   "cell_type": "markdown",
   "id": "7c13ce1c",
   "metadata": {
    "slideshow": {
     "slide_type": "slide"
    }
   },
   "source": [
    "# 6. Questions? "
   ]
  }
 ],
 "metadata": {
  "celltoolbar": "Slideshow",
  "kernelspec": {
   "display_name": "Python [conda env:cp255] *",
   "language": "python",
   "name": "conda-env-cp255-py"
  },
  "language_info": {
   "codemirror_mode": {
    "name": "ipython",
    "version": 3
   },
   "file_extension": ".py",
   "mimetype": "text/x-python",
   "name": "python",
   "nbconvert_exporter": "python",
   "pygments_lexer": "ipython3",
   "version": "3.9.10"
  },
  "toc": {
   "base_numbering": 1,
   "nav_menu": {},
   "number_sections": false,
   "sideBar": false,
   "skip_h1_title": false,
   "title_cell": "Table of Contents",
   "title_sidebar": "Contents",
   "toc_cell": false,
   "toc_position": {},
   "toc_section_display": true,
   "toc_window_display": false
  }
 },
 "nbformat": 4,
 "nbformat_minor": 5
}
